{
  "nbformat": 4,
  "nbformat_minor": 0,
  "metadata": {
    "colab": {
      "provenance": [],
      "collapsed_sections": [
        "UhepR1_c0PQY",
        "4giqGvtRmmiC",
        "WCKivogummiD",
        "3ebGeVWommiE",
        "paCBVeZfFf8L",
        "RZGIFEWjIxt2",
        "WeTIwFuTR5eT",
        "HCdzNeZem9dP",
        "Mttd8DYumwsR",
        "3DcPqwlBmSab",
        "I-pFAI5LmpgE",
        "IzjRv-A4HYhy",
        "qLVRJQvtooYy",
        "jS_sBN6Wo7oK",
        "QblsCIioX8Ln",
        "qs6iGs4EHTCd",
        "VFLsgaKL9Z9l",
        "-aE-gOoSJ9ow"
      ],
      "authorship_tag": "ABX9TyPHkJqgQYWGIzFeLCp7hS+q",
      "include_colab_link": true
    },
    "kernelspec": {
      "name": "python3",
      "display_name": "Python 3"
    },
    "language_info": {
      "name": "python"
    },
    "widgets": {
      "application/vnd.jupyter.widget-state+json": {
        "711e3bd2c74c415884d1362d1de57ae2": {
          "model_module": "@jupyter-widgets/output",
          "model_name": "OutputModel",
          "model_module_version": "1.0.0",
          "state": {
            "_dom_classes": [],
            "_model_module": "@jupyter-widgets/output",
            "_model_module_version": "1.0.0",
            "_model_name": "OutputModel",
            "_view_count": null,
            "_view_module": "@jupyter-widgets/output",
            "_view_module_version": "1.0.0",
            "_view_name": "OutputView",
            "layout": "IPY_MODEL_5c61d5f9602940fdb82d72794321e347",
            "msg_id": "",
            "outputs": [
              {
                "output_type": "display_data",
                "data": {
                  "text/plain": "\u001b[35m  67%\u001b[0m \u001b[38;2;249;38;114m━━━━━━━━━━━━━━━━━━━━━━━━━━━━━━━━━━━━━━━━━━━━━━━━\u001b[0m\u001b[38;2;249;38;114m╸\u001b[0m\u001b[38;5;237m━━━━━━━━━━━━━━━━━━━━━━━━\u001b[0m \u001b[32m2/3 \u001b[0m [ \u001b[33m0:01:32\u001b[0m < \u001b[36m-:--:--\u001b[0m , \u001b[31m? it/s\u001b[0m ]\n",
                  "text/html": "<pre style=\"white-space:pre;overflow-x:auto;line-height:normal;font-family:Menlo,'DejaVu Sans Mono',consolas,'Courier New',monospace\"><span style=\"color: #800080; text-decoration-color: #800080\">  67%</span> <span style=\"color: #f92672; text-decoration-color: #f92672\">━━━━━━━━━━━━━━━━━━━━━━━━━━━━━━━━━━━━━━━━━━━━━━━━╸</span><span style=\"color: #3a3a3a; text-decoration-color: #3a3a3a\">━━━━━━━━━━━━━━━━━━━━━━━━</span> <span style=\"color: #008000; text-decoration-color: #008000\">2/3 </span> [ <span style=\"color: #808000; text-decoration-color: #808000\">0:01:32</span> &lt; <span style=\"color: #008080; text-decoration-color: #008080\">-:--:--</span> , <span style=\"color: #800000; text-decoration-color: #800000\">? it/s</span> ]\n</pre>\n"
                },
                "metadata": {}
              }
            ]
          }
        },
        "5c61d5f9602940fdb82d72794321e347": {
          "model_module": "@jupyter-widgets/base",
          "model_name": "LayoutModel",
          "model_module_version": "1.2.0",
          "state": {
            "_model_module": "@jupyter-widgets/base",
            "_model_module_version": "1.2.0",
            "_model_name": "LayoutModel",
            "_view_count": null,
            "_view_module": "@jupyter-widgets/base",
            "_view_module_version": "1.2.0",
            "_view_name": "LayoutView",
            "align_content": null,
            "align_items": null,
            "align_self": null,
            "border": null,
            "bottom": null,
            "display": null,
            "flex": null,
            "flex_flow": null,
            "grid_area": null,
            "grid_auto_columns": null,
            "grid_auto_flow": null,
            "grid_auto_rows": null,
            "grid_column": null,
            "grid_gap": null,
            "grid_row": null,
            "grid_template_areas": null,
            "grid_template_columns": null,
            "grid_template_rows": null,
            "height": null,
            "justify_content": null,
            "justify_items": null,
            "left": null,
            "margin": null,
            "max_height": null,
            "max_width": null,
            "min_height": null,
            "min_width": null,
            "object_fit": null,
            "object_position": null,
            "order": null,
            "overflow": null,
            "overflow_x": null,
            "overflow_y": null,
            "padding": null,
            "right": null,
            "top": null,
            "visibility": null,
            "width": null
          }
        },
        "8027e1a828bc48c08656fa7880535447": {
          "model_module": "@jupyter-widgets/output",
          "model_name": "OutputModel",
          "model_module_version": "1.0.0",
          "state": {
            "_dom_classes": [],
            "_model_module": "@jupyter-widgets/output",
            "_model_module_version": "1.0.0",
            "_model_name": "OutputModel",
            "_view_count": null,
            "_view_module": "@jupyter-widgets/output",
            "_view_module_version": "1.0.0",
            "_view_name": "OutputView",
            "layout": "IPY_MODEL_dd1a232b62834107a06274c18dca2bfd",
            "msg_id": "",
            "outputs": [
              {
                "output_type": "display_data",
                "data": {
                  "text/plain": "\u001b[35m  67%\u001b[0m \u001b[38;2;249;38;114m━━━━━━━━━━━━━━━━━━━━━━━━━━━━━━━━━━━━━━━━━━━━━━━━\u001b[0m\u001b[38;2;249;38;114m╸\u001b[0m\u001b[38;5;237m━━━━━━━━━━━━━━━━━━━━━━━━\u001b[0m \u001b[32m2/3 \u001b[0m [ \u001b[33m0:01:05\u001b[0m < \u001b[36m-:--:--\u001b[0m , \u001b[31m? it/s\u001b[0m ]\n",
                  "text/html": "<pre style=\"white-space:pre;overflow-x:auto;line-height:normal;font-family:Menlo,'DejaVu Sans Mono',consolas,'Courier New',monospace\"><span style=\"color: #800080; text-decoration-color: #800080\">  67%</span> <span style=\"color: #f92672; text-decoration-color: #f92672\">━━━━━━━━━━━━━━━━━━━━━━━━━━━━━━━━━━━━━━━━━━━━━━━━╸</span><span style=\"color: #3a3a3a; text-decoration-color: #3a3a3a\">━━━━━━━━━━━━━━━━━━━━━━━━</span> <span style=\"color: #008000; text-decoration-color: #008000\">2/3 </span> [ <span style=\"color: #808000; text-decoration-color: #808000\">0:01:05</span> &lt; <span style=\"color: #008080; text-decoration-color: #008080\">-:--:--</span> , <span style=\"color: #800000; text-decoration-color: #800000\">? it/s</span> ]\n</pre>\n"
                },
                "metadata": {}
              }
            ]
          }
        },
        "dd1a232b62834107a06274c18dca2bfd": {
          "model_module": "@jupyter-widgets/base",
          "model_name": "LayoutModel",
          "model_module_version": "1.2.0",
          "state": {
            "_model_module": "@jupyter-widgets/base",
            "_model_module_version": "1.2.0",
            "_model_name": "LayoutModel",
            "_view_count": null,
            "_view_module": "@jupyter-widgets/base",
            "_view_module_version": "1.2.0",
            "_view_name": "LayoutView",
            "align_content": null,
            "align_items": null,
            "align_self": null,
            "border": null,
            "bottom": null,
            "display": null,
            "flex": null,
            "flex_flow": null,
            "grid_area": null,
            "grid_auto_columns": null,
            "grid_auto_flow": null,
            "grid_auto_rows": null,
            "grid_column": null,
            "grid_gap": null,
            "grid_row": null,
            "grid_template_areas": null,
            "grid_template_columns": null,
            "grid_template_rows": null,
            "height": null,
            "justify_content": null,
            "justify_items": null,
            "left": null,
            "margin": null,
            "max_height": null,
            "max_width": null,
            "min_height": null,
            "min_width": null,
            "object_fit": null,
            "object_position": null,
            "order": null,
            "overflow": null,
            "overflow_x": null,
            "overflow_y": null,
            "padding": null,
            "right": null,
            "top": null,
            "visibility": null,
            "width": null
          }
        },
        "8aa8854b69a14ac398dbbc582261fbe4": {
          "model_module": "@jupyter-widgets/output",
          "model_name": "OutputModel",
          "model_module_version": "1.0.0",
          "state": {
            "_dom_classes": [],
            "_model_module": "@jupyter-widgets/output",
            "_model_module_version": "1.0.0",
            "_model_name": "OutputModel",
            "_view_count": null,
            "_view_module": "@jupyter-widgets/output",
            "_view_module_version": "1.0.0",
            "_view_name": "OutputView",
            "layout": "IPY_MODEL_f421a41536d74d119a91ed7d1e6cf157",
            "msg_id": "",
            "outputs": [
              {
                "output_type": "display_data",
                "data": {
                  "text/plain": "\u001b[32m⠈⡙\u001b[0m Generating summary...\n",
                  "text/html": "<pre style=\"white-space:pre;overflow-x:auto;line-height:normal;font-family:Menlo,'DejaVu Sans Mono',consolas,'Courier New',monospace\"><span style=\"color: #008000; text-decoration-color: #008000\">⠈⡙</span> Generating summary...\n</pre>\n"
                },
                "metadata": {}
              }
            ]
          }
        },
        "f421a41536d74d119a91ed7d1e6cf157": {
          "model_module": "@jupyter-widgets/base",
          "model_name": "LayoutModel",
          "model_module_version": "1.2.0",
          "state": {
            "_model_module": "@jupyter-widgets/base",
            "_model_module_version": "1.2.0",
            "_model_name": "LayoutModel",
            "_view_count": null,
            "_view_module": "@jupyter-widgets/base",
            "_view_module_version": "1.2.0",
            "_view_name": "LayoutView",
            "align_content": null,
            "align_items": null,
            "align_self": null,
            "border": null,
            "bottom": null,
            "display": null,
            "flex": null,
            "flex_flow": null,
            "grid_area": null,
            "grid_auto_columns": null,
            "grid_auto_flow": null,
            "grid_auto_rows": null,
            "grid_column": null,
            "grid_gap": null,
            "grid_row": null,
            "grid_template_areas": null,
            "grid_template_columns": null,
            "grid_template_rows": null,
            "height": null,
            "justify_content": null,
            "justify_items": null,
            "left": null,
            "margin": null,
            "max_height": null,
            "max_width": null,
            "min_height": null,
            "min_width": null,
            "object_fit": null,
            "object_position": null,
            "order": null,
            "overflow": null,
            "overflow_x": null,
            "overflow_y": null,
            "padding": null,
            "right": null,
            "top": null,
            "visibility": null,
            "width": null
          }
        },
        "7b98d57d48fc430abf5be889fd93ab02": {
          "model_module": "@jupyter-widgets/output",
          "model_name": "OutputModel",
          "model_module_version": "1.0.0",
          "state": {
            "_dom_classes": [],
            "_model_module": "@jupyter-widgets/output",
            "_model_module_version": "1.0.0",
            "_model_name": "OutputModel",
            "_view_count": null,
            "_view_module": "@jupyter-widgets/output",
            "_view_module_version": "1.0.0",
            "_view_name": "OutputView",
            "layout": "IPY_MODEL_d067dcd3827245de9aa4834e59783714",
            "msg_id": "",
            "outputs": [
              {
                "output_type": "display_data",
                "data": {
                  "text/plain": "\u001b[32m⢋⠁\u001b[0m Generating summary...\n",
                  "text/html": "<pre style=\"white-space:pre;overflow-x:auto;line-height:normal;font-family:Menlo,'DejaVu Sans Mono',consolas,'Courier New',monospace\"><span style=\"color: #008000; text-decoration-color: #008000\">⢋⠁</span> Generating summary...\n</pre>\n"
                },
                "metadata": {}
              }
            ]
          }
        },
        "d067dcd3827245de9aa4834e59783714": {
          "model_module": "@jupyter-widgets/base",
          "model_name": "LayoutModel",
          "model_module_version": "1.2.0",
          "state": {
            "_model_module": "@jupyter-widgets/base",
            "_model_module_version": "1.2.0",
            "_model_name": "LayoutModel",
            "_view_count": null,
            "_view_module": "@jupyter-widgets/base",
            "_view_module_version": "1.2.0",
            "_view_name": "LayoutView",
            "align_content": null,
            "align_items": null,
            "align_self": null,
            "border": null,
            "bottom": null,
            "display": null,
            "flex": null,
            "flex_flow": null,
            "grid_area": null,
            "grid_auto_columns": null,
            "grid_auto_flow": null,
            "grid_auto_rows": null,
            "grid_column": null,
            "grid_gap": null,
            "grid_row": null,
            "grid_template_areas": null,
            "grid_template_columns": null,
            "grid_template_rows": null,
            "height": null,
            "justify_content": null,
            "justify_items": null,
            "left": null,
            "margin": null,
            "max_height": null,
            "max_width": null,
            "min_height": null,
            "min_width": null,
            "object_fit": null,
            "object_position": null,
            "order": null,
            "overflow": null,
            "overflow_x": null,
            "overflow_y": null,
            "padding": null,
            "right": null,
            "top": null,
            "visibility": null,
            "width": null
          }
        },
        "e8fef482323a4770a9a18a8646007a30": {
          "model_module": "@jupyter-widgets/output",
          "model_name": "OutputModel",
          "model_module_version": "1.0.0",
          "state": {
            "_dom_classes": [],
            "_model_module": "@jupyter-widgets/output",
            "_model_module_version": "1.0.0",
            "_model_name": "OutputModel",
            "_view_count": null,
            "_view_module": "@jupyter-widgets/output",
            "_view_module_version": "1.0.0",
            "_view_name": "OutputView",
            "layout": "IPY_MODEL_8bd85b76e26b42fb9b7e679cc227f517",
            "msg_id": "",
            "outputs": [
              {
                "output_type": "display_data",
                "data": {
                  "text/plain": "\u001b[32m⠀⠩\u001b[0m Generating summary...\n",
                  "text/html": "<pre style=\"white-space:pre;overflow-x:auto;line-height:normal;font-family:Menlo,'DejaVu Sans Mono',consolas,'Courier New',monospace\"><span style=\"color: #008000; text-decoration-color: #008000\">⠀⠩</span> Generating summary...\n</pre>\n"
                },
                "metadata": {}
              }
            ]
          }
        },
        "8bd85b76e26b42fb9b7e679cc227f517": {
          "model_module": "@jupyter-widgets/base",
          "model_name": "LayoutModel",
          "model_module_version": "1.2.0",
          "state": {
            "_model_module": "@jupyter-widgets/base",
            "_model_module_version": "1.2.0",
            "_model_name": "LayoutModel",
            "_view_count": null,
            "_view_module": "@jupyter-widgets/base",
            "_view_module_version": "1.2.0",
            "_view_name": "LayoutView",
            "align_content": null,
            "align_items": null,
            "align_self": null,
            "border": null,
            "bottom": null,
            "display": null,
            "flex": null,
            "flex_flow": null,
            "grid_area": null,
            "grid_auto_columns": null,
            "grid_auto_flow": null,
            "grid_auto_rows": null,
            "grid_column": null,
            "grid_gap": null,
            "grid_row": null,
            "grid_template_areas": null,
            "grid_template_columns": null,
            "grid_template_rows": null,
            "height": null,
            "justify_content": null,
            "justify_items": null,
            "left": null,
            "margin": null,
            "max_height": null,
            "max_width": null,
            "min_height": null,
            "min_width": null,
            "object_fit": null,
            "object_position": null,
            "order": null,
            "overflow": null,
            "overflow_x": null,
            "overflow_y": null,
            "padding": null,
            "right": null,
            "top": null,
            "visibility": null,
            "width": null
          }
        },
        "24a93213429d4163a78d24318ed95326": {
          "model_module": "@jupyter-widgets/output",
          "model_name": "OutputModel",
          "model_module_version": "1.0.0",
          "state": {
            "_dom_classes": [],
            "_model_module": "@jupyter-widgets/output",
            "_model_module_version": "1.0.0",
            "_model_name": "OutputModel",
            "_view_count": null,
            "_view_module": "@jupyter-widgets/output",
            "_view_module_version": "1.0.0",
            "_view_name": "OutputView",
            "layout": "IPY_MODEL_c711dfd2e5e2490c806f1d88c26b398e",
            "msg_id": "",
            "outputs": [
              {
                "output_type": "display_data",
                "data": {
                  "text/plain": "\u001b[32m⠈⢙\u001b[0m Loading ✅ LaMini77M...\n",
                  "text/html": "<pre style=\"white-space:pre;overflow-x:auto;line-height:normal;font-family:Menlo,'DejaVu Sans Mono',consolas,'Courier New',monospace\"><span style=\"color: #008000; text-decoration-color: #008000\">⠈⢙</span> Loading ✅ LaMini77M...\n</pre>\n"
                },
                "metadata": {}
              }
            ]
          }
        },
        "c711dfd2e5e2490c806f1d88c26b398e": {
          "model_module": "@jupyter-widgets/base",
          "model_name": "LayoutModel",
          "model_module_version": "1.2.0",
          "state": {
            "_model_module": "@jupyter-widgets/base",
            "_model_module_version": "1.2.0",
            "_model_name": "LayoutModel",
            "_view_count": null,
            "_view_module": "@jupyter-widgets/base",
            "_view_module_version": "1.2.0",
            "_view_name": "LayoutView",
            "align_content": null,
            "align_items": null,
            "align_self": null,
            "border": null,
            "bottom": null,
            "display": null,
            "flex": null,
            "flex_flow": null,
            "grid_area": null,
            "grid_auto_columns": null,
            "grid_auto_flow": null,
            "grid_auto_rows": null,
            "grid_column": null,
            "grid_gap": null,
            "grid_row": null,
            "grid_template_areas": null,
            "grid_template_columns": null,
            "grid_template_rows": null,
            "height": null,
            "justify_content": null,
            "justify_items": null,
            "left": null,
            "margin": null,
            "max_height": null,
            "max_width": null,
            "min_height": null,
            "min_width": null,
            "object_fit": null,
            "object_position": null,
            "order": null,
            "overflow": null,
            "overflow_x": null,
            "overflow_y": null,
            "padding": null,
            "right": null,
            "top": null,
            "visibility": null,
            "width": null
          }
        },
        "d41a5acc593140918b1eb9c82861450c": {
          "model_module": "@jupyter-widgets/controls",
          "model_name": "HBoxModel",
          "model_module_version": "1.5.0",
          "state": {
            "_dom_classes": [],
            "_model_module": "@jupyter-widgets/controls",
            "_model_module_version": "1.5.0",
            "_model_name": "HBoxModel",
            "_view_count": null,
            "_view_module": "@jupyter-widgets/controls",
            "_view_module_version": "1.5.0",
            "_view_name": "HBoxView",
            "box_style": "",
            "children": [
              "IPY_MODEL_fb3c582ecfd04b42b4f3ebd597c62f16",
              "IPY_MODEL_20a34e1a459e4ea58d7b2163b8c91e23",
              "IPY_MODEL_804e78d349ea4ce98a39d9469866a265"
            ],
            "layout": "IPY_MODEL_ded8c07500d24b13807eef87b33189c9"
          }
        },
        "fb3c582ecfd04b42b4f3ebd597c62f16": {
          "model_module": "@jupyter-widgets/controls",
          "model_name": "HTMLModel",
          "model_module_version": "1.5.0",
          "state": {
            "_dom_classes": [],
            "_model_module": "@jupyter-widgets/controls",
            "_model_module_version": "1.5.0",
            "_model_name": "HTMLModel",
            "_view_count": null,
            "_view_module": "@jupyter-widgets/controls",
            "_view_module_version": "1.5.0",
            "_view_name": "HTMLView",
            "description": "",
            "description_tooltip": null,
            "layout": "IPY_MODEL_0c0c370eb9e743f68ab009d89432b16c",
            "placeholder": "​",
            "style": "IPY_MODEL_633a0f03b9284a3ca20a5f5961d96456",
            "value": "config.json: 100%"
          }
        },
        "20a34e1a459e4ea58d7b2163b8c91e23": {
          "model_module": "@jupyter-widgets/controls",
          "model_name": "FloatProgressModel",
          "model_module_version": "1.5.0",
          "state": {
            "_dom_classes": [],
            "_model_module": "@jupyter-widgets/controls",
            "_model_module_version": "1.5.0",
            "_model_name": "FloatProgressModel",
            "_view_count": null,
            "_view_module": "@jupyter-widgets/controls",
            "_view_module_version": "1.5.0",
            "_view_name": "ProgressView",
            "bar_style": "success",
            "description": "",
            "description_tooltip": null,
            "layout": "IPY_MODEL_3b02e3a1a65c42d6a81fe8cdec3eaf4c",
            "max": 1526,
            "min": 0,
            "orientation": "horizontal",
            "style": "IPY_MODEL_99664a3c7d44443b8409432ea27a0afe",
            "value": 1526
          }
        },
        "804e78d349ea4ce98a39d9469866a265": {
          "model_module": "@jupyter-widgets/controls",
          "model_name": "HTMLModel",
          "model_module_version": "1.5.0",
          "state": {
            "_dom_classes": [],
            "_model_module": "@jupyter-widgets/controls",
            "_model_module_version": "1.5.0",
            "_model_name": "HTMLModel",
            "_view_count": null,
            "_view_module": "@jupyter-widgets/controls",
            "_view_module_version": "1.5.0",
            "_view_name": "HTMLView",
            "description": "",
            "description_tooltip": null,
            "layout": "IPY_MODEL_c15d43ce2d73407e9c283d8499dd927b",
            "placeholder": "​",
            "style": "IPY_MODEL_f2c8f64a6ae543f2a4125ae80da1ff17",
            "value": " 1.53k/1.53k [00:00&lt;00:00, 29.8kB/s]"
          }
        },
        "ded8c07500d24b13807eef87b33189c9": {
          "model_module": "@jupyter-widgets/base",
          "model_name": "LayoutModel",
          "model_module_version": "1.2.0",
          "state": {
            "_model_module": "@jupyter-widgets/base",
            "_model_module_version": "1.2.0",
            "_model_name": "LayoutModel",
            "_view_count": null,
            "_view_module": "@jupyter-widgets/base",
            "_view_module_version": "1.2.0",
            "_view_name": "LayoutView",
            "align_content": null,
            "align_items": null,
            "align_self": null,
            "border": null,
            "bottom": null,
            "display": null,
            "flex": null,
            "flex_flow": null,
            "grid_area": null,
            "grid_auto_columns": null,
            "grid_auto_flow": null,
            "grid_auto_rows": null,
            "grid_column": null,
            "grid_gap": null,
            "grid_row": null,
            "grid_template_areas": null,
            "grid_template_columns": null,
            "grid_template_rows": null,
            "height": null,
            "justify_content": null,
            "justify_items": null,
            "left": null,
            "margin": null,
            "max_height": null,
            "max_width": null,
            "min_height": null,
            "min_width": null,
            "object_fit": null,
            "object_position": null,
            "order": null,
            "overflow": null,
            "overflow_x": null,
            "overflow_y": null,
            "padding": null,
            "right": null,
            "top": null,
            "visibility": null,
            "width": null
          }
        },
        "0c0c370eb9e743f68ab009d89432b16c": {
          "model_module": "@jupyter-widgets/base",
          "model_name": "LayoutModel",
          "model_module_version": "1.2.0",
          "state": {
            "_model_module": "@jupyter-widgets/base",
            "_model_module_version": "1.2.0",
            "_model_name": "LayoutModel",
            "_view_count": null,
            "_view_module": "@jupyter-widgets/base",
            "_view_module_version": "1.2.0",
            "_view_name": "LayoutView",
            "align_content": null,
            "align_items": null,
            "align_self": null,
            "border": null,
            "bottom": null,
            "display": null,
            "flex": null,
            "flex_flow": null,
            "grid_area": null,
            "grid_auto_columns": null,
            "grid_auto_flow": null,
            "grid_auto_rows": null,
            "grid_column": null,
            "grid_gap": null,
            "grid_row": null,
            "grid_template_areas": null,
            "grid_template_columns": null,
            "grid_template_rows": null,
            "height": null,
            "justify_content": null,
            "justify_items": null,
            "left": null,
            "margin": null,
            "max_height": null,
            "max_width": null,
            "min_height": null,
            "min_width": null,
            "object_fit": null,
            "object_position": null,
            "order": null,
            "overflow": null,
            "overflow_x": null,
            "overflow_y": null,
            "padding": null,
            "right": null,
            "top": null,
            "visibility": null,
            "width": null
          }
        },
        "633a0f03b9284a3ca20a5f5961d96456": {
          "model_module": "@jupyter-widgets/controls",
          "model_name": "DescriptionStyleModel",
          "model_module_version": "1.5.0",
          "state": {
            "_model_module": "@jupyter-widgets/controls",
            "_model_module_version": "1.5.0",
            "_model_name": "DescriptionStyleModel",
            "_view_count": null,
            "_view_module": "@jupyter-widgets/base",
            "_view_module_version": "1.2.0",
            "_view_name": "StyleView",
            "description_width": ""
          }
        },
        "3b02e3a1a65c42d6a81fe8cdec3eaf4c": {
          "model_module": "@jupyter-widgets/base",
          "model_name": "LayoutModel",
          "model_module_version": "1.2.0",
          "state": {
            "_model_module": "@jupyter-widgets/base",
            "_model_module_version": "1.2.0",
            "_model_name": "LayoutModel",
            "_view_count": null,
            "_view_module": "@jupyter-widgets/base",
            "_view_module_version": "1.2.0",
            "_view_name": "LayoutView",
            "align_content": null,
            "align_items": null,
            "align_self": null,
            "border": null,
            "bottom": null,
            "display": null,
            "flex": null,
            "flex_flow": null,
            "grid_area": null,
            "grid_auto_columns": null,
            "grid_auto_flow": null,
            "grid_auto_rows": null,
            "grid_column": null,
            "grid_gap": null,
            "grid_row": null,
            "grid_template_areas": null,
            "grid_template_columns": null,
            "grid_template_rows": null,
            "height": null,
            "justify_content": null,
            "justify_items": null,
            "left": null,
            "margin": null,
            "max_height": null,
            "max_width": null,
            "min_height": null,
            "min_width": null,
            "object_fit": null,
            "object_position": null,
            "order": null,
            "overflow": null,
            "overflow_x": null,
            "overflow_y": null,
            "padding": null,
            "right": null,
            "top": null,
            "visibility": null,
            "width": null
          }
        },
        "99664a3c7d44443b8409432ea27a0afe": {
          "model_module": "@jupyter-widgets/controls",
          "model_name": "ProgressStyleModel",
          "model_module_version": "1.5.0",
          "state": {
            "_model_module": "@jupyter-widgets/controls",
            "_model_module_version": "1.5.0",
            "_model_name": "ProgressStyleModel",
            "_view_count": null,
            "_view_module": "@jupyter-widgets/base",
            "_view_module_version": "1.2.0",
            "_view_name": "StyleView",
            "bar_color": null,
            "description_width": ""
          }
        },
        "c15d43ce2d73407e9c283d8499dd927b": {
          "model_module": "@jupyter-widgets/base",
          "model_name": "LayoutModel",
          "model_module_version": "1.2.0",
          "state": {
            "_model_module": "@jupyter-widgets/base",
            "_model_module_version": "1.2.0",
            "_model_name": "LayoutModel",
            "_view_count": null,
            "_view_module": "@jupyter-widgets/base",
            "_view_module_version": "1.2.0",
            "_view_name": "LayoutView",
            "align_content": null,
            "align_items": null,
            "align_self": null,
            "border": null,
            "bottom": null,
            "display": null,
            "flex": null,
            "flex_flow": null,
            "grid_area": null,
            "grid_auto_columns": null,
            "grid_auto_flow": null,
            "grid_auto_rows": null,
            "grid_column": null,
            "grid_gap": null,
            "grid_row": null,
            "grid_template_areas": null,
            "grid_template_columns": null,
            "grid_template_rows": null,
            "height": null,
            "justify_content": null,
            "justify_items": null,
            "left": null,
            "margin": null,
            "max_height": null,
            "max_width": null,
            "min_height": null,
            "min_width": null,
            "object_fit": null,
            "object_position": null,
            "order": null,
            "overflow": null,
            "overflow_x": null,
            "overflow_y": null,
            "padding": null,
            "right": null,
            "top": null,
            "visibility": null,
            "width": null
          }
        },
        "f2c8f64a6ae543f2a4125ae80da1ff17": {
          "model_module": "@jupyter-widgets/controls",
          "model_name": "DescriptionStyleModel",
          "model_module_version": "1.5.0",
          "state": {
            "_model_module": "@jupyter-widgets/controls",
            "_model_module_version": "1.5.0",
            "_model_name": "DescriptionStyleModel",
            "_view_count": null,
            "_view_module": "@jupyter-widgets/base",
            "_view_module_version": "1.2.0",
            "_view_name": "StyleView",
            "description_width": ""
          }
        },
        "ab6cd275415b4d38809fc4e3b45acbf2": {
          "model_module": "@jupyter-widgets/controls",
          "model_name": "HBoxModel",
          "model_module_version": "1.5.0",
          "state": {
            "_dom_classes": [],
            "_model_module": "@jupyter-widgets/controls",
            "_model_module_version": "1.5.0",
            "_model_name": "HBoxModel",
            "_view_count": null,
            "_view_module": "@jupyter-widgets/controls",
            "_view_module_version": "1.5.0",
            "_view_name": "HBoxView",
            "box_style": "",
            "children": [
              "IPY_MODEL_e7756c0a2553450c99565c0035267a61",
              "IPY_MODEL_6247f5582bac4221a8202b245c81f118",
              "IPY_MODEL_3ba71eff34e943fdae1c254945a0d0f1"
            ],
            "layout": "IPY_MODEL_46b2f9dc36294e0b8a649ab208abde9e"
          }
        },
        "e7756c0a2553450c99565c0035267a61": {
          "model_module": "@jupyter-widgets/controls",
          "model_name": "HTMLModel",
          "model_module_version": "1.5.0",
          "state": {
            "_dom_classes": [],
            "_model_module": "@jupyter-widgets/controls",
            "_model_module_version": "1.5.0",
            "_model_name": "HTMLModel",
            "_view_count": null,
            "_view_module": "@jupyter-widgets/controls",
            "_view_module_version": "1.5.0",
            "_view_name": "HTMLView",
            "description": "",
            "description_tooltip": null,
            "layout": "IPY_MODEL_1ff7661bbe124796b8f257059ed72155",
            "placeholder": "​",
            "style": "IPY_MODEL_50bc5431ec0647909ca2b7dbe3157a37",
            "value": "pytorch_model.bin: 100%"
          }
        },
        "6247f5582bac4221a8202b245c81f118": {
          "model_module": "@jupyter-widgets/controls",
          "model_name": "FloatProgressModel",
          "model_module_version": "1.5.0",
          "state": {
            "_dom_classes": [],
            "_model_module": "@jupyter-widgets/controls",
            "_model_module_version": "1.5.0",
            "_model_name": "FloatProgressModel",
            "_view_count": null,
            "_view_module": "@jupyter-widgets/controls",
            "_view_module_version": "1.5.0",
            "_view_name": "ProgressView",
            "bar_style": "success",
            "description": "",
            "description_tooltip": null,
            "layout": "IPY_MODEL_97cdb9e88f9949289905d7bd50d94523",
            "max": 307910149,
            "min": 0,
            "orientation": "horizontal",
            "style": "IPY_MODEL_9284933dddd84c5f8be76fe51d1ea960",
            "value": 307910149
          }
        },
        "3ba71eff34e943fdae1c254945a0d0f1": {
          "model_module": "@jupyter-widgets/controls",
          "model_name": "HTMLModel",
          "model_module_version": "1.5.0",
          "state": {
            "_dom_classes": [],
            "_model_module": "@jupyter-widgets/controls",
            "_model_module_version": "1.5.0",
            "_model_name": "HTMLModel",
            "_view_count": null,
            "_view_module": "@jupyter-widgets/controls",
            "_view_module_version": "1.5.0",
            "_view_name": "HTMLView",
            "description": "",
            "description_tooltip": null,
            "layout": "IPY_MODEL_532385d02f8948379e190862d7185989",
            "placeholder": "​",
            "style": "IPY_MODEL_5c27b6bb5f3e4feeb27fbea3ed2e7514",
            "value": " 308M/308M [00:09&lt;00:00, 72.0MB/s]"
          }
        },
        "46b2f9dc36294e0b8a649ab208abde9e": {
          "model_module": "@jupyter-widgets/base",
          "model_name": "LayoutModel",
          "model_module_version": "1.2.0",
          "state": {
            "_model_module": "@jupyter-widgets/base",
            "_model_module_version": "1.2.0",
            "_model_name": "LayoutModel",
            "_view_count": null,
            "_view_module": "@jupyter-widgets/base",
            "_view_module_version": "1.2.0",
            "_view_name": "LayoutView",
            "align_content": null,
            "align_items": null,
            "align_self": null,
            "border": null,
            "bottom": null,
            "display": null,
            "flex": null,
            "flex_flow": null,
            "grid_area": null,
            "grid_auto_columns": null,
            "grid_auto_flow": null,
            "grid_auto_rows": null,
            "grid_column": null,
            "grid_gap": null,
            "grid_row": null,
            "grid_template_areas": null,
            "grid_template_columns": null,
            "grid_template_rows": null,
            "height": null,
            "justify_content": null,
            "justify_items": null,
            "left": null,
            "margin": null,
            "max_height": null,
            "max_width": null,
            "min_height": null,
            "min_width": null,
            "object_fit": null,
            "object_position": null,
            "order": null,
            "overflow": null,
            "overflow_x": null,
            "overflow_y": null,
            "padding": null,
            "right": null,
            "top": null,
            "visibility": null,
            "width": null
          }
        },
        "1ff7661bbe124796b8f257059ed72155": {
          "model_module": "@jupyter-widgets/base",
          "model_name": "LayoutModel",
          "model_module_version": "1.2.0",
          "state": {
            "_model_module": "@jupyter-widgets/base",
            "_model_module_version": "1.2.0",
            "_model_name": "LayoutModel",
            "_view_count": null,
            "_view_module": "@jupyter-widgets/base",
            "_view_module_version": "1.2.0",
            "_view_name": "LayoutView",
            "align_content": null,
            "align_items": null,
            "align_self": null,
            "border": null,
            "bottom": null,
            "display": null,
            "flex": null,
            "flex_flow": null,
            "grid_area": null,
            "grid_auto_columns": null,
            "grid_auto_flow": null,
            "grid_auto_rows": null,
            "grid_column": null,
            "grid_gap": null,
            "grid_row": null,
            "grid_template_areas": null,
            "grid_template_columns": null,
            "grid_template_rows": null,
            "height": null,
            "justify_content": null,
            "justify_items": null,
            "left": null,
            "margin": null,
            "max_height": null,
            "max_width": null,
            "min_height": null,
            "min_width": null,
            "object_fit": null,
            "object_position": null,
            "order": null,
            "overflow": null,
            "overflow_x": null,
            "overflow_y": null,
            "padding": null,
            "right": null,
            "top": null,
            "visibility": null,
            "width": null
          }
        },
        "50bc5431ec0647909ca2b7dbe3157a37": {
          "model_module": "@jupyter-widgets/controls",
          "model_name": "DescriptionStyleModel",
          "model_module_version": "1.5.0",
          "state": {
            "_model_module": "@jupyter-widgets/controls",
            "_model_module_version": "1.5.0",
            "_model_name": "DescriptionStyleModel",
            "_view_count": null,
            "_view_module": "@jupyter-widgets/base",
            "_view_module_version": "1.2.0",
            "_view_name": "StyleView",
            "description_width": ""
          }
        },
        "97cdb9e88f9949289905d7bd50d94523": {
          "model_module": "@jupyter-widgets/base",
          "model_name": "LayoutModel",
          "model_module_version": "1.2.0",
          "state": {
            "_model_module": "@jupyter-widgets/base",
            "_model_module_version": "1.2.0",
            "_model_name": "LayoutModel",
            "_view_count": null,
            "_view_module": "@jupyter-widgets/base",
            "_view_module_version": "1.2.0",
            "_view_name": "LayoutView",
            "align_content": null,
            "align_items": null,
            "align_self": null,
            "border": null,
            "bottom": null,
            "display": null,
            "flex": null,
            "flex_flow": null,
            "grid_area": null,
            "grid_auto_columns": null,
            "grid_auto_flow": null,
            "grid_auto_rows": null,
            "grid_column": null,
            "grid_gap": null,
            "grid_row": null,
            "grid_template_areas": null,
            "grid_template_columns": null,
            "grid_template_rows": null,
            "height": null,
            "justify_content": null,
            "justify_items": null,
            "left": null,
            "margin": null,
            "max_height": null,
            "max_width": null,
            "min_height": null,
            "min_width": null,
            "object_fit": null,
            "object_position": null,
            "order": null,
            "overflow": null,
            "overflow_x": null,
            "overflow_y": null,
            "padding": null,
            "right": null,
            "top": null,
            "visibility": null,
            "width": null
          }
        },
        "9284933dddd84c5f8be76fe51d1ea960": {
          "model_module": "@jupyter-widgets/controls",
          "model_name": "ProgressStyleModel",
          "model_module_version": "1.5.0",
          "state": {
            "_model_module": "@jupyter-widgets/controls",
            "_model_module_version": "1.5.0",
            "_model_name": "ProgressStyleModel",
            "_view_count": null,
            "_view_module": "@jupyter-widgets/base",
            "_view_module_version": "1.2.0",
            "_view_name": "StyleView",
            "bar_color": null,
            "description_width": ""
          }
        },
        "532385d02f8948379e190862d7185989": {
          "model_module": "@jupyter-widgets/base",
          "model_name": "LayoutModel",
          "model_module_version": "1.2.0",
          "state": {
            "_model_module": "@jupyter-widgets/base",
            "_model_module_version": "1.2.0",
            "_model_name": "LayoutModel",
            "_view_count": null,
            "_view_module": "@jupyter-widgets/base",
            "_view_module_version": "1.2.0",
            "_view_name": "LayoutView",
            "align_content": null,
            "align_items": null,
            "align_self": null,
            "border": null,
            "bottom": null,
            "display": null,
            "flex": null,
            "flex_flow": null,
            "grid_area": null,
            "grid_auto_columns": null,
            "grid_auto_flow": null,
            "grid_auto_rows": null,
            "grid_column": null,
            "grid_gap": null,
            "grid_row": null,
            "grid_template_areas": null,
            "grid_template_columns": null,
            "grid_template_rows": null,
            "height": null,
            "justify_content": null,
            "justify_items": null,
            "left": null,
            "margin": null,
            "max_height": null,
            "max_width": null,
            "min_height": null,
            "min_width": null,
            "object_fit": null,
            "object_position": null,
            "order": null,
            "overflow": null,
            "overflow_x": null,
            "overflow_y": null,
            "padding": null,
            "right": null,
            "top": null,
            "visibility": null,
            "width": null
          }
        },
        "5c27b6bb5f3e4feeb27fbea3ed2e7514": {
          "model_module": "@jupyter-widgets/controls",
          "model_name": "DescriptionStyleModel",
          "model_module_version": "1.5.0",
          "state": {
            "_model_module": "@jupyter-widgets/controls",
            "_model_module_version": "1.5.0",
            "_model_name": "DescriptionStyleModel",
            "_view_count": null,
            "_view_module": "@jupyter-widgets/base",
            "_view_module_version": "1.2.0",
            "_view_name": "StyleView",
            "description_width": ""
          }
        },
        "7f0b6ea0ed3a47449a45796fbd3d0b92": {
          "model_module": "@jupyter-widgets/controls",
          "model_name": "HBoxModel",
          "model_module_version": "1.5.0",
          "state": {
            "_dom_classes": [],
            "_model_module": "@jupyter-widgets/controls",
            "_model_module_version": "1.5.0",
            "_model_name": "HBoxModel",
            "_view_count": null,
            "_view_module": "@jupyter-widgets/controls",
            "_view_module_version": "1.5.0",
            "_view_name": "HBoxView",
            "box_style": "",
            "children": [
              "IPY_MODEL_0144c27371f84e318adf50b55653efe7",
              "IPY_MODEL_5d76242f955d4ecfbbfbeecd5511d27e",
              "IPY_MODEL_34c49e1c3dba4ea1a326c59bd6ea7287"
            ],
            "layout": "IPY_MODEL_2dc0a42739ea4ee7a3fce0982463b184"
          }
        },
        "0144c27371f84e318adf50b55653efe7": {
          "model_module": "@jupyter-widgets/controls",
          "model_name": "HTMLModel",
          "model_module_version": "1.5.0",
          "state": {
            "_dom_classes": [],
            "_model_module": "@jupyter-widgets/controls",
            "_model_module_version": "1.5.0",
            "_model_name": "HTMLModel",
            "_view_count": null,
            "_view_module": "@jupyter-widgets/controls",
            "_view_module_version": "1.5.0",
            "_view_name": "HTMLView",
            "description": "",
            "description_tooltip": null,
            "layout": "IPY_MODEL_0cb8f1902d734c468b4046d5138407cc",
            "placeholder": "​",
            "style": "IPY_MODEL_6df9c2f3a7304e369c873c933ee6ee5e",
            "value": "generation_config.json: 100%"
          }
        },
        "5d76242f955d4ecfbbfbeecd5511d27e": {
          "model_module": "@jupyter-widgets/controls",
          "model_name": "FloatProgressModel",
          "model_module_version": "1.5.0",
          "state": {
            "_dom_classes": [],
            "_model_module": "@jupyter-widgets/controls",
            "_model_module_version": "1.5.0",
            "_model_name": "FloatProgressModel",
            "_view_count": null,
            "_view_module": "@jupyter-widgets/controls",
            "_view_module_version": "1.5.0",
            "_view_name": "ProgressView",
            "bar_style": "success",
            "description": "",
            "description_tooltip": null,
            "layout": "IPY_MODEL_b9d88d5b03234a918baf7abcd4d57dd8",
            "max": 142,
            "min": 0,
            "orientation": "horizontal",
            "style": "IPY_MODEL_c720968cf2234bc69d0845d85d319dc8",
            "value": 142
          }
        },
        "34c49e1c3dba4ea1a326c59bd6ea7287": {
          "model_module": "@jupyter-widgets/controls",
          "model_name": "HTMLModel",
          "model_module_version": "1.5.0",
          "state": {
            "_dom_classes": [],
            "_model_module": "@jupyter-widgets/controls",
            "_model_module_version": "1.5.0",
            "_model_name": "HTMLModel",
            "_view_count": null,
            "_view_module": "@jupyter-widgets/controls",
            "_view_module_version": "1.5.0",
            "_view_name": "HTMLView",
            "description": "",
            "description_tooltip": null,
            "layout": "IPY_MODEL_ef50ad16c51d496389aed8581d228285",
            "placeholder": "​",
            "style": "IPY_MODEL_99a2839551014a10ac5b72da0c9db629",
            "value": " 142/142 [00:00&lt;00:00, 4.40kB/s]"
          }
        },
        "2dc0a42739ea4ee7a3fce0982463b184": {
          "model_module": "@jupyter-widgets/base",
          "model_name": "LayoutModel",
          "model_module_version": "1.2.0",
          "state": {
            "_model_module": "@jupyter-widgets/base",
            "_model_module_version": "1.2.0",
            "_model_name": "LayoutModel",
            "_view_count": null,
            "_view_module": "@jupyter-widgets/base",
            "_view_module_version": "1.2.0",
            "_view_name": "LayoutView",
            "align_content": null,
            "align_items": null,
            "align_self": null,
            "border": null,
            "bottom": null,
            "display": null,
            "flex": null,
            "flex_flow": null,
            "grid_area": null,
            "grid_auto_columns": null,
            "grid_auto_flow": null,
            "grid_auto_rows": null,
            "grid_column": null,
            "grid_gap": null,
            "grid_row": null,
            "grid_template_areas": null,
            "grid_template_columns": null,
            "grid_template_rows": null,
            "height": null,
            "justify_content": null,
            "justify_items": null,
            "left": null,
            "margin": null,
            "max_height": null,
            "max_width": null,
            "min_height": null,
            "min_width": null,
            "object_fit": null,
            "object_position": null,
            "order": null,
            "overflow": null,
            "overflow_x": null,
            "overflow_y": null,
            "padding": null,
            "right": null,
            "top": null,
            "visibility": null,
            "width": null
          }
        },
        "0cb8f1902d734c468b4046d5138407cc": {
          "model_module": "@jupyter-widgets/base",
          "model_name": "LayoutModel",
          "model_module_version": "1.2.0",
          "state": {
            "_model_module": "@jupyter-widgets/base",
            "_model_module_version": "1.2.0",
            "_model_name": "LayoutModel",
            "_view_count": null,
            "_view_module": "@jupyter-widgets/base",
            "_view_module_version": "1.2.0",
            "_view_name": "LayoutView",
            "align_content": null,
            "align_items": null,
            "align_self": null,
            "border": null,
            "bottom": null,
            "display": null,
            "flex": null,
            "flex_flow": null,
            "grid_area": null,
            "grid_auto_columns": null,
            "grid_auto_flow": null,
            "grid_auto_rows": null,
            "grid_column": null,
            "grid_gap": null,
            "grid_row": null,
            "grid_template_areas": null,
            "grid_template_columns": null,
            "grid_template_rows": null,
            "height": null,
            "justify_content": null,
            "justify_items": null,
            "left": null,
            "margin": null,
            "max_height": null,
            "max_width": null,
            "min_height": null,
            "min_width": null,
            "object_fit": null,
            "object_position": null,
            "order": null,
            "overflow": null,
            "overflow_x": null,
            "overflow_y": null,
            "padding": null,
            "right": null,
            "top": null,
            "visibility": null,
            "width": null
          }
        },
        "6df9c2f3a7304e369c873c933ee6ee5e": {
          "model_module": "@jupyter-widgets/controls",
          "model_name": "DescriptionStyleModel",
          "model_module_version": "1.5.0",
          "state": {
            "_model_module": "@jupyter-widgets/controls",
            "_model_module_version": "1.5.0",
            "_model_name": "DescriptionStyleModel",
            "_view_count": null,
            "_view_module": "@jupyter-widgets/base",
            "_view_module_version": "1.2.0",
            "_view_name": "StyleView",
            "description_width": ""
          }
        },
        "b9d88d5b03234a918baf7abcd4d57dd8": {
          "model_module": "@jupyter-widgets/base",
          "model_name": "LayoutModel",
          "model_module_version": "1.2.0",
          "state": {
            "_model_module": "@jupyter-widgets/base",
            "_model_module_version": "1.2.0",
            "_model_name": "LayoutModel",
            "_view_count": null,
            "_view_module": "@jupyter-widgets/base",
            "_view_module_version": "1.2.0",
            "_view_name": "LayoutView",
            "align_content": null,
            "align_items": null,
            "align_self": null,
            "border": null,
            "bottom": null,
            "display": null,
            "flex": null,
            "flex_flow": null,
            "grid_area": null,
            "grid_auto_columns": null,
            "grid_auto_flow": null,
            "grid_auto_rows": null,
            "grid_column": null,
            "grid_gap": null,
            "grid_row": null,
            "grid_template_areas": null,
            "grid_template_columns": null,
            "grid_template_rows": null,
            "height": null,
            "justify_content": null,
            "justify_items": null,
            "left": null,
            "margin": null,
            "max_height": null,
            "max_width": null,
            "min_height": null,
            "min_width": null,
            "object_fit": null,
            "object_position": null,
            "order": null,
            "overflow": null,
            "overflow_x": null,
            "overflow_y": null,
            "padding": null,
            "right": null,
            "top": null,
            "visibility": null,
            "width": null
          }
        },
        "c720968cf2234bc69d0845d85d319dc8": {
          "model_module": "@jupyter-widgets/controls",
          "model_name": "ProgressStyleModel",
          "model_module_version": "1.5.0",
          "state": {
            "_model_module": "@jupyter-widgets/controls",
            "_model_module_version": "1.5.0",
            "_model_name": "ProgressStyleModel",
            "_view_count": null,
            "_view_module": "@jupyter-widgets/base",
            "_view_module_version": "1.2.0",
            "_view_name": "StyleView",
            "bar_color": null,
            "description_width": ""
          }
        },
        "ef50ad16c51d496389aed8581d228285": {
          "model_module": "@jupyter-widgets/base",
          "model_name": "LayoutModel",
          "model_module_version": "1.2.0",
          "state": {
            "_model_module": "@jupyter-widgets/base",
            "_model_module_version": "1.2.0",
            "_model_name": "LayoutModel",
            "_view_count": null,
            "_view_module": "@jupyter-widgets/base",
            "_view_module_version": "1.2.0",
            "_view_name": "LayoutView",
            "align_content": null,
            "align_items": null,
            "align_self": null,
            "border": null,
            "bottom": null,
            "display": null,
            "flex": null,
            "flex_flow": null,
            "grid_area": null,
            "grid_auto_columns": null,
            "grid_auto_flow": null,
            "grid_auto_rows": null,
            "grid_column": null,
            "grid_gap": null,
            "grid_row": null,
            "grid_template_areas": null,
            "grid_template_columns": null,
            "grid_template_rows": null,
            "height": null,
            "justify_content": null,
            "justify_items": null,
            "left": null,
            "margin": null,
            "max_height": null,
            "max_width": null,
            "min_height": null,
            "min_width": null,
            "object_fit": null,
            "object_position": null,
            "order": null,
            "overflow": null,
            "overflow_x": null,
            "overflow_y": null,
            "padding": null,
            "right": null,
            "top": null,
            "visibility": null,
            "width": null
          }
        },
        "99a2839551014a10ac5b72da0c9db629": {
          "model_module": "@jupyter-widgets/controls",
          "model_name": "DescriptionStyleModel",
          "model_module_version": "1.5.0",
          "state": {
            "_model_module": "@jupyter-widgets/controls",
            "_model_module_version": "1.5.0",
            "_model_name": "DescriptionStyleModel",
            "_view_count": null,
            "_view_module": "@jupyter-widgets/base",
            "_view_module_version": "1.2.0",
            "_view_name": "StyleView",
            "description_width": ""
          }
        },
        "3ff953586c554fa8bcd4efb80a4f330b": {
          "model_module": "@jupyter-widgets/controls",
          "model_name": "HBoxModel",
          "model_module_version": "1.5.0",
          "state": {
            "_dom_classes": [],
            "_model_module": "@jupyter-widgets/controls",
            "_model_module_version": "1.5.0",
            "_model_name": "HBoxModel",
            "_view_count": null,
            "_view_module": "@jupyter-widgets/controls",
            "_view_module_version": "1.5.0",
            "_view_name": "HBoxView",
            "box_style": "",
            "children": [
              "IPY_MODEL_3bdd9f67dd5a433e9f4d9fa3ae38b69e",
              "IPY_MODEL_07fa344392884730bd49d351281a9c7d",
              "IPY_MODEL_15871545710c40edb6c58a6351eb2f4a"
            ],
            "layout": "IPY_MODEL_9c3549cd6303403aa61c822edd819e58"
          }
        },
        "3bdd9f67dd5a433e9f4d9fa3ae38b69e": {
          "model_module": "@jupyter-widgets/controls",
          "model_name": "HTMLModel",
          "model_module_version": "1.5.0",
          "state": {
            "_dom_classes": [],
            "_model_module": "@jupyter-widgets/controls",
            "_model_module_version": "1.5.0",
            "_model_name": "HTMLModel",
            "_view_count": null,
            "_view_module": "@jupyter-widgets/controls",
            "_view_module_version": "1.5.0",
            "_view_name": "HTMLView",
            "description": "",
            "description_tooltip": null,
            "layout": "IPY_MODEL_bae607572ebc460685fb67b24dd32e15",
            "placeholder": "​",
            "style": "IPY_MODEL_304deb9914044d4ab2683568d522a73c",
            "value": "tokenizer_config.json: 100%"
          }
        },
        "07fa344392884730bd49d351281a9c7d": {
          "model_module": "@jupyter-widgets/controls",
          "model_name": "FloatProgressModel",
          "model_module_version": "1.5.0",
          "state": {
            "_dom_classes": [],
            "_model_module": "@jupyter-widgets/controls",
            "_model_module_version": "1.5.0",
            "_model_name": "FloatProgressModel",
            "_view_count": null,
            "_view_module": "@jupyter-widgets/controls",
            "_view_module_version": "1.5.0",
            "_view_name": "ProgressView",
            "bar_style": "success",
            "description": "",
            "description_tooltip": null,
            "layout": "IPY_MODEL_3a9da600027942f6a5c7f4386c57a322",
            "max": 2497,
            "min": 0,
            "orientation": "horizontal",
            "style": "IPY_MODEL_1ae0f8461e7942979fb1cedfc4e817f9",
            "value": 2497
          }
        },
        "15871545710c40edb6c58a6351eb2f4a": {
          "model_module": "@jupyter-widgets/controls",
          "model_name": "HTMLModel",
          "model_module_version": "1.5.0",
          "state": {
            "_dom_classes": [],
            "_model_module": "@jupyter-widgets/controls",
            "_model_module_version": "1.5.0",
            "_model_name": "HTMLModel",
            "_view_count": null,
            "_view_module": "@jupyter-widgets/controls",
            "_view_module_version": "1.5.0",
            "_view_name": "HTMLView",
            "description": "",
            "description_tooltip": null,
            "layout": "IPY_MODEL_20eb58a1503f42bbaad0490676d96a69",
            "placeholder": "​",
            "style": "IPY_MODEL_5bb0e290860d40b492aa697f77af59e0",
            "value": " 2.50k/2.50k [00:00&lt;00:00, 80.0kB/s]"
          }
        },
        "9c3549cd6303403aa61c822edd819e58": {
          "model_module": "@jupyter-widgets/base",
          "model_name": "LayoutModel",
          "model_module_version": "1.2.0",
          "state": {
            "_model_module": "@jupyter-widgets/base",
            "_model_module_version": "1.2.0",
            "_model_name": "LayoutModel",
            "_view_count": null,
            "_view_module": "@jupyter-widgets/base",
            "_view_module_version": "1.2.0",
            "_view_name": "LayoutView",
            "align_content": null,
            "align_items": null,
            "align_self": null,
            "border": null,
            "bottom": null,
            "display": null,
            "flex": null,
            "flex_flow": null,
            "grid_area": null,
            "grid_auto_columns": null,
            "grid_auto_flow": null,
            "grid_auto_rows": null,
            "grid_column": null,
            "grid_gap": null,
            "grid_row": null,
            "grid_template_areas": null,
            "grid_template_columns": null,
            "grid_template_rows": null,
            "height": null,
            "justify_content": null,
            "justify_items": null,
            "left": null,
            "margin": null,
            "max_height": null,
            "max_width": null,
            "min_height": null,
            "min_width": null,
            "object_fit": null,
            "object_position": null,
            "order": null,
            "overflow": null,
            "overflow_x": null,
            "overflow_y": null,
            "padding": null,
            "right": null,
            "top": null,
            "visibility": null,
            "width": null
          }
        },
        "bae607572ebc460685fb67b24dd32e15": {
          "model_module": "@jupyter-widgets/base",
          "model_name": "LayoutModel",
          "model_module_version": "1.2.0",
          "state": {
            "_model_module": "@jupyter-widgets/base",
            "_model_module_version": "1.2.0",
            "_model_name": "LayoutModel",
            "_view_count": null,
            "_view_module": "@jupyter-widgets/base",
            "_view_module_version": "1.2.0",
            "_view_name": "LayoutView",
            "align_content": null,
            "align_items": null,
            "align_self": null,
            "border": null,
            "bottom": null,
            "display": null,
            "flex": null,
            "flex_flow": null,
            "grid_area": null,
            "grid_auto_columns": null,
            "grid_auto_flow": null,
            "grid_auto_rows": null,
            "grid_column": null,
            "grid_gap": null,
            "grid_row": null,
            "grid_template_areas": null,
            "grid_template_columns": null,
            "grid_template_rows": null,
            "height": null,
            "justify_content": null,
            "justify_items": null,
            "left": null,
            "margin": null,
            "max_height": null,
            "max_width": null,
            "min_height": null,
            "min_width": null,
            "object_fit": null,
            "object_position": null,
            "order": null,
            "overflow": null,
            "overflow_x": null,
            "overflow_y": null,
            "padding": null,
            "right": null,
            "top": null,
            "visibility": null,
            "width": null
          }
        },
        "304deb9914044d4ab2683568d522a73c": {
          "model_module": "@jupyter-widgets/controls",
          "model_name": "DescriptionStyleModel",
          "model_module_version": "1.5.0",
          "state": {
            "_model_module": "@jupyter-widgets/controls",
            "_model_module_version": "1.5.0",
            "_model_name": "DescriptionStyleModel",
            "_view_count": null,
            "_view_module": "@jupyter-widgets/base",
            "_view_module_version": "1.2.0",
            "_view_name": "StyleView",
            "description_width": ""
          }
        },
        "3a9da600027942f6a5c7f4386c57a322": {
          "model_module": "@jupyter-widgets/base",
          "model_name": "LayoutModel",
          "model_module_version": "1.2.0",
          "state": {
            "_model_module": "@jupyter-widgets/base",
            "_model_module_version": "1.2.0",
            "_model_name": "LayoutModel",
            "_view_count": null,
            "_view_module": "@jupyter-widgets/base",
            "_view_module_version": "1.2.0",
            "_view_name": "LayoutView",
            "align_content": null,
            "align_items": null,
            "align_self": null,
            "border": null,
            "bottom": null,
            "display": null,
            "flex": null,
            "flex_flow": null,
            "grid_area": null,
            "grid_auto_columns": null,
            "grid_auto_flow": null,
            "grid_auto_rows": null,
            "grid_column": null,
            "grid_gap": null,
            "grid_row": null,
            "grid_template_areas": null,
            "grid_template_columns": null,
            "grid_template_rows": null,
            "height": null,
            "justify_content": null,
            "justify_items": null,
            "left": null,
            "margin": null,
            "max_height": null,
            "max_width": null,
            "min_height": null,
            "min_width": null,
            "object_fit": null,
            "object_position": null,
            "order": null,
            "overflow": null,
            "overflow_x": null,
            "overflow_y": null,
            "padding": null,
            "right": null,
            "top": null,
            "visibility": null,
            "width": null
          }
        },
        "1ae0f8461e7942979fb1cedfc4e817f9": {
          "model_module": "@jupyter-widgets/controls",
          "model_name": "ProgressStyleModel",
          "model_module_version": "1.5.0",
          "state": {
            "_model_module": "@jupyter-widgets/controls",
            "_model_module_version": "1.5.0",
            "_model_name": "ProgressStyleModel",
            "_view_count": null,
            "_view_module": "@jupyter-widgets/base",
            "_view_module_version": "1.2.0",
            "_view_name": "StyleView",
            "bar_color": null,
            "description_width": ""
          }
        },
        "20eb58a1503f42bbaad0490676d96a69": {
          "model_module": "@jupyter-widgets/base",
          "model_name": "LayoutModel",
          "model_module_version": "1.2.0",
          "state": {
            "_model_module": "@jupyter-widgets/base",
            "_model_module_version": "1.2.0",
            "_model_name": "LayoutModel",
            "_view_count": null,
            "_view_module": "@jupyter-widgets/base",
            "_view_module_version": "1.2.0",
            "_view_name": "LayoutView",
            "align_content": null,
            "align_items": null,
            "align_self": null,
            "border": null,
            "bottom": null,
            "display": null,
            "flex": null,
            "flex_flow": null,
            "grid_area": null,
            "grid_auto_columns": null,
            "grid_auto_flow": null,
            "grid_auto_rows": null,
            "grid_column": null,
            "grid_gap": null,
            "grid_row": null,
            "grid_template_areas": null,
            "grid_template_columns": null,
            "grid_template_rows": null,
            "height": null,
            "justify_content": null,
            "justify_items": null,
            "left": null,
            "margin": null,
            "max_height": null,
            "max_width": null,
            "min_height": null,
            "min_width": null,
            "object_fit": null,
            "object_position": null,
            "order": null,
            "overflow": null,
            "overflow_x": null,
            "overflow_y": null,
            "padding": null,
            "right": null,
            "top": null,
            "visibility": null,
            "width": null
          }
        },
        "5bb0e290860d40b492aa697f77af59e0": {
          "model_module": "@jupyter-widgets/controls",
          "model_name": "DescriptionStyleModel",
          "model_module_version": "1.5.0",
          "state": {
            "_model_module": "@jupyter-widgets/controls",
            "_model_module_version": "1.5.0",
            "_model_name": "DescriptionStyleModel",
            "_view_count": null,
            "_view_module": "@jupyter-widgets/base",
            "_view_module_version": "1.2.0",
            "_view_name": "StyleView",
            "description_width": ""
          }
        },
        "e14fe2ef92214105b4962ae71c5f7a68": {
          "model_module": "@jupyter-widgets/controls",
          "model_name": "HBoxModel",
          "model_module_version": "1.5.0",
          "state": {
            "_dom_classes": [],
            "_model_module": "@jupyter-widgets/controls",
            "_model_module_version": "1.5.0",
            "_model_name": "HBoxModel",
            "_view_count": null,
            "_view_module": "@jupyter-widgets/controls",
            "_view_module_version": "1.5.0",
            "_view_name": "HBoxView",
            "box_style": "",
            "children": [
              "IPY_MODEL_333bc84d200a4de1ae4f0b38de4a58f0",
              "IPY_MODEL_a340e2fbd81340359953d6632bf48867",
              "IPY_MODEL_73155e9120774011b829247c74df72a9"
            ],
            "layout": "IPY_MODEL_13d9ce58bb5c444e86efca524c045e90"
          }
        },
        "333bc84d200a4de1ae4f0b38de4a58f0": {
          "model_module": "@jupyter-widgets/controls",
          "model_name": "HTMLModel",
          "model_module_version": "1.5.0",
          "state": {
            "_dom_classes": [],
            "_model_module": "@jupyter-widgets/controls",
            "_model_module_version": "1.5.0",
            "_model_name": "HTMLModel",
            "_view_count": null,
            "_view_module": "@jupyter-widgets/controls",
            "_view_module_version": "1.5.0",
            "_view_name": "HTMLView",
            "description": "",
            "description_tooltip": null,
            "layout": "IPY_MODEL_e10d9ddb50854b3797902ac3770e46b4",
            "placeholder": "​",
            "style": "IPY_MODEL_f3c9ec6605d24ef189a2d3903cf0cf0d",
            "value": "tokenizer.json: 100%"
          }
        },
        "a340e2fbd81340359953d6632bf48867": {
          "model_module": "@jupyter-widgets/controls",
          "model_name": "FloatProgressModel",
          "model_module_version": "1.5.0",
          "state": {
            "_dom_classes": [],
            "_model_module": "@jupyter-widgets/controls",
            "_model_module_version": "1.5.0",
            "_model_name": "FloatProgressModel",
            "_view_count": null,
            "_view_module": "@jupyter-widgets/controls",
            "_view_module_version": "1.5.0",
            "_view_name": "ProgressView",
            "bar_style": "success",
            "description": "",
            "description_tooltip": null,
            "layout": "IPY_MODEL_a8539c9e2b804c10a4d717305d4e8595",
            "max": 2422262,
            "min": 0,
            "orientation": "horizontal",
            "style": "IPY_MODEL_956ee1fbc5d94e9a856be00d96dd50ce",
            "value": 2422262
          }
        },
        "73155e9120774011b829247c74df72a9": {
          "model_module": "@jupyter-widgets/controls",
          "model_name": "HTMLModel",
          "model_module_version": "1.5.0",
          "state": {
            "_dom_classes": [],
            "_model_module": "@jupyter-widgets/controls",
            "_model_module_version": "1.5.0",
            "_model_name": "HTMLModel",
            "_view_count": null,
            "_view_module": "@jupyter-widgets/controls",
            "_view_module_version": "1.5.0",
            "_view_name": "HTMLView",
            "description": "",
            "description_tooltip": null,
            "layout": "IPY_MODEL_14fb0d6a44fd49bdb43e74f1594a989f",
            "placeholder": "​",
            "style": "IPY_MODEL_752df93fcefa48bd84c61c04add0d14c",
            "value": " 2.42M/2.42M [00:00&lt;00:00, 5.15MB/s]"
          }
        },
        "13d9ce58bb5c444e86efca524c045e90": {
          "model_module": "@jupyter-widgets/base",
          "model_name": "LayoutModel",
          "model_module_version": "1.2.0",
          "state": {
            "_model_module": "@jupyter-widgets/base",
            "_model_module_version": "1.2.0",
            "_model_name": "LayoutModel",
            "_view_count": null,
            "_view_module": "@jupyter-widgets/base",
            "_view_module_version": "1.2.0",
            "_view_name": "LayoutView",
            "align_content": null,
            "align_items": null,
            "align_self": null,
            "border": null,
            "bottom": null,
            "display": null,
            "flex": null,
            "flex_flow": null,
            "grid_area": null,
            "grid_auto_columns": null,
            "grid_auto_flow": null,
            "grid_auto_rows": null,
            "grid_column": null,
            "grid_gap": null,
            "grid_row": null,
            "grid_template_areas": null,
            "grid_template_columns": null,
            "grid_template_rows": null,
            "height": null,
            "justify_content": null,
            "justify_items": null,
            "left": null,
            "margin": null,
            "max_height": null,
            "max_width": null,
            "min_height": null,
            "min_width": null,
            "object_fit": null,
            "object_position": null,
            "order": null,
            "overflow": null,
            "overflow_x": null,
            "overflow_y": null,
            "padding": null,
            "right": null,
            "top": null,
            "visibility": null,
            "width": null
          }
        },
        "e10d9ddb50854b3797902ac3770e46b4": {
          "model_module": "@jupyter-widgets/base",
          "model_name": "LayoutModel",
          "model_module_version": "1.2.0",
          "state": {
            "_model_module": "@jupyter-widgets/base",
            "_model_module_version": "1.2.0",
            "_model_name": "LayoutModel",
            "_view_count": null,
            "_view_module": "@jupyter-widgets/base",
            "_view_module_version": "1.2.0",
            "_view_name": "LayoutView",
            "align_content": null,
            "align_items": null,
            "align_self": null,
            "border": null,
            "bottom": null,
            "display": null,
            "flex": null,
            "flex_flow": null,
            "grid_area": null,
            "grid_auto_columns": null,
            "grid_auto_flow": null,
            "grid_auto_rows": null,
            "grid_column": null,
            "grid_gap": null,
            "grid_row": null,
            "grid_template_areas": null,
            "grid_template_columns": null,
            "grid_template_rows": null,
            "height": null,
            "justify_content": null,
            "justify_items": null,
            "left": null,
            "margin": null,
            "max_height": null,
            "max_width": null,
            "min_height": null,
            "min_width": null,
            "object_fit": null,
            "object_position": null,
            "order": null,
            "overflow": null,
            "overflow_x": null,
            "overflow_y": null,
            "padding": null,
            "right": null,
            "top": null,
            "visibility": null,
            "width": null
          }
        },
        "f3c9ec6605d24ef189a2d3903cf0cf0d": {
          "model_module": "@jupyter-widgets/controls",
          "model_name": "DescriptionStyleModel",
          "model_module_version": "1.5.0",
          "state": {
            "_model_module": "@jupyter-widgets/controls",
            "_model_module_version": "1.5.0",
            "_model_name": "DescriptionStyleModel",
            "_view_count": null,
            "_view_module": "@jupyter-widgets/base",
            "_view_module_version": "1.2.0",
            "_view_name": "StyleView",
            "description_width": ""
          }
        },
        "a8539c9e2b804c10a4d717305d4e8595": {
          "model_module": "@jupyter-widgets/base",
          "model_name": "LayoutModel",
          "model_module_version": "1.2.0",
          "state": {
            "_model_module": "@jupyter-widgets/base",
            "_model_module_version": "1.2.0",
            "_model_name": "LayoutModel",
            "_view_count": null,
            "_view_module": "@jupyter-widgets/base",
            "_view_module_version": "1.2.0",
            "_view_name": "LayoutView",
            "align_content": null,
            "align_items": null,
            "align_self": null,
            "border": null,
            "bottom": null,
            "display": null,
            "flex": null,
            "flex_flow": null,
            "grid_area": null,
            "grid_auto_columns": null,
            "grid_auto_flow": null,
            "grid_auto_rows": null,
            "grid_column": null,
            "grid_gap": null,
            "grid_row": null,
            "grid_template_areas": null,
            "grid_template_columns": null,
            "grid_template_rows": null,
            "height": null,
            "justify_content": null,
            "justify_items": null,
            "left": null,
            "margin": null,
            "max_height": null,
            "max_width": null,
            "min_height": null,
            "min_width": null,
            "object_fit": null,
            "object_position": null,
            "order": null,
            "overflow": null,
            "overflow_x": null,
            "overflow_y": null,
            "padding": null,
            "right": null,
            "top": null,
            "visibility": null,
            "width": null
          }
        },
        "956ee1fbc5d94e9a856be00d96dd50ce": {
          "model_module": "@jupyter-widgets/controls",
          "model_name": "ProgressStyleModel",
          "model_module_version": "1.5.0",
          "state": {
            "_model_module": "@jupyter-widgets/controls",
            "_model_module_version": "1.5.0",
            "_model_name": "ProgressStyleModel",
            "_view_count": null,
            "_view_module": "@jupyter-widgets/base",
            "_view_module_version": "1.2.0",
            "_view_name": "StyleView",
            "bar_color": null,
            "description_width": ""
          }
        },
        "14fb0d6a44fd49bdb43e74f1594a989f": {
          "model_module": "@jupyter-widgets/base",
          "model_name": "LayoutModel",
          "model_module_version": "1.2.0",
          "state": {
            "_model_module": "@jupyter-widgets/base",
            "_model_module_version": "1.2.0",
            "_model_name": "LayoutModel",
            "_view_count": null,
            "_view_module": "@jupyter-widgets/base",
            "_view_module_version": "1.2.0",
            "_view_name": "LayoutView",
            "align_content": null,
            "align_items": null,
            "align_self": null,
            "border": null,
            "bottom": null,
            "display": null,
            "flex": null,
            "flex_flow": null,
            "grid_area": null,
            "grid_auto_columns": null,
            "grid_auto_flow": null,
            "grid_auto_rows": null,
            "grid_column": null,
            "grid_gap": null,
            "grid_row": null,
            "grid_template_areas": null,
            "grid_template_columns": null,
            "grid_template_rows": null,
            "height": null,
            "justify_content": null,
            "justify_items": null,
            "left": null,
            "margin": null,
            "max_height": null,
            "max_width": null,
            "min_height": null,
            "min_width": null,
            "object_fit": null,
            "object_position": null,
            "order": null,
            "overflow": null,
            "overflow_x": null,
            "overflow_y": null,
            "padding": null,
            "right": null,
            "top": null,
            "visibility": null,
            "width": null
          }
        },
        "752df93fcefa48bd84c61c04add0d14c": {
          "model_module": "@jupyter-widgets/controls",
          "model_name": "DescriptionStyleModel",
          "model_module_version": "1.5.0",
          "state": {
            "_model_module": "@jupyter-widgets/controls",
            "_model_module_version": "1.5.0",
            "_model_name": "DescriptionStyleModel",
            "_view_count": null,
            "_view_module": "@jupyter-widgets/base",
            "_view_module_version": "1.2.0",
            "_view_name": "StyleView",
            "description_width": ""
          }
        },
        "f46c3963b8504101bd53bb7a692214cb": {
          "model_module": "@jupyter-widgets/controls",
          "model_name": "HBoxModel",
          "model_module_version": "1.5.0",
          "state": {
            "_dom_classes": [],
            "_model_module": "@jupyter-widgets/controls",
            "_model_module_version": "1.5.0",
            "_model_name": "HBoxModel",
            "_view_count": null,
            "_view_module": "@jupyter-widgets/controls",
            "_view_module_version": "1.5.0",
            "_view_name": "HBoxView",
            "box_style": "",
            "children": [
              "IPY_MODEL_55724166c9ac4cf9a1e57ebf33a88f7f",
              "IPY_MODEL_7df3769616ae4fd0b16d03fe52f1df1b",
              "IPY_MODEL_ee55623f949c4a088f295c4d4980b3de"
            ],
            "layout": "IPY_MODEL_4f1492626525496a8d950231c2cb9b6a"
          }
        },
        "55724166c9ac4cf9a1e57ebf33a88f7f": {
          "model_module": "@jupyter-widgets/controls",
          "model_name": "HTMLModel",
          "model_module_version": "1.5.0",
          "state": {
            "_dom_classes": [],
            "_model_module": "@jupyter-widgets/controls",
            "_model_module_version": "1.5.0",
            "_model_name": "HTMLModel",
            "_view_count": null,
            "_view_module": "@jupyter-widgets/controls",
            "_view_module_version": "1.5.0",
            "_view_name": "HTMLView",
            "description": "",
            "description_tooltip": null,
            "layout": "IPY_MODEL_31246ce0c93340fe8d8239eb0df6ec5e",
            "placeholder": "​",
            "style": "IPY_MODEL_d63f62dd0d544dba89d88deab108ae63",
            "value": "special_tokens_map.json: 100%"
          }
        },
        "7df3769616ae4fd0b16d03fe52f1df1b": {
          "model_module": "@jupyter-widgets/controls",
          "model_name": "FloatProgressModel",
          "model_module_version": "1.5.0",
          "state": {
            "_dom_classes": [],
            "_model_module": "@jupyter-widgets/controls",
            "_model_module_version": "1.5.0",
            "_model_name": "FloatProgressModel",
            "_view_count": null,
            "_view_module": "@jupyter-widgets/controls",
            "_view_module_version": "1.5.0",
            "_view_name": "ProgressView",
            "bar_style": "success",
            "description": "",
            "description_tooltip": null,
            "layout": "IPY_MODEL_66af888c61ba43048bccc971ff40431b",
            "max": 2201,
            "min": 0,
            "orientation": "horizontal",
            "style": "IPY_MODEL_9b6831cbd0274328b3f84df64d383b6c",
            "value": 2201
          }
        },
        "ee55623f949c4a088f295c4d4980b3de": {
          "model_module": "@jupyter-widgets/controls",
          "model_name": "HTMLModel",
          "model_module_version": "1.5.0",
          "state": {
            "_dom_classes": [],
            "_model_module": "@jupyter-widgets/controls",
            "_model_module_version": "1.5.0",
            "_model_name": "HTMLModel",
            "_view_count": null,
            "_view_module": "@jupyter-widgets/controls",
            "_view_module_version": "1.5.0",
            "_view_name": "HTMLView",
            "description": "",
            "description_tooltip": null,
            "layout": "IPY_MODEL_73be9564963b45c1a1848ffc4bb95b4a",
            "placeholder": "​",
            "style": "IPY_MODEL_bcbd0729a5ca4c438909dc691f9e7b09",
            "value": " 2.20k/2.20k [00:00&lt;00:00, 49.1kB/s]"
          }
        },
        "4f1492626525496a8d950231c2cb9b6a": {
          "model_module": "@jupyter-widgets/base",
          "model_name": "LayoutModel",
          "model_module_version": "1.2.0",
          "state": {
            "_model_module": "@jupyter-widgets/base",
            "_model_module_version": "1.2.0",
            "_model_name": "LayoutModel",
            "_view_count": null,
            "_view_module": "@jupyter-widgets/base",
            "_view_module_version": "1.2.0",
            "_view_name": "LayoutView",
            "align_content": null,
            "align_items": null,
            "align_self": null,
            "border": null,
            "bottom": null,
            "display": null,
            "flex": null,
            "flex_flow": null,
            "grid_area": null,
            "grid_auto_columns": null,
            "grid_auto_flow": null,
            "grid_auto_rows": null,
            "grid_column": null,
            "grid_gap": null,
            "grid_row": null,
            "grid_template_areas": null,
            "grid_template_columns": null,
            "grid_template_rows": null,
            "height": null,
            "justify_content": null,
            "justify_items": null,
            "left": null,
            "margin": null,
            "max_height": null,
            "max_width": null,
            "min_height": null,
            "min_width": null,
            "object_fit": null,
            "object_position": null,
            "order": null,
            "overflow": null,
            "overflow_x": null,
            "overflow_y": null,
            "padding": null,
            "right": null,
            "top": null,
            "visibility": null,
            "width": null
          }
        },
        "31246ce0c93340fe8d8239eb0df6ec5e": {
          "model_module": "@jupyter-widgets/base",
          "model_name": "LayoutModel",
          "model_module_version": "1.2.0",
          "state": {
            "_model_module": "@jupyter-widgets/base",
            "_model_module_version": "1.2.0",
            "_model_name": "LayoutModel",
            "_view_count": null,
            "_view_module": "@jupyter-widgets/base",
            "_view_module_version": "1.2.0",
            "_view_name": "LayoutView",
            "align_content": null,
            "align_items": null,
            "align_self": null,
            "border": null,
            "bottom": null,
            "display": null,
            "flex": null,
            "flex_flow": null,
            "grid_area": null,
            "grid_auto_columns": null,
            "grid_auto_flow": null,
            "grid_auto_rows": null,
            "grid_column": null,
            "grid_gap": null,
            "grid_row": null,
            "grid_template_areas": null,
            "grid_template_columns": null,
            "grid_template_rows": null,
            "height": null,
            "justify_content": null,
            "justify_items": null,
            "left": null,
            "margin": null,
            "max_height": null,
            "max_width": null,
            "min_height": null,
            "min_width": null,
            "object_fit": null,
            "object_position": null,
            "order": null,
            "overflow": null,
            "overflow_x": null,
            "overflow_y": null,
            "padding": null,
            "right": null,
            "top": null,
            "visibility": null,
            "width": null
          }
        },
        "d63f62dd0d544dba89d88deab108ae63": {
          "model_module": "@jupyter-widgets/controls",
          "model_name": "DescriptionStyleModel",
          "model_module_version": "1.5.0",
          "state": {
            "_model_module": "@jupyter-widgets/controls",
            "_model_module_version": "1.5.0",
            "_model_name": "DescriptionStyleModel",
            "_view_count": null,
            "_view_module": "@jupyter-widgets/base",
            "_view_module_version": "1.2.0",
            "_view_name": "StyleView",
            "description_width": ""
          }
        },
        "66af888c61ba43048bccc971ff40431b": {
          "model_module": "@jupyter-widgets/base",
          "model_name": "LayoutModel",
          "model_module_version": "1.2.0",
          "state": {
            "_model_module": "@jupyter-widgets/base",
            "_model_module_version": "1.2.0",
            "_model_name": "LayoutModel",
            "_view_count": null,
            "_view_module": "@jupyter-widgets/base",
            "_view_module_version": "1.2.0",
            "_view_name": "LayoutView",
            "align_content": null,
            "align_items": null,
            "align_self": null,
            "border": null,
            "bottom": null,
            "display": null,
            "flex": null,
            "flex_flow": null,
            "grid_area": null,
            "grid_auto_columns": null,
            "grid_auto_flow": null,
            "grid_auto_rows": null,
            "grid_column": null,
            "grid_gap": null,
            "grid_row": null,
            "grid_template_areas": null,
            "grid_template_columns": null,
            "grid_template_rows": null,
            "height": null,
            "justify_content": null,
            "justify_items": null,
            "left": null,
            "margin": null,
            "max_height": null,
            "max_width": null,
            "min_height": null,
            "min_width": null,
            "object_fit": null,
            "object_position": null,
            "order": null,
            "overflow": null,
            "overflow_x": null,
            "overflow_y": null,
            "padding": null,
            "right": null,
            "top": null,
            "visibility": null,
            "width": null
          }
        },
        "9b6831cbd0274328b3f84df64d383b6c": {
          "model_module": "@jupyter-widgets/controls",
          "model_name": "ProgressStyleModel",
          "model_module_version": "1.5.0",
          "state": {
            "_model_module": "@jupyter-widgets/controls",
            "_model_module_version": "1.5.0",
            "_model_name": "ProgressStyleModel",
            "_view_count": null,
            "_view_module": "@jupyter-widgets/base",
            "_view_module_version": "1.2.0",
            "_view_name": "StyleView",
            "bar_color": null,
            "description_width": ""
          }
        },
        "73be9564963b45c1a1848ffc4bb95b4a": {
          "model_module": "@jupyter-widgets/base",
          "model_name": "LayoutModel",
          "model_module_version": "1.2.0",
          "state": {
            "_model_module": "@jupyter-widgets/base",
            "_model_module_version": "1.2.0",
            "_model_name": "LayoutModel",
            "_view_count": null,
            "_view_module": "@jupyter-widgets/base",
            "_view_module_version": "1.2.0",
            "_view_name": "LayoutView",
            "align_content": null,
            "align_items": null,
            "align_self": null,
            "border": null,
            "bottom": null,
            "display": null,
            "flex": null,
            "flex_flow": null,
            "grid_area": null,
            "grid_auto_columns": null,
            "grid_auto_flow": null,
            "grid_auto_rows": null,
            "grid_column": null,
            "grid_gap": null,
            "grid_row": null,
            "grid_template_areas": null,
            "grid_template_columns": null,
            "grid_template_rows": null,
            "height": null,
            "justify_content": null,
            "justify_items": null,
            "left": null,
            "margin": null,
            "max_height": null,
            "max_width": null,
            "min_height": null,
            "min_width": null,
            "object_fit": null,
            "object_position": null,
            "order": null,
            "overflow": null,
            "overflow_x": null,
            "overflow_y": null,
            "padding": null,
            "right": null,
            "top": null,
            "visibility": null,
            "width": null
          }
        },
        "bcbd0729a5ca4c438909dc691f9e7b09": {
          "model_module": "@jupyter-widgets/controls",
          "model_name": "DescriptionStyleModel",
          "model_module_version": "1.5.0",
          "state": {
            "_model_module": "@jupyter-widgets/controls",
            "_model_module_version": "1.5.0",
            "_model_name": "DescriptionStyleModel",
            "_view_count": null,
            "_view_module": "@jupyter-widgets/base",
            "_view_module_version": "1.2.0",
            "_view_name": "StyleView",
            "description_width": ""
          }
        },
        "f0725be8753c4e55a4b7e9b08dac2bdf": {
          "model_module": "@jupyter-widgets/output",
          "model_name": "OutputModel",
          "model_module_version": "1.0.0",
          "state": {
            "_dom_classes": [],
            "_model_module": "@jupyter-widgets/output",
            "_model_module_version": "1.0.0",
            "_model_name": "OutputModel",
            "_view_count": null,
            "_view_module": "@jupyter-widgets/output",
            "_view_module_version": "1.0.0",
            "_view_name": "OutputView",
            "layout": "IPY_MODEL_dd7af087c1df470090c2de2bf5617309",
            "msg_id": "",
            "outputs": [
              {
                "output_type": "display_data",
                "data": {
                  "text/plain": "\u001b[32m⠉⠩\u001b[0m AI working ✅✅✅ ...\n",
                  "text/html": "<pre style=\"white-space:pre;overflow-x:auto;line-height:normal;font-family:Menlo,'DejaVu Sans Mono',consolas,'Courier New',monospace\"><span style=\"color: #008000; text-decoration-color: #008000\">⠉⠩</span> AI working ✅✅✅ ...\n</pre>\n"
                },
                "metadata": {}
              }
            ]
          }
        },
        "dd7af087c1df470090c2de2bf5617309": {
          "model_module": "@jupyter-widgets/base",
          "model_name": "LayoutModel",
          "model_module_version": "1.2.0",
          "state": {
            "_model_module": "@jupyter-widgets/base",
            "_model_module_version": "1.2.0",
            "_model_name": "LayoutModel",
            "_view_count": null,
            "_view_module": "@jupyter-widgets/base",
            "_view_module_version": "1.2.0",
            "_view_name": "LayoutView",
            "align_content": null,
            "align_items": null,
            "align_self": null,
            "border": null,
            "bottom": null,
            "display": null,
            "flex": null,
            "flex_flow": null,
            "grid_area": null,
            "grid_auto_columns": null,
            "grid_auto_flow": null,
            "grid_auto_rows": null,
            "grid_column": null,
            "grid_gap": null,
            "grid_row": null,
            "grid_template_areas": null,
            "grid_template_columns": null,
            "grid_template_rows": null,
            "height": null,
            "justify_content": null,
            "justify_items": null,
            "left": null,
            "margin": null,
            "max_height": null,
            "max_width": null,
            "min_height": null,
            "min_width": null,
            "object_fit": null,
            "object_position": null,
            "order": null,
            "overflow": null,
            "overflow_x": null,
            "overflow_y": null,
            "padding": null,
            "right": null,
            "top": null,
            "visibility": null,
            "width": null
          }
        },
        "6d67b45d4336423b96c789c9cd4d61a4": {
          "model_module": "@jupyter-widgets/output",
          "model_name": "OutputModel",
          "model_module_version": "1.0.0",
          "state": {
            "_dom_classes": [],
            "_model_module": "@jupyter-widgets/output",
            "_model_module_version": "1.0.0",
            "_model_name": "OutputModel",
            "_view_count": null,
            "_view_module": "@jupyter-widgets/output",
            "_view_module_version": "1.0.0",
            "_view_name": "OutputView",
            "layout": "IPY_MODEL_a7e69a92b81646d3948103a51dffd008",
            "msg_id": "",
            "outputs": [
              {
                "output_type": "display_data",
                "data": {
                  "text/plain": "\u001b[32m⠋⠉\u001b[0m StableLM-Zephyr-3B AI is working ✅✅✅ ...\n",
                  "text/html": "<pre style=\"white-space:pre;overflow-x:auto;line-height:normal;font-family:Menlo,'DejaVu Sans Mono',consolas,'Courier New',monospace\"><span style=\"color: #008000; text-decoration-color: #008000\">⠋⠉</span> StableLM-Zephyr-3B AI is working ✅✅✅ ...\n</pre>\n"
                },
                "metadata": {}
              }
            ]
          }
        },
        "a7e69a92b81646d3948103a51dffd008": {
          "model_module": "@jupyter-widgets/base",
          "model_name": "LayoutModel",
          "model_module_version": "1.2.0",
          "state": {
            "_model_module": "@jupyter-widgets/base",
            "_model_module_version": "1.2.0",
            "_model_name": "LayoutModel",
            "_view_count": null,
            "_view_module": "@jupyter-widgets/base",
            "_view_module_version": "1.2.0",
            "_view_name": "LayoutView",
            "align_content": null,
            "align_items": null,
            "align_self": null,
            "border": null,
            "bottom": null,
            "display": null,
            "flex": null,
            "flex_flow": null,
            "grid_area": null,
            "grid_auto_columns": null,
            "grid_auto_flow": null,
            "grid_auto_rows": null,
            "grid_column": null,
            "grid_gap": null,
            "grid_row": null,
            "grid_template_areas": null,
            "grid_template_columns": null,
            "grid_template_rows": null,
            "height": null,
            "justify_content": null,
            "justify_items": null,
            "left": null,
            "margin": null,
            "max_height": null,
            "max_width": null,
            "min_height": null,
            "min_width": null,
            "object_fit": null,
            "object_position": null,
            "order": null,
            "overflow": null,
            "overflow_x": null,
            "overflow_y": null,
            "padding": null,
            "right": null,
            "top": null,
            "visibility": null,
            "width": null
          }
        },
        "4579205f0849416399e05fef923be985": {
          "model_module": "@jupyter-widgets/output",
          "model_name": "OutputModel",
          "model_module_version": "1.0.0",
          "state": {
            "_dom_classes": [],
            "_model_module": "@jupyter-widgets/output",
            "_model_module_version": "1.0.0",
            "_model_name": "OutputModel",
            "_view_count": null,
            "_view_module": "@jupyter-widgets/output",
            "_view_module_version": "1.0.0",
            "_view_name": "OutputView",
            "layout": "IPY_MODEL_ce4e143b4b964f5081bcb6b5ccb6b9e3",
            "msg_id": "",
            "outputs": [
              {
                "output_type": "display_data",
                "data": {
                  "text/plain": "\u001b[32m⠈⠩\u001b[0m StableLM-Zephyr-3B AI is working ✅✅✅ ...\n",
                  "text/html": "<pre style=\"white-space:pre;overflow-x:auto;line-height:normal;font-family:Menlo,'DejaVu Sans Mono',consolas,'Courier New',monospace\"><span style=\"color: #008000; text-decoration-color: #008000\">⠈⠩</span> StableLM-Zephyr-3B AI is working ✅✅✅ ...\n</pre>\n"
                },
                "metadata": {}
              }
            ]
          }
        },
        "ce4e143b4b964f5081bcb6b5ccb6b9e3": {
          "model_module": "@jupyter-widgets/base",
          "model_name": "LayoutModel",
          "model_module_version": "1.2.0",
          "state": {
            "_model_module": "@jupyter-widgets/base",
            "_model_module_version": "1.2.0",
            "_model_name": "LayoutModel",
            "_view_count": null,
            "_view_module": "@jupyter-widgets/base",
            "_view_module_version": "1.2.0",
            "_view_name": "LayoutView",
            "align_content": null,
            "align_items": null,
            "align_self": null,
            "border": null,
            "bottom": null,
            "display": null,
            "flex": null,
            "flex_flow": null,
            "grid_area": null,
            "grid_auto_columns": null,
            "grid_auto_flow": null,
            "grid_auto_rows": null,
            "grid_column": null,
            "grid_gap": null,
            "grid_row": null,
            "grid_template_areas": null,
            "grid_template_columns": null,
            "grid_template_rows": null,
            "height": null,
            "justify_content": null,
            "justify_items": null,
            "left": null,
            "margin": null,
            "max_height": null,
            "max_width": null,
            "min_height": null,
            "min_width": null,
            "object_fit": null,
            "object_position": null,
            "order": null,
            "overflow": null,
            "overflow_x": null,
            "overflow_y": null,
            "padding": null,
            "right": null,
            "top": null,
            "visibility": null,
            "width": null
          }
        },
        "4297691e0c5042a390fb124f326fc293": {
          "model_module": "@jupyter-widgets/output",
          "model_name": "OutputModel",
          "model_module_version": "1.0.0",
          "state": {
            "_dom_classes": [],
            "_model_module": "@jupyter-widgets/output",
            "_model_module_version": "1.0.0",
            "_model_name": "OutputModel",
            "_view_count": null,
            "_view_module": "@jupyter-widgets/output",
            "_view_module_version": "1.0.0",
            "_view_name": "OutputView",
            "layout": "IPY_MODEL_10b929117af645f7b978c281d4a6a9ab",
            "msg_id": "",
            "outputs": [
              {
                "output_type": "display_data",
                "data": {
                  "text/plain": "\u001b[32m⠄⠀\u001b[0m StableLM-Zephyr-3B AI is working ✅✅✅ ...\n",
                  "text/html": "<pre style=\"white-space:pre;overflow-x:auto;line-height:normal;font-family:Menlo,'DejaVu Sans Mono',consolas,'Courier New',monospace\"><span style=\"color: #008000; text-decoration-color: #008000\">⠄⠀</span> StableLM-Zephyr-3B AI is working ✅✅✅ ...\n</pre>\n"
                },
                "metadata": {}
              }
            ]
          }
        },
        "10b929117af645f7b978c281d4a6a9ab": {
          "model_module": "@jupyter-widgets/base",
          "model_name": "LayoutModel",
          "model_module_version": "1.2.0",
          "state": {
            "_model_module": "@jupyter-widgets/base",
            "_model_module_version": "1.2.0",
            "_model_name": "LayoutModel",
            "_view_count": null,
            "_view_module": "@jupyter-widgets/base",
            "_view_module_version": "1.2.0",
            "_view_name": "LayoutView",
            "align_content": null,
            "align_items": null,
            "align_self": null,
            "border": null,
            "bottom": null,
            "display": null,
            "flex": null,
            "flex_flow": null,
            "grid_area": null,
            "grid_auto_columns": null,
            "grid_auto_flow": null,
            "grid_auto_rows": null,
            "grid_column": null,
            "grid_gap": null,
            "grid_row": null,
            "grid_template_areas": null,
            "grid_template_columns": null,
            "grid_template_rows": null,
            "height": null,
            "justify_content": null,
            "justify_items": null,
            "left": null,
            "margin": null,
            "max_height": null,
            "max_width": null,
            "min_height": null,
            "min_width": null,
            "object_fit": null,
            "object_position": null,
            "order": null,
            "overflow": null,
            "overflow_x": null,
            "overflow_y": null,
            "padding": null,
            "right": null,
            "top": null,
            "visibility": null,
            "width": null
          }
        },
        "3572fb1c40ab4b66aab0caa7bed1e33e": {
          "model_module": "@jupyter-widgets/output",
          "model_name": "OutputModel",
          "model_module_version": "1.0.0",
          "state": {
            "_dom_classes": [],
            "_model_module": "@jupyter-widgets/output",
            "_model_module_version": "1.0.0",
            "_model_name": "OutputModel",
            "_view_count": null,
            "_view_module": "@jupyter-widgets/output",
            "_view_module_version": "1.0.0",
            "_view_name": "OutputView",
            "layout": "IPY_MODEL_8bdb8e3bcf014cd399382f63fab8ddeb",
            "msg_id": "",
            "outputs": [
              {
                "output_type": "display_data",
                "data": {
                  "text/plain": "\u001b[32m⠉⠩\u001b[0m StableLM-Zephyr-3B AI is working ✅✅✅ ...\n",
                  "text/html": "<pre style=\"white-space:pre;overflow-x:auto;line-height:normal;font-family:Menlo,'DejaVu Sans Mono',consolas,'Courier New',monospace\"><span style=\"color: #008000; text-decoration-color: #008000\">⠉⠩</span> StableLM-Zephyr-3B AI is working ✅✅✅ ...\n</pre>\n"
                },
                "metadata": {}
              }
            ]
          }
        },
        "8bdb8e3bcf014cd399382f63fab8ddeb": {
          "model_module": "@jupyter-widgets/base",
          "model_name": "LayoutModel",
          "model_module_version": "1.2.0",
          "state": {
            "_model_module": "@jupyter-widgets/base",
            "_model_module_version": "1.2.0",
            "_model_name": "LayoutModel",
            "_view_count": null,
            "_view_module": "@jupyter-widgets/base",
            "_view_module_version": "1.2.0",
            "_view_name": "LayoutView",
            "align_content": null,
            "align_items": null,
            "align_self": null,
            "border": null,
            "bottom": null,
            "display": null,
            "flex": null,
            "flex_flow": null,
            "grid_area": null,
            "grid_auto_columns": null,
            "grid_auto_flow": null,
            "grid_auto_rows": null,
            "grid_column": null,
            "grid_gap": null,
            "grid_row": null,
            "grid_template_areas": null,
            "grid_template_columns": null,
            "grid_template_rows": null,
            "height": null,
            "justify_content": null,
            "justify_items": null,
            "left": null,
            "margin": null,
            "max_height": null,
            "max_width": null,
            "min_height": null,
            "min_width": null,
            "object_fit": null,
            "object_position": null,
            "order": null,
            "overflow": null,
            "overflow_x": null,
            "overflow_y": null,
            "padding": null,
            "right": null,
            "top": null,
            "visibility": null,
            "width": null
          }
        },
        "53d0f0ff70304516a613d2b75e639915": {
          "model_module": "@jupyter-widgets/output",
          "model_name": "OutputModel",
          "model_module_version": "1.0.0",
          "state": {
            "_dom_classes": [],
            "_model_module": "@jupyter-widgets/output",
            "_model_module_version": "1.0.0",
            "_model_name": "OutputModel",
            "_view_count": null,
            "_view_module": "@jupyter-widgets/output",
            "_view_module_version": "1.0.0",
            "_view_name": "OutputView",
            "layout": "IPY_MODEL_5751f5cc9ff54afa8df67402f7235131",
            "msg_id": "",
            "outputs": [
              {
                "output_type": "display_data",
                "data": {
                  "text/plain": "\u001b[32m⠉⠙\u001b[0m StableLM-Zephyr-3B AI is working ✅✅✅ ...\n",
                  "text/html": "<pre style=\"white-space:pre;overflow-x:auto;line-height:normal;font-family:Menlo,'DejaVu Sans Mono',consolas,'Courier New',monospace\"><span style=\"color: #008000; text-decoration-color: #008000\">⠉⠙</span> StableLM-Zephyr-3B AI is working ✅✅✅ ...\n</pre>\n"
                },
                "metadata": {}
              }
            ]
          }
        },
        "5751f5cc9ff54afa8df67402f7235131": {
          "model_module": "@jupyter-widgets/base",
          "model_name": "LayoutModel",
          "model_module_version": "1.2.0",
          "state": {
            "_model_module": "@jupyter-widgets/base",
            "_model_module_version": "1.2.0",
            "_model_name": "LayoutModel",
            "_view_count": null,
            "_view_module": "@jupyter-widgets/base",
            "_view_module_version": "1.2.0",
            "_view_name": "LayoutView",
            "align_content": null,
            "align_items": null,
            "align_self": null,
            "border": null,
            "bottom": null,
            "display": null,
            "flex": null,
            "flex_flow": null,
            "grid_area": null,
            "grid_auto_columns": null,
            "grid_auto_flow": null,
            "grid_auto_rows": null,
            "grid_column": null,
            "grid_gap": null,
            "grid_row": null,
            "grid_template_areas": null,
            "grid_template_columns": null,
            "grid_template_rows": null,
            "height": null,
            "justify_content": null,
            "justify_items": null,
            "left": null,
            "margin": null,
            "max_height": null,
            "max_width": null,
            "min_height": null,
            "min_width": null,
            "object_fit": null,
            "object_position": null,
            "order": null,
            "overflow": null,
            "overflow_x": null,
            "overflow_y": null,
            "padding": null,
            "right": null,
            "top": null,
            "visibility": null,
            "width": null
          }
        },
        "4f9d002e59364db592502538d392da7e": {
          "model_module": "@jupyter-widgets/output",
          "model_name": "OutputModel",
          "model_module_version": "1.0.0",
          "state": {
            "_dom_classes": [],
            "_model_module": "@jupyter-widgets/output",
            "_model_module_version": "1.0.0",
            "_model_name": "OutputModel",
            "_view_count": null,
            "_view_module": "@jupyter-widgets/output",
            "_view_module_version": "1.0.0",
            "_view_name": "OutputView",
            "layout": "IPY_MODEL_f83de866aea54eb2a93caccbebc20faa",
            "msg_id": "",
            "outputs": [
              {
                "output_type": "display_data",
                "data": {
                  "text/plain": "\u001b[32m⠀⢐\u001b[0m StableLM-Zephyr-3B AI is working ✅✅✅ ...\n",
                  "text/html": "<pre style=\"white-space:pre;overflow-x:auto;line-height:normal;font-family:Menlo,'DejaVu Sans Mono',consolas,'Courier New',monospace\"><span style=\"color: #008000; text-decoration-color: #008000\">⠀⢐</span> StableLM-Zephyr-3B AI is working ✅✅✅ ...\n</pre>\n"
                },
                "metadata": {}
              }
            ]
          }
        },
        "f83de866aea54eb2a93caccbebc20faa": {
          "model_module": "@jupyter-widgets/base",
          "model_name": "LayoutModel",
          "model_module_version": "1.2.0",
          "state": {
            "_model_module": "@jupyter-widgets/base",
            "_model_module_version": "1.2.0",
            "_model_name": "LayoutModel",
            "_view_count": null,
            "_view_module": "@jupyter-widgets/base",
            "_view_module_version": "1.2.0",
            "_view_name": "LayoutView",
            "align_content": null,
            "align_items": null,
            "align_self": null,
            "border": null,
            "bottom": null,
            "display": null,
            "flex": null,
            "flex_flow": null,
            "grid_area": null,
            "grid_auto_columns": null,
            "grid_auto_flow": null,
            "grid_auto_rows": null,
            "grid_column": null,
            "grid_gap": null,
            "grid_row": null,
            "grid_template_areas": null,
            "grid_template_columns": null,
            "grid_template_rows": null,
            "height": null,
            "justify_content": null,
            "justify_items": null,
            "left": null,
            "margin": null,
            "max_height": null,
            "max_width": null,
            "min_height": null,
            "min_width": null,
            "object_fit": null,
            "object_position": null,
            "order": null,
            "overflow": null,
            "overflow_x": null,
            "overflow_y": null,
            "padding": null,
            "right": null,
            "top": null,
            "visibility": null,
            "width": null
          }
        },
        "f9721d5b3d54434f9b15c5a00993aee9": {
          "model_module": "@jupyter-widgets/output",
          "model_name": "OutputModel",
          "model_module_version": "1.0.0",
          "state": {
            "_dom_classes": [],
            "_model_module": "@jupyter-widgets/output",
            "_model_module_version": "1.0.0",
            "_model_name": "OutputModel",
            "_view_count": null,
            "_view_module": "@jupyter-widgets/output",
            "_view_module_version": "1.0.0",
            "_view_name": "OutputView",
            "layout": "IPY_MODEL_97fb8420375048d59694687a081b0046",
            "msg_id": "",
            "outputs": [
              {
                "output_type": "display_data",
                "data": {
                  "text/plain": "\u001b[32m⠄⠀\u001b[0m StableLM-Zephyr-3B AI is working ✅✅✅ ...\n",
                  "text/html": "<pre style=\"white-space:pre;overflow-x:auto;line-height:normal;font-family:Menlo,'DejaVu Sans Mono',consolas,'Courier New',monospace\"><span style=\"color: #008000; text-decoration-color: #008000\">⠄⠀</span> StableLM-Zephyr-3B AI is working ✅✅✅ ...\n</pre>\n"
                },
                "metadata": {}
              }
            ]
          }
        },
        "97fb8420375048d59694687a081b0046": {
          "model_module": "@jupyter-widgets/base",
          "model_name": "LayoutModel",
          "model_module_version": "1.2.0",
          "state": {
            "_model_module": "@jupyter-widgets/base",
            "_model_module_version": "1.2.0",
            "_model_name": "LayoutModel",
            "_view_count": null,
            "_view_module": "@jupyter-widgets/base",
            "_view_module_version": "1.2.0",
            "_view_name": "LayoutView",
            "align_content": null,
            "align_items": null,
            "align_self": null,
            "border": null,
            "bottom": null,
            "display": null,
            "flex": null,
            "flex_flow": null,
            "grid_area": null,
            "grid_auto_columns": null,
            "grid_auto_flow": null,
            "grid_auto_rows": null,
            "grid_column": null,
            "grid_gap": null,
            "grid_row": null,
            "grid_template_areas": null,
            "grid_template_columns": null,
            "grid_template_rows": null,
            "height": null,
            "justify_content": null,
            "justify_items": null,
            "left": null,
            "margin": null,
            "max_height": null,
            "max_width": null,
            "min_height": null,
            "min_width": null,
            "object_fit": null,
            "object_position": null,
            "order": null,
            "overflow": null,
            "overflow_x": null,
            "overflow_y": null,
            "padding": null,
            "right": null,
            "top": null,
            "visibility": null,
            "width": null
          }
        },
        "a7ffafa1b7834a59a9dd04f57daea5b7": {
          "model_module": "@jupyter-widgets/output",
          "model_name": "OutputModel",
          "model_module_version": "1.0.0",
          "state": {
            "_dom_classes": [],
            "_model_module": "@jupyter-widgets/output",
            "_model_module_version": "1.0.0",
            "_model_name": "OutputModel",
            "_view_count": null,
            "_view_module": "@jupyter-widgets/output",
            "_view_module_version": "1.0.0",
            "_view_name": "OutputView",
            "layout": "IPY_MODEL_1a5cf2b96b794ec2bff9d7924723e2a6",
            "msg_id": "",
            "outputs": [
              {
                "output_type": "display_data",
                "data": {
                  "text/plain": "\u001b[32m⠍⠁\u001b[0m StableLM-Zephyr-3B AI is working ✅✅✅ ...\n",
                  "text/html": "<pre style=\"white-space:pre;overflow-x:auto;line-height:normal;font-family:Menlo,'DejaVu Sans Mono',consolas,'Courier New',monospace\"><span style=\"color: #008000; text-decoration-color: #008000\">⠍⠁</span> StableLM-Zephyr-3B AI is working ✅✅✅ ...\n</pre>\n"
                },
                "metadata": {}
              }
            ]
          }
        },
        "1a5cf2b96b794ec2bff9d7924723e2a6": {
          "model_module": "@jupyter-widgets/base",
          "model_name": "LayoutModel",
          "model_module_version": "1.2.0",
          "state": {
            "_model_module": "@jupyter-widgets/base",
            "_model_module_version": "1.2.0",
            "_model_name": "LayoutModel",
            "_view_count": null,
            "_view_module": "@jupyter-widgets/base",
            "_view_module_version": "1.2.0",
            "_view_name": "LayoutView",
            "align_content": null,
            "align_items": null,
            "align_self": null,
            "border": null,
            "bottom": null,
            "display": null,
            "flex": null,
            "flex_flow": null,
            "grid_area": null,
            "grid_auto_columns": null,
            "grid_auto_flow": null,
            "grid_auto_rows": null,
            "grid_column": null,
            "grid_gap": null,
            "grid_row": null,
            "grid_template_areas": null,
            "grid_template_columns": null,
            "grid_template_rows": null,
            "height": null,
            "justify_content": null,
            "justify_items": null,
            "left": null,
            "margin": null,
            "max_height": null,
            "max_width": null,
            "min_height": null,
            "min_width": null,
            "object_fit": null,
            "object_position": null,
            "order": null,
            "overflow": null,
            "overflow_x": null,
            "overflow_y": null,
            "padding": null,
            "right": null,
            "top": null,
            "visibility": null,
            "width": null
          }
        },
        "16a083211df2479bbce81eaf7fabe351": {
          "model_module": "@jupyter-widgets/output",
          "model_name": "OutputModel",
          "model_module_version": "1.0.0",
          "state": {
            "_dom_classes": [],
            "_model_module": "@jupyter-widgets/output",
            "_model_module_version": "1.0.0",
            "_model_name": "OutputModel",
            "_view_count": null,
            "_view_module": "@jupyter-widgets/output",
            "_view_module_version": "1.0.0",
            "_view_name": "OutputView",
            "layout": "IPY_MODEL_4fdff61d26394033b8c7f6a6f93c7e2e",
            "msg_id": "",
            "outputs": [
              {
                "output_type": "display_data",
                "data": {
                  "text/plain": "\u001b[32m⡂⢘\u001b[0m StableLM-Zephyr-3B AI is working ✅✅✅ ...\n",
                  "text/html": "<pre style=\"white-space:pre;overflow-x:auto;line-height:normal;font-family:Menlo,'DejaVu Sans Mono',consolas,'Courier New',monospace\"><span style=\"color: #008000; text-decoration-color: #008000\">⡂⢘</span> StableLM-Zephyr-3B AI is working ✅✅✅ ...\n</pre>\n"
                },
                "metadata": {}
              }
            ]
          }
        },
        "4fdff61d26394033b8c7f6a6f93c7e2e": {
          "model_module": "@jupyter-widgets/base",
          "model_name": "LayoutModel",
          "model_module_version": "1.2.0",
          "state": {
            "_model_module": "@jupyter-widgets/base",
            "_model_module_version": "1.2.0",
            "_model_name": "LayoutModel",
            "_view_count": null,
            "_view_module": "@jupyter-widgets/base",
            "_view_module_version": "1.2.0",
            "_view_name": "LayoutView",
            "align_content": null,
            "align_items": null,
            "align_self": null,
            "border": null,
            "bottom": null,
            "display": null,
            "flex": null,
            "flex_flow": null,
            "grid_area": null,
            "grid_auto_columns": null,
            "grid_auto_flow": null,
            "grid_auto_rows": null,
            "grid_column": null,
            "grid_gap": null,
            "grid_row": null,
            "grid_template_areas": null,
            "grid_template_columns": null,
            "grid_template_rows": null,
            "height": null,
            "justify_content": null,
            "justify_items": null,
            "left": null,
            "margin": null,
            "max_height": null,
            "max_width": null,
            "min_height": null,
            "min_width": null,
            "object_fit": null,
            "object_position": null,
            "order": null,
            "overflow": null,
            "overflow_x": null,
            "overflow_y": null,
            "padding": null,
            "right": null,
            "top": null,
            "visibility": null,
            "width": null
          }
        },
        "be34c52be00f4b1ea71d0b97559f65f2": {
          "model_module": "@jupyter-widgets/output",
          "model_name": "OutputModel",
          "model_module_version": "1.0.0",
          "state": {
            "_dom_classes": [],
            "_model_module": "@jupyter-widgets/output",
            "_model_module_version": "1.0.0",
            "_model_name": "OutputModel",
            "_view_count": null,
            "_view_module": "@jupyter-widgets/output",
            "_view_module_version": "1.0.0",
            "_view_name": "OutputView",
            "layout": "IPY_MODEL_0d1be6ee8a4646e39d00059e8991a408",
            "msg_id": "",
            "outputs": [
              {
                "output_type": "display_data",
                "data": {
                  "text/plain": "\u001b[32m⢃⠨\u001b[0m StableLM-Zephyr-3B AI is working ✅✅✅ ...\n",
                  "text/html": "<pre style=\"white-space:pre;overflow-x:auto;line-height:normal;font-family:Menlo,'DejaVu Sans Mono',consolas,'Courier New',monospace\"><span style=\"color: #008000; text-decoration-color: #008000\">⢃⠨</span> StableLM-Zephyr-3B AI is working ✅✅✅ ...\n</pre>\n"
                },
                "metadata": {}
              }
            ]
          }
        },
        "0d1be6ee8a4646e39d00059e8991a408": {
          "model_module": "@jupyter-widgets/base",
          "model_name": "LayoutModel",
          "model_module_version": "1.2.0",
          "state": {
            "_model_module": "@jupyter-widgets/base",
            "_model_module_version": "1.2.0",
            "_model_name": "LayoutModel",
            "_view_count": null,
            "_view_module": "@jupyter-widgets/base",
            "_view_module_version": "1.2.0",
            "_view_name": "LayoutView",
            "align_content": null,
            "align_items": null,
            "align_self": null,
            "border": null,
            "bottom": null,
            "display": null,
            "flex": null,
            "flex_flow": null,
            "grid_area": null,
            "grid_auto_columns": null,
            "grid_auto_flow": null,
            "grid_auto_rows": null,
            "grid_column": null,
            "grid_gap": null,
            "grid_row": null,
            "grid_template_areas": null,
            "grid_template_columns": null,
            "grid_template_rows": null,
            "height": null,
            "justify_content": null,
            "justify_items": null,
            "left": null,
            "margin": null,
            "max_height": null,
            "max_width": null,
            "min_height": null,
            "min_width": null,
            "object_fit": null,
            "object_position": null,
            "order": null,
            "overflow": null,
            "overflow_x": null,
            "overflow_y": null,
            "padding": null,
            "right": null,
            "top": null,
            "visibility": null,
            "width": null
          }
        },
        "3dedb824acfa4fc38285a6c5575b3d3e": {
          "model_module": "@jupyter-widgets/output",
          "model_name": "OutputModel",
          "model_module_version": "1.0.0",
          "state": {
            "_dom_classes": [],
            "_model_module": "@jupyter-widgets/output",
            "_model_module_version": "1.0.0",
            "_model_name": "OutputModel",
            "_view_count": null,
            "_view_module": "@jupyter-widgets/output",
            "_view_module_version": "1.0.0",
            "_view_name": "OutputView",
            "layout": "IPY_MODEL_8e0567ea7fa1443fb57588c0eceffbe0",
            "msg_id": "",
            "outputs": [
              {
                "output_type": "display_data",
                "data": {
                  "text/plain": "\u001b[32m⢃⠀\u001b[0m StableLM-Zephyr-3B AI is working ✅✅✅ ...\n",
                  "text/html": "<pre style=\"white-space:pre;overflow-x:auto;line-height:normal;font-family:Menlo,'DejaVu Sans Mono',consolas,'Courier New',monospace\"><span style=\"color: #008000; text-decoration-color: #008000\">⢃⠀</span> StableLM-Zephyr-3B AI is working ✅✅✅ ...\n</pre>\n"
                },
                "metadata": {}
              }
            ]
          }
        },
        "8e0567ea7fa1443fb57588c0eceffbe0": {
          "model_module": "@jupyter-widgets/base",
          "model_name": "LayoutModel",
          "model_module_version": "1.2.0",
          "state": {
            "_model_module": "@jupyter-widgets/base",
            "_model_module_version": "1.2.0",
            "_model_name": "LayoutModel",
            "_view_count": null,
            "_view_module": "@jupyter-widgets/base",
            "_view_module_version": "1.2.0",
            "_view_name": "LayoutView",
            "align_content": null,
            "align_items": null,
            "align_self": null,
            "border": null,
            "bottom": null,
            "display": null,
            "flex": null,
            "flex_flow": null,
            "grid_area": null,
            "grid_auto_columns": null,
            "grid_auto_flow": null,
            "grid_auto_rows": null,
            "grid_column": null,
            "grid_gap": null,
            "grid_row": null,
            "grid_template_areas": null,
            "grid_template_columns": null,
            "grid_template_rows": null,
            "height": null,
            "justify_content": null,
            "justify_items": null,
            "left": null,
            "margin": null,
            "max_height": null,
            "max_width": null,
            "min_height": null,
            "min_width": null,
            "object_fit": null,
            "object_position": null,
            "order": null,
            "overflow": null,
            "overflow_x": null,
            "overflow_y": null,
            "padding": null,
            "right": null,
            "top": null,
            "visibility": null,
            "width": null
          }
        },
        "091b894e2a8e459ca51252e5b57e0606": {
          "model_module": "@jupyter-widgets/output",
          "model_name": "OutputModel",
          "model_module_version": "1.0.0",
          "state": {
            "_dom_classes": [],
            "_model_module": "@jupyter-widgets/output",
            "_model_module_version": "1.0.0",
            "_model_name": "OutputModel",
            "_view_count": null,
            "_view_module": "@jupyter-widgets/output",
            "_view_module_version": "1.0.0",
            "_view_name": "OutputView",
            "layout": "IPY_MODEL_00735f4e35fd4bba93c3f2213d4b24a3",
            "msg_id": "",
            "outputs": [
              {
                "output_type": "display_data",
                "data": {
                  "text/plain": "\u001b[32m⠉⠙\u001b[0m StableLM-Zephyr-3B AI is working ✅✅✅ ...\n",
                  "text/html": "<pre style=\"white-space:pre;overflow-x:auto;line-height:normal;font-family:Menlo,'DejaVu Sans Mono',consolas,'Courier New',monospace\"><span style=\"color: #008000; text-decoration-color: #008000\">⠉⠙</span> StableLM-Zephyr-3B AI is working ✅✅✅ ...\n</pre>\n"
                },
                "metadata": {}
              }
            ]
          }
        },
        "00735f4e35fd4bba93c3f2213d4b24a3": {
          "model_module": "@jupyter-widgets/base",
          "model_name": "LayoutModel",
          "model_module_version": "1.2.0",
          "state": {
            "_model_module": "@jupyter-widgets/base",
            "_model_module_version": "1.2.0",
            "_model_name": "LayoutModel",
            "_view_count": null,
            "_view_module": "@jupyter-widgets/base",
            "_view_module_version": "1.2.0",
            "_view_name": "LayoutView",
            "align_content": null,
            "align_items": null,
            "align_self": null,
            "border": null,
            "bottom": null,
            "display": null,
            "flex": null,
            "flex_flow": null,
            "grid_area": null,
            "grid_auto_columns": null,
            "grid_auto_flow": null,
            "grid_auto_rows": null,
            "grid_column": null,
            "grid_gap": null,
            "grid_row": null,
            "grid_template_areas": null,
            "grid_template_columns": null,
            "grid_template_rows": null,
            "height": null,
            "justify_content": null,
            "justify_items": null,
            "left": null,
            "margin": null,
            "max_height": null,
            "max_width": null,
            "min_height": null,
            "min_width": null,
            "object_fit": null,
            "object_position": null,
            "order": null,
            "overflow": null,
            "overflow_x": null,
            "overflow_y": null,
            "padding": null,
            "right": null,
            "top": null,
            "visibility": null,
            "width": null
          }
        },
        "efa1cc38192946e2a38aafb3e4d6e125": {
          "model_module": "@jupyter-widgets/output",
          "model_name": "OutputModel",
          "model_module_version": "1.0.0",
          "state": {
            "_dom_classes": [],
            "_model_module": "@jupyter-widgets/output",
            "_model_module_version": "1.0.0",
            "_model_name": "OutputModel",
            "_view_count": null,
            "_view_module": "@jupyter-widgets/output",
            "_view_module_version": "1.0.0",
            "_view_name": "OutputView",
            "layout": "IPY_MODEL_f55c0db950f249ffb700eee51c73fc81",
            "msg_id": "",
            "outputs": [
              {
                "output_type": "display_data",
                "data": {
                  "text/plain": "\u001b[32m⢃⠨\u001b[0m StableLM-Zephyr-3B AI is working ✅✅✅ ...\n",
                  "text/html": "<pre style=\"white-space:pre;overflow-x:auto;line-height:normal;font-family:Menlo,'DejaVu Sans Mono',consolas,'Courier New',monospace\"><span style=\"color: #008000; text-decoration-color: #008000\">⢃⠨</span> StableLM-Zephyr-3B AI is working ✅✅✅ ...\n</pre>\n"
                },
                "metadata": {}
              }
            ]
          }
        },
        "f55c0db950f249ffb700eee51c73fc81": {
          "model_module": "@jupyter-widgets/base",
          "model_name": "LayoutModel",
          "model_module_version": "1.2.0",
          "state": {
            "_model_module": "@jupyter-widgets/base",
            "_model_module_version": "1.2.0",
            "_model_name": "LayoutModel",
            "_view_count": null,
            "_view_module": "@jupyter-widgets/base",
            "_view_module_version": "1.2.0",
            "_view_name": "LayoutView",
            "align_content": null,
            "align_items": null,
            "align_self": null,
            "border": null,
            "bottom": null,
            "display": null,
            "flex": null,
            "flex_flow": null,
            "grid_area": null,
            "grid_auto_columns": null,
            "grid_auto_flow": null,
            "grid_auto_rows": null,
            "grid_column": null,
            "grid_gap": null,
            "grid_row": null,
            "grid_template_areas": null,
            "grid_template_columns": null,
            "grid_template_rows": null,
            "height": null,
            "justify_content": null,
            "justify_items": null,
            "left": null,
            "margin": null,
            "max_height": null,
            "max_width": null,
            "min_height": null,
            "min_width": null,
            "object_fit": null,
            "object_position": null,
            "order": null,
            "overflow": null,
            "overflow_x": null,
            "overflow_y": null,
            "padding": null,
            "right": null,
            "top": null,
            "visibility": null,
            "width": null
          }
        },
        "9cc4a431d05f4ad395b32a5a627a07d1": {
          "model_module": "@jupyter-widgets/output",
          "model_name": "OutputModel",
          "model_module_version": "1.0.0",
          "state": {
            "_dom_classes": [],
            "_model_module": "@jupyter-widgets/output",
            "_model_module_version": "1.0.0",
            "_model_name": "OutputModel",
            "_view_count": null,
            "_view_module": "@jupyter-widgets/output",
            "_view_module_version": "1.0.0",
            "_view_name": "OutputView",
            "layout": "IPY_MODEL_d40279be5c324341b1afc5a52868b8fb",
            "msg_id": "",
            "outputs": [
              {
                "output_type": "display_data",
                "data": {
                  "text/plain": "\u001b[32m⠍⡐\u001b[0m StableLM-Zephyr-3B AI is working ✅✅✅ ...\n",
                  "text/html": "<pre style=\"white-space:pre;overflow-x:auto;line-height:normal;font-family:Menlo,'DejaVu Sans Mono',consolas,'Courier New',monospace\"><span style=\"color: #008000; text-decoration-color: #008000\">⠍⡐</span> StableLM-Zephyr-3B AI is working ✅✅✅ ...\n</pre>\n"
                },
                "metadata": {}
              }
            ]
          }
        },
        "d40279be5c324341b1afc5a52868b8fb": {
          "model_module": "@jupyter-widgets/base",
          "model_name": "LayoutModel",
          "model_module_version": "1.2.0",
          "state": {
            "_model_module": "@jupyter-widgets/base",
            "_model_module_version": "1.2.0",
            "_model_name": "LayoutModel",
            "_view_count": null,
            "_view_module": "@jupyter-widgets/base",
            "_view_module_version": "1.2.0",
            "_view_name": "LayoutView",
            "align_content": null,
            "align_items": null,
            "align_self": null,
            "border": null,
            "bottom": null,
            "display": null,
            "flex": null,
            "flex_flow": null,
            "grid_area": null,
            "grid_auto_columns": null,
            "grid_auto_flow": null,
            "grid_auto_rows": null,
            "grid_column": null,
            "grid_gap": null,
            "grid_row": null,
            "grid_template_areas": null,
            "grid_template_columns": null,
            "grid_template_rows": null,
            "height": null,
            "justify_content": null,
            "justify_items": null,
            "left": null,
            "margin": null,
            "max_height": null,
            "max_width": null,
            "min_height": null,
            "min_width": null,
            "object_fit": null,
            "object_position": null,
            "order": null,
            "overflow": null,
            "overflow_x": null,
            "overflow_y": null,
            "padding": null,
            "right": null,
            "top": null,
            "visibility": null,
            "width": null
          }
        },
        "a1eb01b423a347e9b1daf7c43f9708fa": {
          "model_module": "@jupyter-widgets/output",
          "model_name": "OutputModel",
          "model_module_version": "1.0.0",
          "state": {
            "_dom_classes": [],
            "_model_module": "@jupyter-widgets/output",
            "_model_module_version": "1.0.0",
            "_model_name": "OutputModel",
            "_view_count": null,
            "_view_module": "@jupyter-widgets/output",
            "_view_module_version": "1.0.0",
            "_view_name": "OutputView",
            "layout": "IPY_MODEL_7b53426183c149ac9754ac77a5721982",
            "msg_id": "",
            "outputs": [
              {
                "output_type": "display_data",
                "data": {
                  "text/plain": "\u001b[32m⡀⠀\u001b[0m StableLM-Zephyr-3B AI is working ✅✅✅ ...\n",
                  "text/html": "<pre style=\"white-space:pre;overflow-x:auto;line-height:normal;font-family:Menlo,'DejaVu Sans Mono',consolas,'Courier New',monospace\"><span style=\"color: #008000; text-decoration-color: #008000\">⡀⠀</span> StableLM-Zephyr-3B AI is working ✅✅✅ ...\n</pre>\n"
                },
                "metadata": {}
              }
            ]
          }
        },
        "7b53426183c149ac9754ac77a5721982": {
          "model_module": "@jupyter-widgets/base",
          "model_name": "LayoutModel",
          "model_module_version": "1.2.0",
          "state": {
            "_model_module": "@jupyter-widgets/base",
            "_model_module_version": "1.2.0",
            "_model_name": "LayoutModel",
            "_view_count": null,
            "_view_module": "@jupyter-widgets/base",
            "_view_module_version": "1.2.0",
            "_view_name": "LayoutView",
            "align_content": null,
            "align_items": null,
            "align_self": null,
            "border": null,
            "bottom": null,
            "display": null,
            "flex": null,
            "flex_flow": null,
            "grid_area": null,
            "grid_auto_columns": null,
            "grid_auto_flow": null,
            "grid_auto_rows": null,
            "grid_column": null,
            "grid_gap": null,
            "grid_row": null,
            "grid_template_areas": null,
            "grid_template_columns": null,
            "grid_template_rows": null,
            "height": null,
            "justify_content": null,
            "justify_items": null,
            "left": null,
            "margin": null,
            "max_height": null,
            "max_width": null,
            "min_height": null,
            "min_width": null,
            "object_fit": null,
            "object_position": null,
            "order": null,
            "overflow": null,
            "overflow_x": null,
            "overflow_y": null,
            "padding": null,
            "right": null,
            "top": null,
            "visibility": null,
            "width": null
          }
        },
        "e399bc49a21c4cb8bd601800f4c9ce21": {
          "model_module": "@jupyter-widgets/output",
          "model_name": "OutputModel",
          "model_module_version": "1.0.0",
          "state": {
            "_dom_classes": [],
            "_model_module": "@jupyter-widgets/output",
            "_model_module_version": "1.0.0",
            "_model_name": "OutputModel",
            "_view_count": null,
            "_view_module": "@jupyter-widgets/output",
            "_view_module_version": "1.0.0",
            "_view_name": "OutputView",
            "layout": "IPY_MODEL_7db4ed7ff95148058be7a50f32896d03",
            "msg_id": "",
            "outputs": [
              {
                "output_type": "display_data",
                "data": {
                  "text/plain": "\u001b[32m⠀⡀\u001b[0m Generating summary...\n",
                  "text/html": "<pre style=\"white-space:pre;overflow-x:auto;line-height:normal;font-family:Menlo,'DejaVu Sans Mono',consolas,'Courier New',monospace\"><span style=\"color: #008000; text-decoration-color: #008000\">⠀⡀</span> Generating summary...\n</pre>\n"
                },
                "metadata": {}
              }
            ]
          }
        },
        "7db4ed7ff95148058be7a50f32896d03": {
          "model_module": "@jupyter-widgets/base",
          "model_name": "LayoutModel",
          "model_module_version": "1.2.0",
          "state": {
            "_model_module": "@jupyter-widgets/base",
            "_model_module_version": "1.2.0",
            "_model_name": "LayoutModel",
            "_view_count": null,
            "_view_module": "@jupyter-widgets/base",
            "_view_module_version": "1.2.0",
            "_view_name": "LayoutView",
            "align_content": null,
            "align_items": null,
            "align_self": null,
            "border": null,
            "bottom": null,
            "display": null,
            "flex": null,
            "flex_flow": null,
            "grid_area": null,
            "grid_auto_columns": null,
            "grid_auto_flow": null,
            "grid_auto_rows": null,
            "grid_column": null,
            "grid_gap": null,
            "grid_row": null,
            "grid_template_areas": null,
            "grid_template_columns": null,
            "grid_template_rows": null,
            "height": null,
            "justify_content": null,
            "justify_items": null,
            "left": null,
            "margin": null,
            "max_height": null,
            "max_width": null,
            "min_height": null,
            "min_width": null,
            "object_fit": null,
            "object_position": null,
            "order": null,
            "overflow": null,
            "overflow_x": null,
            "overflow_y": null,
            "padding": null,
            "right": null,
            "top": null,
            "visibility": null,
            "width": null
          }
        },
        "6e33f4641c404080b0c7ba8c9a0cb938": {
          "model_module": "@jupyter-widgets/output",
          "model_name": "OutputModel",
          "model_module_version": "1.0.0",
          "state": {
            "_dom_classes": [],
            "_model_module": "@jupyter-widgets/output",
            "_model_module_version": "1.0.0",
            "_model_name": "OutputModel",
            "_view_count": null,
            "_view_module": "@jupyter-widgets/output",
            "_view_module_version": "1.0.0",
            "_view_name": "OutputView",
            "layout": "IPY_MODEL_12e5ae6f1c844176993707db71e8a568",
            "msg_id": "",
            "outputs": [
              {
                "output_type": "display_data",
                "data": {
                  "text/plain": "\u001b[32m⠍⠉\u001b[0m Generating summary...\n",
                  "text/html": "<pre style=\"white-space:pre;overflow-x:auto;line-height:normal;font-family:Menlo,'DejaVu Sans Mono',consolas,'Courier New',monospace\"><span style=\"color: #008000; text-decoration-color: #008000\">⠍⠉</span> Generating summary...\n</pre>\n"
                },
                "metadata": {}
              }
            ]
          }
        },
        "12e5ae6f1c844176993707db71e8a568": {
          "model_module": "@jupyter-widgets/base",
          "model_name": "LayoutModel",
          "model_module_version": "1.2.0",
          "state": {
            "_model_module": "@jupyter-widgets/base",
            "_model_module_version": "1.2.0",
            "_model_name": "LayoutModel",
            "_view_count": null,
            "_view_module": "@jupyter-widgets/base",
            "_view_module_version": "1.2.0",
            "_view_name": "LayoutView",
            "align_content": null,
            "align_items": null,
            "align_self": null,
            "border": null,
            "bottom": null,
            "display": null,
            "flex": null,
            "flex_flow": null,
            "grid_area": null,
            "grid_auto_columns": null,
            "grid_auto_flow": null,
            "grid_auto_rows": null,
            "grid_column": null,
            "grid_gap": null,
            "grid_row": null,
            "grid_template_areas": null,
            "grid_template_columns": null,
            "grid_template_rows": null,
            "height": null,
            "justify_content": null,
            "justify_items": null,
            "left": null,
            "margin": null,
            "max_height": null,
            "max_width": null,
            "min_height": null,
            "min_width": null,
            "object_fit": null,
            "object_position": null,
            "order": null,
            "overflow": null,
            "overflow_x": null,
            "overflow_y": null,
            "padding": null,
            "right": null,
            "top": null,
            "visibility": null,
            "width": null
          }
        },
        "fdba0dde44cb4dd2a322b9afbe21a3a8": {
          "model_module": "@jupyter-widgets/output",
          "model_name": "OutputModel",
          "model_module_version": "1.0.0",
          "state": {
            "_dom_classes": [],
            "_model_module": "@jupyter-widgets/output",
            "_model_module_version": "1.0.0",
            "_model_name": "OutputModel",
            "_view_count": null,
            "_view_module": "@jupyter-widgets/output",
            "_view_module_version": "1.0.0",
            "_view_name": "OutputView",
            "layout": "IPY_MODEL_fed4a3a4f7fa45a6b53a37be04fbf96c",
            "msg_id": "",
            "outputs": [
              {
                "output_type": "display_data",
                "data": {
                  "text/plain": "\u001b[32m⠅⠀\u001b[0m Generating Questions...\n",
                  "text/html": "<pre style=\"white-space:pre;overflow-x:auto;line-height:normal;font-family:Menlo,'DejaVu Sans Mono',consolas,'Courier New',monospace\"><span style=\"color: #008000; text-decoration-color: #008000\">⠅⠀</span> Generating Questions...\n</pre>\n"
                },
                "metadata": {}
              }
            ]
          }
        },
        "fed4a3a4f7fa45a6b53a37be04fbf96c": {
          "model_module": "@jupyter-widgets/base",
          "model_name": "LayoutModel",
          "model_module_version": "1.2.0",
          "state": {
            "_model_module": "@jupyter-widgets/base",
            "_model_module_version": "1.2.0",
            "_model_name": "LayoutModel",
            "_view_count": null,
            "_view_module": "@jupyter-widgets/base",
            "_view_module_version": "1.2.0",
            "_view_name": "LayoutView",
            "align_content": null,
            "align_items": null,
            "align_self": null,
            "border": null,
            "bottom": null,
            "display": null,
            "flex": null,
            "flex_flow": null,
            "grid_area": null,
            "grid_auto_columns": null,
            "grid_auto_flow": null,
            "grid_auto_rows": null,
            "grid_column": null,
            "grid_gap": null,
            "grid_row": null,
            "grid_template_areas": null,
            "grid_template_columns": null,
            "grid_template_rows": null,
            "height": null,
            "justify_content": null,
            "justify_items": null,
            "left": null,
            "margin": null,
            "max_height": null,
            "max_width": null,
            "min_height": null,
            "min_width": null,
            "object_fit": null,
            "object_position": null,
            "order": null,
            "overflow": null,
            "overflow_x": null,
            "overflow_y": null,
            "padding": null,
            "right": null,
            "top": null,
            "visibility": null,
            "width": null
          }
        },
        "c545f6f5f5604aa899f318c3a264af09": {
          "model_module": "@jupyter-widgets/output",
          "model_name": "OutputModel",
          "model_module_version": "1.0.0",
          "state": {
            "_dom_classes": [],
            "_model_module": "@jupyter-widgets/output",
            "_model_module_version": "1.0.0",
            "_model_name": "OutputModel",
            "_view_count": null,
            "_view_module": "@jupyter-widgets/output",
            "_view_module_version": "1.0.0",
            "_view_name": "OutputView",
            "layout": "IPY_MODEL_0f8d41ffc60a49caa55ab876a0418cad",
            "msg_id": "",
            "outputs": [
              {
                "output_type": "display_data",
                "data": {
                  "text/plain": "\u001b[32m⢋⠁\u001b[0m StableLM-Zephyr-3B AI is working ✅✅✅ ...\n",
                  "text/html": "<pre style=\"white-space:pre;overflow-x:auto;line-height:normal;font-family:Menlo,'DejaVu Sans Mono',consolas,'Courier New',monospace\"><span style=\"color: #008000; text-decoration-color: #008000\">⢋⠁</span> StableLM-Zephyr-3B AI is working ✅✅✅ ...\n</pre>\n"
                },
                "metadata": {}
              }
            ]
          }
        },
        "0f8d41ffc60a49caa55ab876a0418cad": {
          "model_module": "@jupyter-widgets/base",
          "model_name": "LayoutModel",
          "model_module_version": "1.2.0",
          "state": {
            "_model_module": "@jupyter-widgets/base",
            "_model_module_version": "1.2.0",
            "_model_name": "LayoutModel",
            "_view_count": null,
            "_view_module": "@jupyter-widgets/base",
            "_view_module_version": "1.2.0",
            "_view_name": "LayoutView",
            "align_content": null,
            "align_items": null,
            "align_self": null,
            "border": null,
            "bottom": null,
            "display": null,
            "flex": null,
            "flex_flow": null,
            "grid_area": null,
            "grid_auto_columns": null,
            "grid_auto_flow": null,
            "grid_auto_rows": null,
            "grid_column": null,
            "grid_gap": null,
            "grid_row": null,
            "grid_template_areas": null,
            "grid_template_columns": null,
            "grid_template_rows": null,
            "height": null,
            "justify_content": null,
            "justify_items": null,
            "left": null,
            "margin": null,
            "max_height": null,
            "max_width": null,
            "min_height": null,
            "min_width": null,
            "object_fit": null,
            "object_position": null,
            "order": null,
            "overflow": null,
            "overflow_x": null,
            "overflow_y": null,
            "padding": null,
            "right": null,
            "top": null,
            "visibility": null,
            "width": null
          }
        },
        "1899f434479a4855b241bd6db573d59d": {
          "model_module": "@jupyter-widgets/output",
          "model_name": "OutputModel",
          "model_module_version": "1.0.0",
          "state": {
            "_dom_classes": [],
            "_model_module": "@jupyter-widgets/output",
            "_model_module_version": "1.0.0",
            "_model_name": "OutputModel",
            "_view_count": null,
            "_view_module": "@jupyter-widgets/output",
            "_view_module_version": "1.0.0",
            "_view_name": "OutputView",
            "layout": "IPY_MODEL_23e4f5961d674cf0ab4df6cd2b95af80",
            "msg_id": "",
            "outputs": [
              {
                "output_type": "display_data",
                "data": {
                  "text/plain": "\u001b[32m⠈⡙\u001b[0m StableLM-Zephyr-3B AI is working ✅✅✅ ...\n",
                  "text/html": "<pre style=\"white-space:pre;overflow-x:auto;line-height:normal;font-family:Menlo,'DejaVu Sans Mono',consolas,'Courier New',monospace\"><span style=\"color: #008000; text-decoration-color: #008000\">⠈⡙</span> StableLM-Zephyr-3B AI is working ✅✅✅ ...\n</pre>\n"
                },
                "metadata": {}
              }
            ]
          }
        },
        "23e4f5961d674cf0ab4df6cd2b95af80": {
          "model_module": "@jupyter-widgets/base",
          "model_name": "LayoutModel",
          "model_module_version": "1.2.0",
          "state": {
            "_model_module": "@jupyter-widgets/base",
            "_model_module_version": "1.2.0",
            "_model_name": "LayoutModel",
            "_view_count": null,
            "_view_module": "@jupyter-widgets/base",
            "_view_module_version": "1.2.0",
            "_view_name": "LayoutView",
            "align_content": null,
            "align_items": null,
            "align_self": null,
            "border": null,
            "bottom": null,
            "display": null,
            "flex": null,
            "flex_flow": null,
            "grid_area": null,
            "grid_auto_columns": null,
            "grid_auto_flow": null,
            "grid_auto_rows": null,
            "grid_column": null,
            "grid_gap": null,
            "grid_row": null,
            "grid_template_areas": null,
            "grid_template_columns": null,
            "grid_template_rows": null,
            "height": null,
            "justify_content": null,
            "justify_items": null,
            "left": null,
            "margin": null,
            "max_height": null,
            "max_width": null,
            "min_height": null,
            "min_width": null,
            "object_fit": null,
            "object_position": null,
            "order": null,
            "overflow": null,
            "overflow_x": null,
            "overflow_y": null,
            "padding": null,
            "right": null,
            "top": null,
            "visibility": null,
            "width": null
          }
        },
        "3a1d45ca8bfc4a388c505313ee5a88ee": {
          "model_module": "@jupyter-widgets/output",
          "model_name": "OutputModel",
          "model_module_version": "1.0.0",
          "state": {
            "_dom_classes": [],
            "_model_module": "@jupyter-widgets/output",
            "_model_module_version": "1.0.0",
            "_model_name": "OutputModel",
            "_view_count": null,
            "_view_module": "@jupyter-widgets/output",
            "_view_module_version": "1.0.0",
            "_view_name": "OutputView",
            "layout": "IPY_MODEL_012f96b2dc1e42509dc1ad33f39c4b8e",
            "msg_id": "",
            "outputs": [
              {
                "output_type": "display_data",
                "data": {
                  "text/plain": "\u001b[32m⢋⠠\u001b[0m StableLM-Zephyr-3B AI is working ✅✅✅ ...\n",
                  "text/html": "<pre style=\"white-space:pre;overflow-x:auto;line-height:normal;font-family:Menlo,'DejaVu Sans Mono',consolas,'Courier New',monospace\"><span style=\"color: #008000; text-decoration-color: #008000\">⢋⠠</span> StableLM-Zephyr-3B AI is working ✅✅✅ ...\n</pre>\n"
                },
                "metadata": {}
              }
            ]
          }
        },
        "012f96b2dc1e42509dc1ad33f39c4b8e": {
          "model_module": "@jupyter-widgets/base",
          "model_name": "LayoutModel",
          "model_module_version": "1.2.0",
          "state": {
            "_model_module": "@jupyter-widgets/base",
            "_model_module_version": "1.2.0",
            "_model_name": "LayoutModel",
            "_view_count": null,
            "_view_module": "@jupyter-widgets/base",
            "_view_module_version": "1.2.0",
            "_view_name": "LayoutView",
            "align_content": null,
            "align_items": null,
            "align_self": null,
            "border": null,
            "bottom": null,
            "display": null,
            "flex": null,
            "flex_flow": null,
            "grid_area": null,
            "grid_auto_columns": null,
            "grid_auto_flow": null,
            "grid_auto_rows": null,
            "grid_column": null,
            "grid_gap": null,
            "grid_row": null,
            "grid_template_areas": null,
            "grid_template_columns": null,
            "grid_template_rows": null,
            "height": null,
            "justify_content": null,
            "justify_items": null,
            "left": null,
            "margin": null,
            "max_height": null,
            "max_width": null,
            "min_height": null,
            "min_width": null,
            "object_fit": null,
            "object_position": null,
            "order": null,
            "overflow": null,
            "overflow_x": null,
            "overflow_y": null,
            "padding": null,
            "right": null,
            "top": null,
            "visibility": null,
            "width": null
          }
        },
        "eec5b61c1dd6444da82681a0d10bc0ac": {
          "model_module": "@jupyter-widgets/output",
          "model_name": "OutputModel",
          "model_module_version": "1.0.0",
          "state": {
            "_dom_classes": [],
            "_model_module": "@jupyter-widgets/output",
            "_model_module_version": "1.0.0",
            "_model_name": "OutputModel",
            "_view_count": null,
            "_view_module": "@jupyter-widgets/output",
            "_view_module_version": "1.0.0",
            "_view_name": "OutputView",
            "layout": "IPY_MODEL_7c0cd995955b46aeae2bdfb70faa6a82",
            "msg_id": "",
            "outputs": [
              {
                "output_type": "display_data",
                "data": {
                  "text/plain": "\u001b[32m⠀⡘\u001b[0m Generating summary...\n",
                  "text/html": "<pre style=\"white-space:pre;overflow-x:auto;line-height:normal;font-family:Menlo,'DejaVu Sans Mono',consolas,'Courier New',monospace\"><span style=\"color: #008000; text-decoration-color: #008000\">⠀⡘</span> Generating summary...\n</pre>\n"
                },
                "metadata": {}
              }
            ]
          }
        },
        "7c0cd995955b46aeae2bdfb70faa6a82": {
          "model_module": "@jupyter-widgets/base",
          "model_name": "LayoutModel",
          "model_module_version": "1.2.0",
          "state": {
            "_model_module": "@jupyter-widgets/base",
            "_model_module_version": "1.2.0",
            "_model_name": "LayoutModel",
            "_view_count": null,
            "_view_module": "@jupyter-widgets/base",
            "_view_module_version": "1.2.0",
            "_view_name": "LayoutView",
            "align_content": null,
            "align_items": null,
            "align_self": null,
            "border": null,
            "bottom": null,
            "display": null,
            "flex": null,
            "flex_flow": null,
            "grid_area": null,
            "grid_auto_columns": null,
            "grid_auto_flow": null,
            "grid_auto_rows": null,
            "grid_column": null,
            "grid_gap": null,
            "grid_row": null,
            "grid_template_areas": null,
            "grid_template_columns": null,
            "grid_template_rows": null,
            "height": null,
            "justify_content": null,
            "justify_items": null,
            "left": null,
            "margin": null,
            "max_height": null,
            "max_width": null,
            "min_height": null,
            "min_width": null,
            "object_fit": null,
            "object_position": null,
            "order": null,
            "overflow": null,
            "overflow_x": null,
            "overflow_y": null,
            "padding": null,
            "right": null,
            "top": null,
            "visibility": null,
            "width": null
          }
        },
        "72e050abb01a4513a44be078e46ad498": {
          "model_module": "@jupyter-widgets/output",
          "model_name": "OutputModel",
          "model_module_version": "1.0.0",
          "state": {
            "_dom_classes": [],
            "_model_module": "@jupyter-widgets/output",
            "_model_module_version": "1.0.0",
            "_model_name": "OutputModel",
            "_view_count": null,
            "_view_module": "@jupyter-widgets/output",
            "_view_module_version": "1.0.0",
            "_view_name": "OutputView",
            "layout": "IPY_MODEL_a701f1c184174916ad13feb6e2874db5",
            "msg_id": "",
            "outputs": [
              {
                "output_type": "display_data",
                "data": {
                  "text/plain": "\u001b[32m⢃⠀\u001b[0m Generating Questions...\n",
                  "text/html": "<pre style=\"white-space:pre;overflow-x:auto;line-height:normal;font-family:Menlo,'DejaVu Sans Mono',consolas,'Courier New',monospace\"><span style=\"color: #008000; text-decoration-color: #008000\">⢃⠀</span> Generating Questions...\n</pre>\n"
                },
                "metadata": {}
              }
            ]
          }
        },
        "a701f1c184174916ad13feb6e2874db5": {
          "model_module": "@jupyter-widgets/base",
          "model_name": "LayoutModel",
          "model_module_version": "1.2.0",
          "state": {
            "_model_module": "@jupyter-widgets/base",
            "_model_module_version": "1.2.0",
            "_model_name": "LayoutModel",
            "_view_count": null,
            "_view_module": "@jupyter-widgets/base",
            "_view_module_version": "1.2.0",
            "_view_name": "LayoutView",
            "align_content": null,
            "align_items": null,
            "align_self": null,
            "border": null,
            "bottom": null,
            "display": null,
            "flex": null,
            "flex_flow": null,
            "grid_area": null,
            "grid_auto_columns": null,
            "grid_auto_flow": null,
            "grid_auto_rows": null,
            "grid_column": null,
            "grid_gap": null,
            "grid_row": null,
            "grid_template_areas": null,
            "grid_template_columns": null,
            "grid_template_rows": null,
            "height": null,
            "justify_content": null,
            "justify_items": null,
            "left": null,
            "margin": null,
            "max_height": null,
            "max_width": null,
            "min_height": null,
            "min_width": null,
            "object_fit": null,
            "object_position": null,
            "order": null,
            "overflow": null,
            "overflow_x": null,
            "overflow_y": null,
            "padding": null,
            "right": null,
            "top": null,
            "visibility": null,
            "width": null
          }
        },
        "7a2158848a794b7a9ba54185301ba9ed": {
          "model_module": "@jupyter-widgets/output",
          "model_name": "OutputModel",
          "model_module_version": "1.0.0",
          "state": {
            "_dom_classes": [],
            "_model_module": "@jupyter-widgets/output",
            "_model_module_version": "1.0.0",
            "_model_name": "OutputModel",
            "_view_count": null,
            "_view_module": "@jupyter-widgets/output",
            "_view_module_version": "1.0.0",
            "_view_name": "OutputView",
            "layout": "IPY_MODEL_ec3217b08d33469290159ee314413e2a",
            "msg_id": "",
            "outputs": [
              {
                "output_type": "display_data",
                "data": {
                  "text/plain": "\u001b[32m⠋⠉\u001b[0m StableLM-Zephyr-3B AI is working ✅✅✅ ...\n",
                  "text/html": "<pre style=\"white-space:pre;overflow-x:auto;line-height:normal;font-family:Menlo,'DejaVu Sans Mono',consolas,'Courier New',monospace\"><span style=\"color: #008000; text-decoration-color: #008000\">⠋⠉</span> StableLM-Zephyr-3B AI is working ✅✅✅ ...\n</pre>\n"
                },
                "metadata": {}
              }
            ]
          }
        },
        "ec3217b08d33469290159ee314413e2a": {
          "model_module": "@jupyter-widgets/base",
          "model_name": "LayoutModel",
          "model_module_version": "1.2.0",
          "state": {
            "_model_module": "@jupyter-widgets/base",
            "_model_module_version": "1.2.0",
            "_model_name": "LayoutModel",
            "_view_count": null,
            "_view_module": "@jupyter-widgets/base",
            "_view_module_version": "1.2.0",
            "_view_name": "LayoutView",
            "align_content": null,
            "align_items": null,
            "align_self": null,
            "border": null,
            "bottom": null,
            "display": null,
            "flex": null,
            "flex_flow": null,
            "grid_area": null,
            "grid_auto_columns": null,
            "grid_auto_flow": null,
            "grid_auto_rows": null,
            "grid_column": null,
            "grid_gap": null,
            "grid_row": null,
            "grid_template_areas": null,
            "grid_template_columns": null,
            "grid_template_rows": null,
            "height": null,
            "justify_content": null,
            "justify_items": null,
            "left": null,
            "margin": null,
            "max_height": null,
            "max_width": null,
            "min_height": null,
            "min_width": null,
            "object_fit": null,
            "object_position": null,
            "order": null,
            "overflow": null,
            "overflow_x": null,
            "overflow_y": null,
            "padding": null,
            "right": null,
            "top": null,
            "visibility": null,
            "width": null
          }
        },
        "4ac9f6fb82ee4f6399cdf74aad49fde5": {
          "model_module": "@jupyter-widgets/output",
          "model_name": "OutputModel",
          "model_module_version": "1.0.0",
          "state": {
            "_dom_classes": [],
            "_model_module": "@jupyter-widgets/output",
            "_model_module_version": "1.0.0",
            "_model_name": "OutputModel",
            "_view_count": null,
            "_view_module": "@jupyter-widgets/output",
            "_view_module_version": "1.0.0",
            "_view_name": "OutputView",
            "layout": "IPY_MODEL_174a671d6031413f8529069b65a01e32",
            "msg_id": "",
            "outputs": [
              {
                "output_type": "display_data",
                "data": {
                  "text/plain": "\u001b[32m⠉⠙\u001b[0m StableLM-Zephyr-3B AI is working ✅✅✅ ...\n",
                  "text/html": "<pre style=\"white-space:pre;overflow-x:auto;line-height:normal;font-family:Menlo,'DejaVu Sans Mono',consolas,'Courier New',monospace\"><span style=\"color: #008000; text-decoration-color: #008000\">⠉⠙</span> StableLM-Zephyr-3B AI is working ✅✅✅ ...\n</pre>\n"
                },
                "metadata": {}
              }
            ]
          }
        },
        "174a671d6031413f8529069b65a01e32": {
          "model_module": "@jupyter-widgets/base",
          "model_name": "LayoutModel",
          "model_module_version": "1.2.0",
          "state": {
            "_model_module": "@jupyter-widgets/base",
            "_model_module_version": "1.2.0",
            "_model_name": "LayoutModel",
            "_view_count": null,
            "_view_module": "@jupyter-widgets/base",
            "_view_module_version": "1.2.0",
            "_view_name": "LayoutView",
            "align_content": null,
            "align_items": null,
            "align_self": null,
            "border": null,
            "bottom": null,
            "display": null,
            "flex": null,
            "flex_flow": null,
            "grid_area": null,
            "grid_auto_columns": null,
            "grid_auto_flow": null,
            "grid_auto_rows": null,
            "grid_column": null,
            "grid_gap": null,
            "grid_row": null,
            "grid_template_areas": null,
            "grid_template_columns": null,
            "grid_template_rows": null,
            "height": null,
            "justify_content": null,
            "justify_items": null,
            "left": null,
            "margin": null,
            "max_height": null,
            "max_width": null,
            "min_height": null,
            "min_width": null,
            "object_fit": null,
            "object_position": null,
            "order": null,
            "overflow": null,
            "overflow_x": null,
            "overflow_y": null,
            "padding": null,
            "right": null,
            "top": null,
            "visibility": null,
            "width": null
          }
        },
        "1a0e6964cf3a4be8bcf520086c0ecd33": {
          "model_module": "@jupyter-widgets/output",
          "model_name": "OutputModel",
          "model_module_version": "1.0.0",
          "state": {
            "_dom_classes": [],
            "_model_module": "@jupyter-widgets/output",
            "_model_module_version": "1.0.0",
            "_model_name": "OutputModel",
            "_view_count": null,
            "_view_module": "@jupyter-widgets/output",
            "_view_module_version": "1.0.0",
            "_view_name": "OutputView",
            "layout": "IPY_MODEL_ba570ee34b8f45c7b673d99ac0e9aead",
            "msg_id": "",
            "outputs": [
              {
                "output_type": "display_data",
                "data": {
                  "text/plain": "\u001b[32m⠀⢙\u001b[0m StableLM-Zephyr-3B AI is working ✅✅✅ ...\n",
                  "text/html": "<pre style=\"white-space:pre;overflow-x:auto;line-height:normal;font-family:Menlo,'DejaVu Sans Mono',consolas,'Courier New',monospace\"><span style=\"color: #008000; text-decoration-color: #008000\">⠀⢙</span> StableLM-Zephyr-3B AI is working ✅✅✅ ...\n</pre>\n"
                },
                "metadata": {}
              }
            ]
          }
        },
        "ba570ee34b8f45c7b673d99ac0e9aead": {
          "model_module": "@jupyter-widgets/base",
          "model_name": "LayoutModel",
          "model_module_version": "1.2.0",
          "state": {
            "_model_module": "@jupyter-widgets/base",
            "_model_module_version": "1.2.0",
            "_model_name": "LayoutModel",
            "_view_count": null,
            "_view_module": "@jupyter-widgets/base",
            "_view_module_version": "1.2.0",
            "_view_name": "LayoutView",
            "align_content": null,
            "align_items": null,
            "align_self": null,
            "border": null,
            "bottom": null,
            "display": null,
            "flex": null,
            "flex_flow": null,
            "grid_area": null,
            "grid_auto_columns": null,
            "grid_auto_flow": null,
            "grid_auto_rows": null,
            "grid_column": null,
            "grid_gap": null,
            "grid_row": null,
            "grid_template_areas": null,
            "grid_template_columns": null,
            "grid_template_rows": null,
            "height": null,
            "justify_content": null,
            "justify_items": null,
            "left": null,
            "margin": null,
            "max_height": null,
            "max_width": null,
            "min_height": null,
            "min_width": null,
            "object_fit": null,
            "object_position": null,
            "order": null,
            "overflow": null,
            "overflow_x": null,
            "overflow_y": null,
            "padding": null,
            "right": null,
            "top": null,
            "visibility": null,
            "width": null
          }
        },
        "a9497d286129466dbe8d40d56a51d2a2": {
          "model_module": "@jupyter-widgets/output",
          "model_name": "OutputModel",
          "model_module_version": "1.0.0",
          "state": {
            "_dom_classes": [],
            "_model_module": "@jupyter-widgets/output",
            "_model_module_version": "1.0.0",
            "_model_name": "OutputModel",
            "_view_count": null,
            "_view_module": "@jupyter-widgets/output",
            "_view_module_version": "1.0.0",
            "_view_name": "OutputView",
            "layout": "IPY_MODEL_99d5efcb361d4e4e965c12c5c6fe7ab0",
            "msg_id": "",
            "outputs": [
              {
                "output_type": "display_data",
                "data": {
                  "text/plain": "\u001b[32m⠍⡁\u001b[0m StableLM-Zephyr-3B AI is working ✅✅✅ ...\n",
                  "text/html": "<pre style=\"white-space:pre;overflow-x:auto;line-height:normal;font-family:Menlo,'DejaVu Sans Mono',consolas,'Courier New',monospace\"><span style=\"color: #008000; text-decoration-color: #008000\">⠍⡁</span> StableLM-Zephyr-3B AI is working ✅✅✅ ...\n</pre>\n"
                },
                "metadata": {}
              }
            ]
          }
        },
        "99d5efcb361d4e4e965c12c5c6fe7ab0": {
          "model_module": "@jupyter-widgets/base",
          "model_name": "LayoutModel",
          "model_module_version": "1.2.0",
          "state": {
            "_model_module": "@jupyter-widgets/base",
            "_model_module_version": "1.2.0",
            "_model_name": "LayoutModel",
            "_view_count": null,
            "_view_module": "@jupyter-widgets/base",
            "_view_module_version": "1.2.0",
            "_view_name": "LayoutView",
            "align_content": null,
            "align_items": null,
            "align_self": null,
            "border": null,
            "bottom": null,
            "display": null,
            "flex": null,
            "flex_flow": null,
            "grid_area": null,
            "grid_auto_columns": null,
            "grid_auto_flow": null,
            "grid_auto_rows": null,
            "grid_column": null,
            "grid_gap": null,
            "grid_row": null,
            "grid_template_areas": null,
            "grid_template_columns": null,
            "grid_template_rows": null,
            "height": null,
            "justify_content": null,
            "justify_items": null,
            "left": null,
            "margin": null,
            "max_height": null,
            "max_width": null,
            "min_height": null,
            "min_width": null,
            "object_fit": null,
            "object_position": null,
            "order": null,
            "overflow": null,
            "overflow_x": null,
            "overflow_y": null,
            "padding": null,
            "right": null,
            "top": null,
            "visibility": null,
            "width": null
          }
        }
      }
    }
  },
  "cells": [
    {
      "cell_type": "markdown",
      "metadata": {
        "id": "view-in-github",
        "colab_type": "text"
      },
      "source": [
        "<a href=\"https://colab.research.google.com/github/fabiomatricardi/How-I-Built-a-Chatbot-that-Crushed-ChatGPT/blob/main/Only_CPU_MEDIUM_RAG_openVsChatGPT_test.ipynb\" target=\"_parent\"><img src=\"https://colab.research.google.com/assets/colab-badge.svg\" alt=\"Open In Colab\"/></a>"
      ]
    },
    {
      "cell_type": "markdown",
      "source": [
        "# **S**ort **o**f **M**ixture **o**f **E**xperts\n",
        "\n",
        "\n",
        "### Project Orchestartion Outline\n",
        "\n",
        "Use various LLM stack as part of Document analysis\n",
        "\n",
        "\n",
        "*   LaMiniFlan-T5-77M for **Summarization**\n",
        "*   BAAI/bge-base-en-v1.5 Embeddings (only for English) max lenght 512 tokens\n",
        "*   StableLM-Zephyr-3B GGUF quantized for **QnA** and complex Reasoning\n",
        "\n",
        "Main points: StableLM only on CPU has quite big inference time. LaMini-783M takes around 2 minutes to generate the questions. LaMini 77M create a Summary in 9 seconds.\n",
        "\n",
        "I used the reranking function to inject in position -2 the Summary as part of the Context"
      ],
      "metadata": {
        "id": "qIAuX1IpJJpF"
      }
    },
    {
      "cell_type": "markdown",
      "source": [
        "### Install dependencies"
      ],
      "metadata": {
        "id": "U7Zt7y1w7ixg"
      }
    },
    {
      "cell_type": "code",
      "execution_count": null,
      "metadata": {
        "id": "fdsxBlc-Qtwp"
      },
      "outputs": [],
      "source": [
        "%%capture\n",
        "!pip install transformers -U --no-cache-dir\n",
        "!pip install llama-cpp-python==0.2.34\n",
        "!pip install langchain\n",
        "!pip install rich\n",
        "!pip install tiktoken\n",
        "!pip install chromadb\n",
        "!pip install sentence-transformers\n",
        "!huggingface-cli download TheBloke/stablelm-zephyr-3b-GGUF stablelm-zephyr-3b.Q5_K_S.gguf --local-dir . --local-dir-use-symlinks False\n",
        "!wget https://github.com/fabiomatricardi/How-I-Built-a-Chatbot-that-Crushed-ChatGPT/raw/main/Article-edited.txt\n",
        "!wget https://github.com/fabiomatricardi/How-I-Built-a-Chatbot-that-Crushed-ChatGPT/raw/main/Article-original.txt"
      ]
    },
    {
      "cell_type": "markdown",
      "source": [
        "<img src=\"https://github.com/fabiomatricardi/How-I-Built-a-Chatbot-that-Crushed-ChatGPT/raw/main/restartRuntime.png\" width=800>"
      ],
      "metadata": {
        "id": "iu6Y3lQw7Lje"
      }
    },
    {
      "cell_type": "code",
      "source": [
        "# @title Main imports and models load\n",
        "from tqdm.rich import trange, tqdm\n",
        "from rich import console\n",
        "from rich.panel import Panel\n",
        "from rich.markdown import Markdown\n",
        "from rich.text import Text\n",
        "import warnings\n",
        "warnings.filterwarnings(action='ignore')\n",
        "import datetime\n",
        "from rich.console import Console\n",
        "console = Console(width=110)\n",
        "from transformers import pipeline\n",
        "import os\n",
        "## Logger file\n",
        "tstamp = datetime.datetime.now()\n",
        "tstamp = str(tstamp).replace(' ','_')\n",
        "logfile = f'{tstamp}_log.txt'\n",
        "def writehistory(text):\n",
        "    with open(logfile, 'a', encoding='utf-8') as f:\n",
        "        f.write(text)\n",
        "        f.write('\\n')\n",
        "    f.close()\n",
        "\n",
        "## Load  MBZUAI/LaMini-Flan-T5-77M for summarization\n",
        "with console.status(\"Loading ✅ LaMini77M...\",spinner=\"dots12\"):\n",
        "    model77 = pipeline('text2text-generation',model=\"MBZUAI/LaMini-Flan-T5-77M\")\n",
        "writehistory(f\"{str(datetime.datetime.now())} Loaded 🦙 MBZUAI/LaMini-Flan-T5-77M for summarization\")\n",
        "## Load a llama-cpp-python quantized model\n",
        "from llama_cpp import Llama\n",
        "with console.status(\"Loading ✅✅✅✅ stablelm-zephyr-3b with LLAMA.CPP...\",spinner=\"dots12\"):\n",
        "  llm = Llama(\n",
        "    model_path=\"/content/stablelm-zephyr-3b.Q5_K_S.gguf\",  # Download the model file first\n",
        "    n_ctx=4096,  # The max sequence length to use - note that longer sequence lengths require much more resources\n",
        "    n_threads=2,            # The number of CPU threads to use, tailor to your system and the resulting performance\n",
        "  )\n",
        "writehistory(f\"{str(datetime.datetime.now())} Loaded 🧠 stablelm-zephyr-3b.Q5_K_S.gguf for heavy QnA\")\n",
        "# Load Embeddings for MultiLanguage\n",
        "from langchain.embeddings import HuggingFaceEmbeddings\n",
        "hf_embeddings = HuggingFaceEmbeddings(model_name='BAAI/bge-base-en-v1.5')\n",
        "writehistory(f\"{str(datetime.datetime.now())} Loaded 🧞‍♂️ BAAI/bge-base-en-v1.5 Embeddings\")\n",
        "\n",
        "#Load text files\n",
        "with open(\"/content/Article-original.txt\") as f:\n",
        "  originaltext = f.read()\n",
        "f.close()\n",
        "with open(\"/content/Article-edited.txt\") as f:\n",
        "  editedtext = f.read()\n",
        "f.close()\n",
        "writehistory(f\"{str(datetime.datetime.now())} [red bold]Original scraped text saved into [bright_green on black]originaltext[/bright_green on black] variable\")\n",
        "writehistory(f\"{str(datetime.datetime.now())} [blue bold]Edited scraped text saved into [bright_yellow on black]editedtext[/bright_yellow on black] variable\")\n",
        "writehistory(f\"{str(datetime.datetime.now())} Original text lenght: [bright_green on black]{len(originaltext)}\")\n",
        "writehistory(f\"{str(datetime.datetime.now())} Edited text lenght: [bright_yellow on black]{len(editedtext)}\")"
      ],
      "metadata": {
        "id": "TlGA_0fyRoBc",
        "cellView": "form"
      },
      "execution_count": null,
      "outputs": []
    },
    {
      "cell_type": "markdown",
      "source": [
        "### FlanT5 and StableLM-Zephy QnA functions\n",
        "- qgen77  --> `qg77 = qgen77(splitted_text_qg, model77,'🎴🎴LaMiniFlanT5-77M')`\n",
        "- summary77 --> `sum77 = summary77(splitted_text_qg, model77,'🎴LaMiniFlanT5-77M') `\n",
        "- stableQA --> `q,o = stableQA(\"What is Science?\",250,llm)`\n",
        "- stableQnA --> `q1,o1 = stableQnA(\"What are the major changes Apple is implementing in the EU App Store in response to Europe's Digital Markets Act?\",editedtext,450,llm)`\n",
        "\n",
        "for summarization and question generation we can use 2 different splits\n",
        "- for QnA and embedding retrieval a smaller chunk too\n",
        "- all of them in tokens count"
      ],
      "metadata": {
        "id": "Fggi3xQoCr2D"
      }
    },
    {
      "cell_type": "code",
      "source": [
        "# @title\n",
        "# Different chunks for the functions (Summary/Question Generation)\n",
        "from langchain.document_loaders import TextLoader\n",
        "from langchain.text_splitter import TokenTextSplitter\n",
        "TOKENtext_splitter = TokenTextSplitter(chunk_size=430, chunk_overlap=20)\n",
        "splitted_text_sum = TOKENtext_splitter.split_text(editedtext) #create a list\n",
        "TOKENtext_splitter = TokenTextSplitter(chunk_size=280, chunk_overlap=20)\n",
        "splitted_text_qg = TOKENtext_splitter.split_text(editedtext) #create a list\n",
        "TOKENtext_splitter = TokenTextSplitter(chunk_size=150, chunk_overlap=20)\n",
        "splitted_text_qna = TOKENtext_splitter.split_text(editedtext) #create a list\n",
        "\n",
        "\n",
        "#Function for T5 model to summarize text based on textsplitted chunks base\n",
        "def summary77(textplitted, model, modelname):\n",
        "  writehistory(f\"{str(datetime.datetime.now())} Using {modelname} for summarization task...\")\n",
        "  start = datetime.datetime.now()\n",
        "  with console.status(\"Generating summary...\",spinner=\"dots12\"):\n",
        "    summary =\"SUMMARY:\\n\"\n",
        "    for item in textplitted:\n",
        "      text = item\n",
        "      template_summary = f'''Text: {text}\n",
        "\n",
        "Write a complete summary of the above text.\n",
        "'''\n",
        "      res = model(template_summary, temperature=0.3, repetition_penalty=1.3, max_length=300, do_sample=True)[0]['generated_text']\n",
        "      #console.print(res)\n",
        "      #console.print('---')\n",
        "      summary = summary + res + '\\n'\n",
        "  delta = datetime.datetime.now() - start\n",
        "  writehistory(f\"{str(datetime.datetime.now())} [bold]----------------------------\")\n",
        "  writehistory(f\"{str(datetime.datetime.now())} {summary}\")\n",
        "  writehistory(f\"{str(datetime.datetime.now())} [red1 bold]Full SUMMARY Completed in {delta}\")\n",
        "  return summary\n",
        "\n",
        "#Function for T5 model to generate 2 questions for each chunk of text based on textsplitted chunks base\n",
        "def qgen77(textplitted, model, modelname):\n",
        "  writehistory(f\"{str(datetime.datetime.now())} Using {modelname} for for Question generation task -  2 PER CHUNK...\")\n",
        "  start = datetime.datetime.now()\n",
        "  quest2 = []\n",
        "  with console.status(\"Generating Questions...\",spinner=\"dots12\"):\n",
        "    for item in textplitted:\n",
        "      text = item\n",
        "      template_qg = f'''{text}\\n\\n\n",
        "write two important questions about the above text.\n",
        "Questions:\n",
        "1.\n",
        "2.\n",
        "'''\n",
        "      res = model(template_qg, temperature=0.3, repetition_penalty=1.3, max_length=250, do_sample=True)[0]['generated_text']\n",
        "      ed_res = res.replace('? ','?#')\n",
        "      list_res = ed_res.split('#')\n",
        "      for i in list_res:\n",
        "        #a = i[3:]  REMOVED TRUNK on the list, generated by LaMini\n",
        "        quest2.append(i[3:])\n",
        "\n",
        "  writehistory(f\"{str(datetime.datetime.now())} [bold]----------------------------\")\n",
        "  writehistory(f\"{str(datetime.datetime.now())} {quest2}\")\n",
        "  return quest2\n",
        "\n",
        "\n",
        "\n",
        "\n",
        "#Function for general inference of the model, no context required\n",
        "def stableQA(question,maxtokens,model):\n",
        "  \"\"\"\n",
        "  basic generation with StableLM / any llama.cpp loaded model\n",
        "  question -> string\n",
        "  maxtokens -> int, number of max tokens to generate\n",
        "  model -> llama-cpp-python instance // here is StableLM-Zephyr-3B\n",
        "  RETURNS question, ouotput -> str\n",
        "  \"\"\"\n",
        "  import datetime\n",
        "  start = datetime.datetime.now()\n",
        "  prompt = question\n",
        "  template = f\"<|user|>\\n{prompt}<|endoftext|>\\n<|assistant|>\"\n",
        "  with console.status(\"StableLM-Zephyr-3B AI is working ✅✅✅ ...\",spinner=\"dots12\"):\n",
        "    output = model(\n",
        "      template, # Prompt\n",
        "      temperature=0.3,\n",
        "      max_tokens=maxtokens,  # Generate up to 512 tokens\n",
        "      stop=[\"</s>\"],   # Example stop token - not necessarily correct for this specific model! Please check before using.\n",
        "      echo=False        # Whether to echo the prompt\n",
        "    )\n",
        "    delta = datetime.datetime.now() - start\n",
        "    console.print(f\"Question: [bright_green on black]{prompt}\")\n",
        "    console.print(output['choices'][0]['text'])\n",
        "    console.print(f\"Completed in: [bold red]{delta}\")\n",
        "    return question, output['choices'][0]['text']\n",
        "\n",
        "#Function for QnA over a Context - the context is pure string text\n",
        "def stableQnA(question,contesto,maxtokens,model):\n",
        "  \"\"\"\n",
        "  basic generation with StableLM / any llama.cpp loaded model\n",
        "  question -> string\n",
        "  contesto -> string, parsed page_content from document objects\n",
        "  maxtokens -> int, number of max tokens to generate\n",
        "  model -> llama-cpp-python instance // here is StableLM-Zephyr-3B\n",
        "  RETURNS question, ouotput -> str\n",
        "  \"\"\"\n",
        "  context = contesto\n",
        "  query = question\n",
        "  import datetime\n",
        "  start = datetime.datetime.now()\n",
        "  template = f\"\"\"<|user|>\\nGiven this text extracts:\\n-----\\n{context}\\n-----\\nPlease answer the question. Your answer must be informative and organized into bullet points. If the question is unanswerable, \"\"say \\\"unanswerable\\\".\\nQuestion: {query}<|endoftext|>\\n<|assistant|>\"\"\"\n",
        "  with console.status(\"StableLM-Zephyr-3B AI is working ✅✅✅ ...\",spinner=\"dots12\"):\n",
        "    output = model(\n",
        "      template, # Prompt\n",
        "      temperature=0.3,\n",
        "      max_tokens=maxtokens,  # Generate up to 512 tokens\n",
        "      stop=[\"</s>\"],   # Example stop token - not necessarily correct for this specific model! Please check before using.\n",
        "      echo=False        # Whether to echo the prompt\n",
        "    )\n",
        "    delta = datetime.datetime.now() - start\n",
        "    console.print(f\"[bright_green bold on black]Question: {query}\")\n",
        "    console.print(output['choices'][0]['text'])\n",
        "    console.print(f\"Completed in: [bold red]{delta}\")\n",
        "    return question, output['choices'][0]['text']"
      ],
      "metadata": {
        "cellView": "form",
        "id": "wmP_Woevl-BG"
      },
      "execution_count": null,
      "outputs": []
    },
    {
      "cell_type": "code",
      "source": [
        "sum77 = summary77(splitted_text_qg, model77,'🎴LaMiniFlanT5-77M')\n",
        "console.print(sum77)"
      ],
      "metadata": {
        "colab": {
          "base_uri": "https://localhost:8080/",
          "height": 17,
          "referenced_widgets": [
            "eec5b61c1dd6444da82681a0d10bc0ac",
            "7c0cd995955b46aeae2bdfb70faa6a82"
          ]
        },
        "id": "_QtwhzF9ml5n",
        "outputId": "967341a0-a6bf-4f41-ecc4-bfecaeea20e0"
      },
      "execution_count": null,
      "outputs": [
        {
          "output_type": "display_data",
          "data": {
            "text/plain": [
              "Output()"
            ],
            "application/vnd.jupyter.widget-view+json": {
              "version_major": 2,
              "version_minor": 0,
              "model_id": "eec5b61c1dd6444da82681a0d10bc0ac"
            }
          },
          "metadata": {}
        },
        {
          "output_type": "display_data",
          "data": {
            "text/plain": [],
            "text/html": [
              "<pre style=\"white-space:pre;overflow-x:auto;line-height:normal;font-family:Menlo,'DejaVu Sans Mono',consolas,'Courier New',monospace\"></pre>\n"
            ]
          },
          "metadata": {}
        }
      ]
    },
    {
      "cell_type": "code",
      "source": [
        "qg77 = qgen77(splitted_text_qg, model77,'🎴🎴LaMiniFlanT5-77M')\n",
        "console.print(Markdown(f\"## Suggested Questions\"))\n",
        "for items in qg77:\n",
        "  console.print(Markdown(f\"- {items}\"))"
      ],
      "metadata": {
        "colab": {
          "base_uri": "https://localhost:8080/",
          "height": 17,
          "referenced_widgets": [
            "72e050abb01a4513a44be078e46ad498",
            "a701f1c184174916ad13feb6e2874db5"
          ]
        },
        "id": "UNpQVUz4mlvZ",
        "outputId": "f11ad2dd-9511-480a-9606-afef318c8e43"
      },
      "execution_count": null,
      "outputs": [
        {
          "output_type": "display_data",
          "data": {
            "text/plain": [
              "Output()"
            ],
            "application/vnd.jupyter.widget-view+json": {
              "version_major": 2,
              "version_minor": 0,
              "model_id": "72e050abb01a4513a44be078e46ad498"
            }
          },
          "metadata": {}
        },
        {
          "output_type": "display_data",
          "data": {
            "text/plain": [],
            "text/html": [
              "<pre style=\"white-space:pre;overflow-x:auto;line-height:normal;font-family:Menlo,'DejaVu Sans Mono',consolas,'Courier New',monospace\"></pre>\n"
            ]
          },
          "metadata": {}
        }
      ]
    },
    {
      "cell_type": "code",
      "source": [
        "console.print(Markdown(f\"# Reply to the Question without Langchain\"))\n",
        "q1,o1 = stableQnA(\"What are the major changes Apple is implementing in the EU App Store in response to Europe's Digital Markets Act?\",editedtext,450,llm)"
      ],
      "metadata": {
        "colab": {
          "base_uri": "https://localhost:8080/",
          "height": 262,
          "referenced_widgets": [
            "7a2158848a794b7a9ba54185301ba9ed",
            "ec3217b08d33469290159ee314413e2a"
          ]
        },
        "id": "igDbiWq_mlkQ",
        "outputId": "f7cafb4b-d4fb-473b-cd85-f6ee45f9b07b"
      },
      "execution_count": null,
      "outputs": [
        {
          "output_type": "display_data",
          "data": {
            "text/plain": [
              "Output()"
            ],
            "application/vnd.jupyter.widget-view+json": {
              "version_major": 2,
              "version_minor": 0,
              "model_id": "7a2158848a794b7a9ba54185301ba9ed"
            }
          },
          "metadata": {}
        },
        {
          "output_type": "display_data",
          "data": {
            "text/plain": [
              "\u001b[1;92;40mQuestion: What are the major changes Apple is implementing in the EU App Store in response to Europe's Digital\u001b[0m\n",
              "\u001b[1;92;40mMarkets Act?\u001b[0m\n"
            ],
            "text/html": [
              "<pre style=\"white-space:pre;overflow-x:auto;line-height:normal;font-family:Menlo,'DejaVu Sans Mono',consolas,'Courier New',monospace\"><span style=\"color: #00ff00; text-decoration-color: #00ff00; background-color: #000000; font-weight: bold\">Question: What are the major changes Apple is implementing in the EU App Store in response to Europe's Digital</span>\n",
              "<span style=\"color: #00ff00; text-decoration-color: #00ff00; background-color: #000000; font-weight: bold\">Markets Act?</span>\n",
              "</pre>\n"
            ]
          },
          "metadata": {}
        },
        {
          "output_type": "display_data",
          "data": {
            "text/plain": [
              "\n",
              "- Apple will allow alternative app stores and other new options for app developers in order to comply with \n",
              "Europe's Digital Markets Act \u001b[1m(\u001b[0mDMA\u001b[1m)\u001b[0m, which goes into effect on March \u001b[1;36m7\u001b[0m.\n",
              "- The company stated that its compliance adheres to the letter of the law, while also emphasizing its efforts \n",
              "to ensure iOS devices remain secure and malware-free.\n",
              "- Apple is introducing new fee structures for developers who take advantage of the new freedoms: a \u001b[32m\"core \u001b[0m\n",
              "\u001b[32mtechnology fee\"\u001b[0m of €.\u001b[1;36m50\u001b[0m per year for apps with more than \u001b[1;36m1\u001b[0m million downloads, a reduced App Store commission \n",
              "\u001b[1m(\u001b[0mfrom \u001b[1;36m30\u001b[0m% to \u001b[1;36m17\u001b[0m%\u001b[1m)\u001b[0m, and discounted rates for certain developers.\n",
              "- The iOS changes will include notarization for iOS apps, authorization for marketplace developers, and \n",
              "disclosures on alternative payments.\n",
              "- Users in the EU will see a browser choice screen in iOS \u001b[1;36m17.4\u001b[0m to pick a default browser.\n",
              "- It is up to the European Commission to determine whether Apple's plan fully complies with the DMA, and \n",
              "whether these changes boost competition and improve experiences for users.\n"
            ],
            "text/html": [
              "<pre style=\"white-space:pre;overflow-x:auto;line-height:normal;font-family:Menlo,'DejaVu Sans Mono',consolas,'Courier New',monospace\">\n",
              "- Apple will allow alternative app stores and other new options for app developers in order to comply with \n",
              "Europe's Digital Markets Act <span style=\"font-weight: bold\">(</span>DMA<span style=\"font-weight: bold\">)</span>, which goes into effect on March <span style=\"color: #008080; text-decoration-color: #008080; font-weight: bold\">7</span>.\n",
              "- The company stated that its compliance adheres to the letter of the law, while also emphasizing its efforts \n",
              "to ensure iOS devices remain secure and malware-free.\n",
              "- Apple is introducing new fee structures for developers who take advantage of the new freedoms: a <span style=\"color: #008000; text-decoration-color: #008000\">\"core </span>\n",
              "<span style=\"color: #008000; text-decoration-color: #008000\">technology fee\"</span> of €.<span style=\"color: #008080; text-decoration-color: #008080; font-weight: bold\">50</span> per year for apps with more than <span style=\"color: #008080; text-decoration-color: #008080; font-weight: bold\">1</span> million downloads, a reduced App Store commission \n",
              "<span style=\"font-weight: bold\">(</span>from <span style=\"color: #008080; text-decoration-color: #008080; font-weight: bold\">30</span>% to <span style=\"color: #008080; text-decoration-color: #008080; font-weight: bold\">17</span>%<span style=\"font-weight: bold\">)</span>, and discounted rates for certain developers.\n",
              "- The iOS changes will include notarization for iOS apps, authorization for marketplace developers, and \n",
              "disclosures on alternative payments.\n",
              "- Users in the EU will see a browser choice screen in iOS <span style=\"color: #008080; text-decoration-color: #008080; font-weight: bold\">17.4</span> to pick a default browser.\n",
              "- It is up to the European Commission to determine whether Apple's plan fully complies with the DMA, and \n",
              "whether these changes boost competition and improve experiences for users.\n",
              "</pre>\n"
            ]
          },
          "metadata": {}
        },
        {
          "output_type": "display_data",
          "data": {
            "text/plain": [
              "Completed in: \u001b[1;31m0:06:23\u001b[0m\u001b[1;31m.\u001b[0m\u001b[1;31m966433\u001b[0m\n"
            ],
            "text/html": [
              "<pre style=\"white-space:pre;overflow-x:auto;line-height:normal;font-family:Menlo,'DejaVu Sans Mono',consolas,'Courier New',monospace\">Completed in: <span style=\"color: #800000; text-decoration-color: #800000; font-weight: bold\">0:06:23.</span><span style=\"color: #800000; text-decoration-color: #800000; font-weight: bold\">966433</span>\n",
              "</pre>\n"
            ]
          },
          "metadata": {}
        },
        {
          "output_type": "display_data",
          "data": {
            "text/plain": [],
            "text/html": [
              "<pre style=\"white-space:pre;overflow-x:auto;line-height:normal;font-family:Menlo,'DejaVu Sans Mono',consolas,'Courier New',monospace\"></pre>\n"
            ]
          },
          "metadata": {}
        }
      ]
    },
    {
      "cell_type": "markdown",
      "source": [
        "### Create a VectorDB with HugginFace embeddings and Reeanking QnA with StalbLM-Zephyr\n",
        "\n",
        "- createDB --> `db3 = createDB(docdocs, hf_embeddings, 'db-128-0-BGEBase')`\n",
        "- QnA_Rerank_Stable --> `r1,t1,q1,rd1 = QnA_Rerank_Stable(db3,3, docsum, question,llm)`"
      ],
      "metadata": {
        "id": "C2j9cDPLmmiC"
      }
    },
    {
      "cell_type": "code",
      "source": [
        "# @title\n",
        "# Splitting into 128 tokens chunks\n",
        "TOKENtext_splitter = TokenTextSplitter(chunk_size=128, chunk_overlap=0)\n",
        "splitted_text_qna = TOKENtext_splitter.split_text(editedtext) #create a list\n",
        "\n",
        "def createDB(docs, embeddings, dbname):\n",
        "  \"\"\"\n",
        "  Function that create a Chroma Vector store of splitted documents\n",
        "  with provided embeddings, and save it locally.\n",
        "  docs: text_splitter docs object\n",
        "  embeddings: HuggingFace embeddings object\n",
        "  dbname: string, the name of the persistent db\n",
        "  RETURN  the Chroma db object\n",
        "  \"\"\"\n",
        "  from langchain.vectorstores import Chroma\n",
        "  import datetime\n",
        "  start = datetime.datetime.now()\n",
        "  db = Chroma.from_documents(docs, embeddings,persist_directory=f\"./{dbname}\")\n",
        "  stop = datetime.datetime.now()\n",
        "  delta = stop-start\n",
        "  writehistory(f\"{str(datetime.datetime.now())} Vector db generated in {delta}\")\n",
        "  return db\n",
        "\n",
        "#Function for QnA from ChramDB with Reranking and Summary Injection\n",
        "def QnA_Rerank_Stable(db,k, summarization, query,model):\n",
        "  \"\"\"\n",
        "  return the generated answer to a similarity search query\n",
        "  with Re-ranking of k elements\n",
        "  and run the QnA chain with Prompt Template\n",
        "  inputs:\n",
        "  db -> ChromaDB object instance\n",
        "  k -> number of hits for the similarity search (be aware of Max Context Lenght!)\n",
        "       must be >= 3\n",
        "  summarization -> Langchain Document object with the Summarization\n",
        "  query -> string witht he question for the similarity search\n",
        "  llm -> llama-cpp-python model instance\n",
        "  return res: str generated answer by llm\n",
        "         delta: time object, duration of the llm generation\n",
        "         ques: the question string\n",
        "         reordered_docs: list of LangChainDocuments ReRanked with Summarization\n",
        "  \"\"\"\n",
        "  import datetime\n",
        "  start = datetime.datetime.now()\n",
        "  # Create a retriever\n",
        "  retriever = db.as_retriever(search_kwargs={\"k\": k})\n",
        "  from langchain.document_transformers import LongContextReorder\n",
        "  from langchain.chains import StuffDocumentsChain, LLMChain\n",
        "  from langchain.prompts import PromptTemplate\n",
        "  # Get relevant documents ordered by relevance score\n",
        "  context_set = retriever.get_relevant_documents(query)\n",
        "  #print(str(context_set))\n",
        "  # Reorder the documents:\n",
        "  # Less relevant document will be at the middle of the list and more\n",
        "  # relevant elements at beginning / end.\n",
        "  reordering = LongContextReorder()\n",
        "  reordered_docs = reordering.transform_documents(context_set)\n",
        "  reordered_docs.insert(-1,summarization)\n",
        "  #print(str(reordered_docs))\n",
        "  # We prepare and run a custom Stuff chain with reordered docs as context.\n",
        "  # Override prompts\n",
        "  context = ''\n",
        "  for i in reordered_docs:\n",
        "    context += i.page_content\n",
        "  template = f\"\"\"<|user|>\\nGiven this text extracts:\\n-----\\n{context}\\n-----\\nPlease answer the question. Your answer must be precise, informative and organized into bullet points. If the question is unanswerable, \"\"say \\\"unanswerable\\\".\\nQuestion: {query}<|endoftext|>\\n<|assistant|>\"\"\"\n",
        "  with console.status(\"StableLM-Zephyr-3B AI is working ✅✅✅ ...\",spinner=\"dots12\"):\n",
        "    output = model(\n",
        "      template, # Prompt\n",
        "      temperature=0.3,\n",
        "      max_tokens=450,  # Generate up to 512 tokens\n",
        "      stop=[\"</s>\"],   # Example stop token - not necessarily correct for this specific model! Please check before using.\n",
        "      echo=False        # Whether to echo the prompt\n",
        "    )\n",
        "  result = output['choices'][0]['text']\n",
        "  delta = datetime.datetime.now() - start\n",
        "  return result, delta, query, reordered_docs\n",
        "\n",
        "def evidenzia_res(keys, fulltext,summary):\n",
        "  from rich.text import Text\n",
        "  mytest = fulltext + summary.page_content\n",
        "  text = Text(mytest)\n",
        "  for item in keys:\n",
        "    l = len(item.page_content)\n",
        "    x = mytest.find(item.page_content)\n",
        "    text.stylize(\"black on bright_yellow\", x, (x+l))\n",
        "  console.print(text)\n",
        "  return text\n",
        "\n",
        "#Create 2 Langchain documents: for the splitted text and for the summary\n",
        "from langchain.schema.document import Document\n",
        "docdocs = []\n",
        "for i in range(0,len(splitted_text_qna)):\n",
        "  docdocs.append(Document(page_content = splitted_text_qna[i],\n",
        "                          metadata = {'source': '/content/2024-01-27 11.23.05 Apple s iOS App Store announces_edited.txt',\n",
        "                              'title': \"Apple's iOS App Store announces sweeping changes in the EU\",\n",
        "                              'author': 'Ashley Gold, author of Axios Pro',\n",
        "                              'url' : 'https://www.axios.com/2024/01/25/apple-app-store-eu-changes',\n",
        "                              }))\n",
        "docsum = Document(page_content = sum77, metadata = {\n",
        "                  'source': '/content/2024-01-27 11.23.05 Apple s iOS App Store announces_edited.txt',\n",
        "                  'title': \"Apple's iOS App Store announces sweeping changes in the EU\",\n",
        "                  'author': 'Ashley Gold, author of Axios Pro',\n",
        "                  'url' : 'https://www.axios.com/2024/01/25/apple-app-store-eu-changes',\n",
        "                  'type': 'summary'})"
      ],
      "metadata": {
        "cellView": "form",
        "id": "bGi5mEkJmmiC"
      },
      "execution_count": null,
      "outputs": []
    },
    {
      "cell_type": "code",
      "source": [
        "db3 = createDB(docdocs, hf_embeddings, 'db-128-0-BGEBase')"
      ],
      "metadata": {
        "id": "xwd_EU-1mmiC"
      },
      "execution_count": null,
      "outputs": []
    },
    {
      "cell_type": "code",
      "source": [
        "from rich.markdown import Markdown\n",
        "console.print(Markdown(\"## QnA GENERATED BY 🧠💎 StablLM-Zephyr-3B with RERANKING and Summary\"))\n",
        "question = \"What are the major changes Apple is implementing in the EU App Store in response to Europe's Digital Markets Act?\"\n",
        "r1,t1,q1,rd1 = QnA_Rerank_Stable(db3,3, docsum, question,llm)\n",
        "console.print(f\"[bold red1]Question: {q1}\")\n",
        "console.print(r1)\n",
        "console.print(\"---\")\n",
        "console.print(f\"generated in {t1}\")"
      ],
      "metadata": {
        "colab": {
          "base_uri": "https://localhost:8080/",
          "height": 262,
          "referenced_widgets": [
            "4ac9f6fb82ee4f6399cdf74aad49fde5",
            "174a671d6031413f8529069b65a01e32"
          ]
        },
        "id": "K42C15JpoE5l",
        "outputId": "19a4fa96-1bac-40de-b680-bfcffc1e43f2"
      },
      "execution_count": null,
      "outputs": [
        {
          "output_type": "display_data",
          "data": {
            "text/plain": [
              "Llama.generate: prefix-match hit\n"
            ],
            "text/html": [
              "<pre style=\"white-space:pre;overflow-x:auto;line-height:normal;font-family:Menlo,'DejaVu Sans Mono',consolas,'Courier New',monospace\">Llama.generate: prefix-match hit\n",
              "</pre>\n"
            ]
          },
          "metadata": {}
        },
        {
          "output_type": "display_data",
          "data": {
            "text/plain": [
              "Output()"
            ],
            "application/vnd.jupyter.widget-view+json": {
              "version_major": 2,
              "version_minor": 0,
              "model_id": "4ac9f6fb82ee4f6399cdf74aad49fde5"
            }
          },
          "metadata": {}
        },
        {
          "output_type": "display_data",
          "data": {
            "text/plain": [],
            "text/html": [
              "<pre style=\"white-space:pre;overflow-x:auto;line-height:normal;font-family:Menlo,'DejaVu Sans Mono',consolas,'Courier New',monospace\"></pre>\n"
            ]
          },
          "metadata": {}
        },
        {
          "output_type": "display_data",
          "data": {
            "text/plain": [
              "\u001b[1;38;5;196mQuestion: What are the major changes Apple is implementing in the EU App Store in response to Europe's Digital\u001b[0m\n",
              "\u001b[1;38;5;196mMarkets Act?\u001b[0m\n"
            ],
            "text/html": [
              "<pre style=\"white-space:pre;overflow-x:auto;line-height:normal;font-family:Menlo,'DejaVu Sans Mono',consolas,'Courier New',monospace\"><span style=\"color: #ff0000; text-decoration-color: #ff0000; font-weight: bold\">Question: What are the major changes Apple is implementing in the EU App Store in response to Europe's Digital</span>\n",
              "<span style=\"color: #ff0000; text-decoration-color: #ff0000; font-weight: bold\">Markets Act?</span>\n",
              "</pre>\n"
            ]
          },
          "metadata": {}
        },
        {
          "output_type": "display_data",
          "data": {
            "text/plain": [
              "\n",
              "- Apple will allow alternative app stores and other new options for app developers in order to comply with \n",
              "Europe's Digital Markets Act \u001b[1m(\u001b[0mDMA\u001b[1m)\u001b[0m.\n",
              "- The company is tightening its strict rules, including security and privacy concerns, as well as providing \n",
              "services that are best-in-class and free of spam or harmful content.\n",
              "- Apple has implemented new safeguards for iOS devices, such as \u001b[32m\"each first annual install per year\"\u001b[0m for \n",
              "developers who have more than \u001b[1;36m1\u001b[0m million downloads, and a fee structure applying to apps that switch to their \n",
              "own marketplaces or remain on the App Store.\n",
              "- The European Commission will determine whether Apple's plan fully complies with the DMA.\n",
              "- Apple is introducing new browser choice screens in iOS \u001b[1;36m17.4\u001b[0m to pick a default browser.\n",
              "- There are no plans to expand these options outside of Europe, as Apple cites risk.\n"
            ],
            "text/html": [
              "<pre style=\"white-space:pre;overflow-x:auto;line-height:normal;font-family:Menlo,'DejaVu Sans Mono',consolas,'Courier New',monospace\">\n",
              "- Apple will allow alternative app stores and other new options for app developers in order to comply with \n",
              "Europe's Digital Markets Act <span style=\"font-weight: bold\">(</span>DMA<span style=\"font-weight: bold\">)</span>.\n",
              "- The company is tightening its strict rules, including security and privacy concerns, as well as providing \n",
              "services that are best-in-class and free of spam or harmful content.\n",
              "- Apple has implemented new safeguards for iOS devices, such as <span style=\"color: #008000; text-decoration-color: #008000\">\"each first annual install per year\"</span> for \n",
              "developers who have more than <span style=\"color: #008080; text-decoration-color: #008080; font-weight: bold\">1</span> million downloads, and a fee structure applying to apps that switch to their \n",
              "own marketplaces or remain on the App Store.\n",
              "- The European Commission will determine whether Apple's plan fully complies with the DMA.\n",
              "- Apple is introducing new browser choice screens in iOS <span style=\"color: #008080; text-decoration-color: #008080; font-weight: bold\">17.4</span> to pick a default browser.\n",
              "- There are no plans to expand these options outside of Europe, as Apple cites risk.\n",
              "</pre>\n"
            ]
          },
          "metadata": {}
        },
        {
          "output_type": "display_data",
          "data": {
            "text/plain": [
              "---\n"
            ],
            "text/html": [
              "<pre style=\"white-space:pre;overflow-x:auto;line-height:normal;font-family:Menlo,'DejaVu Sans Mono',consolas,'Courier New',monospace\">---\n",
              "</pre>\n"
            ]
          },
          "metadata": {}
        },
        {
          "output_type": "display_data",
          "data": {
            "text/plain": [
              "generated in \u001b[1;92m0:04:42\u001b[0m.\u001b[1;36m131637\u001b[0m\n"
            ],
            "text/html": [
              "<pre style=\"white-space:pre;overflow-x:auto;line-height:normal;font-family:Menlo,'DejaVu Sans Mono',consolas,'Courier New',monospace\">generated in <span style=\"color: #00ff00; text-decoration-color: #00ff00; font-weight: bold\">0:04:42</span>.<span style=\"color: #008080; text-decoration-color: #008080; font-weight: bold\">131637</span>\n",
              "</pre>\n"
            ]
          },
          "metadata": {}
        }
      ]
    },
    {
      "cell_type": "code",
      "source": [
        "from rich.markdown import Markdown\n",
        "console.print(Markdown(\"# QnA GENERATED BY 🧠💎 StablLM-Zephyr-3B with RERANKING and Summary\"))\n",
        "question = \"What are the major changes Apple is implementing in the EU App Store in response to Europe's Digital Markets Act?\"\n",
        "r1,t1,q1,rd1 = QnA_Rerank_Stable(db3,5, docsum, question,llm)\n",
        "console.print(f\"[bold red1]Question: {q1}\")\n",
        "console.print(r1)\n",
        "console.print(\"---\")\n",
        "console.print(f\"generated in {t1}\")"
      ],
      "metadata": {
        "colab": {
          "base_uri": "https://localhost:8080/",
          "height": 281,
          "referenced_widgets": [
            "1a0e6964cf3a4be8bcf520086c0ecd33",
            "ba570ee34b8f45c7b673d99ac0e9aead"
          ]
        },
        "id": "fYzizGgnoNIV",
        "outputId": "819af92c-941c-4210-b644-dc8b2118cd73"
      },
      "execution_count": null,
      "outputs": [
        {
          "output_type": "display_data",
          "data": {
            "text/plain": [
              "┏━━━━━━━━━━━━━━━━━━━━━━━━━━━━━━━━━━━━━━━━━━━━━━━━━━━━━━━━━━━━━━━━━━━━━━━━━━━━━━━━━━━━━━━━━━━━━━━━━━━━━━━━━━━━┓\n",
              "┃                     \u001b[1mQnA GENERATED BY 🧠💎 StablLM-Zephyr-3B with RERANKING and Summary\u001b[0m                     ┃\n",
              "┗━━━━━━━━━━━━━━━━━━━━━━━━━━━━━━━━━━━━━━━━━━━━━━━━━━━━━━━━━━━━━━━━━━━━━━━━━━━━━━━━━━━━━━━━━━━━━━━━━━━━━━━━━━━━┛\n"
            ],
            "text/html": [
              "<pre style=\"white-space:pre;overflow-x:auto;line-height:normal;font-family:Menlo,'DejaVu Sans Mono',consolas,'Courier New',monospace\">┏━━━━━━━━━━━━━━━━━━━━━━━━━━━━━━━━━━━━━━━━━━━━━━━━━━━━━━━━━━━━━━━━━━━━━━━━━━━━━━━━━━━━━━━━━━━━━━━━━━━━━━━━━━━━┓\n",
              "┃                     <span style=\"font-weight: bold\">QnA GENERATED BY 🧠💎 StablLM-Zephyr-3B with RERANKING and Summary</span>                     ┃\n",
              "┗━━━━━━━━━━━━━━━━━━━━━━━━━━━━━━━━━━━━━━━━━━━━━━━━━━━━━━━━━━━━━━━━━━━━━━━━━━━━━━━━━━━━━━━━━━━━━━━━━━━━━━━━━━━━┛\n",
              "</pre>\n"
            ]
          },
          "metadata": {}
        },
        {
          "output_type": "display_data",
          "data": {
            "text/plain": [
              "Llama.generate: prefix-match hit\n"
            ],
            "text/html": [
              "<pre style=\"white-space:pre;overflow-x:auto;line-height:normal;font-family:Menlo,'DejaVu Sans Mono',consolas,'Courier New',monospace\">Llama.generate: prefix-match hit\n",
              "</pre>\n"
            ]
          },
          "metadata": {}
        },
        {
          "output_type": "display_data",
          "data": {
            "text/plain": [
              "Output()"
            ],
            "application/vnd.jupyter.widget-view+json": {
              "version_major": 2,
              "version_minor": 0,
              "model_id": "1a0e6964cf3a4be8bcf520086c0ecd33"
            }
          },
          "metadata": {}
        },
        {
          "output_type": "display_data",
          "data": {
            "text/plain": [],
            "text/html": [
              "<pre style=\"white-space:pre;overflow-x:auto;line-height:normal;font-family:Menlo,'DejaVu Sans Mono',consolas,'Courier New',monospace\"></pre>\n"
            ]
          },
          "metadata": {}
        },
        {
          "output_type": "display_data",
          "data": {
            "text/plain": [
              "\u001b[1;38;5;196mQuestion: What are the major changes Apple is implementing in the EU App Store in response to Europe's Digital\u001b[0m\n",
              "\u001b[1;38;5;196mMarkets Act?\u001b[0m\n"
            ],
            "text/html": [
              "<pre style=\"white-space:pre;overflow-x:auto;line-height:normal;font-family:Menlo,'DejaVu Sans Mono',consolas,'Courier New',monospace\"><span style=\"color: #ff0000; text-decoration-color: #ff0000; font-weight: bold\">Question: What are the major changes Apple is implementing in the EU App Store in response to Europe's Digital</span>\n",
              "<span style=\"color: #ff0000; text-decoration-color: #ff0000; font-weight: bold\">Markets Act?</span>\n",
              "</pre>\n"
            ]
          },
          "metadata": {}
        },
        {
          "output_type": "display_data",
          "data": {
            "text/plain": [
              "\n",
              "- Apple will allow alternative app stores and other new options for app developers in order to comply with \n",
              "Europe's Digital Markets Act \u001b[1m(\u001b[0mDMA\u001b[1m)\u001b[0m.\n",
              "- The company will introduce notarization for iOS apps, authorization for marketplace developers, and \n",
              "disclosures on alternative payments.\n",
              "- Approximate \u001b[1;36m99\u001b[0m% of developers will pay the same or less in fees.\n",
              "- Apple says it has been in touch with developers about the coming changes and that its compliance adheres to \n",
              "the letter of the law.\n",
              "- The European Commission will determine whether Apple's plan fully complies with the DMA.\n"
            ],
            "text/html": [
              "<pre style=\"white-space:pre;overflow-x:auto;line-height:normal;font-family:Menlo,'DejaVu Sans Mono',consolas,'Courier New',monospace\">\n",
              "- Apple will allow alternative app stores and other new options for app developers in order to comply with \n",
              "Europe's Digital Markets Act <span style=\"font-weight: bold\">(</span>DMA<span style=\"font-weight: bold\">)</span>.\n",
              "- The company will introduce notarization for iOS apps, authorization for marketplace developers, and \n",
              "disclosures on alternative payments.\n",
              "- Approximate <span style=\"color: #008080; text-decoration-color: #008080; font-weight: bold\">99</span>% of developers will pay the same or less in fees.\n",
              "- Apple says it has been in touch with developers about the coming changes and that its compliance adheres to \n",
              "the letter of the law.\n",
              "- The European Commission will determine whether Apple's plan fully complies with the DMA.\n",
              "</pre>\n"
            ]
          },
          "metadata": {}
        },
        {
          "output_type": "display_data",
          "data": {
            "text/plain": [
              "---\n"
            ],
            "text/html": [
              "<pre style=\"white-space:pre;overflow-x:auto;line-height:normal;font-family:Menlo,'DejaVu Sans Mono',consolas,'Courier New',monospace\">---\n",
              "</pre>\n"
            ]
          },
          "metadata": {}
        },
        {
          "output_type": "display_data",
          "data": {
            "text/plain": [
              "generated in \u001b[1;92m0:05:04\u001b[0m.\u001b[1;36m067964\u001b[0m\n"
            ],
            "text/html": [
              "<pre style=\"white-space:pre;overflow-x:auto;line-height:normal;font-family:Menlo,'DejaVu Sans Mono',consolas,'Courier New',monospace\">generated in <span style=\"color: #00ff00; text-decoration-color: #00ff00; font-weight: bold\">0:05:04</span>.<span style=\"color: #008080; text-decoration-color: #008080; font-weight: bold\">067964</span>\n",
              "</pre>\n"
            ]
          },
          "metadata": {}
        }
      ]
    },
    {
      "cell_type": "markdown",
      "source": [
        "QnA without a Vector dB"
      ],
      "metadata": {
        "id": "XLU1TiWYoZ9W"
      }
    },
    {
      "cell_type": "code",
      "source": [
        "q1,o1 = stableQnA(\"What are the major changes Apple is implementing in the EU App Store in response to Europe's Digital Markets Act?\",editedtext,450,llm)"
      ],
      "metadata": {
        "colab": {
          "base_uri": "https://localhost:8080/",
          "height": 328,
          "referenced_widgets": [
            "a9497d286129466dbe8d40d56a51d2a2",
            "99d5efcb361d4e4e965c12c5c6fe7ab0"
          ]
        },
        "id": "x-Vuqaa7oaSe",
        "outputId": "ef0cb322-64c4-4572-e853-2c969112a430"
      },
      "execution_count": null,
      "outputs": [
        {
          "output_type": "display_data",
          "data": {
            "text/plain": [
              "Llama.generate: prefix-match hit\n"
            ],
            "text/html": [
              "<pre style=\"white-space:pre;overflow-x:auto;line-height:normal;font-family:Menlo,'DejaVu Sans Mono',consolas,'Courier New',monospace\">Llama.generate: prefix-match hit\n",
              "</pre>\n"
            ]
          },
          "metadata": {}
        },
        {
          "output_type": "display_data",
          "data": {
            "text/plain": [
              "Output()"
            ],
            "application/vnd.jupyter.widget-view+json": {
              "version_major": 2,
              "version_minor": 0,
              "model_id": "a9497d286129466dbe8d40d56a51d2a2"
            }
          },
          "metadata": {}
        },
        {
          "output_type": "display_data",
          "data": {
            "text/plain": [
              "\u001b[1;92;40mQuestion: What are the major changes Apple is implementing in the EU App Store in response to Europe's Digital\u001b[0m\n",
              "\u001b[1;92;40mMarkets Act?\u001b[0m\n"
            ],
            "text/html": [
              "<pre style=\"white-space:pre;overflow-x:auto;line-height:normal;font-family:Menlo,'DejaVu Sans Mono',consolas,'Courier New',monospace\"><span style=\"color: #00ff00; text-decoration-color: #00ff00; background-color: #000000; font-weight: bold\">Question: What are the major changes Apple is implementing in the EU App Store in response to Europe's Digital</span>\n",
              "<span style=\"color: #00ff00; text-decoration-color: #00ff00; background-color: #000000; font-weight: bold\">Markets Act?</span>\n",
              "</pre>\n"
            ]
          },
          "metadata": {}
        },
        {
          "output_type": "display_data",
          "data": {
            "text/plain": [
              "\n",
              "- Apple will allow alternative app stores and other new options for app developers in order to comply with \n",
              "Europe's Digital Markets Act \u001b[1m(\u001b[0mDMA\u001b[1m)\u001b[0m.\n",
              "- The DMA requires Apple to loosen its strict rules requiring developers to rely on the App Store for \n",
              "distribution and payment processing.\n",
              "- Apple is making these changes while ensuring iOS devices remain secure and malware-free, but it has no plans\n",
              "to expand these options outside of Europe due to risk.\n",
              "- New fee structures have been introduced for developers who take advantage of the new freedoms: a \u001b[32m\"core \u001b[0m\n",
              "\u001b[32mtechnology fee\"\u001b[0m will be charged for apps with more than \u001b[1;36m1\u001b[0m million downloads per year.\n",
              "- The App Store commission will drop from \u001b[1;36m30\u001b[0m% to \u001b[1;36m17\u001b[0m%, and the discounted rate for certain developers will \n",
              "decrease from \u001b[1;36m15\u001b[0m% to \u001b[1;36m10\u001b[0m%.\n",
              "- No commission will be charged to developers who want to distribute and facilitate in-app payments outside of\n",
              "the App Store.\n",
              "- Users in the EU will see a browser choice screen in iOS \u001b[1;36m17.4\u001b[0m to pick a default browser.\n",
              "- It's up to the European Commission to determine whether Apple's plan fully complies with the DMA, and \n",
              "whether these changes boost competition and improve experiences for users.\n"
            ],
            "text/html": [
              "<pre style=\"white-space:pre;overflow-x:auto;line-height:normal;font-family:Menlo,'DejaVu Sans Mono',consolas,'Courier New',monospace\">\n",
              "- Apple will allow alternative app stores and other new options for app developers in order to comply with \n",
              "Europe's Digital Markets Act <span style=\"font-weight: bold\">(</span>DMA<span style=\"font-weight: bold\">)</span>.\n",
              "- The DMA requires Apple to loosen its strict rules requiring developers to rely on the App Store for \n",
              "distribution and payment processing.\n",
              "- Apple is making these changes while ensuring iOS devices remain secure and malware-free, but it has no plans\n",
              "to expand these options outside of Europe due to risk.\n",
              "- New fee structures have been introduced for developers who take advantage of the new freedoms: a <span style=\"color: #008000; text-decoration-color: #008000\">\"core </span>\n",
              "<span style=\"color: #008000; text-decoration-color: #008000\">technology fee\"</span> will be charged for apps with more than <span style=\"color: #008080; text-decoration-color: #008080; font-weight: bold\">1</span> million downloads per year.\n",
              "- The App Store commission will drop from <span style=\"color: #008080; text-decoration-color: #008080; font-weight: bold\">30</span>% to <span style=\"color: #008080; text-decoration-color: #008080; font-weight: bold\">17</span>%, and the discounted rate for certain developers will \n",
              "decrease from <span style=\"color: #008080; text-decoration-color: #008080; font-weight: bold\">15</span>% to <span style=\"color: #008080; text-decoration-color: #008080; font-weight: bold\">10</span>%.\n",
              "- No commission will be charged to developers who want to distribute and facilitate in-app payments outside of\n",
              "the App Store.\n",
              "- Users in the EU will see a browser choice screen in iOS <span style=\"color: #008080; text-decoration-color: #008080; font-weight: bold\">17.4</span> to pick a default browser.\n",
              "- It's up to the European Commission to determine whether Apple's plan fully complies with the DMA, and \n",
              "whether these changes boost competition and improve experiences for users.\n",
              "</pre>\n"
            ]
          },
          "metadata": {}
        },
        {
          "output_type": "display_data",
          "data": {
            "text/plain": [
              "Completed in: \u001b[1;31m0:05:56\u001b[0m\u001b[1;31m.\u001b[0m\u001b[1;31m704152\u001b[0m\n"
            ],
            "text/html": [
              "<pre style=\"white-space:pre;overflow-x:auto;line-height:normal;font-family:Menlo,'DejaVu Sans Mono',consolas,'Courier New',monospace\">Completed in: <span style=\"color: #800000; text-decoration-color: #800000; font-weight: bold\">0:05:56.</span><span style=\"color: #800000; text-decoration-color: #800000; font-weight: bold\">704152</span>\n",
              "</pre>\n"
            ]
          },
          "metadata": {}
        },
        {
          "output_type": "display_data",
          "data": {
            "text/plain": [],
            "text/html": [
              "<pre style=\"white-space:pre;overflow-x:auto;line-height:normal;font-family:Menlo,'DejaVu Sans Mono',consolas,'Courier New',monospace\"></pre>\n"
            ]
          },
          "metadata": {}
        }
      ]
    },
    {
      "cell_type": "markdown",
      "source": [
        "<br><br><br><br><br><br><br><br><br><br><br><br><br><br><br><br><br><br><br><br><br>\n",
        "\n",
        "---\n",
        "---\n",
        "\n",
        "---\n",
        "\n",
        "---\n",
        "\n"
      ],
      "metadata": {
        "id": "4omWV5k2pPFw"
      }
    },
    {
      "cell_type": "markdown",
      "source": [
        "\n",
        "\n",
        "\n",
        "---\n",
        "\n",
        "\n",
        "\n",
        "---\n",
        "\n",
        "\n",
        "---\n",
        "\n"
      ],
      "metadata": {
        "id": "mx_3LF76oe1W"
      }
    },
    {
      "cell_type": "markdown",
      "source": [
        "# Further studies"
      ],
      "metadata": {
        "id": "UhepR1_c0PQY"
      }
    },
    {
      "cell_type": "markdown",
      "source": [
        "### Full functions for QnA and Reranking with summary"
      ],
      "metadata": {
        "id": "4giqGvtRmmiC"
      }
    },
    {
      "cell_type": "markdown",
      "source": [
        "```\n",
        "# load from disk\n",
        "db3 = Chroma(persist_directory=\"./chroma_db480tok-20\", embedding_function=hf_embeddings)\n",
        "```\n",
        "\n"
      ],
      "metadata": {
        "id": "B-IE4ma7mmiC"
      }
    },
    {
      "cell_type": "code",
      "source": [
        "#from langchain_community.llms.huggingface_pipeline import HuggingFacePipeline\n",
        "#llm = HuggingFacePipeline(pipeline=model783)"
      ],
      "metadata": {
        "id": "YMRvRJYzmmiD"
      },
      "execution_count": null,
      "outputs": []
    },
    {
      "cell_type": "code",
      "source": [
        "def QnA_Rerank_Stable(db,k, summarization, query,model):\n",
        "  \"\"\"\n",
        "  return the generated answer to a similarity search query\n",
        "  with Re-ranking of k elements\n",
        "  and run the QnA chain with Prompt Template\n",
        "  inputs:\n",
        "  db -> ChromaDB object instance\n",
        "  k -> number of hits for the similarity search (be aware of Max Context Lenght!)\n",
        "       must be >= 3\n",
        "  summarization -> Langchain Document object with the Summarization\n",
        "  query -> string witht he question for the similarity search\n",
        "  llm -> llama-cpp-python model instance\n",
        "  return res: str generated answer by llm\n",
        "         delta: time object, duration of the llm generation\n",
        "         ques: the question string\n",
        "         reordered_docs: list of LangChainDocuments ReRanked with Summarization\n",
        "  \"\"\"\n",
        "  import datetime\n",
        "  start = datetime.datetime.now()\n",
        "  # Create a retriever\n",
        "  retriever = db.as_retriever(search_kwargs={\"k\": k})\n",
        "  from langchain.document_transformers import LongContextReorder\n",
        "  from langchain.chains import StuffDocumentsChain, LLMChain\n",
        "  from langchain.prompts import PromptTemplate\n",
        "  # Get relevant documents ordered by relevance score\n",
        "  context_set = retriever.get_relevant_documents(query)\n",
        "  #print(str(context_set))\n",
        "  # Reorder the documents:\n",
        "  # Less relevant document will be at the middle of the list and more\n",
        "  # relevant elements at beginning / end.\n",
        "  reordering = LongContextReorder()\n",
        "  reordered_docs = reordering.transform_documents(context_set)\n",
        "  reordered_docs.insert(-1,summarization)\n",
        "  #print(str(reordered_docs))\n",
        "  # We prepare and run a custom Stuff chain with reordered docs as context.\n",
        "  # Override prompts\n",
        "  context = ''\n",
        "  for i in reordered_docs:\n",
        "    context += i.page_content\n",
        "  template = f\"\"\"<|user|>\\nGiven this text extracts:\\n-----\\n{context}\\n-----\\nPlease answer the question. Your answer must be precise, informative and organized into bullet points. If the question is unanswerable, \"\"say \\\"unanswerable\\\".\\nQuestion: {query}<|endoftext|>\\n<|assistant|>\"\"\"\n",
        "  with console.status(\"StableLM-Zephyr-3B AI is working ✅✅✅ ...\",spinner=\"dots12\"):\n",
        "    output = model(\n",
        "      template, # Prompt\n",
        "      temperature=0.3,\n",
        "      max_tokens=450,  # Generate up to 512 tokens\n",
        "      stop=[\"</s>\"],   # Example stop token - not necessarily correct for this specific model! Please check before using.\n",
        "      echo=False        # Whether to echo the prompt\n",
        "    )\n",
        "  result = output['choices'][0]['text']\n",
        "  delta = datetime.datetime.now() - start\n",
        "  return result, delta, query, reordered_docs\n",
        "\n",
        "def evidenzia_res(keys, fulltext,summary):\n",
        "  from rich.text import Text\n",
        "  mytest = fulltext + summary.page_content\n",
        "  text = Text(mytest)\n",
        "  for item in keys:\n",
        "    l = len(item.page_content)\n",
        "    x = mytest.find(item.page_content)\n",
        "    text.stylize(\"black on bright_yellow\", x, (x+l))\n",
        "  console.print(text)\n",
        "  return text"
      ],
      "metadata": {
        "id": "02FEq-u1mmiD"
      },
      "execution_count": null,
      "outputs": []
    },
    {
      "cell_type": "markdown",
      "source": [
        "## QnA_Rerank_Plus with 🧠💎 StablLM-Zephyr-3B using Reranking and Summary"
      ],
      "metadata": {
        "id": "WCKivogummiD"
      }
    },
    {
      "cell_type": "code",
      "source": [
        "from rich.markdown import Markdown\n",
        "console.print(Markdown(\"## QnA GENERATED BY 🧠💎 StablLM-Zephyr-3B with RERANKING and Summary\"))\n",
        "question = \"What are the major changes Apple is implementing in the EU App Store in response to Europe's Digital Markets Act?\"\n",
        "r1,t1,q1,rd1 = QnA_Rerank_Stable(db3,3, docsum, question,llm)\n",
        "console.print(f\"[bold red1]Question: {q1}\")\n",
        "console.print(r1)\n",
        "console.print(\"---\")\n",
        "console.print(f\"generated in {t1}\")"
      ],
      "metadata": {
        "colab": {
          "base_uri": "https://localhost:8080/",
          "height": 314,
          "referenced_widgets": [
            "c545f6f5f5604aa899f318c3a264af09",
            "0f8d41ffc60a49caa55ab876a0418cad"
          ]
        },
        "outputId": "1bf42280-7d58-41a1-bdc8-4910839fd190",
        "id": "4juS4cuGmmiD"
      },
      "execution_count": null,
      "outputs": [
        {
          "output_type": "display_data",
          "data": {
            "text/plain": [
              "┏━━━━━━━━━━━━━━━━━━━━━━━━━━━━━━━━━━━━━━━━━━━━━━━━━━━━━━━━━━━━━━━━━━━━━━━━━━━━━━━━━━━━━━━━━━━━━━━━━━━━━━━━━━━━┓\n",
              "┃                     \u001b[1mQnA GENERATED BY 🧠💎 StablLM-Zephyr-3B with RERANKING and Summary\u001b[0m                     ┃\n",
              "┗━━━━━━━━━━━━━━━━━━━━━━━━━━━━━━━━━━━━━━━━━━━━━━━━━━━━━━━━━━━━━━━━━━━━━━━━━━━━━━━━━━━━━━━━━━━━━━━━━━━━━━━━━━━━┛\n"
            ],
            "text/html": [
              "<pre style=\"white-space:pre;overflow-x:auto;line-height:normal;font-family:Menlo,'DejaVu Sans Mono',consolas,'Courier New',monospace\">┏━━━━━━━━━━━━━━━━━━━━━━━━━━━━━━━━━━━━━━━━━━━━━━━━━━━━━━━━━━━━━━━━━━━━━━━━━━━━━━━━━━━━━━━━━━━━━━━━━━━━━━━━━━━━┓\n",
              "┃                     <span style=\"font-weight: bold\">QnA GENERATED BY 🧠💎 StablLM-Zephyr-3B with RERANKING and Summary</span>                     ┃\n",
              "┗━━━━━━━━━━━━━━━━━━━━━━━━━━━━━━━━━━━━━━━━━━━━━━━━━━━━━━━━━━━━━━━━━━━━━━━━━━━━━━━━━━━━━━━━━━━━━━━━━━━━━━━━━━━━┛\n",
              "</pre>\n"
            ]
          },
          "metadata": {}
        },
        {
          "output_type": "display_data",
          "data": {
            "text/plain": [
              "Llama.generate: prefix-match hit\n"
            ],
            "text/html": [
              "<pre style=\"white-space:pre;overflow-x:auto;line-height:normal;font-family:Menlo,'DejaVu Sans Mono',consolas,'Courier New',monospace\">Llama.generate: prefix-match hit\n",
              "</pre>\n"
            ]
          },
          "metadata": {}
        },
        {
          "output_type": "display_data",
          "data": {
            "text/plain": [
              "Output()"
            ],
            "application/vnd.jupyter.widget-view+json": {
              "version_major": 2,
              "version_minor": 0,
              "model_id": "c545f6f5f5604aa899f318c3a264af09"
            }
          },
          "metadata": {}
        },
        {
          "output_type": "display_data",
          "data": {
            "text/plain": [],
            "text/html": [
              "<pre style=\"white-space:pre;overflow-x:auto;line-height:normal;font-family:Menlo,'DejaVu Sans Mono',consolas,'Courier New',monospace\"></pre>\n"
            ]
          },
          "metadata": {}
        },
        {
          "output_type": "display_data",
          "data": {
            "text/plain": [
              "\u001b[1;38;5;196mQuestion: What are the major changes Apple is implementing in the EU App Store in response to Europe's Digital\u001b[0m\n",
              "\u001b[1;38;5;196mMarkets Act?\u001b[0m\n"
            ],
            "text/html": [
              "<pre style=\"white-space:pre;overflow-x:auto;line-height:normal;font-family:Menlo,'DejaVu Sans Mono',consolas,'Courier New',monospace\"><span style=\"color: #ff0000; text-decoration-color: #ff0000; font-weight: bold\">Question: What are the major changes Apple is implementing in the EU App Store in response to Europe's Digital</span>\n",
              "<span style=\"color: #ff0000; text-decoration-color: #ff0000; font-weight: bold\">Markets Act?</span>\n",
              "</pre>\n"
            ]
          },
          "metadata": {}
        },
        {
          "output_type": "display_data",
          "data": {
            "text/plain": [
              "\n",
              "- Apple will allow alternative app stores and other new options for app developers to comply with Europe's \n",
              "Digital Markets Act \u001b[1m(\u001b[0mDMA\u001b[1m)\u001b[0m.\n",
              "- The company claims that its services are best-in-class and ensure smooth user experiences free of spam or \n",
              "harmful content.\n",
              "- Users in the EU will see a browser choice screen in iOS \u001b[1;36m17.4\u001b[0m to pick a default browser.\n",
              "- Apple is introducing new fees for developers who take advantage of these free freedoms, with approximately \n",
              "\u001b[1;36m99\u001b[0m% of developers paying the same or less fees for their iOS changes.\n",
              "- Epic Games CEO Tim Sweeney has criticized Apple's plan as an instance of Malicious Compliance and has \n",
              "rejected the company's use of notarization and malware scanning processes to undermine competition.\n",
              "- The European Commission will determine whether Apple's plan fully complies with the DMA.\n"
            ],
            "text/html": [
              "<pre style=\"white-space:pre;overflow-x:auto;line-height:normal;font-family:Menlo,'DejaVu Sans Mono',consolas,'Courier New',monospace\">\n",
              "- Apple will allow alternative app stores and other new options for app developers to comply with Europe's \n",
              "Digital Markets Act <span style=\"font-weight: bold\">(</span>DMA<span style=\"font-weight: bold\">)</span>.\n",
              "- The company claims that its services are best-in-class and ensure smooth user experiences free of spam or \n",
              "harmful content.\n",
              "- Users in the EU will see a browser choice screen in iOS <span style=\"color: #008080; text-decoration-color: #008080; font-weight: bold\">17.4</span> to pick a default browser.\n",
              "- Apple is introducing new fees for developers who take advantage of these free freedoms, with approximately \n",
              "<span style=\"color: #008080; text-decoration-color: #008080; font-weight: bold\">99</span>% of developers paying the same or less fees for their iOS changes.\n",
              "- Epic Games CEO Tim Sweeney has criticized Apple's plan as an instance of Malicious Compliance and has \n",
              "rejected the company's use of notarization and malware scanning processes to undermine competition.\n",
              "- The European Commission will determine whether Apple's plan fully complies with the DMA.\n",
              "</pre>\n"
            ]
          },
          "metadata": {}
        },
        {
          "output_type": "display_data",
          "data": {
            "text/plain": [
              "---\n"
            ],
            "text/html": [
              "<pre style=\"white-space:pre;overflow-x:auto;line-height:normal;font-family:Menlo,'DejaVu Sans Mono',consolas,'Courier New',monospace\">---\n",
              "</pre>\n"
            ]
          },
          "metadata": {}
        },
        {
          "output_type": "display_data",
          "data": {
            "text/plain": [
              "generated in \u001b[1;92m0:04:18\u001b[0m.\u001b[1;36m568234\u001b[0m\n"
            ],
            "text/html": [
              "<pre style=\"white-space:pre;overflow-x:auto;line-height:normal;font-family:Menlo,'DejaVu Sans Mono',consolas,'Courier New',monospace\">generated in <span style=\"color: #00ff00; text-decoration-color: #00ff00; font-weight: bold\">0:04:18</span>.<span style=\"color: #008080; text-decoration-color: #008080; font-weight: bold\">568234</span>\n",
              "</pre>\n"
            ]
          },
          "metadata": {}
        }
      ]
    },
    {
      "cell_type": "code",
      "source": [
        "from rich.markdown import Markdown\n",
        "console.print(Markdown(\"# QnA GENERATED BY 🧠💎 StablLM-Zephyr-3B with RERANKING and Summary\"))\n",
        "question = \"What are the major changes Apple is implementing in the EU App Store in response to Europe's Digital Markets Act?\"\n",
        "r1,t1,q1,rd1 = QnA_Rerank_Stable(db3,5, docsum, question,llm)\n",
        "console.print(f\"[bold red1]Question: {q1}\")\n",
        "console.print(r1)\n",
        "console.print(\"---\")\n",
        "console.print(f\"generated in {t1}\")"
      ],
      "metadata": {
        "colab": {
          "base_uri": "https://localhost:8080/",
          "height": 314,
          "referenced_widgets": [
            "1899f434479a4855b241bd6db573d59d",
            "23e4f5961d674cf0ab4df6cd2b95af80"
          ]
        },
        "outputId": "8c0edcb0-e7f2-47d4-e53d-64d7700eb2f2",
        "id": "Nv-WV7lnmmiD"
      },
      "execution_count": null,
      "outputs": [
        {
          "output_type": "display_data",
          "data": {
            "text/plain": [
              "┏━━━━━━━━━━━━━━━━━━━━━━━━━━━━━━━━━━━━━━━━━━━━━━━━━━━━━━━━━━━━━━━━━━━━━━━━━━━━━━━━━━━━━━━━━━━━━━━━━━━━━━━━━━━━┓\n",
              "┃                     \u001b[1mQnA GENERATED BY 🧠💎 StablLM-Zephyr-3B with RERANKING and Summary\u001b[0m                     ┃\n",
              "┗━━━━━━━━━━━━━━━━━━━━━━━━━━━━━━━━━━━━━━━━━━━━━━━━━━━━━━━━━━━━━━━━━━━━━━━━━━━━━━━━━━━━━━━━━━━━━━━━━━━━━━━━━━━━┛\n"
            ],
            "text/html": [
              "<pre style=\"white-space:pre;overflow-x:auto;line-height:normal;font-family:Menlo,'DejaVu Sans Mono',consolas,'Courier New',monospace\">┏━━━━━━━━━━━━━━━━━━━━━━━━━━━━━━━━━━━━━━━━━━━━━━━━━━━━━━━━━━━━━━━━━━━━━━━━━━━━━━━━━━━━━━━━━━━━━━━━━━━━━━━━━━━━┓\n",
              "┃                     <span style=\"font-weight: bold\">QnA GENERATED BY 🧠💎 StablLM-Zephyr-3B with RERANKING and Summary</span>                     ┃\n",
              "┗━━━━━━━━━━━━━━━━━━━━━━━━━━━━━━━━━━━━━━━━━━━━━━━━━━━━━━━━━━━━━━━━━━━━━━━━━━━━━━━━━━━━━━━━━━━━━━━━━━━━━━━━━━━━┛\n",
              "</pre>\n"
            ]
          },
          "metadata": {}
        },
        {
          "output_type": "display_data",
          "data": {
            "text/plain": [
              "Llama.generate: prefix-match hit\n"
            ],
            "text/html": [
              "<pre style=\"white-space:pre;overflow-x:auto;line-height:normal;font-family:Menlo,'DejaVu Sans Mono',consolas,'Courier New',monospace\">Llama.generate: prefix-match hit\n",
              "</pre>\n"
            ]
          },
          "metadata": {}
        },
        {
          "output_type": "display_data",
          "data": {
            "text/plain": [
              "Output()"
            ],
            "application/vnd.jupyter.widget-view+json": {
              "version_major": 2,
              "version_minor": 0,
              "model_id": "1899f434479a4855b241bd6db573d59d"
            }
          },
          "metadata": {}
        },
        {
          "output_type": "display_data",
          "data": {
            "text/plain": [],
            "text/html": [
              "<pre style=\"white-space:pre;overflow-x:auto;line-height:normal;font-family:Menlo,'DejaVu Sans Mono',consolas,'Courier New',monospace\"></pre>\n"
            ]
          },
          "metadata": {}
        },
        {
          "output_type": "display_data",
          "data": {
            "text/plain": [
              "\u001b[1;38;5;196mQuestion: What are the major changes Apple is implementing in the EU App Store in response to Europe's Digital\u001b[0m\n",
              "\u001b[1;38;5;196mMarkets Act?\u001b[0m\n"
            ],
            "text/html": [
              "<pre style=\"white-space:pre;overflow-x:auto;line-height:normal;font-family:Menlo,'DejaVu Sans Mono',consolas,'Courier New',monospace\"><span style=\"color: #ff0000; text-decoration-color: #ff0000; font-weight: bold\">Question: What are the major changes Apple is implementing in the EU App Store in response to Europe's Digital</span>\n",
              "<span style=\"color: #ff0000; text-decoration-color: #ff0000; font-weight: bold\">Markets Act?</span>\n",
              "</pre>\n"
            ]
          },
          "metadata": {}
        },
        {
          "output_type": "display_data",
          "data": {
            "text/plain": [
              "\n",
              "- Apple will allow alternative app stores and other new options for app developers to comply with Europe's \n",
              "Digital Markets Act.\n",
              "- The company will introduce notarization for iOS apps, authorization for marketplace developers, and \n",
              "disclosures on alternative payments.\n",
              "- Users in the EU will see a browser choice screen in iOS \u001b[1;36m17.4\u001b[0m to pick a default browser.\n",
              "- Apple claims that approximately \u001b[1;36m99\u001b[0m% of developers will pay the same or less fees for these changes.\n",
              "- The European Commission has announced that there will be no commission charged to developers who want to \n",
              "distribute and facilitate in-app payments outside of the App Store.\n",
              "- Epic Games CEO Tim Sweeney has criticized Apple's plan as Malicious Compliance, arguing that they are trying\n",
              "to undermine competition and impose Apple taxes on transactions not involved in the process.\n"
            ],
            "text/html": [
              "<pre style=\"white-space:pre;overflow-x:auto;line-height:normal;font-family:Menlo,'DejaVu Sans Mono',consolas,'Courier New',monospace\">\n",
              "- Apple will allow alternative app stores and other new options for app developers to comply with Europe's \n",
              "Digital Markets Act.\n",
              "- The company will introduce notarization for iOS apps, authorization for marketplace developers, and \n",
              "disclosures on alternative payments.\n",
              "- Users in the EU will see a browser choice screen in iOS <span style=\"color: #008080; text-decoration-color: #008080; font-weight: bold\">17.4</span> to pick a default browser.\n",
              "- Apple claims that approximately <span style=\"color: #008080; text-decoration-color: #008080; font-weight: bold\">99</span>% of developers will pay the same or less fees for these changes.\n",
              "- The European Commission has announced that there will be no commission charged to developers who want to \n",
              "distribute and facilitate in-app payments outside of the App Store.\n",
              "- Epic Games CEO Tim Sweeney has criticized Apple's plan as Malicious Compliance, arguing that they are trying\n",
              "to undermine competition and impose Apple taxes on transactions not involved in the process.\n",
              "</pre>\n"
            ]
          },
          "metadata": {}
        },
        {
          "output_type": "display_data",
          "data": {
            "text/plain": [
              "---\n"
            ],
            "text/html": [
              "<pre style=\"white-space:pre;overflow-x:auto;line-height:normal;font-family:Menlo,'DejaVu Sans Mono',consolas,'Courier New',monospace\">---\n",
              "</pre>\n"
            ]
          },
          "metadata": {}
        },
        {
          "output_type": "display_data",
          "data": {
            "text/plain": [
              "generated in \u001b[1;92m0:07:13\u001b[0m.\u001b[1;36m929793\u001b[0m\n"
            ],
            "text/html": [
              "<pre style=\"white-space:pre;overflow-x:auto;line-height:normal;font-family:Menlo,'DejaVu Sans Mono',consolas,'Courier New',monospace\">generated in <span style=\"color: #00ff00; text-decoration-color: #00ff00; font-weight: bold\">0:07:13</span>.<span style=\"color: #008080; text-decoration-color: #008080; font-weight: bold\">929793</span>\n",
              "</pre>\n"
            ]
          },
          "metadata": {}
        }
      ]
    },
    {
      "cell_type": "code",
      "source": [
        "from rich.markdown import Markdown\n",
        "console.print(Markdown(\"# QnA GENERATED BY 🧠💎 StablLM-Zephyr-3B with RERANKING and Summary\"))\n",
        "question = \"What are the major changes Apple is implementing in the EU App Store in response to Europe's Digital Markets Act?\"\n",
        "r1,t1,q1,rd1 = QnA_Rerank_Stable(db3,9, docsum, question,llm)\n",
        "console.print(f\"[bold red1]Question: {q1}\")\n",
        "console.print(r1)\n",
        "console.print(\"---\")\n",
        "console.print(f\"generated in {t1}\")"
      ],
      "metadata": {
        "colab": {
          "base_uri": "https://localhost:8080/",
          "height": 331,
          "referenced_widgets": [
            "3a1d45ca8bfc4a388c505313ee5a88ee",
            "012f96b2dc1e42509dc1ad33f39c4b8e"
          ]
        },
        "outputId": "f8fa1dc4-78ce-40ea-e938-7a4f3592a941",
        "id": "w8WR-WAImmiD"
      },
      "execution_count": null,
      "outputs": [
        {
          "output_type": "display_data",
          "data": {
            "text/plain": [
              "┏━━━━━━━━━━━━━━━━━━━━━━━━━━━━━━━━━━━━━━━━━━━━━━━━━━━━━━━━━━━━━━━━━━━━━━━━━━━━━━━━━━━━━━━━━━━━━━━━━━━━━━━━━━━━┓\n",
              "┃                     \u001b[1mQnA GENERATED BY 🧠💎 StablLM-Zephyr-3B with RERANKING and Summary\u001b[0m                     ┃\n",
              "┗━━━━━━━━━━━━━━━━━━━━━━━━━━━━━━━━━━━━━━━━━━━━━━━━━━━━━━━━━━━━━━━━━━━━━━━━━━━━━━━━━━━━━━━━━━━━━━━━━━━━━━━━━━━━┛\n"
            ],
            "text/html": [
              "<pre style=\"white-space:pre;overflow-x:auto;line-height:normal;font-family:Menlo,'DejaVu Sans Mono',consolas,'Courier New',monospace\">┏━━━━━━━━━━━━━━━━━━━━━━━━━━━━━━━━━━━━━━━━━━━━━━━━━━━━━━━━━━━━━━━━━━━━━━━━━━━━━━━━━━━━━━━━━━━━━━━━━━━━━━━━━━━━┓\n",
              "┃                     <span style=\"font-weight: bold\">QnA GENERATED BY 🧠💎 StablLM-Zephyr-3B with RERANKING and Summary</span>                     ┃\n",
              "┗━━━━━━━━━━━━━━━━━━━━━━━━━━━━━━━━━━━━━━━━━━━━━━━━━━━━━━━━━━━━━━━━━━━━━━━━━━━━━━━━━━━━━━━━━━━━━━━━━━━━━━━━━━━━┛\n",
              "</pre>\n"
            ]
          },
          "metadata": {}
        },
        {
          "output_type": "stream",
          "name": "stderr",
          "text": [
            "WARNING:chromadb.segment.impl.vector.local_persistent_hnsw:Number of requested results 9 is greater than number of elements in index 7, updating n_results = 7\n"
          ]
        },
        {
          "output_type": "display_data",
          "data": {
            "text/plain": [
              "Llama.generate: prefix-match hit\n"
            ],
            "text/html": [
              "<pre style=\"white-space:pre;overflow-x:auto;line-height:normal;font-family:Menlo,'DejaVu Sans Mono',consolas,'Courier New',monospace\">Llama.generate: prefix-match hit\n",
              "</pre>\n"
            ]
          },
          "metadata": {}
        },
        {
          "output_type": "display_data",
          "data": {
            "text/plain": [
              "Output()"
            ],
            "application/vnd.jupyter.widget-view+json": {
              "version_major": 2,
              "version_minor": 0,
              "model_id": "3a1d45ca8bfc4a388c505313ee5a88ee"
            }
          },
          "metadata": {}
        },
        {
          "output_type": "display_data",
          "data": {
            "text/plain": [],
            "text/html": [
              "<pre style=\"white-space:pre;overflow-x:auto;line-height:normal;font-family:Menlo,'DejaVu Sans Mono',consolas,'Courier New',monospace\"></pre>\n"
            ]
          },
          "metadata": {}
        },
        {
          "output_type": "display_data",
          "data": {
            "text/plain": [
              "\u001b[1;38;5;196mQuestion: What are the major changes Apple is implementing in the EU App Store in response to Europe's Digital\u001b[0m\n",
              "\u001b[1;38;5;196mMarkets Act?\u001b[0m\n"
            ],
            "text/html": [
              "<pre style=\"white-space:pre;overflow-x:auto;line-height:normal;font-family:Menlo,'DejaVu Sans Mono',consolas,'Courier New',monospace\"><span style=\"color: #ff0000; text-decoration-color: #ff0000; font-weight: bold\">Question: What are the major changes Apple is implementing in the EU App Store in response to Europe's Digital</span>\n",
              "<span style=\"color: #ff0000; text-decoration-color: #ff0000; font-weight: bold\">Markets Act?</span>\n",
              "</pre>\n"
            ]
          },
          "metadata": {}
        },
        {
          "output_type": "display_data",
          "data": {
            "text/plain": [
              "\n",
              "- Apple will allow alternative app stores and other new options for app developers to comply with Europe's \n",
              "Digital Markets Act \u001b[1m(\u001b[0mDMA\u001b[1m)\u001b[0m.\n",
              "- The company will introduce notarization for iOS apps, authorization for marketplace developers, and \n",
              "disclosures on alternative payments.\n",
              "- Users in the EU will see a browser choice screen in iOS \u001b[1;36m17.4\u001b[0m to pick a default browser.\n",
              "- Apple claims that approximately \u001b[1;36m99\u001b[0m% of developers will pay the same or less fees for their iOS changes, \n",
              "including the new freedoms.\n",
              "- The App Store commission, for developers who continue to use it, will drop from \u001b[1;36m30\u001b[0m% to \u001b[1;36m17\u001b[0m%.\n",
              "- A \u001b[32m\"core technology fee\"\u001b[0m of €.\u001b[1;36m50\u001b[0m will be charged for \u001b[32m\"each first annual install per year\"\u001b[0m for apps with more \n",
              "than \u001b[1;36m1\u001b[0m million downloads, to be counted once per Apple account.\n"
            ],
            "text/html": [
              "<pre style=\"white-space:pre;overflow-x:auto;line-height:normal;font-family:Menlo,'DejaVu Sans Mono',consolas,'Courier New',monospace\">\n",
              "- Apple will allow alternative app stores and other new options for app developers to comply with Europe's \n",
              "Digital Markets Act <span style=\"font-weight: bold\">(</span>DMA<span style=\"font-weight: bold\">)</span>.\n",
              "- The company will introduce notarization for iOS apps, authorization for marketplace developers, and \n",
              "disclosures on alternative payments.\n",
              "- Users in the EU will see a browser choice screen in iOS <span style=\"color: #008080; text-decoration-color: #008080; font-weight: bold\">17.4</span> to pick a default browser.\n",
              "- Apple claims that approximately <span style=\"color: #008080; text-decoration-color: #008080; font-weight: bold\">99</span>% of developers will pay the same or less fees for their iOS changes, \n",
              "including the new freedoms.\n",
              "- The App Store commission, for developers who continue to use it, will drop from <span style=\"color: #008080; text-decoration-color: #008080; font-weight: bold\">30</span>% to <span style=\"color: #008080; text-decoration-color: #008080; font-weight: bold\">17</span>%.\n",
              "- A <span style=\"color: #008000; text-decoration-color: #008000\">\"core technology fee\"</span> of €.<span style=\"color: #008080; text-decoration-color: #008080; font-weight: bold\">50</span> will be charged for <span style=\"color: #008000; text-decoration-color: #008000\">\"each first annual install per year\"</span> for apps with more \n",
              "than <span style=\"color: #008080; text-decoration-color: #008080; font-weight: bold\">1</span> million downloads, to be counted once per Apple account.\n",
              "</pre>\n"
            ]
          },
          "metadata": {}
        },
        {
          "output_type": "display_data",
          "data": {
            "text/plain": [
              "---\n"
            ],
            "text/html": [
              "<pre style=\"white-space:pre;overflow-x:auto;line-height:normal;font-family:Menlo,'DejaVu Sans Mono',consolas,'Courier New',monospace\">---\n",
              "</pre>\n"
            ]
          },
          "metadata": {}
        },
        {
          "output_type": "display_data",
          "data": {
            "text/plain": [
              "generated in \u001b[1;92m0:06:32\u001b[0m.\u001b[1;36m678458\u001b[0m\n"
            ],
            "text/html": [
              "<pre style=\"white-space:pre;overflow-x:auto;line-height:normal;font-family:Menlo,'DejaVu Sans Mono',consolas,'Courier New',monospace\">generated in <span style=\"color: #00ff00; text-decoration-color: #00ff00; font-weight: bold\">0:06:32</span>.<span style=\"color: #008080; text-decoration-color: #008080; font-weight: bold\">678458</span>\n",
              "</pre>\n"
            ]
          },
          "metadata": {}
        }
      ]
    },
    {
      "cell_type": "markdown",
      "source": [
        "## Further studies section"
      ],
      "metadata": {
        "id": "3ebGeVWommiE"
      }
    },
    {
      "cell_type": "markdown",
      "source": [
        "### Load a Llama.cpp model details"
      ],
      "metadata": {
        "id": "paCBVeZfFf8L"
      }
    },
    {
      "cell_type": "code",
      "source": [
        "!huggingface-cli download TheBloke/stablelm-zephyr-3b-GGUF stablelm-zephyr-3b.Q5_K_S.gguf --local-dir . --local-dir-use-symlinks False"
      ],
      "metadata": {
        "id": "bYVaA31p1AjA"
      },
      "execution_count": null,
      "outputs": []
    },
    {
      "cell_type": "code",
      "source": [
        "!wget https://huggingface.co/TheBloke/stablelm-zephyr-3b-GGUF/resolve/main/stablelm-zephyr-3b.Q5_K_S.gguf?download=true"
      ],
      "metadata": {
        "id": "S5qPO6bb1PxG"
      },
      "execution_count": null,
      "outputs": []
    },
    {
      "cell_type": "markdown",
      "source": [
        "\n",
        "\n",
        "```\n",
        "# Set gpu_layers to the number of layers to offload to GPU. Set to 0 if no GPU acceleration is available on your system.\n",
        "llm = Llama(\n",
        "  model_path=\"/content/stablelm-zephyr-3b.Q5_K_S.gguf\",  # Download the model file first\n",
        "  n_ctx=4096,  # The max sequence length to use - note that longer sequence lengths require much more resources\n",
        "  n_threads=8,            # The number of CPU threads to use, tailor to your system and the resulting performance\n",
        "  n_gpu_layers=35         # The number of layers to offload to GPU, if you have GPU acceleration available\n",
        ")\n",
        "\n",
        "# Simple inference example\n",
        "output = llm(\n",
        "  \"<|user|>\\n{prompt}<|endoftext|>\\n<|assistant|>\", # Prompt\n",
        "  max_tokens=512,  # Generate up to 512 tokens\n",
        "  stop=[\"</s>\"],   # Example stop token - not necessarily correct for this specific model! Please check before using.\n",
        "  echo=True        # Whether to echo the prompt\n",
        ")\n",
        "```\n",
        "\n"
      ],
      "metadata": {
        "id": "3fsnhd9E0E0e"
      }
    },
    {
      "cell_type": "markdown",
      "source": [
        "\"<|user|>\\n{prompt}<|endoftext|>\\n<|assistant|>\""
      ],
      "metadata": {
        "id": "5AjtCKrA2aub"
      }
    },
    {
      "cell_type": "code",
      "source": [
        "#from langchain.callbacks.manager import CallbackManager\n",
        "#from langchain.callbacks.streaming_stdout import StreamingStdOutCallbackHandler\n",
        "#from langchain_community.llms import LlamaCpp\n",
        "from llama_cpp import Llama\n",
        "\n",
        "llm = Llama(\n",
        "  model_path=\"/content/stablelm-zephyr-3b.Q5_K_S.gguf\",  # Download the model file first\n",
        "  n_ctx=4096,  # The max sequence length to use - note that longer sequence lengths require much more resources\n",
        "  n_threads=2,            # The number of CPU threads to use, tailor to your system and the resulting performance\n",
        ")"
      ],
      "metadata": {
        "id": "8oR5LTj5gJZT",
        "colab": {
          "base_uri": "https://localhost:8080/"
        },
        "outputId": "17f23bb3-2be4-4816-b97d-5a94eeeadbfe"
      },
      "execution_count": null,
      "outputs": [
        {
          "output_type": "stream",
          "name": "stderr",
          "text": [
            "AVX = 1 | AVX_VNNI = 0 | AVX2 = 1 | AVX512 = 0 | AVX512_VBMI = 0 | AVX512_VNNI = 0 | FMA = 1 | NEON = 0 | ARM_FMA = 0 | F16C = 1 | FP16_VA = 0 | WASM_SIMD = 0 | BLAS = 0 | SSE3 = 1 | SSSE3 = 1 | VSX = 0 | \n",
            "Model metadata: {'general.file_type': '16', 'tokenizer.chat_template': \"{% for message in messages %}\\n{% if message['role'] == 'user' %}\\n{{ '<|user|>\\n' + message['content'] + eos_token }}\\n{% elif message['role'] == 'system' %}\\n{{ '<|system|>\\n' + message['content'] + eos_token }}\\n{% elif message['role'] == 'assistant' %}\\n{{ '<|assistant|>\\n'  + message['content'] + eos_token }}\\n{% endif %}\\n{% if loop.last and add_generation_prompt %}\\n{{ '<|assistant|>' }}\\n{% endif %}\\n{% endfor %}\", 'tokenizer.ggml.unknown_token_id': '0', 'general.architecture': 'stablelm', 'general.name': 'source', 'stablelm.embedding_length': '2560', 'stablelm.context_length': '4096', 'stablelm.block_count': '32', 'stablelm.feed_forward_length': '6912', 'stablelm.use_parallel_residual': 'true', 'tokenizer.ggml.bos_token_id': '0', 'tokenizer.ggml.padding_token_id': '0', 'stablelm.rope.dimension_count': '20', 'stablelm.attention.layer_norm_epsilon': '0.000010', 'tokenizer.ggml.eos_token_id': '0', 'stablelm.attention.head_count': '32', 'general.quantization_version': '2', 'tokenizer.ggml.model': 'gpt2'}\n"
          ]
        }
      ]
    },
    {
      "cell_type": "code",
      "source": [
        "# Different chunks for the functions (Summary/Question Generation)\n",
        "from langchain.document_loaders import TextLoader\n",
        "from langchain.text_splitter import TokenTextSplitter\n",
        "TOKENtext_splitter = TokenTextSplitter(chunk_size=430, chunk_overlap=20)\n",
        "splitted_text_sum = TOKENtext_splitter.split_text(editedtext) #create a list\n",
        "TOKENtext_splitter = TokenTextSplitter(chunk_size=280, chunk_overlap=20)\n",
        "splitted_text_qg = TOKENtext_splitter.split_text(editedtext) #create a list\n",
        "TOKENtext_splitter = TokenTextSplitter(chunk_size=150, chunk_overlap=20)\n",
        "splitted_text_qna = TOKENtext_splitter.split_text(editedtext) #create a list\n",
        "\n",
        "\n",
        "#Function for T5 model to summarize text based on textsplitted chunks base\n",
        "def summary77(textplitted, model, modelname):\n",
        "  writehistory(f\"{str(datetime.datetime.now())} Using {modelname} for summarization task...\")\n",
        "  start = datetime.datetime.now()\n",
        "  with console.status(\"Generating summary...\",spinner=\"dots12\"):\n",
        "    summary =\"SUMMARY:\\n\"\n",
        "    for item in textplitted:\n",
        "      text = item\n",
        "      template_summary = f'''Text: {text}\n",
        "\n",
        "Write a complete summary of the above text.\n",
        "'''\n",
        "      res = model(template_summary, temperature=0.3, repetition_penalty=1.3, max_length=300, do_sample=True)[0]['generated_text']\n",
        "      #console.print(res)\n",
        "      #console.print('---')\n",
        "      summary = summary + res + '\\n'\n",
        "  delta = datetime.datetime.now() - start\n",
        "  writehistory(f\"{str(datetime.datetime.now())} [bold]----------------------------\")\n",
        "  writehistory(f\"{str(datetime.datetime.now())} {summary}\")\n",
        "  writehistory(f\"{str(datetime.datetime.now())} [red1 bold]Full SUMMARY Completed in {delta}\")\n",
        "  return summary\n",
        "\n",
        "#Function for T5 model to generate 2 questions for each chunk of text based on textsplitted chunks base\n",
        "def qgen77(textplitted, model, modelname):\n",
        "  writehistory(f\"{str(datetime.datetime.now())} Using {modelname} for for Question generation task -  2 PER CHUNK...\")\n",
        "  start = datetime.datetime.now()\n",
        "  quest2 = []\n",
        "  with console.status(\"Generating Questions...\",spinner=\"dots12\"):\n",
        "    for item in textplitted:\n",
        "      text = item\n",
        "      template_qg = f'''{text}\\n\\n\n",
        "write two important questions about the above text.\n",
        "Questions:\n",
        "1.\n",
        "2.\n",
        "'''\n",
        "      res = model(template_qg, temperature=0.3, repetition_penalty=1.3, max_length=250, do_sample=True)[0]['generated_text']\n",
        "      ed_res = res.replace('? ','?#')\n",
        "      list_res = ed_res.split('#')\n",
        "      for i in list_res:\n",
        "        #a = i[3:]  REMOVED TRUNK on the list, generated by LaMini\n",
        "        quest2.append(i[3:])\n",
        "\n",
        "  writehistory(f\"{str(datetime.datetime.now())} [bold]----------------------------\")\n",
        "  writehistory(f\"{str(datetime.datetime.now())} {quest2}\")\n",
        "  return quest2\n",
        "\n",
        "\n",
        "\n",
        "\n",
        "#Function for general inference of the model, no context required\n",
        "def stableQA(question,maxtokens,model):\n",
        "  \"\"\"\n",
        "  basic generation with StableLM / any llama.cpp loaded model\n",
        "  question -> string\n",
        "  maxtokens -> int, number of max tokens to generate\n",
        "  model -> llama-cpp-python instance // here is StableLM-Zephyr-3B\n",
        "  RETURNS question, ouotput -> str\n",
        "  \"\"\"\n",
        "  import datetime\n",
        "  start = datetime.datetime.now()\n",
        "  prompt = question\n",
        "  template = f\"<|user|>\\n{prompt}<|endoftext|>\\n<|assistant|>\"\n",
        "  with console.status(\"StableLM-Zephyr-3B AI is working ✅✅✅ ...\",spinner=\"dots12\"):\n",
        "    output = model(\n",
        "      template, # Prompt\n",
        "      temperature=0.3,\n",
        "      max_tokens=maxtokens,  # Generate up to 512 tokens\n",
        "      stop=[\"</s>\"],   # Example stop token - not necessarily correct for this specific model! Please check before using.\n",
        "      echo=False        # Whether to echo the prompt\n",
        "    )\n",
        "    delta = datetime.datetime.now() - start\n",
        "    console.print(f\"Question: [bright_green on black]{prompt}\")\n",
        "    console.print(output['choices'][0]['text'])\n",
        "    console.print(f\"Completed in: [bold red]{delta}\")\n",
        "    return question, output['choices'][0]['text']\n",
        "\n",
        "#Function for QnA over a Context - the context is pure string text\n",
        "def stableQnA(question,contesto,maxtokens,model):\n",
        "  \"\"\"\n",
        "  basic generation with StableLM / any llama.cpp loaded model\n",
        "  question -> string\n",
        "  contesto -> string, parsed page_content from document objects\n",
        "  maxtokens -> int, number of max tokens to generate\n",
        "  model -> llama-cpp-python instance // here is StableLM-Zephyr-3B\n",
        "  RETURNS question, ouotput -> str\n",
        "  \"\"\"\n",
        "  context = contesto\n",
        "  query = question\n",
        "  import datetime\n",
        "  start = datetime.datetime.now()\n",
        "  template = f\"\"\"<|user|>\\nGiven this text extracts:\\n-----\\n{context}\\n-----\\nPlease answer the question. Your answer must be informative and organized into bullet points. If the question is unanswerable, \"\"say \\\"unanswerable\\\".\\nQuestion: {query}<|endoftext|>\\n<|assistant|>\"\"\"\n",
        "  with console.status(\"StableLM-Zephyr-3B AI is working ✅✅✅ ...\",spinner=\"dots12\"):\n",
        "    output = model(\n",
        "      template, # Prompt\n",
        "      temperature=0.3,\n",
        "      max_tokens=maxtokens,  # Generate up to 512 tokens\n",
        "      stop=[\"</s>\"],   # Example stop token - not necessarily correct for this specific model! Please check before using.\n",
        "      echo=False        # Whether to echo the prompt\n",
        "    )\n",
        "    delta = datetime.datetime.now() - start\n",
        "    console.print(f\"[bright_green bold on black]Question: {query}\")\n",
        "    console.print(output['choices'][0]['text'])\n",
        "    console.print(f\"Completed in: [bold red]{delta}\")\n",
        "    return question, output['choices'][0]['text']"
      ],
      "metadata": {
        "id": "a8GrOded2Ofg"
      },
      "execution_count": null,
      "outputs": []
    },
    {
      "cell_type": "markdown",
      "source": [
        "- Usage example"
      ],
      "metadata": {
        "id": "mOuusCal58iA"
      }
    },
    {
      "cell_type": "code",
      "source": [
        "q,o = stableQA(\"What is Science?\",250,llm)"
      ],
      "metadata": {
        "colab": {
          "base_uri": "https://localhost:8080/",
          "height": 347,
          "referenced_widgets": [
            "f0725be8753c4e55a4b7e9b08dac2bdf",
            "dd7af087c1df470090c2de2bf5617309"
          ]
        },
        "id": "AgoSabfp48yn",
        "outputId": "f658f88e-84ed-4c77-88ad-c44b87ff2de5"
      },
      "execution_count": null,
      "outputs": [
        {
          "output_type": "display_data",
          "data": {
            "text/plain": [
              "Llama.generate: prefix-match hit\n"
            ],
            "text/html": [
              "<pre style=\"white-space:pre;overflow-x:auto;line-height:normal;font-family:Menlo,'DejaVu Sans Mono',consolas,'Courier New',monospace\">Llama.generate: prefix-match hit\n",
              "</pre>\n"
            ]
          },
          "metadata": {}
        },
        {
          "output_type": "display_data",
          "data": {
            "text/plain": [
              "Output()"
            ],
            "application/vnd.jupyter.widget-view+json": {
              "version_major": 2,
              "version_minor": 0,
              "model_id": "f0725be8753c4e55a4b7e9b08dac2bdf"
            }
          },
          "metadata": {}
        },
        {
          "output_type": "display_data",
          "data": {
            "text/plain": [
              "Question: \u001b[92;40mWhat is Science?\u001b[0m\n"
            ],
            "text/html": [
              "<pre style=\"white-space:pre;overflow-x:auto;line-height:normal;font-family:Menlo,'DejaVu Sans Mono',consolas,'Courier New',monospace\">Question: <span style=\"color: #00ff00; text-decoration-color: #00ff00; background-color: #000000\">What is Science?</span>\n",
              "</pre>\n"
            ]
          },
          "metadata": {}
        },
        {
          "output_type": "display_data",
          "data": {
            "text/plain": [
              " \n",
              "\n",
              "Science is a systematic way of studying the natural world and gaining new knowledge and understanding through \n",
              "observation, experiment, analysis, and theory. Amsler-key elements of science include:\n",
              "\n",
              "\u001b[1;36m1\u001b[0m. Observation: The process of gathering information about natural phenomena around us.\n",
              "\u001b[1;36m2\u001b[0m. Experimentation: The systematic testing of hypotheses by manipulating variables to observe how they affect \n",
              "the subject being studied.\n",
              "\u001b[1;36m3\u001b[0m. Analysis: The interpretation and organization of data collected through observation and experimentation.\n",
              "\u001b[1;36m4\u001b[0m. Theory: A well-substantiated explanation or model that predicts natural phenomena and can be tested and \n",
              "refined through experimentation and observation.\n",
              "\u001b[1;36m5\u001b[0m. Experimentation: The systematic testing of hypotheses by manipulating variables to observe how they affect \n",
              "the subject being studied.\n",
              "\u001b[1;36m6\u001b[0m. Replicability: The ability to reproduce results obtained by others, ensuring validity and reliability of \n",
              "scientific findings.\n",
              "\u001b[1;36m7\u001b[0m. Objectivity: The pursuit of knowledge without bias or preconceptions about what is true or false.\n",
              "\u001b[1;36m8\u001b[0m. Scientific Method: A step-by-step process used in the scientific community to guide research and \n",
              "investigation, including hypothesis formulation, experimentation, analysis, theory testing, and peer review.\n"
            ],
            "text/html": [
              "<pre style=\"white-space:pre;overflow-x:auto;line-height:normal;font-family:Menlo,'DejaVu Sans Mono',consolas,'Courier New',monospace\"> \n",
              "\n",
              "Science is a systematic way of studying the natural world and gaining new knowledge and understanding through \n",
              "observation, experiment, analysis, and theory. Amsler-key elements of science include:\n",
              "\n",
              "<span style=\"color: #008080; text-decoration-color: #008080; font-weight: bold\">1</span>. Observation: The process of gathering information about natural phenomena around us.\n",
              "<span style=\"color: #008080; text-decoration-color: #008080; font-weight: bold\">2</span>. Experimentation: The systematic testing of hypotheses by manipulating variables to observe how they affect \n",
              "the subject being studied.\n",
              "<span style=\"color: #008080; text-decoration-color: #008080; font-weight: bold\">3</span>. Analysis: The interpretation and organization of data collected through observation and experimentation.\n",
              "<span style=\"color: #008080; text-decoration-color: #008080; font-weight: bold\">4</span>. Theory: A well-substantiated explanation or model that predicts natural phenomena and can be tested and \n",
              "refined through experimentation and observation.\n",
              "<span style=\"color: #008080; text-decoration-color: #008080; font-weight: bold\">5</span>. Experimentation: The systematic testing of hypotheses by manipulating variables to observe how they affect \n",
              "the subject being studied.\n",
              "<span style=\"color: #008080; text-decoration-color: #008080; font-weight: bold\">6</span>. Replicability: The ability to reproduce results obtained by others, ensuring validity and reliability of \n",
              "scientific findings.\n",
              "<span style=\"color: #008080; text-decoration-color: #008080; font-weight: bold\">7</span>. Objectivity: The pursuit of knowledge without bias or preconceptions about what is true or false.\n",
              "<span style=\"color: #008080; text-decoration-color: #008080; font-weight: bold\">8</span>. Scientific Method: A step-by-step process used in the scientific community to guide research and \n",
              "investigation, including hypothesis formulation, experimentation, analysis, theory testing, and peer review.\n",
              "</pre>\n"
            ]
          },
          "metadata": {}
        },
        {
          "output_type": "display_data",
          "data": {
            "text/plain": [],
            "text/html": [
              "<pre style=\"white-space:pre;overflow-x:auto;line-height:normal;font-family:Menlo,'DejaVu Sans Mono',consolas,'Courier New',monospace\"></pre>\n"
            ]
          },
          "metadata": {}
        }
      ]
    },
    {
      "cell_type": "code",
      "source": [
        "q1,o1 = stableQnA(\"What are the changes made by Apple to its iOS App Store in order to comply with Europe's Digital Markets Act?\",editedtext,450,llm)"
      ],
      "metadata": {
        "colab": {
          "base_uri": "https://localhost:8080/",
          "height": 215,
          "referenced_widgets": [
            "6d67b45d4336423b96c789c9cd4d61a4",
            "a7e69a92b81646d3948103a51dffd008"
          ]
        },
        "id": "PW_IgjcQ7dTI",
        "outputId": "f1babb69-184e-431a-dde6-68e9193d4933"
      },
      "execution_count": null,
      "outputs": [
        {
          "output_type": "display_data",
          "data": {
            "text/plain": [
              "Llama.generate: prefix-match hit\n"
            ],
            "text/html": [
              "<pre style=\"white-space:pre;overflow-x:auto;line-height:normal;font-family:Menlo,'DejaVu Sans Mono',consolas,'Courier New',monospace\">Llama.generate: prefix-match hit\n",
              "</pre>\n"
            ]
          },
          "metadata": {}
        },
        {
          "output_type": "display_data",
          "data": {
            "text/plain": [
              "Output()"
            ],
            "application/vnd.jupyter.widget-view+json": {
              "version_major": 2,
              "version_minor": 0,
              "model_id": "6d67b45d4336423b96c789c9cd4d61a4"
            }
          },
          "metadata": {}
        },
        {
          "output_type": "display_data",
          "data": {
            "text/plain": [
              "Question: \u001b[92;40mWhat is Science?\u001b[0m\n"
            ],
            "text/html": [
              "<pre style=\"white-space:pre;overflow-x:auto;line-height:normal;font-family:Menlo,'DejaVu Sans Mono',consolas,'Courier New',monospace\">Question: <span style=\"color: #00ff00; text-decoration-color: #00ff00; background-color: #000000\">What is Science?</span>\n",
              "</pre>\n"
            ]
          },
          "metadata": {}
        },
        {
          "output_type": "display_data",
          "data": {
            "text/plain": [
              "\n",
              "Apple has made several changes to its iOS App Store in order to comply with Europe's Digital Markets Act \n",
              "\u001b[1m(\u001b[0mDMA\u001b[1m)\u001b[0m, which goes into effect on March \u001b[1;36m7\u001b[0m. These changes include allowing alternative app stores and other new \n",
              "options for app developers, introducing new fee structures for developers who take advantage of these \n",
              "freedoms, and including notarization for iOS apps, authorization for marketplace developers, and disclosures \n",
              "on alternative payments. The App Store commission will also be reduced from \u001b[1;36m30\u001b[0m% to \u001b[1;36m17\u001b[0m%, and developers who \n",
              "want to distribute and facilitate in-app payments outside of the App Store won't be charged a fee. Users in \n",
              "the EU will see a browser choice screen in iOS \u001b[1;36m17.4\u001b[0m to pick a default browser. Apple claims that these changes\n",
              "are being made with the aim of maintaining iOS devices' security and malware-free status while reducing risks \n",
              "posed by the DMA, although the company has no plans to expand these options outside of Europe due to risk.\n"
            ],
            "text/html": [
              "<pre style=\"white-space:pre;overflow-x:auto;line-height:normal;font-family:Menlo,'DejaVu Sans Mono',consolas,'Courier New',monospace\">\n",
              "Apple has made several changes to its iOS App Store in order to comply with Europe's Digital Markets Act \n",
              "<span style=\"font-weight: bold\">(</span>DMA<span style=\"font-weight: bold\">)</span>, which goes into effect on March <span style=\"color: #008080; text-decoration-color: #008080; font-weight: bold\">7</span>. These changes include allowing alternative app stores and other new \n",
              "options for app developers, introducing new fee structures for developers who take advantage of these \n",
              "freedoms, and including notarization for iOS apps, authorization for marketplace developers, and disclosures \n",
              "on alternative payments. The App Store commission will also be reduced from <span style=\"color: #008080; text-decoration-color: #008080; font-weight: bold\">30</span>% to <span style=\"color: #008080; text-decoration-color: #008080; font-weight: bold\">17</span>%, and developers who \n",
              "want to distribute and facilitate in-app payments outside of the App Store won't be charged a fee. Users in \n",
              "the EU will see a browser choice screen in iOS <span style=\"color: #008080; text-decoration-color: #008080; font-weight: bold\">17.4</span> to pick a default browser. Apple claims that these changes\n",
              "are being made with the aim of maintaining iOS devices' security and malware-free status while reducing risks \n",
              "posed by the DMA, although the company has no plans to expand these options outside of Europe due to risk.\n",
              "</pre>\n"
            ]
          },
          "metadata": {}
        },
        {
          "output_type": "display_data",
          "data": {
            "text/plain": [
              "Completed in: \u001b[1;31m0:06:31\u001b[0m\u001b[1;31m.\u001b[0m\u001b[1;31m239495\u001b[0m\n"
            ],
            "text/html": [
              "<pre style=\"white-space:pre;overflow-x:auto;line-height:normal;font-family:Menlo,'DejaVu Sans Mono',consolas,'Courier New',monospace\">Completed in: <span style=\"color: #800000; text-decoration-color: #800000; font-weight: bold\">0:06:31.</span><span style=\"color: #800000; text-decoration-color: #800000; font-weight: bold\">239495</span>\n",
              "</pre>\n"
            ]
          },
          "metadata": {}
        },
        {
          "output_type": "display_data",
          "data": {
            "text/plain": [],
            "text/html": [
              "<pre style=\"white-space:pre;overflow-x:auto;line-height:normal;font-family:Menlo,'DejaVu Sans Mono',consolas,'Courier New',monospace\"></pre>\n"
            ]
          },
          "metadata": {}
        }
      ]
    },
    {
      "cell_type": "code",
      "source": [
        "q1,o1 = stableQnA(\"What are the changes made by Apple to its iOS App Store in order to comply with Europe's Digital Markets Act?\",editedtext,450,llm)"
      ],
      "metadata": {
        "colab": {
          "base_uri": "https://localhost:8080/",
          "height": 281,
          "referenced_widgets": [
            "4579205f0849416399e05fef923be985",
            "ce4e143b4b964f5081bcb6b5ccb6b9e3"
          ]
        },
        "id": "B3c3DFkz48v7",
        "outputId": "e6f749c4-1a5e-46bd-b2aa-7429e919e815"
      },
      "execution_count": null,
      "outputs": [
        {
          "output_type": "display_data",
          "data": {
            "text/plain": [
              "Llama.generate: prefix-match hit\n"
            ],
            "text/html": [
              "<pre style=\"white-space:pre;overflow-x:auto;line-height:normal;font-family:Menlo,'DejaVu Sans Mono',consolas,'Courier New',monospace\">Llama.generate: prefix-match hit\n",
              "</pre>\n"
            ]
          },
          "metadata": {}
        },
        {
          "output_type": "display_data",
          "data": {
            "text/plain": [
              "Output()"
            ],
            "application/vnd.jupyter.widget-view+json": {
              "version_major": 2,
              "version_minor": 0,
              "model_id": "4579205f0849416399e05fef923be985"
            }
          },
          "metadata": {}
        },
        {
          "output_type": "display_data",
          "data": {
            "text/plain": [
              "\u001b[1;92;40mQuestion: What are the changes made by Apple to its iOS App Store in order to comply with Europe's Digital \u001b[0m\n",
              "\u001b[1;92;40mMarkets Act?\u001b[0m\n"
            ],
            "text/html": [
              "<pre style=\"white-space:pre;overflow-x:auto;line-height:normal;font-family:Menlo,'DejaVu Sans Mono',consolas,'Courier New',monospace\"><span style=\"color: #00ff00; text-decoration-color: #00ff00; background-color: #000000; font-weight: bold\">Question: What are the changes made by Apple to its iOS App Store in order to comply with Europe's Digital </span>\n",
              "<span style=\"color: #00ff00; text-decoration-color: #00ff00; background-color: #000000; font-weight: bold\">Markets Act?</span>\n",
              "</pre>\n"
            ]
          },
          "metadata": {}
        },
        {
          "output_type": "display_data",
          "data": {
            "text/plain": [
              "\n",
              "- Apple will allow alternative app stores and other new options for app developers as part of its efforts to \n",
              "comply with Europe's Digital Markets Act \u001b[1m(\u001b[0mDMA\u001b[1m)\u001b[0m, which goes into effect on March \u001b[1;36m7\u001b[0m.\n",
              "- The changes made by Apple include introducing new fee structures, notarization for iOS apps, authorization \n",
              "for marketplace developers, and disclosures on alternative payments.\n",
              "- A \u001b[32m\"core technology fee\"\u001b[0m will be charged to developers whose apps have more than \u001b[1;36m1\u001b[0m million downloads per \n",
              "year, with a fee of €.\u001b[1;36m50\u001b[0m per first annual install. This applies to both apps that switch to their own \n",
              "marketplaces or remain on the App Store.\n",
              "- The App Store commission for developers who continue to use it will drop from \u001b[1;36m30\u001b[0m% to \u001b[1;36m17\u001b[0m%. Discounted rates \n",
              "for certain developers will also be reduced from \u001b[1;36m15\u001b[0m% to \u001b[1;36m10\u001b[0m%.\n",
              "- No commission will be charged to developers who want to distribute and facilitate in-app payments outside of\n",
              "the App Store, with Apple stating that approximately \u001b[1;36m99\u001b[0m% of developers will pay the same or less in fees.\n",
              "- Users in the EU will see a browser choice screen in iOS \u001b[1;36m17.4\u001b[0m to pick a default browser.\n"
            ],
            "text/html": [
              "<pre style=\"white-space:pre;overflow-x:auto;line-height:normal;font-family:Menlo,'DejaVu Sans Mono',consolas,'Courier New',monospace\">\n",
              "- Apple will allow alternative app stores and other new options for app developers as part of its efforts to \n",
              "comply with Europe's Digital Markets Act <span style=\"font-weight: bold\">(</span>DMA<span style=\"font-weight: bold\">)</span>, which goes into effect on March <span style=\"color: #008080; text-decoration-color: #008080; font-weight: bold\">7</span>.\n",
              "- The changes made by Apple include introducing new fee structures, notarization for iOS apps, authorization \n",
              "for marketplace developers, and disclosures on alternative payments.\n",
              "- A <span style=\"color: #008000; text-decoration-color: #008000\">\"core technology fee\"</span> will be charged to developers whose apps have more than <span style=\"color: #008080; text-decoration-color: #008080; font-weight: bold\">1</span> million downloads per \n",
              "year, with a fee of €.<span style=\"color: #008080; text-decoration-color: #008080; font-weight: bold\">50</span> per first annual install. This applies to both apps that switch to their own \n",
              "marketplaces or remain on the App Store.\n",
              "- The App Store commission for developers who continue to use it will drop from <span style=\"color: #008080; text-decoration-color: #008080; font-weight: bold\">30</span>% to <span style=\"color: #008080; text-decoration-color: #008080; font-weight: bold\">17</span>%. Discounted rates \n",
              "for certain developers will also be reduced from <span style=\"color: #008080; text-decoration-color: #008080; font-weight: bold\">15</span>% to <span style=\"color: #008080; text-decoration-color: #008080; font-weight: bold\">10</span>%.\n",
              "- No commission will be charged to developers who want to distribute and facilitate in-app payments outside of\n",
              "the App Store, with Apple stating that approximately <span style=\"color: #008080; text-decoration-color: #008080; font-weight: bold\">99</span>% of developers will pay the same or less in fees.\n",
              "- Users in the EU will see a browser choice screen in iOS <span style=\"color: #008080; text-decoration-color: #008080; font-weight: bold\">17.4</span> to pick a default browser.\n",
              "</pre>\n"
            ]
          },
          "metadata": {}
        },
        {
          "output_type": "display_data",
          "data": {
            "text/plain": [
              "Completed in: \u001b[1;31m0:02:31\u001b[0m\u001b[1;31m.\u001b[0m\u001b[1;31m605118\u001b[0m\n"
            ],
            "text/html": [
              "<pre style=\"white-space:pre;overflow-x:auto;line-height:normal;font-family:Menlo,'DejaVu Sans Mono',consolas,'Courier New',monospace\">Completed in: <span style=\"color: #800000; text-decoration-color: #800000; font-weight: bold\">0:02:31.</span><span style=\"color: #800000; text-decoration-color: #800000; font-weight: bold\">605118</span>\n",
              "</pre>\n"
            ]
          },
          "metadata": {}
        },
        {
          "output_type": "display_data",
          "data": {
            "text/plain": [],
            "text/html": [
              "<pre style=\"white-space:pre;overflow-x:auto;line-height:normal;font-family:Menlo,'DejaVu Sans Mono',consolas,'Courier New',monospace\"></pre>\n"
            ]
          },
          "metadata": {}
        }
      ]
    },
    {
      "cell_type": "code",
      "source": [
        "# \"1. What are the iOS changes that will be implemented to ensure compliance with Europe's Digital Markets Act law?\"\n",
        "q1,o1 = stableQnA(\"1. What are the iOS changes that will be implemented to ensure compliance with Europe's Digital Markets Act law?\",editedtext,450,llm)"
      ],
      "metadata": {
        "colab": {
          "base_uri": "https://localhost:8080/",
          "height": 479,
          "referenced_widgets": [
            "4297691e0c5042a390fb124f326fc293",
            "10b929117af645f7b978c281d4a6a9ab"
          ]
        },
        "id": "pv2EWO6g48tk",
        "outputId": "570853f1-7cee-4bf7-870b-f0bfe35a2fb7"
      },
      "execution_count": null,
      "outputs": [
        {
          "output_type": "display_data",
          "data": {
            "text/plain": [
              "Llama.generate: prefix-match hit\n"
            ],
            "text/html": [
              "<pre style=\"white-space:pre;overflow-x:auto;line-height:normal;font-family:Menlo,'DejaVu Sans Mono',consolas,'Courier New',monospace\">Llama.generate: prefix-match hit\n",
              "</pre>\n"
            ]
          },
          "metadata": {}
        },
        {
          "output_type": "display_data",
          "data": {
            "text/plain": [
              "Output()"
            ],
            "application/vnd.jupyter.widget-view+json": {
              "version_major": 2,
              "version_minor": 0,
              "model_id": "4297691e0c5042a390fb124f326fc293"
            }
          },
          "metadata": {}
        },
        {
          "output_type": "display_data",
          "data": {
            "text/plain": [
              "\u001b[1;92;40mQuestion: \u001b[0m\u001b[1;92;40m1\u001b[0m\u001b[1;92;40m. What are the iOS changes that will be implemented to ensure compliance with Europe's Digital \u001b[0m\n",
              "\u001b[1;92;40mMarkets Act law?\u001b[0m\n"
            ],
            "text/html": [
              "<pre style=\"white-space:pre;overflow-x:auto;line-height:normal;font-family:Menlo,'DejaVu Sans Mono',consolas,'Courier New',monospace\"><span style=\"color: #00ff00; text-decoration-color: #00ff00; background-color: #000000; font-weight: bold\">Question: </span><span style=\"color: #00ff00; text-decoration-color: #00ff00; background-color: #000000; font-weight: bold\">1</span><span style=\"color: #00ff00; text-decoration-color: #00ff00; background-color: #000000; font-weight: bold\">. What are the iOS changes that will be implemented to ensure compliance with Europe's Digital </span>\n",
              "<span style=\"color: #00ff00; text-decoration-color: #00ff00; background-color: #000000; font-weight: bold\">Markets Act law?</span>\n",
              "</pre>\n"
            ]
          },
          "metadata": {}
        },
        {
          "output_type": "display_data",
          "data": {
            "text/plain": [
              "\n",
              "\u001b[1;36m1\u001b[0m. Apple will allow alternative app stores and other new options for app developers in order to comply with \n",
              "Europe's Digital Markets Act \u001b[1m(\u001b[0mDMA\u001b[1m)\u001b[0m. \n",
              "   - This is a change from Apple's strict rules requiring developers to rely on the App Store for distribution\n",
              "and payment processing. \n",
              "\n",
              "\u001b[1;36m2\u001b[0m. The iOS changes will include notarization for iOS apps, authorization for marketplace developers, and \n",
              "disclosures on alternative payments. \n",
              "   - Notarization helps ensure app safety by verifying their authenticity. \n",
              "   - Authorization allows developers who use alternative marketplaces to distribute their apps without going \n",
              "through the App Store. \n",
              "   - Disclosures on alternative payments help inform users about payment methods outside of the App Store.\n",
              "\n",
              "\u001b[1;36m3\u001b[0m. Apple is introducing new fee structures for developers who take advantage of the new freedoms. \n",
              "   - A \u001b[32m\"core technology fee\"\u001b[0m will be charged to developers whose apps have more than \u001b[1;36m1\u001b[0m million downloads, with\n",
              "a rate of €.\u001b[1;36m50\u001b[0m per first annual install per year. \n",
              "   - The App Store commission will drop from \u001b[1;36m30\u001b[0m% to \u001b[1;36m17\u001b[0m%, and the discounted rates for certain developers will \n",
              "change as well.\n",
              "\n",
              "\u001b[1;36m4\u001b[0m. Users in the EU will see a browser choice screen in iOS \u001b[1;36m17.4\u001b[0m to pick a default browser. \n",
              "\n",
              "\u001b[1;36m5\u001b[0m. Apple's compliance adheres to the letter of the law, but the company has no plans to expand these options \n",
              "outside of Europe due to security risks.\n",
              "\n",
              "\u001b[1;36m6\u001b[0m. The European Commission will determine whether Apple fully complies with the DMA.\n"
            ],
            "text/html": [
              "<pre style=\"white-space:pre;overflow-x:auto;line-height:normal;font-family:Menlo,'DejaVu Sans Mono',consolas,'Courier New',monospace\">\n",
              "<span style=\"color: #008080; text-decoration-color: #008080; font-weight: bold\">1</span>. Apple will allow alternative app stores and other new options for app developers in order to comply with \n",
              "Europe's Digital Markets Act <span style=\"font-weight: bold\">(</span>DMA<span style=\"font-weight: bold\">)</span>. \n",
              "   - This is a change from Apple's strict rules requiring developers to rely on the App Store for distribution\n",
              "and payment processing. \n",
              "\n",
              "<span style=\"color: #008080; text-decoration-color: #008080; font-weight: bold\">2</span>. The iOS changes will include notarization for iOS apps, authorization for marketplace developers, and \n",
              "disclosures on alternative payments. \n",
              "   - Notarization helps ensure app safety by verifying their authenticity. \n",
              "   - Authorization allows developers who use alternative marketplaces to distribute their apps without going \n",
              "through the App Store. \n",
              "   - Disclosures on alternative payments help inform users about payment methods outside of the App Store.\n",
              "\n",
              "<span style=\"color: #008080; text-decoration-color: #008080; font-weight: bold\">3</span>. Apple is introducing new fee structures for developers who take advantage of the new freedoms. \n",
              "   - A <span style=\"color: #008000; text-decoration-color: #008000\">\"core technology fee\"</span> will be charged to developers whose apps have more than <span style=\"color: #008080; text-decoration-color: #008080; font-weight: bold\">1</span> million downloads, with\n",
              "a rate of €.<span style=\"color: #008080; text-decoration-color: #008080; font-weight: bold\">50</span> per first annual install per year. \n",
              "   - The App Store commission will drop from <span style=\"color: #008080; text-decoration-color: #008080; font-weight: bold\">30</span>% to <span style=\"color: #008080; text-decoration-color: #008080; font-weight: bold\">17</span>%, and the discounted rates for certain developers will \n",
              "change as well.\n",
              "\n",
              "<span style=\"color: #008080; text-decoration-color: #008080; font-weight: bold\">4</span>. Users in the EU will see a browser choice screen in iOS <span style=\"color: #008080; text-decoration-color: #008080; font-weight: bold\">17.4</span> to pick a default browser. \n",
              "\n",
              "<span style=\"color: #008080; text-decoration-color: #008080; font-weight: bold\">5</span>. Apple's compliance adheres to the letter of the law, but the company has no plans to expand these options \n",
              "outside of Europe due to security risks.\n",
              "\n",
              "<span style=\"color: #008080; text-decoration-color: #008080; font-weight: bold\">6</span>. The European Commission will determine whether Apple fully complies with the DMA.\n",
              "</pre>\n"
            ]
          },
          "metadata": {}
        },
        {
          "output_type": "display_data",
          "data": {
            "text/plain": [
              "Completed in: \u001b[1;31m0:03:04\u001b[0m\u001b[1;31m.\u001b[0m\u001b[1;31m007134\u001b[0m\n"
            ],
            "text/html": [
              "<pre style=\"white-space:pre;overflow-x:auto;line-height:normal;font-family:Menlo,'DejaVu Sans Mono',consolas,'Courier New',monospace\">Completed in: <span style=\"color: #800000; text-decoration-color: #800000; font-weight: bold\">0:03:04.</span><span style=\"color: #800000; text-decoration-color: #800000; font-weight: bold\">007134</span>\n",
              "</pre>\n"
            ]
          },
          "metadata": {}
        },
        {
          "output_type": "display_data",
          "data": {
            "text/plain": [],
            "text/html": [
              "<pre style=\"white-space:pre;overflow-x:auto;line-height:normal;font-family:Menlo,'DejaVu Sans Mono',consolas,'Courier New',monospace\"></pre>\n"
            ]
          },
          "metadata": {}
        }
      ]
    },
    {
      "cell_type": "markdown",
      "source": [
        "- for summarization and question generation we can use 2 different splits\n",
        "- for QnA and embedding retrieval a smaller chunk too\n",
        "- all of them in tokens count"
      ],
      "metadata": {
        "id": "jQQy3pfKIdVS"
      }
    },
    {
      "cell_type": "code",
      "source": [
        "from langchain.document_loaders import TextLoader\n",
        "from langchain.text_splitter import TokenTextSplitter\n",
        "TOKENtext_splitter = TokenTextSplitter(chunk_size=430, chunk_overlap=20)\n",
        "splitted_text_sum = TOKENtext_splitter.split_text(editedtext) #create a list\n",
        "TOKENtext_splitter = TokenTextSplitter(chunk_size=280, chunk_overlap=20)\n",
        "splitted_text_qg = TOKENtext_splitter.split_text(editedtext) #create a list\n",
        "TOKENtext_splitter = TokenTextSplitter(chunk_size=150, chunk_overlap=20)\n",
        "splitted_text_qna = TOKENtext_splitter.split_text(editedtext) #create a list"
      ],
      "metadata": {
        "id": "oVKyVR8IzoJM"
      },
      "execution_count": null,
      "outputs": []
    },
    {
      "cell_type": "code",
      "source": [
        "# @title\n",
        "def summary(textplitted, model, modelname):\n",
        "  console.print(f'Using {modelname} for summarization task...')\n",
        "  start = datetime.datetime.now()\n",
        "  with console.status(\"Generating summary...\",spinner=\"dots12\"):\n",
        "    summary =\"\"\n",
        "    for item in textplitted:\n",
        "      text = item\n",
        "      template_summary = f'''ARTICLE: {text}\n",
        "\n",
        "      What is a one-paragraph summary of the above article?\n",
        "\n",
        "      '''\n",
        "      res = model(template_summary, temperature=0.3, repetition_penalty=1.3, max_length=300, do_sample=True)[0]['generated_text']\n",
        "      #console.print(res)\n",
        "      #console.print('---')\n",
        "      summary = summary + res + '\\n'\n",
        "  delta = datetime.datetime.now() - start\n",
        "  console.print('[bold]----------------------------')\n",
        "  console.print(summary)\n",
        "  console.print(f\"[red1 bold]Full SUMMARY Completed in {delta}\")\n",
        "  return summary\n",
        "\n",
        "sum783 = summary(splitted_text_sum, model783,'🎴🎴🎴LaMiniFlanT5-783M')"
      ],
      "metadata": {
        "id": "ufNTi-zuBm-Z",
        "cellView": "form"
      },
      "execution_count": null,
      "outputs": []
    },
    {
      "cell_type": "code",
      "source": [
        "def summary77(textplitted, model, modelname):\n",
        "  writehistory(f\"{str(datetime.datetime.now())} Using {modelname} for summarization task...\")\n",
        "  start = datetime.datetime.now()\n",
        "  with console.status(\"Generating summary...\",spinner=\"dots12\"):\n",
        "    summary =\"SUMMARY:\\n\"\n",
        "    for item in textplitted:\n",
        "      text = item\n",
        "      template_summary = f'''Text: {text}\n",
        "\n",
        "Write a complete summary of the above text.\n",
        "'''\n",
        "      res = model(template_summary, temperature=0.3, repetition_penalty=1.3, max_length=300, do_sample=True)[0]['generated_text']\n",
        "      #console.print(res)\n",
        "      #console.print('---')\n",
        "      summary = summary + res + '\\n'\n",
        "  delta = datetime.datetime.now() - start\n",
        "  writehistory(f\"{str(datetime.datetime.now())} [bold]----------------------------\")\n",
        "  writehistory(f\"{str(datetime.datetime.now())} {summary}\")\n",
        "  writehistory(f\"{str(datetime.datetime.now())} [red1 bold]Full SUMMARY Completed in {delta}\")\n",
        "  return summary"
      ],
      "metadata": {
        "id": "5aioP8TafBUF"
      },
      "execution_count": null,
      "outputs": []
    },
    {
      "cell_type": "code",
      "source": [
        "# @title\n",
        "sum77 = summary77(splitted_text_sum, model77,'🎴LaMiniFlanT5-77M')"
      ],
      "metadata": {
        "colab": {
          "base_uri": "https://localhost:8080/",
          "height": 265,
          "referenced_widgets": [
            "e399bc49a21c4cb8bd601800f4c9ce21",
            "7db4ed7ff95148058be7a50f32896d03"
          ]
        },
        "id": "ydYPqB3kQ_le",
        "outputId": "6c1b4a65-96b4-4c64-d5a7-264564384505",
        "cellView": "form"
      },
      "execution_count": null,
      "outputs": [
        {
          "output_type": "display_data",
          "data": {
            "text/plain": [
              "Using 🎴LaMiniFlanT5-77M for summarization task\u001b[33m...\u001b[0m\n"
            ],
            "text/html": [
              "<pre style=\"white-space:pre;overflow-x:auto;line-height:normal;font-family:Menlo,'DejaVu Sans Mono',consolas,'Courier New',monospace\">Using 🎴LaMiniFlanT5-77M for summarization task<span style=\"color: #808000; text-decoration-color: #808000\">...</span>\n",
              "</pre>\n"
            ]
          },
          "metadata": {}
        },
        {
          "output_type": "display_data",
          "data": {
            "text/plain": [
              "Output()"
            ],
            "application/vnd.jupyter.widget-view+json": {
              "version_major": 2,
              "version_minor": 0,
              "model_id": "e399bc49a21c4cb8bd601800f4c9ce21"
            }
          },
          "metadata": {}
        },
        {
          "output_type": "display_data",
          "data": {
            "text/plain": [],
            "text/html": [
              "<pre style=\"white-space:pre;overflow-x:auto;line-height:normal;font-family:Menlo,'DejaVu Sans Mono',consolas,'Courier New',monospace\"></pre>\n"
            ]
          },
          "metadata": {}
        },
        {
          "output_type": "display_data",
          "data": {
            "text/plain": [
              "\u001b[1m----------------------------\u001b[0m\n"
            ],
            "text/html": [
              "<pre style=\"white-space:pre;overflow-x:auto;line-height:normal;font-family:Menlo,'DejaVu Sans Mono',consolas,'Courier New',monospace\"><span style=\"font-weight: bold\">----------------------------</span>\n",
              "</pre>\n"
            ]
          },
          "metadata": {}
        },
        {
          "output_type": "display_data",
          "data": {
            "text/plain": [
              "SUMMARY:\n",
              "Apple's iOS App Store is allowing alternative app stores and other new options for app developers to comply \n",
              "with Europe's Digital Markets Act, which requires the company to loosen its strict rules. The changes are \n",
              "expected to take place in Europe post-March \u001b[1;36m7\u001b[0m, but it has no plans to expand these options outside of Europe \n",
              "due to risk. It also introduces new safeguards that reduce vulnerabilities, but does not eliminate harmful \n",
              "content.\n",
              "The European Commission is deciding whether Apple's plan fullycomplies with the Digital Markets Act law, which\n",
              "has been introduced by developers in Europe. It will be applied to apps that switch to their own marketplaces \n",
              "or remain on the App Store and include notarization for iOS apps, authorization for marketplace developers, \n",
              "disclosures on alternative payments, and browser choice screen in iOS \u001b[1;36m17.4\u001b[0m. However, it is up to the EU to \n",
              "determine whether Apple plans fully comply with the DMA.\n",
              "\n"
            ],
            "text/html": [
              "<pre style=\"white-space:pre;overflow-x:auto;line-height:normal;font-family:Menlo,'DejaVu Sans Mono',consolas,'Courier New',monospace\">SUMMARY:\n",
              "Apple's iOS App Store is allowing alternative app stores and other new options for app developers to comply \n",
              "with Europe's Digital Markets Act, which requires the company to loosen its strict rules. The changes are \n",
              "expected to take place in Europe post-March <span style=\"color: #008080; text-decoration-color: #008080; font-weight: bold\">7</span>, but it has no plans to expand these options outside of Europe \n",
              "due to risk. It also introduces new safeguards that reduce vulnerabilities, but does not eliminate harmful \n",
              "content.\n",
              "The European Commission is deciding whether Apple's plan fullycomplies with the Digital Markets Act law, which\n",
              "has been introduced by developers in Europe. It will be applied to apps that switch to their own marketplaces \n",
              "or remain on the App Store and include notarization for iOS apps, authorization for marketplace developers, \n",
              "disclosures on alternative payments, and browser choice screen in iOS <span style=\"color: #008080; text-decoration-color: #008080; font-weight: bold\">17.4</span>. However, it is up to the EU to \n",
              "determine whether Apple plans fully comply with the DMA.\n",
              "\n",
              "</pre>\n"
            ]
          },
          "metadata": {}
        },
        {
          "output_type": "display_data",
          "data": {
            "text/plain": [
              "\u001b[1;38;5;196mFull SUMMARY Completed in \u001b[0m\u001b[1;38;5;196m0:00:09\u001b[0m\u001b[1;38;5;196m.\u001b[0m\u001b[1;38;5;196m089113\u001b[0m\n"
            ],
            "text/html": [
              "<pre style=\"white-space:pre;overflow-x:auto;line-height:normal;font-family:Menlo,'DejaVu Sans Mono',consolas,'Courier New',monospace\"><span style=\"color: #ff0000; text-decoration-color: #ff0000; font-weight: bold\">Full SUMMARY Completed in 0:00:09.</span><span style=\"color: #ff0000; text-decoration-color: #ff0000; font-weight: bold\">089113</span>\n",
              "</pre>\n"
            ]
          },
          "metadata": {}
        }
      ]
    },
    {
      "cell_type": "code",
      "source": [
        "sum77 = summary77(splitted_text_qg, model77,'🎴LaMiniFlanT5-77M')"
      ],
      "metadata": {
        "colab": {
          "base_uri": "https://localhost:8080/",
          "height": 379,
          "referenced_widgets": [
            "6e33f4641c404080b0c7ba8c9a0cb938",
            "12e5ae6f1c844176993707db71e8a568"
          ]
        },
        "id": "LuK9Pdj7SXIv",
        "outputId": "c305e773-55d8-4216-86a9-94442caa4a2b"
      },
      "execution_count": null,
      "outputs": [
        {
          "output_type": "display_data",
          "data": {
            "text/plain": [
              "Using 🎴LaMiniFlanT5-77M for summarization task\u001b[33m...\u001b[0m\n"
            ],
            "text/html": [
              "<pre style=\"white-space:pre;overflow-x:auto;line-height:normal;font-family:Menlo,'DejaVu Sans Mono',consolas,'Courier New',monospace\">Using 🎴LaMiniFlanT5-77M for summarization task<span style=\"color: #808000; text-decoration-color: #808000\">...</span>\n",
              "</pre>\n"
            ]
          },
          "metadata": {}
        },
        {
          "output_type": "display_data",
          "data": {
            "text/plain": [
              "Output()"
            ],
            "application/vnd.jupyter.widget-view+json": {
              "version_major": 2,
              "version_minor": 0,
              "model_id": "6e33f4641c404080b0c7ba8c9a0cb938"
            }
          },
          "metadata": {}
        },
        {
          "output_type": "display_data",
          "data": {
            "text/plain": [],
            "text/html": [
              "<pre style=\"white-space:pre;overflow-x:auto;line-height:normal;font-family:Menlo,'DejaVu Sans Mono',consolas,'Courier New',monospace\"></pre>\n"
            ]
          },
          "metadata": {}
        },
        {
          "output_type": "display_data",
          "data": {
            "text/plain": [
              "\u001b[1m----------------------------\u001b[0m\n"
            ],
            "text/html": [
              "<pre style=\"white-space:pre;overflow-x:auto;line-height:normal;font-family:Menlo,'DejaVu Sans Mono',consolas,'Courier New',monospace\"><span style=\"font-weight: bold\">----------------------------</span>\n",
              "</pre>\n"
            ]
          },
          "metadata": {}
        },
        {
          "output_type": "display_data",
          "data": {
            "text/plain": [
              "SUMMARY:\n",
              "Apple's iOS App Store will allow alternative app stores and other new options for app developers to comply \n",
              "with Europe's Digital Markets Act, which is set to go into effect on March \u001b[1;36m7\u001b[0m. The company has resisted any \n",
              "changes due to security and privacy. It also claims that its services are best-in-class and ensure smooth user\n",
              "experiences free of spam or harmful content. Spotify previewed the latest version in Europe post-March \u001b[1;36m7\u001b[0m this \n",
              "week, and it says it has been in touch with developers about the coming changes and compliance adheres to the \n",
              "letter of the law.\n",
              "Apple has implemented strict policies for developers to ensure iOS devices remain secure and malware-free, but\n",
              "it is not yet imposing any plans outside of Europe. The company believes that the changes will be necessary in\n",
              "order to protect users' data from potential threats. It also introduces new fees for developers who take \n",
              "advantage of these free freedoms.\n",
              "The European Commission has announced that there will be no commission charged to developers who want to \n",
              "distribute and facilitate in-app payments outside of the App Store. Apple said that approximately \u001b[1;36m99\u001b[0m% of \n",
              "developers will pay the same or less fees for their iOS changes, including notarization for iOS apps, \n",
              "authorization for marketplace developers, and disclosures on alternative payment options. Users in the EU will\n",
              "see a browser choice screen in iOS \u001b[1;36m17.4\u001b[0m to pick a default browser. Epic Games CEO Tim Sweeney stated that this\n",
              "is an example of Malicious Compliance, but it's up to the European Commission to determine whether Apple's \n",
              "plan fully comply with the DMA.\n",
              "\n"
            ],
            "text/html": [
              "<pre style=\"white-space:pre;overflow-x:auto;line-height:normal;font-family:Menlo,'DejaVu Sans Mono',consolas,'Courier New',monospace\">SUMMARY:\n",
              "Apple's iOS App Store will allow alternative app stores and other new options for app developers to comply \n",
              "with Europe's Digital Markets Act, which is set to go into effect on March <span style=\"color: #008080; text-decoration-color: #008080; font-weight: bold\">7</span>. The company has resisted any \n",
              "changes due to security and privacy. It also claims that its services are best-in-class and ensure smooth user\n",
              "experiences free of spam or harmful content. Spotify previewed the latest version in Europe post-March <span style=\"color: #008080; text-decoration-color: #008080; font-weight: bold\">7</span> this \n",
              "week, and it says it has been in touch with developers about the coming changes and compliance adheres to the \n",
              "letter of the law.\n",
              "Apple has implemented strict policies for developers to ensure iOS devices remain secure and malware-free, but\n",
              "it is not yet imposing any plans outside of Europe. The company believes that the changes will be necessary in\n",
              "order to protect users' data from potential threats. It also introduces new fees for developers who take \n",
              "advantage of these free freedoms.\n",
              "The European Commission has announced that there will be no commission charged to developers who want to \n",
              "distribute and facilitate in-app payments outside of the App Store. Apple said that approximately <span style=\"color: #008080; text-decoration-color: #008080; font-weight: bold\">99</span>% of \n",
              "developers will pay the same or less fees for their iOS changes, including notarization for iOS apps, \n",
              "authorization for marketplace developers, and disclosures on alternative payment options. Users in the EU will\n",
              "see a browser choice screen in iOS <span style=\"color: #008080; text-decoration-color: #008080; font-weight: bold\">17.4</span> to pick a default browser. Epic Games CEO Tim Sweeney stated that this\n",
              "is an example of Malicious Compliance, but it's up to the European Commission to determine whether Apple's \n",
              "plan fully comply with the DMA.\n",
              "\n",
              "</pre>\n"
            ]
          },
          "metadata": {}
        },
        {
          "output_type": "display_data",
          "data": {
            "text/plain": [
              "\u001b[1;38;5;196mFull SUMMARY Completed in \u001b[0m\u001b[1;38;5;196m0:00:14\u001b[0m\u001b[1;38;5;196m.\u001b[0m\u001b[1;38;5;196m793238\u001b[0m\n"
            ],
            "text/html": [
              "<pre style=\"white-space:pre;overflow-x:auto;line-height:normal;font-family:Menlo,'DejaVu Sans Mono',consolas,'Courier New',monospace\"><span style=\"color: #ff0000; text-decoration-color: #ff0000; font-weight: bold\">Full SUMMARY Completed in 0:00:14.</span><span style=\"color: #ff0000; text-decoration-color: #ff0000; font-weight: bold\">793238</span>\n",
              "</pre>\n"
            ]
          },
          "metadata": {}
        }
      ]
    },
    {
      "cell_type": "markdown",
      "source": [
        "\n",
        "\n",
        "---\n",
        "\n",
        "\n",
        "\n",
        "---\n",
        "\n"
      ],
      "metadata": {
        "id": "s8WtpyOWgn2a"
      }
    },
    {
      "cell_type": "code",
      "source": [
        "def qgen77(textplitted, model, modelname):\n",
        "  writehistory(f\"{str(datetime.datetime.now())} Using {modelname} for for Question generation task -  2 PER CHUNK...\")\n",
        "  start = datetime.datetime.now()\n",
        "  quest2 = []\n",
        "  with console.status(\"Generating Questions...\",spinner=\"dots12\"):\n",
        "    for item in textplitted:\n",
        "      text = item\n",
        "      template_qg = f'''{text}\\n\\n\n",
        "write two important questions about the above text.\n",
        "Questions:\n",
        "1.\n",
        "2.\n",
        "'''\n",
        "      res = model(template_qg, temperature=0.3, repetition_penalty=1.3, max_length=250, do_sample=True)[0]['generated_text']\n",
        "      ed_res = res.replace('? ','?#')\n",
        "      list_res = ed_res.split('#')\n",
        "      for i in list_res:\n",
        "        #a = i[3:]  REMOVED TRUNK on the list, generated by LaMini\n",
        "        quest2.append(i[3:])\n",
        "\n",
        "  writehistory(f\"{str(datetime.datetime.now())} [bold]----------------------------\")\n",
        "  writehistory(f\"{str(datetime.datetime.now())} {quest2}\")\n",
        "  return quest2"
      ],
      "metadata": {
        "id": "jLlbOPSYRF5v"
      },
      "execution_count": null,
      "outputs": []
    },
    {
      "cell_type": "code",
      "source": [
        "qg77 = qgen77(splitted_text_qg, model77,'🎴🎴LaMiniFlanT5-77M')"
      ],
      "metadata": {
        "colab": {
          "base_uri": "https://localhost:8080/",
          "height": 183,
          "referenced_widgets": [
            "fdba0dde44cb4dd2a322b9afbe21a3a8",
            "fed4a3a4f7fa45a6b53a37be04fbf96c"
          ]
        },
        "id": "qdNaSEXXglr2",
        "outputId": "6c61925f-a976-4fbf-aad4-6c40a5f00b6a"
      },
      "execution_count": null,
      "outputs": [
        {
          "output_type": "display_data",
          "data": {
            "text/plain": [
              "Using 🎴🎴LaMiniFlanT5-77M for for Question generation task -  \u001b[1;36m2\u001b[0m PER CHUNK\u001b[33m...\u001b[0m\n"
            ],
            "text/html": [
              "<pre style=\"white-space:pre;overflow-x:auto;line-height:normal;font-family:Menlo,'DejaVu Sans Mono',consolas,'Courier New',monospace\">Using 🎴🎴LaMiniFlanT5-77M for for Question generation task -  <span style=\"color: #008080; text-decoration-color: #008080; font-weight: bold\">2</span> PER CHUNK<span style=\"color: #808000; text-decoration-color: #808000\">...</span>\n",
              "</pre>\n"
            ]
          },
          "metadata": {}
        },
        {
          "output_type": "display_data",
          "data": {
            "text/plain": [
              "Output()"
            ],
            "application/vnd.jupyter.widget-view+json": {
              "version_major": 2,
              "version_minor": 0,
              "model_id": "fdba0dde44cb4dd2a322b9afbe21a3a8"
            }
          },
          "metadata": {}
        },
        {
          "output_type": "display_data",
          "data": {
            "text/plain": [],
            "text/html": [
              "<pre style=\"white-space:pre;overflow-x:auto;line-height:normal;font-family:Menlo,'DejaVu Sans Mono',consolas,'Courier New',monospace\"></pre>\n"
            ]
          },
          "metadata": {}
        },
        {
          "output_type": "display_data",
          "data": {
            "text/plain": [
              "\u001b[1m----------------------------\u001b[0m\n"
            ],
            "text/html": [
              "<pre style=\"white-space:pre;overflow-x:auto;line-height:normal;font-family:Menlo,'DejaVu Sans Mono',consolas,'Courier New',monospace\"><span style=\"font-weight: bold\">----------------------------</span>\n",
              "</pre>\n"
            ]
          },
          "metadata": {}
        },
        {
          "output_type": "display_data",
          "data": {
            "text/plain": [
              "\u001b[1m[\u001b[0m\n",
              "    \u001b[32m'What changes will Apple make to its iOS App Store in the EU?'\u001b[0m,\n",
              "    \u001b[32m\"How does it affect the company's compliance with Europe's Digital Markets Act?\"\u001b[0m,\n",
              "    \u001b[32m\"What is the reason behind Apple's changes to iOS 17.4?\"\u001b[0m,\n",
              "    \u001b[32m'How does it impact its policies on developers and how do they respond to these changes?'\u001b[0m,\n",
              "    \u001b[32m\"What is the latest update to Apple's iOS changes?\"\u001b[0m,\n",
              "    \u001b[32m'How does it impact its decision-making process in Europe and how do they affect users?'\u001b[0m\n",
              "\u001b[1m]\u001b[0m\n"
            ],
            "text/html": [
              "<pre style=\"white-space:pre;overflow-x:auto;line-height:normal;font-family:Menlo,'DejaVu Sans Mono',consolas,'Courier New',monospace\"><span style=\"font-weight: bold\">[</span>\n",
              "    <span style=\"color: #008000; text-decoration-color: #008000\">'What changes will Apple make to its iOS App Store in the EU?'</span>,\n",
              "    <span style=\"color: #008000; text-decoration-color: #008000\">\"How does it affect the company's compliance with Europe's Digital Markets Act?\"</span>,\n",
              "    <span style=\"color: #008000; text-decoration-color: #008000\">\"What is the reason behind Apple's changes to iOS 17.4?\"</span>,\n",
              "    <span style=\"color: #008000; text-decoration-color: #008000\">'How does it impact its policies on developers and how do they respond to these changes?'</span>,\n",
              "    <span style=\"color: #008000; text-decoration-color: #008000\">\"What is the latest update to Apple's iOS changes?\"</span>,\n",
              "    <span style=\"color: #008000; text-decoration-color: #008000\">'How does it impact its decision-making process in Europe and how do they affect users?'</span>\n",
              "<span style=\"font-weight: bold\">]</span>\n",
              "</pre>\n"
            ]
          },
          "metadata": {}
        }
      ]
    },
    {
      "cell_type": "markdown",
      "source": [
        "\n",
        "\n",
        "---\n",
        "\n",
        "\n",
        "\n",
        "---\n",
        "\n",
        "\n",
        "\n",
        "---\n",
        "\n"
      ],
      "metadata": {
        "id": "jrCbiouWRtNT"
      }
    },
    {
      "cell_type": "markdown",
      "source": [
        "### not used"
      ],
      "metadata": {
        "id": "RZGIFEWjIxt2"
      }
    },
    {
      "cell_type": "code",
      "source": [],
      "metadata": {
        "id": "IaqbEfbhIcXG"
      },
      "execution_count": null,
      "outputs": []
    },
    {
      "cell_type": "code",
      "source": [
        "# @title\n",
        "def qgen(textplitted, model, modelname):\n",
        "  console.print(f'Using {modelname} for for Question generation task -  2 PER CHUNK...')\n",
        "  start = datetime.datetime.now()\n",
        "  quest2 = []\n",
        "  with console.status(\"Generating Questions...\",spinner=\"dots12\"):\n",
        "    for item in textplitted:\n",
        "      text = item\n",
        "      template_qg = f'''{text}.\\nAsk two relevant question about this text.\n",
        "      '''\n",
        "      res = model(template_qg, temperature=0.3, repetition_penalty=1.3, max_length=250, do_sample=True)[0]['generated_text']\n",
        "      ed_res = res.replace('? ','?#')\n",
        "      list_res = ed_res.split('#')\n",
        "      for i in list_res:\n",
        "        #a = i[3:]  REMOVED TRUNK on the list, generated by LaMini\n",
        "        quest2.append(i)\n",
        "\n",
        "  console.print('[bold]----------------------------')\n",
        "  console.print(quest2)\n",
        "  return quest2\n",
        "\n",
        "qg783 = qgen(splitted_text_qg, model783,'🎴🎴🎴LaMiniFlanT5-783M')"
      ],
      "metadata": {
        "id": "eVxZpJRCB0F6",
        "cellView": "form"
      },
      "execution_count": null,
      "outputs": []
    },
    {
      "cell_type": "code",
      "source": [
        "for question in qg77:\n",
        "  context = editedtext\n",
        "  query = question\n",
        "  q1,o1 = stableQnA(query,context,450,llm)\n",
        "  console.print('[bold]----------------------------')"
      ],
      "metadata": {
        "colab": {
          "base_uri": "https://localhost:8080/",
          "height": 1000,
          "referenced_widgets": [
            "3572fb1c40ab4b66aab0caa7bed1e33e",
            "8bdb8e3bcf014cd399382f63fab8ddeb",
            "53d0f0ff70304516a613d2b75e639915",
            "5751f5cc9ff54afa8df67402f7235131",
            "4f9d002e59364db592502538d392da7e",
            "f83de866aea54eb2a93caccbebc20faa",
            "f9721d5b3d54434f9b15c5a00993aee9",
            "97fb8420375048d59694687a081b0046",
            "a7ffafa1b7834a59a9dd04f57daea5b7",
            "1a5cf2b96b794ec2bff9d7924723e2a6",
            "16a083211df2479bbce81eaf7fabe351",
            "4fdff61d26394033b8c7f6a6f93c7e2e"
          ]
        },
        "id": "6hMS9vTszUUn",
        "outputId": "9822b243-05fc-4ea9-984c-3dcbbbde7de1"
      },
      "execution_count": null,
      "outputs": [
        {
          "output_type": "display_data",
          "data": {
            "text/plain": [
              "Output()"
            ],
            "application/vnd.jupyter.widget-view+json": {
              "version_major": 2,
              "version_minor": 0,
              "model_id": "3572fb1c40ab4b66aab0caa7bed1e33e"
            }
          },
          "metadata": {}
        },
        {
          "output_type": "display_data",
          "data": {
            "text/plain": [
              "\u001b[1;92;40mQuestion: What changes are Apple making to its iOS App Store and how does it affect the EU's Digital Markets \u001b[0m\n",
              "\u001b[1;92;40mAct?\u001b[0m\n"
            ],
            "text/html": [
              "<pre style=\"white-space:pre;overflow-x:auto;line-height:normal;font-family:Menlo,'DejaVu Sans Mono',consolas,'Courier New',monospace\"><span style=\"color: #00ff00; text-decoration-color: #00ff00; background-color: #000000; font-weight: bold\">Question: What changes are Apple making to its iOS App Store and how does it affect the EU's Digital Markets </span>\n",
              "<span style=\"color: #00ff00; text-decoration-color: #00ff00; background-color: #000000; font-weight: bold\">Act?</span>\n",
              "</pre>\n"
            ]
          },
          "metadata": {}
        },
        {
          "output_type": "display_data",
          "data": {
            "text/plain": [
              "\n",
              "- Apple will allow alternative app stores and other new options for app developers in order to comply with \n",
              "Europe's Digital Markets Act \u001b[1m(\u001b[0mDMA\u001b[1m)\u001b[0m, which goes into effect on March \u001b[1;36m7\u001b[0m.\n",
              "- The company stated that its compliance adheres to the letter of the law, while also emphasizing that it has \n",
              "no plans to expand these options outside of Europe due to security concerns.\n",
              "- Apple is introducing new fee structures for developers who take advantage of the new freedoms: a \u001b[32m\"core \u001b[0m\n",
              "\u001b[32mtechnology fee\"\u001b[0m of €.\u001b[1;36m50\u001b[0m per year for apps with more than \u001b[1;36m1\u001b[0m million downloads, and reduced commission rates for\n",
              "certain developers.\n",
              "- The iOS App Store will include notarization for iOS apps, authorization for marketplace developers, and \n",
              "disclosures on alternative payments as part of these changes.\n",
              "- Users in the EU will see a browser choice screen in iOS \u001b[1;36m17.4\u001b[0m to pick a default browser.\n",
              "- Apple believes that after the DMA-imposed changes go through, people will start to understand why Apple has \n",
              "maintained its strict policies for developers.\n"
            ],
            "text/html": [
              "<pre style=\"white-space:pre;overflow-x:auto;line-height:normal;font-family:Menlo,'DejaVu Sans Mono',consolas,'Courier New',monospace\">\n",
              "- Apple will allow alternative app stores and other new options for app developers in order to comply with \n",
              "Europe's Digital Markets Act <span style=\"font-weight: bold\">(</span>DMA<span style=\"font-weight: bold\">)</span>, which goes into effect on March <span style=\"color: #008080; text-decoration-color: #008080; font-weight: bold\">7</span>.\n",
              "- The company stated that its compliance adheres to the letter of the law, while also emphasizing that it has \n",
              "no plans to expand these options outside of Europe due to security concerns.\n",
              "- Apple is introducing new fee structures for developers who take advantage of the new freedoms: a <span style=\"color: #008000; text-decoration-color: #008000\">\"core </span>\n",
              "<span style=\"color: #008000; text-decoration-color: #008000\">technology fee\"</span> of €.<span style=\"color: #008080; text-decoration-color: #008080; font-weight: bold\">50</span> per year for apps with more than <span style=\"color: #008080; text-decoration-color: #008080; font-weight: bold\">1</span> million downloads, and reduced commission rates for\n",
              "certain developers.\n",
              "- The iOS App Store will include notarization for iOS apps, authorization for marketplace developers, and \n",
              "disclosures on alternative payments as part of these changes.\n",
              "- Users in the EU will see a browser choice screen in iOS <span style=\"color: #008080; text-decoration-color: #008080; font-weight: bold\">17.4</span> to pick a default browser.\n",
              "- Apple believes that after the DMA-imposed changes go through, people will start to understand why Apple has \n",
              "maintained its strict policies for developers.\n",
              "</pre>\n"
            ]
          },
          "metadata": {}
        },
        {
          "output_type": "display_data",
          "data": {
            "text/plain": [
              "Completed in: \u001b[1;31m0:06:49\u001b[0m\u001b[1;31m.\u001b[0m\u001b[1;31m375010\u001b[0m\n"
            ],
            "text/html": [
              "<pre style=\"white-space:pre;overflow-x:auto;line-height:normal;font-family:Menlo,'DejaVu Sans Mono',consolas,'Courier New',monospace\">Completed in: <span style=\"color: #800000; text-decoration-color: #800000; font-weight: bold\">0:06:49.</span><span style=\"color: #800000; text-decoration-color: #800000; font-weight: bold\">375010</span>\n",
              "</pre>\n"
            ]
          },
          "metadata": {}
        },
        {
          "output_type": "display_data",
          "data": {
            "text/plain": [],
            "text/html": [
              "<pre style=\"white-space:pre;overflow-x:auto;line-height:normal;font-family:Menlo,'DejaVu Sans Mono',consolas,'Courier New',monospace\"></pre>\n"
            ]
          },
          "metadata": {}
        },
        {
          "output_type": "display_data",
          "data": {
            "text/plain": [
              "\u001b[1m----------------------------\u001b[0m\n"
            ],
            "text/html": [
              "<pre style=\"white-space:pre;overflow-x:auto;line-height:normal;font-family:Menlo,'DejaVu Sans Mono',consolas,'Courier New',monospace\"><span style=\"font-weight: bold\">----------------------------</span>\n",
              "</pre>\n"
            ]
          },
          "metadata": {}
        },
        {
          "output_type": "display_data",
          "data": {
            "text/plain": [
              "Llama.generate: prefix-match hit\n"
            ],
            "text/html": [
              "<pre style=\"white-space:pre;overflow-x:auto;line-height:normal;font-family:Menlo,'DejaVu Sans Mono',consolas,'Courier New',monospace\">Llama.generate: prefix-match hit\n",
              "</pre>\n"
            ]
          },
          "metadata": {}
        },
        {
          "output_type": "display_data",
          "data": {
            "text/plain": [
              "Output()"
            ],
            "application/vnd.jupyter.widget-view+json": {
              "version_major": 2,
              "version_minor": 0,
              "model_id": "53d0f0ff70304516a613d2b75e639915"
            }
          },
          "metadata": {}
        },
        {
          "output_type": "display_data",
          "data": {
            "text/plain": [
              "\u001b[1;92;40mQuestion: How is Apple doing with these changes in the EU?\u001b[0m\n"
            ],
            "text/html": [
              "<pre style=\"white-space:pre;overflow-x:auto;line-height:normal;font-family:Menlo,'DejaVu Sans Mono',consolas,'Courier New',monospace\"><span style=\"color: #00ff00; text-decoration-color: #00ff00; background-color: #000000; font-weight: bold\">Question: How is Apple doing with these changes in the EU?</span>\n",
              "</pre>\n"
            ]
          },
          "metadata": {}
        },
        {
          "output_type": "display_data",
          "data": {
            "text/plain": [
              "\n",
              "Apple is making sweeping changes to comply with Europe's Digital Markets Act \u001b[1m(\u001b[0mDMA\u001b[1m)\u001b[0m, which goes into effect on \n",
              "March \u001b[1;36m7\u001b[0m. The company will allow alternative app stores and other new options for app developers as part of \n",
              "these changes. Apple has long resisted any alterations to its App Store rules, citing security and privacy \n",
              "concerns. However, the company believes that after the DMA-imposed changes go through, people will start to \n",
              "understand why Apple has maintained its strict policies for developers.\n",
              "\n",
              "Apple is introducing new fee structures for developers who take advantage of the new freedoms. As part of iOS \n",
              "\u001b[1;36m17.4\u001b[0m, Apple will charge a \u001b[32m\"core technology fee\"\u001b[0m of €.\u001b[1;36m50\u001b[0m for each first annual install per year for apps with \n",
              "more than \u001b[1;36m1\u001b[0m million downloads, to be counted once per Apple account. The App Store commission will drop from \n",
              "\u001b[1;36m30\u001b[0m% to \u001b[1;36m17\u001b[0m%, and no commission will be charged to developers who want to distribute and facilitate in-app \n",
              "payments outside of the App Store.\n",
              "\n",
              "Apple has also introduced notarization for iOS apps, authorization for marketplace developers, and disclosures\n",
              "on alternative payments as part of these changes. The company believes that if apps opt out of Apple's system,\n",
              "there is \u001b[32m\"less ability to address other risks\"\u001b[0m like scam, fraud, abuse, or objectionable or harmful content. \n",
              "Users in the EU will also see a browser choice screen in iOS \u001b[1;36m17.4\u001b[0m to pick a default browser.\n",
              "\n",
              "Apple claims its compliance adheres to the letter of the law and that it has done everything it can to ensure \n",
              "iOS devices remain secure and malware-free. However, Epic Games CEO Tim Sweeney criticized Apple's plan to \n",
              "undermine Europe's new Digital Markets Act law as \u001b[32m\"a devious new instance of Malicious Compliance.\"\u001b[0m The \n",
              "European Commission will determine whether Apple's plan fully complies with the DMA.\n"
            ],
            "text/html": [
              "<pre style=\"white-space:pre;overflow-x:auto;line-height:normal;font-family:Menlo,'DejaVu Sans Mono',consolas,'Courier New',monospace\">\n",
              "Apple is making sweeping changes to comply with Europe's Digital Markets Act <span style=\"font-weight: bold\">(</span>DMA<span style=\"font-weight: bold\">)</span>, which goes into effect on \n",
              "March <span style=\"color: #008080; text-decoration-color: #008080; font-weight: bold\">7</span>. The company will allow alternative app stores and other new options for app developers as part of \n",
              "these changes. Apple has long resisted any alterations to its App Store rules, citing security and privacy \n",
              "concerns. However, the company believes that after the DMA-imposed changes go through, people will start to \n",
              "understand why Apple has maintained its strict policies for developers.\n",
              "\n",
              "Apple is introducing new fee structures for developers who take advantage of the new freedoms. As part of iOS \n",
              "<span style=\"color: #008080; text-decoration-color: #008080; font-weight: bold\">17.4</span>, Apple will charge a <span style=\"color: #008000; text-decoration-color: #008000\">\"core technology fee\"</span> of €.<span style=\"color: #008080; text-decoration-color: #008080; font-weight: bold\">50</span> for each first annual install per year for apps with \n",
              "more than <span style=\"color: #008080; text-decoration-color: #008080; font-weight: bold\">1</span> million downloads, to be counted once per Apple account. The App Store commission will drop from \n",
              "<span style=\"color: #008080; text-decoration-color: #008080; font-weight: bold\">30</span>% to <span style=\"color: #008080; text-decoration-color: #008080; font-weight: bold\">17</span>%, and no commission will be charged to developers who want to distribute and facilitate in-app \n",
              "payments outside of the App Store.\n",
              "\n",
              "Apple has also introduced notarization for iOS apps, authorization for marketplace developers, and disclosures\n",
              "on alternative payments as part of these changes. The company believes that if apps opt out of Apple's system,\n",
              "there is <span style=\"color: #008000; text-decoration-color: #008000\">\"less ability to address other risks\"</span> like scam, fraud, abuse, or objectionable or harmful content. \n",
              "Users in the EU will also see a browser choice screen in iOS <span style=\"color: #008080; text-decoration-color: #008080; font-weight: bold\">17.4</span> to pick a default browser.\n",
              "\n",
              "Apple claims its compliance adheres to the letter of the law and that it has done everything it can to ensure \n",
              "iOS devices remain secure and malware-free. However, Epic Games CEO Tim Sweeney criticized Apple's plan to \n",
              "undermine Europe's new Digital Markets Act law as <span style=\"color: #008000; text-decoration-color: #008000\">\"a devious new instance of Malicious Compliance.\"</span> The \n",
              "European Commission will determine whether Apple's plan fully complies with the DMA.\n",
              "</pre>\n"
            ]
          },
          "metadata": {}
        },
        {
          "output_type": "display_data",
          "data": {
            "text/plain": [
              "Completed in: \u001b[1;31m0:03:36\u001b[0m\u001b[1;31m.\u001b[0m\u001b[1;31m606726\u001b[0m\n"
            ],
            "text/html": [
              "<pre style=\"white-space:pre;overflow-x:auto;line-height:normal;font-family:Menlo,'DejaVu Sans Mono',consolas,'Courier New',monospace\">Completed in: <span style=\"color: #800000; text-decoration-color: #800000; font-weight: bold\">0:03:36.</span><span style=\"color: #800000; text-decoration-color: #800000; font-weight: bold\">606726</span>\n",
              "</pre>\n"
            ]
          },
          "metadata": {}
        },
        {
          "output_type": "display_data",
          "data": {
            "text/plain": [],
            "text/html": [
              "<pre style=\"white-space:pre;overflow-x:auto;line-height:normal;font-family:Menlo,'DejaVu Sans Mono',consolas,'Courier New',monospace\"></pre>\n"
            ]
          },
          "metadata": {}
        },
        {
          "output_type": "display_data",
          "data": {
            "text/plain": [
              "\u001b[1m----------------------------\u001b[0m\n"
            ],
            "text/html": [
              "<pre style=\"white-space:pre;overflow-x:auto;line-height:normal;font-family:Menlo,'DejaVu Sans Mono',consolas,'Courier New',monospace\"><span style=\"font-weight: bold\">----------------------------</span>\n",
              "</pre>\n"
            ]
          },
          "metadata": {}
        },
        {
          "output_type": "display_data",
          "data": {
            "text/plain": [
              "Llama.generate: prefix-match hit\n"
            ],
            "text/html": [
              "<pre style=\"white-space:pre;overflow-x:auto;line-height:normal;font-family:Menlo,'DejaVu Sans Mono',consolas,'Courier New',monospace\">Llama.generate: prefix-match hit\n",
              "</pre>\n"
            ]
          },
          "metadata": {}
        },
        {
          "output_type": "display_data",
          "data": {
            "text/plain": [
              "Output()"
            ],
            "application/vnd.jupyter.widget-view+json": {
              "version_major": 2,
              "version_minor": 0,
              "model_id": "4f9d002e59364db592502538d392da7e"
            }
          },
          "metadata": {}
        },
        {
          "output_type": "display_data",
          "data": {
            "text/plain": [
              "\u001b[1;92;40mQuestion: What is the reason behind Apple's changes to iOS \u001b[0m\u001b[1;92;40m17.4\u001b[0m\u001b[1;92;40m?\u001b[0m\n"
            ],
            "text/html": [
              "<pre style=\"white-space:pre;overflow-x:auto;line-height:normal;font-family:Menlo,'DejaVu Sans Mono',consolas,'Courier New',monospace\"><span style=\"color: #00ff00; text-decoration-color: #00ff00; background-color: #000000; font-weight: bold\">Question: What is the reason behind Apple's changes to iOS </span><span style=\"color: #00ff00; text-decoration-color: #00ff00; background-color: #000000; font-weight: bold\">17.4</span><span style=\"color: #00ff00; text-decoration-color: #00ff00; background-color: #000000; font-weight: bold\">?</span>\n",
              "</pre>\n"
            ]
          },
          "metadata": {}
        },
        {
          "output_type": "display_data",
          "data": {
            "text/plain": [
              "\n",
              "The reason behind Apple's changes to iOS \u001b[1;36m17.4\u001b[0m is to comply with Europe's Digital Markets Act, which requires \n",
              "Apple to loosen its strict rules requiring developers to rely on the App Store for distribution and payment \n",
              "processing. The changes include allowing alternative app stores and other new options for app developers, \n",
              "introducing fee structures for developers who take advantage of the new freedoms, notarization for iOS apps, \n",
              "authorization for marketplace developers, and disclosures on alternative payments. Apple claims that these \n",
              "changes will reduce but not eliminate new risks to EU users while maintaining iOS devices' security and \n",
              "malware-free status.\n"
            ],
            "text/html": [
              "<pre style=\"white-space:pre;overflow-x:auto;line-height:normal;font-family:Menlo,'DejaVu Sans Mono',consolas,'Courier New',monospace\">\n",
              "The reason behind Apple's changes to iOS <span style=\"color: #008080; text-decoration-color: #008080; font-weight: bold\">17.4</span> is to comply with Europe's Digital Markets Act, which requires \n",
              "Apple to loosen its strict rules requiring developers to rely on the App Store for distribution and payment \n",
              "processing. The changes include allowing alternative app stores and other new options for app developers, \n",
              "introducing fee structures for developers who take advantage of the new freedoms, notarization for iOS apps, \n",
              "authorization for marketplace developers, and disclosures on alternative payments. Apple claims that these \n",
              "changes will reduce but not eliminate new risks to EU users while maintaining iOS devices' security and \n",
              "malware-free status.\n",
              "</pre>\n"
            ]
          },
          "metadata": {}
        },
        {
          "output_type": "display_data",
          "data": {
            "text/plain": [
              "Completed in: \u001b[1;31m0:01:15\u001b[0m\u001b[1;31m.\u001b[0m\u001b[1;31m953809\u001b[0m\n"
            ],
            "text/html": [
              "<pre style=\"white-space:pre;overflow-x:auto;line-height:normal;font-family:Menlo,'DejaVu Sans Mono',consolas,'Courier New',monospace\">Completed in: <span style=\"color: #800000; text-decoration-color: #800000; font-weight: bold\">0:01:15.</span><span style=\"color: #800000; text-decoration-color: #800000; font-weight: bold\">953809</span>\n",
              "</pre>\n"
            ]
          },
          "metadata": {}
        },
        {
          "output_type": "display_data",
          "data": {
            "text/plain": [],
            "text/html": [
              "<pre style=\"white-space:pre;overflow-x:auto;line-height:normal;font-family:Menlo,'DejaVu Sans Mono',consolas,'Courier New',monospace\"></pre>\n"
            ]
          },
          "metadata": {}
        },
        {
          "output_type": "display_data",
          "data": {
            "text/plain": [
              "\u001b[1m----------------------------\u001b[0m\n"
            ],
            "text/html": [
              "<pre style=\"white-space:pre;overflow-x:auto;line-height:normal;font-family:Menlo,'DejaVu Sans Mono',consolas,'Courier New',monospace\"><span style=\"font-weight: bold\">----------------------------</span>\n",
              "</pre>\n"
            ]
          },
          "metadata": {}
        },
        {
          "output_type": "display_data",
          "data": {
            "text/plain": [
              "Llama.generate: prefix-match hit\n"
            ],
            "text/html": [
              "<pre style=\"white-space:pre;overflow-x:auto;line-height:normal;font-family:Menlo,'DejaVu Sans Mono',consolas,'Courier New',monospace\">Llama.generate: prefix-match hit\n",
              "</pre>\n"
            ]
          },
          "metadata": {}
        },
        {
          "output_type": "display_data",
          "data": {
            "text/plain": [
              "Output()"
            ],
            "application/vnd.jupyter.widget-view+json": {
              "version_major": 2,
              "version_minor": 0,
              "model_id": "f9721d5b3d54434f9b15c5a00993aee9"
            }
          },
          "metadata": {}
        },
        {
          "output_type": "display_data",
          "data": {
            "text/plain": [
              "\u001b[1;92;40mQuestion: How does it relate to the new security measures implemented by the company in terms of ensuring that\u001b[0m\n",
              "\u001b[1;92;40miOS devices remain secure and malware-free?\u001b[0m\n"
            ],
            "text/html": [
              "<pre style=\"white-space:pre;overflow-x:auto;line-height:normal;font-family:Menlo,'DejaVu Sans Mono',consolas,'Courier New',monospace\"><span style=\"color: #00ff00; text-decoration-color: #00ff00; background-color: #000000; font-weight: bold\">Question: How does it relate to the new security measures implemented by the company in terms of ensuring that</span>\n",
              "<span style=\"color: #00ff00; text-decoration-color: #00ff00; background-color: #000000; font-weight: bold\">iOS devices remain secure and malware-free?</span>\n",
              "</pre>\n"
            ]
          },
          "metadata": {}
        },
        {
          "output_type": "display_data",
          "data": {
            "text/plain": [
              "\n",
              "Apple has announced that it will allow alternative app stores and other new options for app developers in \n",
              "order to comply with Europe's Digital Markets Act, which goes into effect on March \u001b[1;36m7\u001b[0m. The move comes as Apple \n",
              "has resisted changes to its App Store rules, citing security and privacy concerns. However, the company \n",
              "believes that after the DMA-imposed changes go through, people will start to understand why Apple has \n",
              "maintained its strict policies for developers. \n",
              "\n",
              "In order to ensure iOS devices remain secure and malware-free, Apple is introducing new safeguards in line \n",
              "with the DMA. These include notarization for iOS apps, authorization for marketplace developers, and \n",
              "disclosures on alternative payments. The company also introduced a \u001b[32m\"core technology fee\"\u001b[0m of €.\u001b[1;36m50\u001b[0m for apps with\n",
              "more than \u001b[1;36m1\u001b[0m million downloads, which applies to both those switching to their own marketplaces or remaining on\n",
              "the App Store. Apple claims that approximately \u001b[1;36m99\u001b[0m% of developers will pay the same or less in fees.\n",
              "\n",
              "Apple's changes come with new fee structures for developers who take advantage of these freedoms. The App \n",
              "Store commission will drop from \u001b[1;36m30\u001b[0m% to \u001b[1;36m17\u001b[0m%, and the discounted rate for certain developers will fall from \u001b[1;36m15\u001b[0m% \n",
              "to \u001b[1;36m10\u001b[0m%. Furthermore, no commission will be charged to developers who want to distribute and facilitate in-app \n",
              "payments outside of the App Store.\n",
              "\n",
              "While some smaller companies view Apple's changes as a major win, others, such as Epic Games CEO Tim Sweeney, \n",
              "have criticized the company for what they see as an attempt to undermine competition and continue imposing \n",
              "Apple taxes on transactions not involved in the new Digital Markets Act law. It is now up to the European \n",
              "Commission to determine whether Apple's plan fully complies with the DMA, and whether these changes will boost\n",
              "competition and improve experiences for users.\n"
            ],
            "text/html": [
              "<pre style=\"white-space:pre;overflow-x:auto;line-height:normal;font-family:Menlo,'DejaVu Sans Mono',consolas,'Courier New',monospace\">\n",
              "Apple has announced that it will allow alternative app stores and other new options for app developers in \n",
              "order to comply with Europe's Digital Markets Act, which goes into effect on March <span style=\"color: #008080; text-decoration-color: #008080; font-weight: bold\">7</span>. The move comes as Apple \n",
              "has resisted changes to its App Store rules, citing security and privacy concerns. However, the company \n",
              "believes that after the DMA-imposed changes go through, people will start to understand why Apple has \n",
              "maintained its strict policies for developers. \n",
              "\n",
              "In order to ensure iOS devices remain secure and malware-free, Apple is introducing new safeguards in line \n",
              "with the DMA. These include notarization for iOS apps, authorization for marketplace developers, and \n",
              "disclosures on alternative payments. The company also introduced a <span style=\"color: #008000; text-decoration-color: #008000\">\"core technology fee\"</span> of €.<span style=\"color: #008080; text-decoration-color: #008080; font-weight: bold\">50</span> for apps with\n",
              "more than <span style=\"color: #008080; text-decoration-color: #008080; font-weight: bold\">1</span> million downloads, which applies to both those switching to their own marketplaces or remaining on\n",
              "the App Store. Apple claims that approximately <span style=\"color: #008080; text-decoration-color: #008080; font-weight: bold\">99</span>% of developers will pay the same or less in fees.\n",
              "\n",
              "Apple's changes come with new fee structures for developers who take advantage of these freedoms. The App \n",
              "Store commission will drop from <span style=\"color: #008080; text-decoration-color: #008080; font-weight: bold\">30</span>% to <span style=\"color: #008080; text-decoration-color: #008080; font-weight: bold\">17</span>%, and the discounted rate for certain developers will fall from <span style=\"color: #008080; text-decoration-color: #008080; font-weight: bold\">15</span>% \n",
              "to <span style=\"color: #008080; text-decoration-color: #008080; font-weight: bold\">10</span>%. Furthermore, no commission will be charged to developers who want to distribute and facilitate in-app \n",
              "payments outside of the App Store.\n",
              "\n",
              "While some smaller companies view Apple's changes as a major win, others, such as Epic Games CEO Tim Sweeney, \n",
              "have criticized the company for what they see as an attempt to undermine competition and continue imposing \n",
              "Apple taxes on transactions not involved in the new Digital Markets Act law. It is now up to the European \n",
              "Commission to determine whether Apple's plan fully complies with the DMA, and whether these changes will boost\n",
              "competition and improve experiences for users.\n",
              "</pre>\n"
            ]
          },
          "metadata": {}
        },
        {
          "output_type": "display_data",
          "data": {
            "text/plain": [
              "Completed in: \u001b[1;31m0:03:39\u001b[0m\u001b[1;31m.\u001b[0m\u001b[1;31m881822\u001b[0m\n"
            ],
            "text/html": [
              "<pre style=\"white-space:pre;overflow-x:auto;line-height:normal;font-family:Menlo,'DejaVu Sans Mono',consolas,'Courier New',monospace\">Completed in: <span style=\"color: #800000; text-decoration-color: #800000; font-weight: bold\">0:03:39.</span><span style=\"color: #800000; text-decoration-color: #800000; font-weight: bold\">881822</span>\n",
              "</pre>\n"
            ]
          },
          "metadata": {}
        },
        {
          "output_type": "display_data",
          "data": {
            "text/plain": [],
            "text/html": [
              "<pre style=\"white-space:pre;overflow-x:auto;line-height:normal;font-family:Menlo,'DejaVu Sans Mono',consolas,'Courier New',monospace\"></pre>\n"
            ]
          },
          "metadata": {}
        },
        {
          "output_type": "display_data",
          "data": {
            "text/plain": [
              "\u001b[1m----------------------------\u001b[0m\n"
            ],
            "text/html": [
              "<pre style=\"white-space:pre;overflow-x:auto;line-height:normal;font-family:Menlo,'DejaVu Sans Mono',consolas,'Courier New',monospace\"><span style=\"font-weight: bold\">----------------------------</span>\n",
              "</pre>\n"
            ]
          },
          "metadata": {}
        },
        {
          "output_type": "display_data",
          "data": {
            "text/plain": [
              "Llama.generate: prefix-match hit\n"
            ],
            "text/html": [
              "<pre style=\"white-space:pre;overflow-x:auto;line-height:normal;font-family:Menlo,'DejaVu Sans Mono',consolas,'Courier New',monospace\">Llama.generate: prefix-match hit\n",
              "</pre>\n"
            ]
          },
          "metadata": {}
        },
        {
          "output_type": "display_data",
          "data": {
            "text/plain": [
              "Output()"
            ],
            "application/vnd.jupyter.widget-view+json": {
              "version_major": 2,
              "version_minor": 0,
              "model_id": "a7ffafa1b7834a59a9dd04f57daea5b7"
            }
          },
          "metadata": {}
        },
        {
          "output_type": "display_data",
          "data": {
            "text/plain": [
              "\u001b[1;92;40mQuestion: What is the latest update to Apple's iOS changes?\u001b[0m\n"
            ],
            "text/html": [
              "<pre style=\"white-space:pre;overflow-x:auto;line-height:normal;font-family:Menlo,'DejaVu Sans Mono',consolas,'Courier New',monospace\"><span style=\"color: #00ff00; text-decoration-color: #00ff00; background-color: #000000; font-weight: bold\">Question: What is the latest update to Apple's iOS changes?</span>\n",
              "</pre>\n"
            ]
          },
          "metadata": {}
        },
        {
          "output_type": "display_data",
          "data": {
            "text/plain": [
              "\n",
              "The latest update to Apple's iOS changes announced that it will allow alternative app stores and other new \n",
              "options for app developers in order to comply with Europe's Digital Markets Act, which goes into effect on \n",
              "March \u001b[1;36m7\u001b[0m. This change requires Apple to loosen its strict rules requiring developers to rely on the App Store \n",
              "for distribution and payment processing. \n",
              "\n",
              "- Apple is making these changes with the caveat that the company has done everything it can to ensure iOS \n",
              "devices remain secure and malware-free. \n",
              "- The company believes that after the DMA-imposed changes go through, people will start to understand why \n",
              "Apple has maintained its strict policies for developers.\n",
              "- Apple is introducing new fee structures for developers who take advantage of the new freedoms.\n",
              "- As part of iOS \u001b[1;36m17.4\u001b[0m, Apple will charge a \u001b[32m\"core technology fee\"\u001b[0m of €.\u001b[1;36m50\u001b[0m for \u001b[32m\"each first annual install per \u001b[0m\n",
              "\u001b[32myear\"\u001b[0m for developers whose apps have achieved more than \u001b[1;36m1\u001b[0m million downloads, to be counted once per Apple \n",
              "account. \n",
              "- The App Store commission, for developers who continue to use it, will drop from \u001b[1;36m30\u001b[0m% to \u001b[1;36m17\u001b[0m%. \n",
              "- No commission will be charged to developers who want to distribute and facilitate in-app payments outside of\n",
              "the App Store. Apple said that approximate \u001b[1;36m99\u001b[0m% of developers will pay the same or less in fees.\n",
              "- The iOS changes will include notarization for iOS apps, authorization for marketplace developers, and \n",
              "disclosures on alternative payments. \n",
              "- Users in the EU will also see a browser choice screen in iOS \u001b[1;36m17.4\u001b[0m to pick a default browser.\n",
              "- Apple's plan to comply with Europe's Digital Markets Act faces scrutiny as the European Commission \n",
              "determines whether it fully complies with the DMA.\n"
            ],
            "text/html": [
              "<pre style=\"white-space:pre;overflow-x:auto;line-height:normal;font-family:Menlo,'DejaVu Sans Mono',consolas,'Courier New',monospace\">\n",
              "The latest update to Apple's iOS changes announced that it will allow alternative app stores and other new \n",
              "options for app developers in order to comply with Europe's Digital Markets Act, which goes into effect on \n",
              "March <span style=\"color: #008080; text-decoration-color: #008080; font-weight: bold\">7</span>. This change requires Apple to loosen its strict rules requiring developers to rely on the App Store \n",
              "for distribution and payment processing. \n",
              "\n",
              "- Apple is making these changes with the caveat that the company has done everything it can to ensure iOS \n",
              "devices remain secure and malware-free. \n",
              "- The company believes that after the DMA-imposed changes go through, people will start to understand why \n",
              "Apple has maintained its strict policies for developers.\n",
              "- Apple is introducing new fee structures for developers who take advantage of the new freedoms.\n",
              "- As part of iOS <span style=\"color: #008080; text-decoration-color: #008080; font-weight: bold\">17.4</span>, Apple will charge a <span style=\"color: #008000; text-decoration-color: #008000\">\"core technology fee\"</span> of €.<span style=\"color: #008080; text-decoration-color: #008080; font-weight: bold\">50</span> for <span style=\"color: #008000; text-decoration-color: #008000\">\"each first annual install per </span>\n",
              "<span style=\"color: #008000; text-decoration-color: #008000\">year\"</span> for developers whose apps have achieved more than <span style=\"color: #008080; text-decoration-color: #008080; font-weight: bold\">1</span> million downloads, to be counted once per Apple \n",
              "account. \n",
              "- The App Store commission, for developers who continue to use it, will drop from <span style=\"color: #008080; text-decoration-color: #008080; font-weight: bold\">30</span>% to <span style=\"color: #008080; text-decoration-color: #008080; font-weight: bold\">17</span>%. \n",
              "- No commission will be charged to developers who want to distribute and facilitate in-app payments outside of\n",
              "the App Store. Apple said that approximate <span style=\"color: #008080; text-decoration-color: #008080; font-weight: bold\">99</span>% of developers will pay the same or less in fees.\n",
              "- The iOS changes will include notarization for iOS apps, authorization for marketplace developers, and \n",
              "disclosures on alternative payments. \n",
              "- Users in the EU will also see a browser choice screen in iOS <span style=\"color: #008080; text-decoration-color: #008080; font-weight: bold\">17.4</span> to pick a default browser.\n",
              "- Apple's plan to comply with Europe's Digital Markets Act faces scrutiny as the European Commission \n",
              "determines whether it fully complies with the DMA.\n",
              "</pre>\n"
            ]
          },
          "metadata": {}
        },
        {
          "output_type": "display_data",
          "data": {
            "text/plain": [
              "Completed in: \u001b[1;31m0:03:27\u001b[0m\u001b[1;31m.\u001b[0m\u001b[1;31m114955\u001b[0m\n"
            ],
            "text/html": [
              "<pre style=\"white-space:pre;overflow-x:auto;line-height:normal;font-family:Menlo,'DejaVu Sans Mono',consolas,'Courier New',monospace\">Completed in: <span style=\"color: #800000; text-decoration-color: #800000; font-weight: bold\">0:03:27.</span><span style=\"color: #800000; text-decoration-color: #800000; font-weight: bold\">114955</span>\n",
              "</pre>\n"
            ]
          },
          "metadata": {}
        },
        {
          "output_type": "display_data",
          "data": {
            "text/plain": [],
            "text/html": [
              "<pre style=\"white-space:pre;overflow-x:auto;line-height:normal;font-family:Menlo,'DejaVu Sans Mono',consolas,'Courier New',monospace\"></pre>\n"
            ]
          },
          "metadata": {}
        },
        {
          "output_type": "display_data",
          "data": {
            "text/plain": [
              "\u001b[1m----------------------------\u001b[0m\n"
            ],
            "text/html": [
              "<pre style=\"white-space:pre;overflow-x:auto;line-height:normal;font-family:Menlo,'DejaVu Sans Mono',consolas,'Courier New',monospace\"><span style=\"font-weight: bold\">----------------------------</span>\n",
              "</pre>\n"
            ]
          },
          "metadata": {}
        },
        {
          "output_type": "display_data",
          "data": {
            "text/plain": [
              "Llama.generate: prefix-match hit\n"
            ],
            "text/html": [
              "<pre style=\"white-space:pre;overflow-x:auto;line-height:normal;font-family:Menlo,'DejaVu Sans Mono',consolas,'Courier New',monospace\">Llama.generate: prefix-match hit\n",
              "</pre>\n"
            ]
          },
          "metadata": {}
        },
        {
          "output_type": "display_data",
          "data": {
            "text/plain": [
              "Output()"
            ],
            "application/vnd.jupyter.widget-view+json": {
              "version_major": 2,
              "version_minor": 0,
              "model_id": "16a083211df2479bbce81eaf7fabe351"
            }
          },
          "metadata": {}
        },
        {
          "output_type": "display_data",
          "data": {
            "text/plain": [
              "\u001b[1;92;40mQuestion: How does it impact the competition and user experience for iPhone app developers?\u001b[0m\n"
            ],
            "text/html": [
              "<pre style=\"white-space:pre;overflow-x:auto;line-height:normal;font-family:Menlo,'DejaVu Sans Mono',consolas,'Courier New',monospace\"><span style=\"color: #00ff00; text-decoration-color: #00ff00; background-color: #000000; font-weight: bold\">Question: How does it impact the competition and user experience for iPhone app developers?</span>\n",
              "</pre>\n"
            ]
          },
          "metadata": {}
        },
        {
          "output_type": "display_data",
          "data": {
            "text/plain": [
              "\n",
              "Impact on competition and user experience for iPhone app developers:\n",
              "\n",
              "- Apple announces sweeping changes in response to Europe's Digital Markets Act, allowing alternative app \n",
              "stores and other new options for app developers.\n",
              "- The company believes that after the DMA-imposed changes go through, people will start to understand why \n",
              "Apple has maintained its strict policies for developers.\n",
              "- New fee structures have been introduced: a \u001b[32m\"core technology fee\"\u001b[0m of €.\u001b[1;36m50\u001b[0m per year for apps with more than \u001b[1;36m1\u001b[0m \n",
              "million downloads; reduced commission rates \u001b[1m(\u001b[0mfrom \u001b[1;36m30\u001b[0m% to \u001b[1;36m17\u001b[0m%\u001b[1m)\u001b[0m for developers who continue to use the App \n",
              "Store, and no commission charged for those distributing and facilitating in-app payments outside of it.\n",
              "- Notarization for iOS apps, authorization for marketplace developers, and disclosures on alternative payments\n",
              "will be included as part of these changes.\n",
              "- Users in the EU will see a browser choice screen in iOS \u001b[1;36m17.4\u001b[0m to pick a default browser.\n",
              "- Apple's compliance adheres to the letter of the law but the company has no plans to expand these options \n",
              "outside of Europe due to risk concerns.\n",
              "- The impact on competition and user experience remains to be seen as it is up to the European Commission to \n",
              "determine whether Apple's plan fully complies with the DMA, and iPhone app developers face a new world of \n",
              "choices.\n"
            ],
            "text/html": [
              "<pre style=\"white-space:pre;overflow-x:auto;line-height:normal;font-family:Menlo,'DejaVu Sans Mono',consolas,'Courier New',monospace\">\n",
              "Impact on competition and user experience for iPhone app developers:\n",
              "\n",
              "- Apple announces sweeping changes in response to Europe's Digital Markets Act, allowing alternative app \n",
              "stores and other new options for app developers.\n",
              "- The company believes that after the DMA-imposed changes go through, people will start to understand why \n",
              "Apple has maintained its strict policies for developers.\n",
              "- New fee structures have been introduced: a <span style=\"color: #008000; text-decoration-color: #008000\">\"core technology fee\"</span> of €.<span style=\"color: #008080; text-decoration-color: #008080; font-weight: bold\">50</span> per year for apps with more than <span style=\"color: #008080; text-decoration-color: #008080; font-weight: bold\">1</span> \n",
              "million downloads; reduced commission rates <span style=\"font-weight: bold\">(</span>from <span style=\"color: #008080; text-decoration-color: #008080; font-weight: bold\">30</span>% to <span style=\"color: #008080; text-decoration-color: #008080; font-weight: bold\">17</span>%<span style=\"font-weight: bold\">)</span> for developers who continue to use the App \n",
              "Store, and no commission charged for those distributing and facilitating in-app payments outside of it.\n",
              "- Notarization for iOS apps, authorization for marketplace developers, and disclosures on alternative payments\n",
              "will be included as part of these changes.\n",
              "- Users in the EU will see a browser choice screen in iOS <span style=\"color: #008080; text-decoration-color: #008080; font-weight: bold\">17.4</span> to pick a default browser.\n",
              "- Apple's compliance adheres to the letter of the law but the company has no plans to expand these options \n",
              "outside of Europe due to risk concerns.\n",
              "- The impact on competition and user experience remains to be seen as it is up to the European Commission to \n",
              "determine whether Apple's plan fully complies with the DMA, and iPhone app developers face a new world of \n",
              "choices.\n",
              "</pre>\n"
            ]
          },
          "metadata": {}
        },
        {
          "output_type": "display_data",
          "data": {
            "text/plain": [
              "Completed in: \u001b[1;31m0:02:39\u001b[0m\u001b[1;31m.\u001b[0m\u001b[1;31m044530\u001b[0m\n"
            ],
            "text/html": [
              "<pre style=\"white-space:pre;overflow-x:auto;line-height:normal;font-family:Menlo,'DejaVu Sans Mono',consolas,'Courier New',monospace\">Completed in: <span style=\"color: #800000; text-decoration-color: #800000; font-weight: bold\">0:02:39.</span><span style=\"color: #800000; text-decoration-color: #800000; font-weight: bold\">044530</span>\n",
              "</pre>\n"
            ]
          },
          "metadata": {}
        },
        {
          "output_type": "display_data",
          "data": {
            "text/plain": [],
            "text/html": [
              "<pre style=\"white-space:pre;overflow-x:auto;line-height:normal;font-family:Menlo,'DejaVu Sans Mono',consolas,'Courier New',monospace\"></pre>\n"
            ]
          },
          "metadata": {}
        },
        {
          "output_type": "display_data",
          "data": {
            "text/plain": [
              "\u001b[1m----------------------------\u001b[0m\n"
            ],
            "text/html": [
              "<pre style=\"white-space:pre;overflow-x:auto;line-height:normal;font-family:Menlo,'DejaVu Sans Mono',consolas,'Courier New',monospace\"><span style=\"font-weight: bold\">----------------------------</span>\n",
              "</pre>\n"
            ]
          },
          "metadata": {}
        }
      ]
    },
    {
      "cell_type": "markdown",
      "source": [
        "\n",
        "\n",
        "---\n",
        "\n",
        "\n",
        "\n",
        "---\n",
        "\n",
        "\n",
        "\n",
        "---\n",
        "\n"
      ],
      "metadata": {
        "id": "R_OZnOdyYM0h"
      }
    },
    {
      "cell_type": "code",
      "source": [
        "def qnAgen(textplitted, summary, quest2, model, modelname):\n",
        "  console.print(f\"[bold blue]Generating replies with {modelname}...\")\n",
        "  console.print('[bold]----------------------------')\n",
        "  i = 0\n",
        "  for items in textplitted:\n",
        "    context = items + summary\n",
        "    question = quest2[i]\n",
        "    template_qna = f'''Read this and answer the question. Your answer must be informative. If the question is unanswerable, \"\"say \\\"unanswerable\\\".\\n\\n{context}\\n\\n{question}'''\n",
        "    res = model(template_qna, temperature=0.3, repetition_penalty=1.3, max_length=250, do_sample=True)[0]['generated_text']\n",
        "    console.print(f\"[bold blue]{question}\")\n",
        "    console.print(res)\n",
        "    console.print('---')\n",
        "    i += 1\n",
        "    question = quest2[i]\n",
        "    template_qna = f'''Read this and answer the question. Your answer must be informative. If the question is unanswerable, \"\"say \\\"unanswerable\\\".\\n\\n{context}\\n\\n{question}'''\n",
        "    res = model(template_qna, temperature=0.3, repetition_penalty=1.3, max_length=250, do_sample=True)[0]['generated_text']\n",
        "    console.print(f\"[bold blue]{question}\")\n",
        "    console.print(res)\n",
        "    console.print('---')\n",
        "    i += 1\n"
      ],
      "metadata": {
        "id": "s_z23dtRDiqS"
      },
      "execution_count": null,
      "outputs": []
    },
    {
      "cell_type": "code",
      "source": [
        "qnAgen(splitted_text_qg, sum77, qg783, model77,'🎴LaMiniFlanT5-77M')\n",
        "## got an error since 77M model cannot follow the isntruction to generate 2 questions per chunk"
      ],
      "metadata": {
        "id": "KauSPnjNNPA0",
        "colab": {
          "base_uri": "https://localhost:8080/",
          "height": 444
        },
        "outputId": "88b5caa2-0ffc-4e33-a8a0-d5de8b872fa0"
      },
      "execution_count": null,
      "outputs": [
        {
          "output_type": "display_data",
          "data": {
            "text/plain": [
              "\u001b[1;34mGenerating replies with 🎴LaMiniFlanT5-77M\u001b[0m\u001b[1;34m...\u001b[0m\n"
            ],
            "text/html": [
              "<pre style=\"white-space:pre;overflow-x:auto;line-height:normal;font-family:Menlo,'DejaVu Sans Mono',consolas,'Courier New',monospace\"><span style=\"color: #000080; text-decoration-color: #000080; font-weight: bold\">Generating replies with 🎴LaMiniFlanT5-77M...</span>\n",
              "</pre>\n"
            ]
          },
          "metadata": {}
        },
        {
          "output_type": "display_data",
          "data": {
            "text/plain": [
              "\u001b[1m----------------------------\u001b[0m\n"
            ],
            "text/html": [
              "<pre style=\"white-space:pre;overflow-x:auto;line-height:normal;font-family:Menlo,'DejaVu Sans Mono',consolas,'Courier New',monospace\"><span style=\"font-weight: bold\">----------------------------</span>\n",
              "</pre>\n"
            ]
          },
          "metadata": {}
        },
        {
          "output_type": "display_data",
          "data": {
            "text/plain": [
              "\u001b[1;34mWhat is the Digital Markets Act and how does it affect Apple's App Store?\u001b[0m\n"
            ],
            "text/html": [
              "<pre style=\"white-space:pre;overflow-x:auto;line-height:normal;font-family:Menlo,'DejaVu Sans Mono',consolas,'Courier New',monospace\"><span style=\"color: #000080; text-decoration-color: #000080; font-weight: bold\">What is the Digital Markets Act and how does it affect Apple's App Store?</span>\n",
              "</pre>\n"
            ]
          },
          "metadata": {}
        },
        {
          "output_type": "display_data",
          "data": {
            "text/plain": [
              "The Digital Markets Act is a legal framework that regulates the use of alternative app stores and other new \n",
              "options for app developers in Europe. It affects Apple's App Store by providing flexibility to allow \n",
              "alternative apps stores and other new options for app developers, including an \u001b[32m\"walled garden\"\u001b[0m system.\n"
            ],
            "text/html": [
              "<pre style=\"white-space:pre;overflow-x:auto;line-height:normal;font-family:Menlo,'DejaVu Sans Mono',consolas,'Courier New',monospace\">The Digital Markets Act is a legal framework that regulates the use of alternative app stores and other new \n",
              "options for app developers in Europe. It affects Apple's App Store by providing flexibility to allow \n",
              "alternative apps stores and other new options for app developers, including an <span style=\"color: #008000; text-decoration-color: #008000\">\"walled garden\"</span> system.\n",
              "</pre>\n"
            ]
          },
          "metadata": {}
        },
        {
          "output_type": "display_data",
          "data": {
            "text/plain": [
              "---\n"
            ],
            "text/html": [
              "<pre style=\"white-space:pre;overflow-x:auto;line-height:normal;font-family:Menlo,'DejaVu Sans Mono',consolas,'Courier New',monospace\">---\n",
              "</pre>\n"
            ]
          },
          "metadata": {}
        },
        {
          "output_type": "display_data",
          "data": {
            "text/plain": [
              "\u001b[1;34mHow has Apple resisted any changes to its App Store rules, and what are some of the reasons for this change?\u001b[0m\n"
            ],
            "text/html": [
              "<pre style=\"white-space:pre;overflow-x:auto;line-height:normal;font-family:Menlo,'DejaVu Sans Mono',consolas,'Courier New',monospace\"><span style=\"color: #000080; text-decoration-color: #000080; font-weight: bold\">How has Apple resisted any changes to its App Store rules, and what are some of the reasons for this change?</span>\n",
              "</pre>\n"
            ]
          },
          "metadata": {}
        },
        {
          "output_type": "display_data",
          "data": {
            "text/plain": [
              "Apple has resisted any changes to its App Store rules, citing security and privacy.\n"
            ],
            "text/html": [
              "<pre style=\"white-space:pre;overflow-x:auto;line-height:normal;font-family:Menlo,'DejaVu Sans Mono',consolas,'Courier New',monospace\">Apple has resisted any changes to its App Store rules, citing security and privacy.\n",
              "</pre>\n"
            ]
          },
          "metadata": {}
        },
        {
          "output_type": "display_data",
          "data": {
            "text/plain": [
              "---\n"
            ],
            "text/html": [
              "<pre style=\"white-space:pre;overflow-x:auto;line-height:normal;font-family:Menlo,'DejaVu Sans Mono',consolas,'Courier New',monospace\">---\n",
              "</pre>\n"
            ]
          },
          "metadata": {}
        },
        {
          "output_type": "display_data",
          "data": {
            "text/plain": [
              "\u001b[1;34mWhat is the purpose of Apple's new fee structures for developers?\u001b[0m\n"
            ],
            "text/html": [
              "<pre style=\"white-space:pre;overflow-x:auto;line-height:normal;font-family:Menlo,'DejaVu Sans Mono',consolas,'Courier New',monospace\"><span style=\"color: #000080; text-decoration-color: #000080; font-weight: bold\">What is the purpose of Apple's new fee structures for developers?</span>\n",
              "</pre>\n"
            ]
          },
          "metadata": {}
        },
        {
          "output_type": "display_data",
          "data": {
            "text/plain": [
              "The purpose of Apple's new fee structures for developers is to ensure iOS devices remain secure and \n",
              "malware-free, but it has no plans to expand these options outside of Europe.\n"
            ],
            "text/html": [
              "<pre style=\"white-space:pre;overflow-x:auto;line-height:normal;font-family:Menlo,'DejaVu Sans Mono',consolas,'Courier New',monospace\">The purpose of Apple's new fee structures for developers is to ensure iOS devices remain secure and \n",
              "malware-free, but it has no plans to expand these options outside of Europe.\n",
              "</pre>\n"
            ]
          },
          "metadata": {}
        },
        {
          "output_type": "display_data",
          "data": {
            "text/plain": [
              "---\n"
            ],
            "text/html": [
              "<pre style=\"white-space:pre;overflow-x:auto;line-height:normal;font-family:Menlo,'DejaVu Sans Mono',consolas,'Courier New',monospace\">---\n",
              "</pre>\n"
            ]
          },
          "metadata": {}
        },
        {
          "output_type": "display_data",
          "data": {
            "text/plain": [
              "\u001b[1;34mHow will these changes affect developers in terms of revenue and profit margins?\u001b[0m\n"
            ],
            "text/html": [
              "<pre style=\"white-space:pre;overflow-x:auto;line-height:normal;font-family:Menlo,'DejaVu Sans Mono',consolas,'Courier New',monospace\"><span style=\"color: #000080; text-decoration-color: #000080; font-weight: bold\">How will these changes affect developers in terms of revenue and profit margins?</span>\n",
              "</pre>\n"
            ]
          },
          "metadata": {}
        },
        {
          "output_type": "display_data",
          "data": {
            "text/plain": [
              "The changes will affect developers in terms of revenue and profit margins.\n"
            ],
            "text/html": [
              "<pre style=\"white-space:pre;overflow-x:auto;line-height:normal;font-family:Menlo,'DejaVu Sans Mono',consolas,'Courier New',monospace\">The changes will affect developers in terms of revenue and profit margins.\n",
              "</pre>\n"
            ]
          },
          "metadata": {}
        },
        {
          "output_type": "display_data",
          "data": {
            "text/plain": [
              "---\n"
            ],
            "text/html": [
              "<pre style=\"white-space:pre;overflow-x:auto;line-height:normal;font-family:Menlo,'DejaVu Sans Mono',consolas,'Courier New',monospace\">---\n",
              "</pre>\n"
            ]
          },
          "metadata": {}
        },
        {
          "output_type": "display_data",
          "data": {
            "text/plain": [
              "\u001b[1;34mWhat are the changes to iOS that will be implemented in response to Europe's new Digital Markets Act law?\u001b[0m\n"
            ],
            "text/html": [
              "<pre style=\"white-space:pre;overflow-x:auto;line-height:normal;font-family:Menlo,'DejaVu Sans Mono',consolas,'Courier New',monospace\"><span style=\"color: #000080; text-decoration-color: #000080; font-weight: bold\">What are the changes to iOS that will be implemented in response to Europe's new Digital Markets Act law?</span>\n",
              "</pre>\n"
            ]
          },
          "metadata": {}
        },
        {
          "output_type": "display_data",
          "data": {
            "text/plain": [
              "The changes to iOS that will be implemented in response to Europe's new Digital Markets Act law include \n",
              "notarization for iOS apps, authorization for marketplace developers and disclosures on alternative payments.\n"
            ],
            "text/html": [
              "<pre style=\"white-space:pre;overflow-x:auto;line-height:normal;font-family:Menlo,'DejaVu Sans Mono',consolas,'Courier New',monospace\">The changes to iOS that will be implemented in response to Europe's new Digital Markets Act law include \n",
              "notarization for iOS apps, authorization for marketplace developers and disclosures on alternative payments.\n",
              "</pre>\n"
            ]
          },
          "metadata": {}
        },
        {
          "output_type": "display_data",
          "data": {
            "text/plain": [
              "---\n"
            ],
            "text/html": [
              "<pre style=\"white-space:pre;overflow-x:auto;line-height:normal;font-family:Menlo,'DejaVu Sans Mono',consolas,'Courier New',monospace\">---\n",
              "</pre>\n"
            ]
          },
          "metadata": {}
        },
        {
          "output_type": "display_data",
          "data": {
            "text/plain": [
              "\u001b[1;34mWho is Tim Sweeney and what is his opinion on Apple's plan to thwart the DMA?\u001b[0m\n"
            ],
            "text/html": [
              "<pre style=\"white-space:pre;overflow-x:auto;line-height:normal;font-family:Menlo,'DejaVu Sans Mono',consolas,'Courier New',monospace\"><span style=\"color: #000080; text-decoration-color: #000080; font-weight: bold\">Who is Tim Sweeney and what is his opinion on Apple's plan to thwart the DMA?</span>\n",
              "</pre>\n"
            ]
          },
          "metadata": {}
        },
        {
          "output_type": "display_data",
          "data": {
            "text/plain": [
              "Tim Sweeney is Epic Games CEO. He believes that Apple's plan to thwart Europe's new Digital Markets Act law is\n",
              "a devious new instance of Malicious Compliance and strongly rejects it.\n"
            ],
            "text/html": [
              "<pre style=\"white-space:pre;overflow-x:auto;line-height:normal;font-family:Menlo,'DejaVu Sans Mono',consolas,'Courier New',monospace\">Tim Sweeney is Epic Games CEO. He believes that Apple's plan to thwart Europe's new Digital Markets Act law is\n",
              "a devious new instance of Malicious Compliance and strongly rejects it.\n",
              "</pre>\n"
            ]
          },
          "metadata": {}
        },
        {
          "output_type": "display_data",
          "data": {
            "text/plain": [
              "---\n"
            ],
            "text/html": [
              "<pre style=\"white-space:pre;overflow-x:auto;line-height:normal;font-family:Menlo,'DejaVu Sans Mono',consolas,'Courier New',monospace\">---\n",
              "</pre>\n"
            ]
          },
          "metadata": {}
        }
      ]
    },
    {
      "cell_type": "markdown",
      "source": [
        "### Highlither Function\n"
      ],
      "metadata": {
        "id": "WeTIwFuTR5eT"
      }
    },
    {
      "cell_type": "code",
      "source": [
        "# key = \"notarization for iOS apps\"\n",
        "# mytest = \"The iOS changes will include notarization for iOS apps, authorization for marketplace developers and disclosures on alternative payments.\"\n",
        "def evidenzia(key, fulltext):\n",
        "  from rich.text import Text\n",
        "  mytest = fulltext\n",
        "  text = Text(mytest)\n",
        "  l = len(key)\n",
        "  x = mytest.find(key)\n",
        "  text.stylize(\"black on bright_yellow\", x, (x+l))\n",
        "  console.print(text)\n",
        "  return text"
      ],
      "metadata": {
        "id": "4SwvhDKXR-TF"
      },
      "execution_count": null,
      "outputs": []
    },
    {
      "cell_type": "code",
      "source": [
        "a = \"\"\"Apple's sweeping changes to its iOS App Store in Europe have significant implications for smaller companies,\n",
        "as Spotify recently previewed what it will look like after March 7.\"\"\"\n",
        "b = \"\"\"for smaller companies,\n",
        "as Spotify\"\"\"\n",
        "s =evidenzia(b,a)"
      ],
      "metadata": {
        "colab": {
          "base_uri": "https://localhost:8080/",
          "height": 51
        },
        "outputId": "c74c3476-3af3-4444-b60a-c489e00113ce",
        "id": "H5zHNpDqR-TG"
      },
      "execution_count": null,
      "outputs": [
        {
          "output_type": "display_data",
          "data": {
            "text/plain": [
              "Apple's sweeping changes to its iOS App Store in Europe have significant implications \u001b[30;103mfor smaller companies,\u001b[0m\n",
              "\u001b[30;103mas Spotify\u001b[0m recently previewed what it will look like after March 7.\n"
            ],
            "text/html": [
              "<pre style=\"white-space:pre;overflow-x:auto;line-height:normal;font-family:Menlo,'DejaVu Sans Mono',consolas,'Courier New',monospace\">Apple's sweeping changes to its iOS App Store in Europe have significant implications <span style=\"color: #000000; text-decoration-color: #000000; background-color: #ffff00\">for smaller companies,</span>\n",
              "<span style=\"color: #000000; text-decoration-color: #000000; background-color: #ffff00\">as Spotify</span> recently previewed what it will look like after March 7.\n",
              "</pre>\n"
            ]
          },
          "metadata": {}
        }
      ]
    },
    {
      "cell_type": "markdown",
      "source": [
        "### Create a VectorDB with HugginFace embeddings"
      ],
      "metadata": {
        "id": "jVYFo24USAZu"
      }
    },
    {
      "cell_type": "code",
      "source": [
        "TOKENtext_splitter = TokenTextSplitter(chunk_size=128, chunk_overlap=0)\n",
        "splitted_text_qna = TOKENtext_splitter.split_text(editedtext) #create a list"
      ],
      "metadata": {
        "id": "-TbYTiJt7JZ1"
      },
      "execution_count": null,
      "outputs": []
    },
    {
      "cell_type": "code",
      "source": [
        "def createDB(docs, embeddings, dbname):\n",
        "  \"\"\"\n",
        "  Function that create a Chroma Vector store of splitted documents\n",
        "  with provided embeddings, and save it locally.\n",
        "  docs: text_splitter docs object\n",
        "  embeddings: HuggingFace embeddings object\n",
        "  dbname: string, the name of the persistent db\n",
        "  RETURN  the Chroma db object\n",
        "  \"\"\"\n",
        "  from langchain.vectorstores import Chroma\n",
        "  import datetime\n",
        "  start = datetime.datetime.now()\n",
        "  db = Chroma.from_documents(docs, embeddings,persist_directory=f\"./{dbname}\")\n",
        "  stop = datetime.datetime.now()\n",
        "  delta = stop-start\n",
        "  writehistory(f\"{str(datetime.datetime.now())} Vector db generated in {delta}\")\n",
        "  return db\n"
      ],
      "metadata": {
        "id": "EciAuRhMSPxv"
      },
      "execution_count": null,
      "outputs": []
    },
    {
      "cell_type": "code",
      "source": [
        "from langchain.schema.document import Document\n",
        "docdocs = []\n",
        "for i in range(0,len(splitted_text_qna)):\n",
        "  docdocs.append(Document(page_content = splitted_text_qna[i],\n",
        "                          metadata = {'source': '/content/2024-01-27 11.23.05 Apple s iOS App Store announces_edited.txt',\n",
        "                              'title': \"Apple's iOS App Store announces sweeping changes in the EU\",\n",
        "                              'author': 'Ashley Gold, author of Axios Pro',\n",
        "                              'url' : 'https://www.axios.com/2024/01/25/apple-app-store-eu-changes',\n",
        "                              }))\n",
        "docsum = Document(page_content = sum77, metadata = {\n",
        "                  'source': '/content/2024-01-27 11.23.05 Apple s iOS App Store announces_edited.txt',\n",
        "                  'title': \"Apple's iOS App Store announces sweeping changes in the EU\",\n",
        "                  'author': 'Ashley Gold, author of Axios Pro',\n",
        "                  'url' : 'https://www.axios.com/2024/01/25/apple-app-store-eu-changes',\n",
        "                  'type': 'summary'})"
      ],
      "metadata": {
        "id": "gbFixUl6Tgsf"
      },
      "execution_count": null,
      "outputs": []
    },
    {
      "cell_type": "code",
      "source": [
        "db3 = createDB(docdocs, hf_embeddings, 'db-128-0-BGEBase')"
      ],
      "metadata": {
        "colab": {
          "base_uri": "https://localhost:8080/"
        },
        "outputId": "2fdaa350-72d1-42e1-c8fd-d60aff46c88d",
        "id": "zRt-AYTkSPx1"
      },
      "execution_count": null,
      "outputs": [
        {
          "output_type": "stream",
          "name": "stdout",
          "text": [
            "Vector db generated in 0:00:05.348339\n"
          ]
        }
      ]
    },
    {
      "cell_type": "markdown",
      "source": [
        "```\n",
        "# load from disk\n",
        "db3 = Chroma(persist_directory=\"./chroma_db480tok-20\", embedding_function=hf_embeddings)\n",
        "```\n",
        "\n"
      ],
      "metadata": {
        "id": "dtdLAmmESPx1"
      }
    },
    {
      "cell_type": "markdown",
      "source": [
        "### Full functions for QnA and Reranking with summary"
      ],
      "metadata": {
        "id": "HCdzNeZem9dP"
      }
    },
    {
      "cell_type": "code",
      "source": [
        "#from langchain_community.llms.huggingface_pipeline import HuggingFacePipeline\n",
        "#llm = HuggingFacePipeline(pipeline=model783)"
      ],
      "metadata": {
        "id": "r1Ke-EvJaMI_"
      },
      "execution_count": null,
      "outputs": []
    },
    {
      "cell_type": "code",
      "source": [
        "def QnA_Rerank_Stable(db,k, summarization, query,model):\n",
        "  \"\"\"\n",
        "  return the generated answer to a similarity search query\n",
        "  with Re-ranking of k elements\n",
        "  and run the QnA chain with Prompt Template\n",
        "  inputs:\n",
        "  db -> ChromaDB object instance\n",
        "  k -> number of hits for the similarity search (be aware of Max Context Lenght!)\n",
        "       must be >= 3\n",
        "  summarization -> Langchain Document object with the Summarization\n",
        "  query -> string witht he question for the similarity search\n",
        "  llm -> llama-cpp-python model instance\n",
        "  return res: str generated answer by llm\n",
        "         delta: time object, duration of the llm generation\n",
        "         ques: the question string\n",
        "         reordered_docs: list of LangChainDocuments ReRanked with Summarization\n",
        "  \"\"\"\n",
        "  import datetime\n",
        "  start = datetime.datetime.now()\n",
        "  # Create a retriever\n",
        "  retriever = db.as_retriever(search_kwargs={\"k\": k})\n",
        "  from langchain.document_transformers import LongContextReorder\n",
        "  from langchain.chains import StuffDocumentsChain, LLMChain\n",
        "  from langchain.prompts import PromptTemplate\n",
        "  # Get relevant documents ordered by relevance score\n",
        "  context_set = retriever.get_relevant_documents(query)\n",
        "  #print(str(context_set))\n",
        "  # Reorder the documents:\n",
        "  # Less relevant document will be at the middle of the list and more\n",
        "  # relevant elements at beginning / end.\n",
        "  reordering = LongContextReorder()\n",
        "  reordered_docs = reordering.transform_documents(context_set)\n",
        "  reordered_docs.insert(-1,summarization)\n",
        "  #print(str(reordered_docs))\n",
        "  # We prepare and run a custom Stuff chain with reordered docs as context.\n",
        "  # Override prompts\n",
        "  context = ''\n",
        "  for i in reordered_docs:\n",
        "    context += i.page_content\n",
        "  template = f\"\"\"<|user|>\\nGiven this text extracts:\\n-----\\n{context}\\n-----\\nPlease answer the question. Your answer must be precise, informative and organized into bullet points. If the question is unanswerable, \"\"say \\\"unanswerable\\\".\\nQuestion: {query}<|endoftext|>\\n<|assistant|>\"\"\"\n",
        "  with console.status(\"StableLM-Zephyr-3B AI is working ✅✅✅ ...\",spinner=\"dots12\"):\n",
        "    output = model(\n",
        "      template, # Prompt\n",
        "      temperature=0.3,\n",
        "      max_tokens=450,  # Generate up to 512 tokens\n",
        "      stop=[\"</s>\"],   # Example stop token - not necessarily correct for this specific model! Please check before using.\n",
        "      echo=False        # Whether to echo the prompt\n",
        "    )\n",
        "  result = output['choices'][0]['text']\n",
        "  delta = datetime.datetime.now() - start\n",
        "  return result, delta, query, reordered_docs\n",
        "\n",
        "def evidenzia_res(keys, fulltext,summary):\n",
        "  from rich.text import Text\n",
        "  mytest = fulltext + summary.page_content\n",
        "  text = Text(mytest)\n",
        "  for item in keys:\n",
        "    l = len(item.page_content)\n",
        "    x = mytest.find(item.page_content)\n",
        "    text.stylize(\"black on bright_yellow\", x, (x+l))\n",
        "  console.print(text)\n",
        "  return text"
      ],
      "metadata": {
        "id": "nGos5VydSBOd"
      },
      "execution_count": null,
      "outputs": []
    },
    {
      "cell_type": "markdown",
      "source": [
        "## QnA_Rerank_Plus with 🧠💎 StablLM-Zephyr-3B using Reranking and Summary"
      ],
      "metadata": {
        "id": "Mttd8DYumwsR"
      }
    },
    {
      "cell_type": "code",
      "source": [
        "from rich.markdown import Markdown\n",
        "console.print(Markdown(\"# QnA GENERATED BY 🧠💎 StablLM-Zephyr-3B with RERANKING and Summary\"))\n",
        "question = \"What are the major changes Apple is implementing in the EU App Store in response to Europe's Digital Markets Act?\"\n",
        "r1,t1,q1,rd1 = QnA_Rerank_Stable(db3,3, docsum, question,llm)\n",
        "console.print(f\"[bold red1]Question: {q1}\")\n",
        "console.print(r1)\n",
        "console.print(\"---\")\n",
        "console.print(f\"generated in {t1}\")"
      ],
      "metadata": {
        "colab": {
          "base_uri": "https://localhost:8080/",
          "height": 314,
          "referenced_widgets": [
            "c545f6f5f5604aa899f318c3a264af09",
            "0f8d41ffc60a49caa55ab876a0418cad"
          ]
        },
        "id": "yH_LDOwdSeTT",
        "outputId": "1bf42280-7d58-41a1-bdc8-4910839fd190"
      },
      "execution_count": null,
      "outputs": [
        {
          "output_type": "display_data",
          "data": {
            "text/plain": [
              "┏━━━━━━━━━━━━━━━━━━━━━━━━━━━━━━━━━━━━━━━━━━━━━━━━━━━━━━━━━━━━━━━━━━━━━━━━━━━━━━━━━━━━━━━━━━━━━━━━━━━━━━━━━━━━┓\n",
              "┃                     \u001b[1mQnA GENERATED BY 🧠💎 StablLM-Zephyr-3B with RERANKING and Summary\u001b[0m                     ┃\n",
              "┗━━━━━━━━━━━━━━━━━━━━━━━━━━━━━━━━━━━━━━━━━━━━━━━━━━━━━━━━━━━━━━━━━━━━━━━━━━━━━━━━━━━━━━━━━━━━━━━━━━━━━━━━━━━━┛\n"
            ],
            "text/html": [
              "<pre style=\"white-space:pre;overflow-x:auto;line-height:normal;font-family:Menlo,'DejaVu Sans Mono',consolas,'Courier New',monospace\">┏━━━━━━━━━━━━━━━━━━━━━━━━━━━━━━━━━━━━━━━━━━━━━━━━━━━━━━━━━━━━━━━━━━━━━━━━━━━━━━━━━━━━━━━━━━━━━━━━━━━━━━━━━━━━┓\n",
              "┃                     <span style=\"font-weight: bold\">QnA GENERATED BY 🧠💎 StablLM-Zephyr-3B with RERANKING and Summary</span>                     ┃\n",
              "┗━━━━━━━━━━━━━━━━━━━━━━━━━━━━━━━━━━━━━━━━━━━━━━━━━━━━━━━━━━━━━━━━━━━━━━━━━━━━━━━━━━━━━━━━━━━━━━━━━━━━━━━━━━━━┛\n",
              "</pre>\n"
            ]
          },
          "metadata": {}
        },
        {
          "output_type": "display_data",
          "data": {
            "text/plain": [
              "Llama.generate: prefix-match hit\n"
            ],
            "text/html": [
              "<pre style=\"white-space:pre;overflow-x:auto;line-height:normal;font-family:Menlo,'DejaVu Sans Mono',consolas,'Courier New',monospace\">Llama.generate: prefix-match hit\n",
              "</pre>\n"
            ]
          },
          "metadata": {}
        },
        {
          "output_type": "display_data",
          "data": {
            "text/plain": [
              "Output()"
            ],
            "application/vnd.jupyter.widget-view+json": {
              "version_major": 2,
              "version_minor": 0,
              "model_id": "c545f6f5f5604aa899f318c3a264af09"
            }
          },
          "metadata": {}
        },
        {
          "output_type": "display_data",
          "data": {
            "text/plain": [],
            "text/html": [
              "<pre style=\"white-space:pre;overflow-x:auto;line-height:normal;font-family:Menlo,'DejaVu Sans Mono',consolas,'Courier New',monospace\"></pre>\n"
            ]
          },
          "metadata": {}
        },
        {
          "output_type": "display_data",
          "data": {
            "text/plain": [
              "\u001b[1;38;5;196mQuestion: What are the major changes Apple is implementing in the EU App Store in response to Europe's Digital\u001b[0m\n",
              "\u001b[1;38;5;196mMarkets Act?\u001b[0m\n"
            ],
            "text/html": [
              "<pre style=\"white-space:pre;overflow-x:auto;line-height:normal;font-family:Menlo,'DejaVu Sans Mono',consolas,'Courier New',monospace\"><span style=\"color: #ff0000; text-decoration-color: #ff0000; font-weight: bold\">Question: What are the major changes Apple is implementing in the EU App Store in response to Europe's Digital</span>\n",
              "<span style=\"color: #ff0000; text-decoration-color: #ff0000; font-weight: bold\">Markets Act?</span>\n",
              "</pre>\n"
            ]
          },
          "metadata": {}
        },
        {
          "output_type": "display_data",
          "data": {
            "text/plain": [
              "\n",
              "- Apple will allow alternative app stores and other new options for app developers to comply with Europe's \n",
              "Digital Markets Act \u001b[1m(\u001b[0mDMA\u001b[1m)\u001b[0m.\n",
              "- The company claims that its services are best-in-class and ensure smooth user experiences free of spam or \n",
              "harmful content.\n",
              "- Users in the EU will see a browser choice screen in iOS \u001b[1;36m17.4\u001b[0m to pick a default browser.\n",
              "- Apple is introducing new fees for developers who take advantage of these free freedoms, with approximately \n",
              "\u001b[1;36m99\u001b[0m% of developers paying the same or less fees for their iOS changes.\n",
              "- Epic Games CEO Tim Sweeney has criticized Apple's plan as an instance of Malicious Compliance and has \n",
              "rejected the company's use of notarization and malware scanning processes to undermine competition.\n",
              "- The European Commission will determine whether Apple's plan fully complies with the DMA.\n"
            ],
            "text/html": [
              "<pre style=\"white-space:pre;overflow-x:auto;line-height:normal;font-family:Menlo,'DejaVu Sans Mono',consolas,'Courier New',monospace\">\n",
              "- Apple will allow alternative app stores and other new options for app developers to comply with Europe's \n",
              "Digital Markets Act <span style=\"font-weight: bold\">(</span>DMA<span style=\"font-weight: bold\">)</span>.\n",
              "- The company claims that its services are best-in-class and ensure smooth user experiences free of spam or \n",
              "harmful content.\n",
              "- Users in the EU will see a browser choice screen in iOS <span style=\"color: #008080; text-decoration-color: #008080; font-weight: bold\">17.4</span> to pick a default browser.\n",
              "- Apple is introducing new fees for developers who take advantage of these free freedoms, with approximately \n",
              "<span style=\"color: #008080; text-decoration-color: #008080; font-weight: bold\">99</span>% of developers paying the same or less fees for their iOS changes.\n",
              "- Epic Games CEO Tim Sweeney has criticized Apple's plan as an instance of Malicious Compliance and has \n",
              "rejected the company's use of notarization and malware scanning processes to undermine competition.\n",
              "- The European Commission will determine whether Apple's plan fully complies with the DMA.\n",
              "</pre>\n"
            ]
          },
          "metadata": {}
        },
        {
          "output_type": "display_data",
          "data": {
            "text/plain": [
              "---\n"
            ],
            "text/html": [
              "<pre style=\"white-space:pre;overflow-x:auto;line-height:normal;font-family:Menlo,'DejaVu Sans Mono',consolas,'Courier New',monospace\">---\n",
              "</pre>\n"
            ]
          },
          "metadata": {}
        },
        {
          "output_type": "display_data",
          "data": {
            "text/plain": [
              "generated in \u001b[1;92m0:04:18\u001b[0m.\u001b[1;36m568234\u001b[0m\n"
            ],
            "text/html": [
              "<pre style=\"white-space:pre;overflow-x:auto;line-height:normal;font-family:Menlo,'DejaVu Sans Mono',consolas,'Courier New',monospace\">generated in <span style=\"color: #00ff00; text-decoration-color: #00ff00; font-weight: bold\">0:04:18</span>.<span style=\"color: #008080; text-decoration-color: #008080; font-weight: bold\">568234</span>\n",
              "</pre>\n"
            ]
          },
          "metadata": {}
        }
      ]
    },
    {
      "cell_type": "code",
      "source": [
        "from rich.markdown import Markdown\n",
        "console.print(Markdown(\"# QnA GENERATED BY 🧠💎 StablLM-Zephyr-3B with RERANKING and Summary\"))\n",
        "question = \"What are the major changes Apple is implementing in the EU App Store in response to Europe's Digital Markets Act?\"\n",
        "r1,t1,q1,rd1 = QnA_Rerank_Stable(db3,5, docsum, question,llm)\n",
        "console.print(f\"[bold red1]Question: {q1}\")\n",
        "console.print(r1)\n",
        "console.print(\"---\")\n",
        "console.print(f\"generated in {t1}\")"
      ],
      "metadata": {
        "colab": {
          "base_uri": "https://localhost:8080/",
          "height": 314,
          "referenced_widgets": [
            "1899f434479a4855b241bd6db573d59d",
            "23e4f5961d674cf0ab4df6cd2b95af80"
          ]
        },
        "id": "y_qWOh80JFT_",
        "outputId": "8c0edcb0-e7f2-47d4-e53d-64d7700eb2f2"
      },
      "execution_count": null,
      "outputs": [
        {
          "output_type": "display_data",
          "data": {
            "text/plain": [
              "┏━━━━━━━━━━━━━━━━━━━━━━━━━━━━━━━━━━━━━━━━━━━━━━━━━━━━━━━━━━━━━━━━━━━━━━━━━━━━━━━━━━━━━━━━━━━━━━━━━━━━━━━━━━━━┓\n",
              "┃                     \u001b[1mQnA GENERATED BY 🧠💎 StablLM-Zephyr-3B with RERANKING and Summary\u001b[0m                     ┃\n",
              "┗━━━━━━━━━━━━━━━━━━━━━━━━━━━━━━━━━━━━━━━━━━━━━━━━━━━━━━━━━━━━━━━━━━━━━━━━━━━━━━━━━━━━━━━━━━━━━━━━━━━━━━━━━━━━┛\n"
            ],
            "text/html": [
              "<pre style=\"white-space:pre;overflow-x:auto;line-height:normal;font-family:Menlo,'DejaVu Sans Mono',consolas,'Courier New',monospace\">┏━━━━━━━━━━━━━━━━━━━━━━━━━━━━━━━━━━━━━━━━━━━━━━━━━━━━━━━━━━━━━━━━━━━━━━━━━━━━━━━━━━━━━━━━━━━━━━━━━━━━━━━━━━━━┓\n",
              "┃                     <span style=\"font-weight: bold\">QnA GENERATED BY 🧠💎 StablLM-Zephyr-3B with RERANKING and Summary</span>                     ┃\n",
              "┗━━━━━━━━━━━━━━━━━━━━━━━━━━━━━━━━━━━━━━━━━━━━━━━━━━━━━━━━━━━━━━━━━━━━━━━━━━━━━━━━━━━━━━━━━━━━━━━━━━━━━━━━━━━━┛\n",
              "</pre>\n"
            ]
          },
          "metadata": {}
        },
        {
          "output_type": "display_data",
          "data": {
            "text/plain": [
              "Llama.generate: prefix-match hit\n"
            ],
            "text/html": [
              "<pre style=\"white-space:pre;overflow-x:auto;line-height:normal;font-family:Menlo,'DejaVu Sans Mono',consolas,'Courier New',monospace\">Llama.generate: prefix-match hit\n",
              "</pre>\n"
            ]
          },
          "metadata": {}
        },
        {
          "output_type": "display_data",
          "data": {
            "text/plain": [
              "Output()"
            ],
            "application/vnd.jupyter.widget-view+json": {
              "version_major": 2,
              "version_minor": 0,
              "model_id": "1899f434479a4855b241bd6db573d59d"
            }
          },
          "metadata": {}
        },
        {
          "output_type": "display_data",
          "data": {
            "text/plain": [],
            "text/html": [
              "<pre style=\"white-space:pre;overflow-x:auto;line-height:normal;font-family:Menlo,'DejaVu Sans Mono',consolas,'Courier New',monospace\"></pre>\n"
            ]
          },
          "metadata": {}
        },
        {
          "output_type": "display_data",
          "data": {
            "text/plain": [
              "\u001b[1;38;5;196mQuestion: What are the major changes Apple is implementing in the EU App Store in response to Europe's Digital\u001b[0m\n",
              "\u001b[1;38;5;196mMarkets Act?\u001b[0m\n"
            ],
            "text/html": [
              "<pre style=\"white-space:pre;overflow-x:auto;line-height:normal;font-family:Menlo,'DejaVu Sans Mono',consolas,'Courier New',monospace\"><span style=\"color: #ff0000; text-decoration-color: #ff0000; font-weight: bold\">Question: What are the major changes Apple is implementing in the EU App Store in response to Europe's Digital</span>\n",
              "<span style=\"color: #ff0000; text-decoration-color: #ff0000; font-weight: bold\">Markets Act?</span>\n",
              "</pre>\n"
            ]
          },
          "metadata": {}
        },
        {
          "output_type": "display_data",
          "data": {
            "text/plain": [
              "\n",
              "- Apple will allow alternative app stores and other new options for app developers to comply with Europe's \n",
              "Digital Markets Act.\n",
              "- The company will introduce notarization for iOS apps, authorization for marketplace developers, and \n",
              "disclosures on alternative payments.\n",
              "- Users in the EU will see a browser choice screen in iOS \u001b[1;36m17.4\u001b[0m to pick a default browser.\n",
              "- Apple claims that approximately \u001b[1;36m99\u001b[0m% of developers will pay the same or less fees for these changes.\n",
              "- The European Commission has announced that there will be no commission charged to developers who want to \n",
              "distribute and facilitate in-app payments outside of the App Store.\n",
              "- Epic Games CEO Tim Sweeney has criticized Apple's plan as Malicious Compliance, arguing that they are trying\n",
              "to undermine competition and impose Apple taxes on transactions not involved in the process.\n"
            ],
            "text/html": [
              "<pre style=\"white-space:pre;overflow-x:auto;line-height:normal;font-family:Menlo,'DejaVu Sans Mono',consolas,'Courier New',monospace\">\n",
              "- Apple will allow alternative app stores and other new options for app developers to comply with Europe's \n",
              "Digital Markets Act.\n",
              "- The company will introduce notarization for iOS apps, authorization for marketplace developers, and \n",
              "disclosures on alternative payments.\n",
              "- Users in the EU will see a browser choice screen in iOS <span style=\"color: #008080; text-decoration-color: #008080; font-weight: bold\">17.4</span> to pick a default browser.\n",
              "- Apple claims that approximately <span style=\"color: #008080; text-decoration-color: #008080; font-weight: bold\">99</span>% of developers will pay the same or less fees for these changes.\n",
              "- The European Commission has announced that there will be no commission charged to developers who want to \n",
              "distribute and facilitate in-app payments outside of the App Store.\n",
              "- Epic Games CEO Tim Sweeney has criticized Apple's plan as Malicious Compliance, arguing that they are trying\n",
              "to undermine competition and impose Apple taxes on transactions not involved in the process.\n",
              "</pre>\n"
            ]
          },
          "metadata": {}
        },
        {
          "output_type": "display_data",
          "data": {
            "text/plain": [
              "---\n"
            ],
            "text/html": [
              "<pre style=\"white-space:pre;overflow-x:auto;line-height:normal;font-family:Menlo,'DejaVu Sans Mono',consolas,'Courier New',monospace\">---\n",
              "</pre>\n"
            ]
          },
          "metadata": {}
        },
        {
          "output_type": "display_data",
          "data": {
            "text/plain": [
              "generated in \u001b[1;92m0:07:13\u001b[0m.\u001b[1;36m929793\u001b[0m\n"
            ],
            "text/html": [
              "<pre style=\"white-space:pre;overflow-x:auto;line-height:normal;font-family:Menlo,'DejaVu Sans Mono',consolas,'Courier New',monospace\">generated in <span style=\"color: #00ff00; text-decoration-color: #00ff00; font-weight: bold\">0:07:13</span>.<span style=\"color: #008080; text-decoration-color: #008080; font-weight: bold\">929793</span>\n",
              "</pre>\n"
            ]
          },
          "metadata": {}
        }
      ]
    },
    {
      "cell_type": "code",
      "source": [
        "from rich.markdown import Markdown\n",
        "console.print(Markdown(\"# QnA GENERATED BY 🧠💎 StablLM-Zephyr-3B with RERANKING and Summary\"))\n",
        "question = \"What are the major changes Apple is implementing in the EU App Store in response to Europe's Digital Markets Act?\"\n",
        "r1,t1,q1,rd1 = QnA_Rerank_Stable(db3,9, docsum, question,llm)\n",
        "console.print(f\"[bold red1]Question: {q1}\")\n",
        "console.print(r1)\n",
        "console.print(\"---\")\n",
        "console.print(f\"generated in {t1}\")"
      ],
      "metadata": {
        "colab": {
          "base_uri": "https://localhost:8080/",
          "height": 331,
          "referenced_widgets": [
            "3a1d45ca8bfc4a388c505313ee5a88ee",
            "012f96b2dc1e42509dc1ad33f39c4b8e"
          ]
        },
        "id": "2VitCrr_QU1l",
        "outputId": "f8fa1dc4-78ce-40ea-e938-7a4f3592a941"
      },
      "execution_count": null,
      "outputs": [
        {
          "output_type": "display_data",
          "data": {
            "text/plain": [
              "┏━━━━━━━━━━━━━━━━━━━━━━━━━━━━━━━━━━━━━━━━━━━━━━━━━━━━━━━━━━━━━━━━━━━━━━━━━━━━━━━━━━━━━━━━━━━━━━━━━━━━━━━━━━━━┓\n",
              "┃                     \u001b[1mQnA GENERATED BY 🧠💎 StablLM-Zephyr-3B with RERANKING and Summary\u001b[0m                     ┃\n",
              "┗━━━━━━━━━━━━━━━━━━━━━━━━━━━━━━━━━━━━━━━━━━━━━━━━━━━━━━━━━━━━━━━━━━━━━━━━━━━━━━━━━━━━━━━━━━━━━━━━━━━━━━━━━━━━┛\n"
            ],
            "text/html": [
              "<pre style=\"white-space:pre;overflow-x:auto;line-height:normal;font-family:Menlo,'DejaVu Sans Mono',consolas,'Courier New',monospace\">┏━━━━━━━━━━━━━━━━━━━━━━━━━━━━━━━━━━━━━━━━━━━━━━━━━━━━━━━━━━━━━━━━━━━━━━━━━━━━━━━━━━━━━━━━━━━━━━━━━━━━━━━━━━━━┓\n",
              "┃                     <span style=\"font-weight: bold\">QnA GENERATED BY 🧠💎 StablLM-Zephyr-3B with RERANKING and Summary</span>                     ┃\n",
              "┗━━━━━━━━━━━━━━━━━━━━━━━━━━━━━━━━━━━━━━━━━━━━━━━━━━━━━━━━━━━━━━━━━━━━━━━━━━━━━━━━━━━━━━━━━━━━━━━━━━━━━━━━━━━━┛\n",
              "</pre>\n"
            ]
          },
          "metadata": {}
        },
        {
          "output_type": "stream",
          "name": "stderr",
          "text": [
            "WARNING:chromadb.segment.impl.vector.local_persistent_hnsw:Number of requested results 9 is greater than number of elements in index 7, updating n_results = 7\n"
          ]
        },
        {
          "output_type": "display_data",
          "data": {
            "text/plain": [
              "Llama.generate: prefix-match hit\n"
            ],
            "text/html": [
              "<pre style=\"white-space:pre;overflow-x:auto;line-height:normal;font-family:Menlo,'DejaVu Sans Mono',consolas,'Courier New',monospace\">Llama.generate: prefix-match hit\n",
              "</pre>\n"
            ]
          },
          "metadata": {}
        },
        {
          "output_type": "display_data",
          "data": {
            "text/plain": [
              "Output()"
            ],
            "application/vnd.jupyter.widget-view+json": {
              "version_major": 2,
              "version_minor": 0,
              "model_id": "3a1d45ca8bfc4a388c505313ee5a88ee"
            }
          },
          "metadata": {}
        },
        {
          "output_type": "display_data",
          "data": {
            "text/plain": [],
            "text/html": [
              "<pre style=\"white-space:pre;overflow-x:auto;line-height:normal;font-family:Menlo,'DejaVu Sans Mono',consolas,'Courier New',monospace\"></pre>\n"
            ]
          },
          "metadata": {}
        },
        {
          "output_type": "display_data",
          "data": {
            "text/plain": [
              "\u001b[1;38;5;196mQuestion: What are the major changes Apple is implementing in the EU App Store in response to Europe's Digital\u001b[0m\n",
              "\u001b[1;38;5;196mMarkets Act?\u001b[0m\n"
            ],
            "text/html": [
              "<pre style=\"white-space:pre;overflow-x:auto;line-height:normal;font-family:Menlo,'DejaVu Sans Mono',consolas,'Courier New',monospace\"><span style=\"color: #ff0000; text-decoration-color: #ff0000; font-weight: bold\">Question: What are the major changes Apple is implementing in the EU App Store in response to Europe's Digital</span>\n",
              "<span style=\"color: #ff0000; text-decoration-color: #ff0000; font-weight: bold\">Markets Act?</span>\n",
              "</pre>\n"
            ]
          },
          "metadata": {}
        },
        {
          "output_type": "display_data",
          "data": {
            "text/plain": [
              "\n",
              "- Apple will allow alternative app stores and other new options for app developers to comply with Europe's \n",
              "Digital Markets Act \u001b[1m(\u001b[0mDMA\u001b[1m)\u001b[0m.\n",
              "- The company will introduce notarization for iOS apps, authorization for marketplace developers, and \n",
              "disclosures on alternative payments.\n",
              "- Users in the EU will see a browser choice screen in iOS \u001b[1;36m17.4\u001b[0m to pick a default browser.\n",
              "- Apple claims that approximately \u001b[1;36m99\u001b[0m% of developers will pay the same or less fees for their iOS changes, \n",
              "including the new freedoms.\n",
              "- The App Store commission, for developers who continue to use it, will drop from \u001b[1;36m30\u001b[0m% to \u001b[1;36m17\u001b[0m%.\n",
              "- A \u001b[32m\"core technology fee\"\u001b[0m of €.\u001b[1;36m50\u001b[0m will be charged for \u001b[32m\"each first annual install per year\"\u001b[0m for apps with more \n",
              "than \u001b[1;36m1\u001b[0m million downloads, to be counted once per Apple account.\n"
            ],
            "text/html": [
              "<pre style=\"white-space:pre;overflow-x:auto;line-height:normal;font-family:Menlo,'DejaVu Sans Mono',consolas,'Courier New',monospace\">\n",
              "- Apple will allow alternative app stores and other new options for app developers to comply with Europe's \n",
              "Digital Markets Act <span style=\"font-weight: bold\">(</span>DMA<span style=\"font-weight: bold\">)</span>.\n",
              "- The company will introduce notarization for iOS apps, authorization for marketplace developers, and \n",
              "disclosures on alternative payments.\n",
              "- Users in the EU will see a browser choice screen in iOS <span style=\"color: #008080; text-decoration-color: #008080; font-weight: bold\">17.4</span> to pick a default browser.\n",
              "- Apple claims that approximately <span style=\"color: #008080; text-decoration-color: #008080; font-weight: bold\">99</span>% of developers will pay the same or less fees for their iOS changes, \n",
              "including the new freedoms.\n",
              "- The App Store commission, for developers who continue to use it, will drop from <span style=\"color: #008080; text-decoration-color: #008080; font-weight: bold\">30</span>% to <span style=\"color: #008080; text-decoration-color: #008080; font-weight: bold\">17</span>%.\n",
              "- A <span style=\"color: #008000; text-decoration-color: #008000\">\"core technology fee\"</span> of €.<span style=\"color: #008080; text-decoration-color: #008080; font-weight: bold\">50</span> will be charged for <span style=\"color: #008000; text-decoration-color: #008000\">\"each first annual install per year\"</span> for apps with more \n",
              "than <span style=\"color: #008080; text-decoration-color: #008080; font-weight: bold\">1</span> million downloads, to be counted once per Apple account.\n",
              "</pre>\n"
            ]
          },
          "metadata": {}
        },
        {
          "output_type": "display_data",
          "data": {
            "text/plain": [
              "---\n"
            ],
            "text/html": [
              "<pre style=\"white-space:pre;overflow-x:auto;line-height:normal;font-family:Menlo,'DejaVu Sans Mono',consolas,'Courier New',monospace\">---\n",
              "</pre>\n"
            ]
          },
          "metadata": {}
        },
        {
          "output_type": "display_data",
          "data": {
            "text/plain": [
              "generated in \u001b[1;92m0:06:32\u001b[0m.\u001b[1;36m678458\u001b[0m\n"
            ],
            "text/html": [
              "<pre style=\"white-space:pre;overflow-x:auto;line-height:normal;font-family:Menlo,'DejaVu Sans Mono',consolas,'Courier New',monospace\">generated in <span style=\"color: #00ff00; text-decoration-color: #00ff00; font-weight: bold\">0:06:32</span>.<span style=\"color: #008080; text-decoration-color: #008080; font-weight: bold\">678458</span>\n",
              "</pre>\n"
            ]
          },
          "metadata": {}
        }
      ]
    },
    {
      "cell_type": "markdown",
      "source": [],
      "metadata": {
        "id": "rDXhkdv_QYvW"
      }
    },
    {
      "cell_type": "markdown",
      "source": [
        "\n",
        "\n",
        "---\n",
        "\n",
        "\n",
        "\n",
        "---\n",
        "\n",
        "\n",
        "\n",
        "---\n",
        "\n"
      ],
      "metadata": {
        "id": "Pmw1dFElQYrV"
      }
    },
    {
      "cell_type": "code",
      "source": [
        "from rich.markdown import Markdown\n",
        "console.print(Markdown(\"# QnA GENERATED BY 🧠💎 StablLM-Zephyr-3B with RERANKING and Summary\"))\n",
        "for question in qg77:\n",
        "  r1,t1,q1,rd1 = QnA_Rerank_Stable(db3,2, docsum, question,llm)\n",
        "  console.print(f\"[bold red1]Question: {q1}\")\n",
        "  console.print(r1)\n",
        "  console.print(\"---\")\n",
        "  console.print(f\"generated in {t1}\")"
      ],
      "metadata": {
        "colab": {
          "base_uri": "https://localhost:8080/",
          "height": 1000,
          "referenced_widgets": [
            "be34c52be00f4b1ea71d0b97559f65f2",
            "0d1be6ee8a4646e39d00059e8991a408",
            "3dedb824acfa4fc38285a6c5575b3d3e",
            "8e0567ea7fa1443fb57588c0eceffbe0",
            "091b894e2a8e459ca51252e5b57e0606",
            "00735f4e35fd4bba93c3f2213d4b24a3",
            "efa1cc38192946e2a38aafb3e4d6e125",
            "f55c0db950f249ffb700eee51c73fc81",
            "9cc4a431d05f4ad395b32a5a627a07d1",
            "d40279be5c324341b1afc5a52868b8fb",
            "a1eb01b423a347e9b1daf7c43f9708fa",
            "7b53426183c149ac9754ac77a5721982"
          ]
        },
        "id": "g2Sw2gFjcAa0",
        "outputId": "ee6cd019-ed44-431c-83fb-cd12c179519c"
      },
      "execution_count": null,
      "outputs": [
        {
          "output_type": "display_data",
          "data": {
            "text/plain": [
              "┏━━━━━━━━━━━━━━━━━━━━━━━━━━━━━━━━━━━━━━━━━━━━━━━━━━━━━━━━━━━━━━━━━━━━━━━━━━━━━━━━━━━━━━━━━━━━━━━━━━━━━━━━━━━━┓\n",
              "┃                     \u001b[1mQnA GENERATED BY 🧠💎 StablLM-Zephyr-3B with RERANKING and Summary\u001b[0m                     ┃\n",
              "┗━━━━━━━━━━━━━━━━━━━━━━━━━━━━━━━━━━━━━━━━━━━━━━━━━━━━━━━━━━━━━━━━━━━━━━━━━━━━━━━━━━━━━━━━━━━━━━━━━━━━━━━━━━━━┛\n"
            ],
            "text/html": [
              "<pre style=\"white-space:pre;overflow-x:auto;line-height:normal;font-family:Menlo,'DejaVu Sans Mono',consolas,'Courier New',monospace\">┏━━━━━━━━━━━━━━━━━━━━━━━━━━━━━━━━━━━━━━━━━━━━━━━━━━━━━━━━━━━━━━━━━━━━━━━━━━━━━━━━━━━━━━━━━━━━━━━━━━━━━━━━━━━━┓\n",
              "┃                     <span style=\"font-weight: bold\">QnA GENERATED BY 🧠💎 StablLM-Zephyr-3B with RERANKING and Summary</span>                     ┃\n",
              "┗━━━━━━━━━━━━━━━━━━━━━━━━━━━━━━━━━━━━━━━━━━━━━━━━━━━━━━━━━━━━━━━━━━━━━━━━━━━━━━━━━━━━━━━━━━━━━━━━━━━━━━━━━━━━┛\n",
              "</pre>\n"
            ]
          },
          "metadata": {}
        },
        {
          "output_type": "display_data",
          "data": {
            "text/plain": [
              "Llama.generate: prefix-match hit\n"
            ],
            "text/html": [
              "<pre style=\"white-space:pre;overflow-x:auto;line-height:normal;font-family:Menlo,'DejaVu Sans Mono',consolas,'Courier New',monospace\">Llama.generate: prefix-match hit\n",
              "</pre>\n"
            ]
          },
          "metadata": {}
        },
        {
          "output_type": "display_data",
          "data": {
            "text/plain": [
              "Output()"
            ],
            "application/vnd.jupyter.widget-view+json": {
              "version_major": 2,
              "version_minor": 0,
              "model_id": "be34c52be00f4b1ea71d0b97559f65f2"
            }
          },
          "metadata": {}
        },
        {
          "output_type": "display_data",
          "data": {
            "text/plain": [],
            "text/html": [
              "<pre style=\"white-space:pre;overflow-x:auto;line-height:normal;font-family:Menlo,'DejaVu Sans Mono',consolas,'Courier New',monospace\"></pre>\n"
            ]
          },
          "metadata": {}
        },
        {
          "output_type": "display_data",
          "data": {
            "text/plain": [
              "\u001b[1;38;5;196mQuestion: What changes are Apple making to its iOS App Store and how does it affect the EU's Digital Markets \u001b[0m\n",
              "\u001b[1;38;5;196mAct?\u001b[0m\n"
            ],
            "text/html": [
              "<pre style=\"white-space:pre;overflow-x:auto;line-height:normal;font-family:Menlo,'DejaVu Sans Mono',consolas,'Courier New',monospace\"><span style=\"color: #ff0000; text-decoration-color: #ff0000; font-weight: bold\">Question: What changes are Apple making to its iOS App Store and how does it affect the EU's Digital Markets </span>\n",
              "<span style=\"color: #ff0000; text-decoration-color: #ff0000; font-weight: bold\">Act?</span>\n",
              "</pre>\n"
            ]
          },
          "metadata": {}
        },
        {
          "output_type": "display_data",
          "data": {
            "text/plain": [
              "\n",
              "Apple is making the following changes to its iOS App Store to comply with Europe's Digital Markets Act \u001b[1m(\u001b[0mDMA\u001b[1m)\u001b[0m:\n",
              "\n",
              "\u001b[1;36m1\u001b[0m. Allowing alternative app stores and new options for app developers\n",
              "\u001b[1;36m2\u001b[0m. Introducing new safeguards, including encryption and security measures, to reduce risks associated with \n",
              "DMA-imposed changes and protect developers from potential threats\n",
              "\u001b[1;36m3\u001b[0m. Implementing new fees for developers who have achieved more than \u001b[1;36m1\u001b[0m million downloads on their own platforms\n",
              "or remain on the App Store\n",
              "\u001b[1;36m4\u001b[0m. No commission charged to developers who want to distribute and facilitate in-app payments outside of the \n",
              "App Store\n",
              "\u001b[1;36m5\u001b[0m. Inclusion of notarization for iOS apps, authorization for marketplace developers, and disclosures on \n",
              "alternative payment options\n",
              "\u001b[1;36m6\u001b[0m. Possible browser choice screen in iOS \u001b[1;36m17.4\u001b[0m for users in the EU to pick a default browser\n",
              "\u001b[1;36m7\u001b[0m. The company believes that these changes will help maintain its strict policies for developers and ensure \n",
              "smooth user experiences free from spam or harmful content\n",
              "\u001b[1;36m8\u001b[0m. Apple claims new safeguards across every change reduce, but do not eliminate, risks posed to EU users by \n",
              "the DMA.\n"
            ],
            "text/html": [
              "<pre style=\"white-space:pre;overflow-x:auto;line-height:normal;font-family:Menlo,'DejaVu Sans Mono',consolas,'Courier New',monospace\">\n",
              "Apple is making the following changes to its iOS App Store to comply with Europe's Digital Markets Act <span style=\"font-weight: bold\">(</span>DMA<span style=\"font-weight: bold\">)</span>:\n",
              "\n",
              "<span style=\"color: #008080; text-decoration-color: #008080; font-weight: bold\">1</span>. Allowing alternative app stores and new options for app developers\n",
              "<span style=\"color: #008080; text-decoration-color: #008080; font-weight: bold\">2</span>. Introducing new safeguards, including encryption and security measures, to reduce risks associated with \n",
              "DMA-imposed changes and protect developers from potential threats\n",
              "<span style=\"color: #008080; text-decoration-color: #008080; font-weight: bold\">3</span>. Implementing new fees for developers who have achieved more than <span style=\"color: #008080; text-decoration-color: #008080; font-weight: bold\">1</span> million downloads on their own platforms\n",
              "or remain on the App Store\n",
              "<span style=\"color: #008080; text-decoration-color: #008080; font-weight: bold\">4</span>. No commission charged to developers who want to distribute and facilitate in-app payments outside of the \n",
              "App Store\n",
              "<span style=\"color: #008080; text-decoration-color: #008080; font-weight: bold\">5</span>. Inclusion of notarization for iOS apps, authorization for marketplace developers, and disclosures on \n",
              "alternative payment options\n",
              "<span style=\"color: #008080; text-decoration-color: #008080; font-weight: bold\">6</span>. Possible browser choice screen in iOS <span style=\"color: #008080; text-decoration-color: #008080; font-weight: bold\">17.4</span> for users in the EU to pick a default browser\n",
              "<span style=\"color: #008080; text-decoration-color: #008080; font-weight: bold\">7</span>. The company believes that these changes will help maintain its strict policies for developers and ensure \n",
              "smooth user experiences free from spam or harmful content\n",
              "<span style=\"color: #008080; text-decoration-color: #008080; font-weight: bold\">8</span>. Apple claims new safeguards across every change reduce, but do not eliminate, risks posed to EU users by \n",
              "the DMA.\n",
              "</pre>\n"
            ]
          },
          "metadata": {}
        },
        {
          "output_type": "display_data",
          "data": {
            "text/plain": [
              "---\n"
            ],
            "text/html": [
              "<pre style=\"white-space:pre;overflow-x:auto;line-height:normal;font-family:Menlo,'DejaVu Sans Mono',consolas,'Courier New',monospace\">---\n",
              "</pre>\n"
            ]
          },
          "metadata": {}
        },
        {
          "output_type": "display_data",
          "data": {
            "text/plain": [
              "generated in \u001b[1;92m0:05:12\u001b[0m.\u001b[1;36m334152\u001b[0m\n"
            ],
            "text/html": [
              "<pre style=\"white-space:pre;overflow-x:auto;line-height:normal;font-family:Menlo,'DejaVu Sans Mono',consolas,'Courier New',monospace\">generated in <span style=\"color: #00ff00; text-decoration-color: #00ff00; font-weight: bold\">0:05:12</span>.<span style=\"color: #008080; text-decoration-color: #008080; font-weight: bold\">334152</span>\n",
              "</pre>\n"
            ]
          },
          "metadata": {}
        },
        {
          "output_type": "display_data",
          "data": {
            "text/plain": [
              "Llama.generate: prefix-match hit\n"
            ],
            "text/html": [
              "<pre style=\"white-space:pre;overflow-x:auto;line-height:normal;font-family:Menlo,'DejaVu Sans Mono',consolas,'Courier New',monospace\">Llama.generate: prefix-match hit\n",
              "</pre>\n"
            ]
          },
          "metadata": {}
        },
        {
          "output_type": "display_data",
          "data": {
            "text/plain": [
              "Output()"
            ],
            "application/vnd.jupyter.widget-view+json": {
              "version_major": 2,
              "version_minor": 0,
              "model_id": "3dedb824acfa4fc38285a6c5575b3d3e"
            }
          },
          "metadata": {}
        },
        {
          "output_type": "display_data",
          "data": {
            "text/plain": [],
            "text/html": [
              "<pre style=\"white-space:pre;overflow-x:auto;line-height:normal;font-family:Menlo,'DejaVu Sans Mono',consolas,'Courier New',monospace\"></pre>\n"
            ]
          },
          "metadata": {}
        },
        {
          "output_type": "display_data",
          "data": {
            "text/plain": [
              "\u001b[1;38;5;196mQuestion: How is Apple doing with these changes in the EU?\u001b[0m\n"
            ],
            "text/html": [
              "<pre style=\"white-space:pre;overflow-x:auto;line-height:normal;font-family:Menlo,'DejaVu Sans Mono',consolas,'Courier New',monospace\"><span style=\"color: #ff0000; text-decoration-color: #ff0000; font-weight: bold\">Question: How is Apple doing with these changes in the EU?</span>\n",
              "</pre>\n"
            ]
          },
          "metadata": {}
        },
        {
          "output_type": "display_data",
          "data": {
            "text/plain": [
              "\n",
              "Apple is implementing sweeping changes in the EU to comply with Europe's Digital Markets Act \u001b[1m(\u001b[0mDMA\u001b[1m)\u001b[0m, which \n",
              "requires developers to rely on alternative app stores and other new options for distribution and payment \n",
              "processing. The company announced that it will allow alternative app stores, along with new safeguards for iOS\n",
              "devices such as encryption measures and disclosures on alternative payment options. Apple is also introducing \n",
              "fees for developers who have more than \u001b[1;36m1\u001b[0m million downloads on their own platforms or remain on the App Store. \n",
              "\n",
              "To reduce risks associated with DMA-imposed changes, Apple has implemented notarization for iOS apps, \n",
              "authorization for marketplace developers, and new browser choice screens in iOS \u001b[1;36m17.4\u001b[0m to allow users to pick a \n",
              "default browser. The company also stated that there will be no commission charged to developers who distribute\n",
              "and facilitate in-app payments outside of the App Store.\n",
              "\n",
              "Apple maintains that these changes are necessary while ensuring the security and protection of both its users \n",
              "and developers, but has no plans to expand these options outside of Europe due to risk concerns. The company \n",
              "believes that after the DMA-imposed changes go into effect, people will begin to understand why Apple \n",
              "maintained its strict policies for developers in the past.\n"
            ],
            "text/html": [
              "<pre style=\"white-space:pre;overflow-x:auto;line-height:normal;font-family:Menlo,'DejaVu Sans Mono',consolas,'Courier New',monospace\">\n",
              "Apple is implementing sweeping changes in the EU to comply with Europe's Digital Markets Act <span style=\"font-weight: bold\">(</span>DMA<span style=\"font-weight: bold\">)</span>, which \n",
              "requires developers to rely on alternative app stores and other new options for distribution and payment \n",
              "processing. The company announced that it will allow alternative app stores, along with new safeguards for iOS\n",
              "devices such as encryption measures and disclosures on alternative payment options. Apple is also introducing \n",
              "fees for developers who have more than <span style=\"color: #008080; text-decoration-color: #008080; font-weight: bold\">1</span> million downloads on their own platforms or remain on the App Store. \n",
              "\n",
              "To reduce risks associated with DMA-imposed changes, Apple has implemented notarization for iOS apps, \n",
              "authorization for marketplace developers, and new browser choice screens in iOS <span style=\"color: #008080; text-decoration-color: #008080; font-weight: bold\">17.4</span> to allow users to pick a \n",
              "default browser. The company also stated that there will be no commission charged to developers who distribute\n",
              "and facilitate in-app payments outside of the App Store.\n",
              "\n",
              "Apple maintains that these changes are necessary while ensuring the security and protection of both its users \n",
              "and developers, but has no plans to expand these options outside of Europe due to risk concerns. The company \n",
              "believes that after the DMA-imposed changes go into effect, people will begin to understand why Apple \n",
              "maintained its strict policies for developers in the past.\n",
              "</pre>\n"
            ]
          },
          "metadata": {}
        },
        {
          "output_type": "display_data",
          "data": {
            "text/plain": [
              "---\n"
            ],
            "text/html": [
              "<pre style=\"white-space:pre;overflow-x:auto;line-height:normal;font-family:Menlo,'DejaVu Sans Mono',consolas,'Courier New',monospace\">---\n",
              "</pre>\n"
            ]
          },
          "metadata": {}
        },
        {
          "output_type": "display_data",
          "data": {
            "text/plain": [
              "generated in \u001b[1;92m0:05:18\u001b[0m.\u001b[1;36m907949\u001b[0m\n"
            ],
            "text/html": [
              "<pre style=\"white-space:pre;overflow-x:auto;line-height:normal;font-family:Menlo,'DejaVu Sans Mono',consolas,'Courier New',monospace\">generated in <span style=\"color: #00ff00; text-decoration-color: #00ff00; font-weight: bold\">0:05:18</span>.<span style=\"color: #008080; text-decoration-color: #008080; font-weight: bold\">907949</span>\n",
              "</pre>\n"
            ]
          },
          "metadata": {}
        },
        {
          "output_type": "display_data",
          "data": {
            "text/plain": [
              "Llama.generate: prefix-match hit\n"
            ],
            "text/html": [
              "<pre style=\"white-space:pre;overflow-x:auto;line-height:normal;font-family:Menlo,'DejaVu Sans Mono',consolas,'Courier New',monospace\">Llama.generate: prefix-match hit\n",
              "</pre>\n"
            ]
          },
          "metadata": {}
        },
        {
          "output_type": "display_data",
          "data": {
            "text/plain": [
              "Output()"
            ],
            "application/vnd.jupyter.widget-view+json": {
              "version_major": 2,
              "version_minor": 0,
              "model_id": "091b894e2a8e459ca51252e5b57e0606"
            }
          },
          "metadata": {}
        },
        {
          "output_type": "display_data",
          "data": {
            "text/plain": [],
            "text/html": [
              "<pre style=\"white-space:pre;overflow-x:auto;line-height:normal;font-family:Menlo,'DejaVu Sans Mono',consolas,'Courier New',monospace\"></pre>\n"
            ]
          },
          "metadata": {}
        },
        {
          "output_type": "display_data",
          "data": {
            "text/plain": [
              "\u001b[1;38;5;196mQuestion: What is the reason behind Apple's changes to iOS \u001b[0m\u001b[1;38;5;196m17.4\u001b[0m\u001b[1;38;5;196m?\u001b[0m\n"
            ],
            "text/html": [
              "<pre style=\"white-space:pre;overflow-x:auto;line-height:normal;font-family:Menlo,'DejaVu Sans Mono',consolas,'Courier New',monospace\"><span style=\"color: #ff0000; text-decoration-color: #ff0000; font-weight: bold\">Question: What is the reason behind Apple's changes to iOS </span><span style=\"color: #ff0000; text-decoration-color: #ff0000; font-weight: bold\">17.4</span><span style=\"color: #ff0000; text-decoration-color: #ff0000; font-weight: bold\">?</span>\n",
              "</pre>\n"
            ]
          },
          "metadata": {}
        },
        {
          "output_type": "display_data",
          "data": {
            "text/plain": [
              "\n",
              "The reason behind Apple's changes to iOS \u001b[1;36m17.4\u001b[0m includes:\n",
              "\n",
              "* Allowing alternative app stores and new options for app developers to comply with Europe's Digital Markets \n",
              "Act \u001b[1m(\u001b[0mDMA\u001b[1m)\u001b[0m\n",
              "* Introducing new safeguards for iOS devices, including encryption and security measures\n",
              "* Implementing fees for developers who have achieved more than \u001b[1;36m1\u001b[0m million downloads on their own platforms or \n",
              "remain on the App Store\n",
              "* No commission charged to developers who want to distribute and facilitate in-app payments outside of the App\n",
              "Store\n",
              "* Inclusion of notarization for iOS apps, authorization for marketplace developers, and disclosures on \n",
              "alternative payment options\n",
              "* Reducing the App Store commission from \u001b[1;36m30\u001b[0m% to \u001b[1;36m17\u001b[0m%, applied to apps with more than \u001b[1;36m1\u001b[0m million downloads\n",
              "* Disabling certain features for apps that do not comply with Apple's guidelines, such as in-app purchases and\n",
              "location services without user consent.\n"
            ],
            "text/html": [
              "<pre style=\"white-space:pre;overflow-x:auto;line-height:normal;font-family:Menlo,'DejaVu Sans Mono',consolas,'Courier New',monospace\">\n",
              "The reason behind Apple's changes to iOS <span style=\"color: #008080; text-decoration-color: #008080; font-weight: bold\">17.4</span> includes:\n",
              "\n",
              "* Allowing alternative app stores and new options for app developers to comply with Europe's Digital Markets \n",
              "Act <span style=\"font-weight: bold\">(</span>DMA<span style=\"font-weight: bold\">)</span>\n",
              "* Introducing new safeguards for iOS devices, including encryption and security measures\n",
              "* Implementing fees for developers who have achieved more than <span style=\"color: #008080; text-decoration-color: #008080; font-weight: bold\">1</span> million downloads on their own platforms or \n",
              "remain on the App Store\n",
              "* No commission charged to developers who want to distribute and facilitate in-app payments outside of the App\n",
              "Store\n",
              "* Inclusion of notarization for iOS apps, authorization for marketplace developers, and disclosures on \n",
              "alternative payment options\n",
              "* Reducing the App Store commission from <span style=\"color: #008080; text-decoration-color: #008080; font-weight: bold\">30</span>% to <span style=\"color: #008080; text-decoration-color: #008080; font-weight: bold\">17</span>%, applied to apps with more than <span style=\"color: #008080; text-decoration-color: #008080; font-weight: bold\">1</span> million downloads\n",
              "* Disabling certain features for apps that do not comply with Apple's guidelines, such as in-app purchases and\n",
              "location services without user consent.\n",
              "</pre>\n"
            ]
          },
          "metadata": {}
        },
        {
          "output_type": "display_data",
          "data": {
            "text/plain": [
              "---\n"
            ],
            "text/html": [
              "<pre style=\"white-space:pre;overflow-x:auto;line-height:normal;font-family:Menlo,'DejaVu Sans Mono',consolas,'Courier New',monospace\">---\n",
              "</pre>\n"
            ]
          },
          "metadata": {}
        },
        {
          "output_type": "display_data",
          "data": {
            "text/plain": [
              "generated in \u001b[1;92m0:04:48\u001b[0m.\u001b[1;36m393773\u001b[0m\n"
            ],
            "text/html": [
              "<pre style=\"white-space:pre;overflow-x:auto;line-height:normal;font-family:Menlo,'DejaVu Sans Mono',consolas,'Courier New',monospace\">generated in <span style=\"color: #00ff00; text-decoration-color: #00ff00; font-weight: bold\">0:04:48</span>.<span style=\"color: #008080; text-decoration-color: #008080; font-weight: bold\">393773</span>\n",
              "</pre>\n"
            ]
          },
          "metadata": {}
        },
        {
          "output_type": "display_data",
          "data": {
            "text/plain": [
              "Llama.generate: prefix-match hit\n"
            ],
            "text/html": [
              "<pre style=\"white-space:pre;overflow-x:auto;line-height:normal;font-family:Menlo,'DejaVu Sans Mono',consolas,'Courier New',monospace\">Llama.generate: prefix-match hit\n",
              "</pre>\n"
            ]
          },
          "metadata": {}
        },
        {
          "output_type": "display_data",
          "data": {
            "text/plain": [
              "Output()"
            ],
            "application/vnd.jupyter.widget-view+json": {
              "version_major": 2,
              "version_minor": 0,
              "model_id": "efa1cc38192946e2a38aafb3e4d6e125"
            }
          },
          "metadata": {}
        },
        {
          "output_type": "display_data",
          "data": {
            "text/plain": [],
            "text/html": [
              "<pre style=\"white-space:pre;overflow-x:auto;line-height:normal;font-family:Menlo,'DejaVu Sans Mono',consolas,'Courier New',monospace\"></pre>\n"
            ]
          },
          "metadata": {}
        },
        {
          "output_type": "display_data",
          "data": {
            "text/plain": [
              "\u001b[1;38;5;196mQuestion: How does it relate to the new security measures implemented by the company in terms of ensuring that\u001b[0m\n",
              "\u001b[1;38;5;196miOS devices remain secure and malware-free?\u001b[0m\n"
            ],
            "text/html": [
              "<pre style=\"white-space:pre;overflow-x:auto;line-height:normal;font-family:Menlo,'DejaVu Sans Mono',consolas,'Courier New',monospace\"><span style=\"color: #ff0000; text-decoration-color: #ff0000; font-weight: bold\">Question: How does it relate to the new security measures implemented by the company in terms of ensuring that</span>\n",
              "<span style=\"color: #ff0000; text-decoration-color: #ff0000; font-weight: bold\">iOS devices remain secure and malware-free?</span>\n",
              "</pre>\n"
            ]
          },
          "metadata": {}
        },
        {
          "output_type": "display_data",
          "data": {
            "text/plain": [
              " \n",
              "\n",
              "* Apple has introduced new security measures for iOS devices, including the use of encryption and enhanced \n",
              "security measures. \n",
              "* These measures aim to reduce risks associated with the Digital Markets Act \u001b[1m(\u001b[0mDMA\u001b[1m)\u001b[0m-imposed changes and protect\n",
              "developers from potential threats. \n",
              "* The company is implementing notarization for iOS apps, authorization for marketplace developers, and \n",
              "disclosures on alternative payment options. \n",
              "* Apple has also announced that there will be no commission charged to developers who want to distribute and \n",
              "facilitate in-app payments outside of the App Store. \n",
              "* To ensure iOS devices remain secure and malware-free, Apple is taking these steps while also trying to \n",
              "protect developers from potential risks imposed by the DMA changes.\n"
            ],
            "text/html": [
              "<pre style=\"white-space:pre;overflow-x:auto;line-height:normal;font-family:Menlo,'DejaVu Sans Mono',consolas,'Courier New',monospace\"> \n",
              "\n",
              "* Apple has introduced new security measures for iOS devices, including the use of encryption and enhanced \n",
              "security measures. \n",
              "* These measures aim to reduce risks associated with the Digital Markets Act <span style=\"font-weight: bold\">(</span>DMA<span style=\"font-weight: bold\">)</span>-imposed changes and protect\n",
              "developers from potential threats. \n",
              "* The company is implementing notarization for iOS apps, authorization for marketplace developers, and \n",
              "disclosures on alternative payment options. \n",
              "* Apple has also announced that there will be no commission charged to developers who want to distribute and \n",
              "facilitate in-app payments outside of the App Store. \n",
              "* To ensure iOS devices remain secure and malware-free, Apple is taking these steps while also trying to \n",
              "protect developers from potential risks imposed by the DMA changes.\n",
              "</pre>\n"
            ]
          },
          "metadata": {}
        },
        {
          "output_type": "display_data",
          "data": {
            "text/plain": [
              "---\n"
            ],
            "text/html": [
              "<pre style=\"white-space:pre;overflow-x:auto;line-height:normal;font-family:Menlo,'DejaVu Sans Mono',consolas,'Courier New',monospace\">---\n",
              "</pre>\n"
            ]
          },
          "metadata": {}
        },
        {
          "output_type": "display_data",
          "data": {
            "text/plain": [
              "generated in \u001b[1;92m0:04:31\u001b[0m.\u001b[1;36m388562\u001b[0m\n"
            ],
            "text/html": [
              "<pre style=\"white-space:pre;overflow-x:auto;line-height:normal;font-family:Menlo,'DejaVu Sans Mono',consolas,'Courier New',monospace\">generated in <span style=\"color: #00ff00; text-decoration-color: #00ff00; font-weight: bold\">0:04:31</span>.<span style=\"color: #008080; text-decoration-color: #008080; font-weight: bold\">388562</span>\n",
              "</pre>\n"
            ]
          },
          "metadata": {}
        },
        {
          "output_type": "display_data",
          "data": {
            "text/plain": [
              "Llama.generate: prefix-match hit\n"
            ],
            "text/html": [
              "<pre style=\"white-space:pre;overflow-x:auto;line-height:normal;font-family:Menlo,'DejaVu Sans Mono',consolas,'Courier New',monospace\">Llama.generate: prefix-match hit\n",
              "</pre>\n"
            ]
          },
          "metadata": {}
        },
        {
          "output_type": "display_data",
          "data": {
            "text/plain": [
              "Output()"
            ],
            "application/vnd.jupyter.widget-view+json": {
              "version_major": 2,
              "version_minor": 0,
              "model_id": "9cc4a431d05f4ad395b32a5a627a07d1"
            }
          },
          "metadata": {}
        },
        {
          "output_type": "display_data",
          "data": {
            "text/plain": [],
            "text/html": [
              "<pre style=\"white-space:pre;overflow-x:auto;line-height:normal;font-family:Menlo,'DejaVu Sans Mono',consolas,'Courier New',monospace\"></pre>\n"
            ]
          },
          "metadata": {}
        },
        {
          "output_type": "display_data",
          "data": {
            "text/plain": [
              "\u001b[1;38;5;196mQuestion: What is the latest update to Apple's iOS changes?\u001b[0m\n"
            ],
            "text/html": [
              "<pre style=\"white-space:pre;overflow-x:auto;line-height:normal;font-family:Menlo,'DejaVu Sans Mono',consolas,'Courier New',monospace\"><span style=\"color: #ff0000; text-decoration-color: #ff0000; font-weight: bold\">Question: What is the latest update to Apple's iOS changes?</span>\n",
              "</pre>\n"
            ]
          },
          "metadata": {}
        },
        {
          "output_type": "display_data",
          "data": {
            "text/plain": [
              "\n",
              "The latest update to Apple's iOS changes includes the following:\n",
              "\n",
              "* Allowing alternative app stores and new options for app developers to comply with Europe's Digital Markets \n",
              "Act \u001b[1m(\u001b[0mDMA\u001b[1m)\u001b[0m\n",
              "* Introducing new safeguards for iOS devices, using encryption and security measures to reduce risks \n",
              "associated with DMA-imposed changes and protect developers from potential threats\n",
              "* New fees for developers who have more than \u001b[1;36m1\u001b[0m million downloads on their platforms or remain on the App \n",
              "Store, applying to apps that switch to their own marketplaces or stay on the App Store\n",
              "* No commission charged to developers who want to distribute and facilitate in-app payments outside of the App\n",
              "Store\n",
              "* Inclusion of notarization for iOS apps, authorization for marketplace developers, and disclosures on \n",
              "alternative payment options\n",
              "* Users in the EU may see a browser choice screen in iOS \u001b[1;36m17.4\u001b[0m to pick a default browser\n",
              "* Apple maintains that these changes are made with the goal of ensuring secure and malware-free iOS devices \n",
              "while maintaining strict policies for developers\n"
            ],
            "text/html": [
              "<pre style=\"white-space:pre;overflow-x:auto;line-height:normal;font-family:Menlo,'DejaVu Sans Mono',consolas,'Courier New',monospace\">\n",
              "The latest update to Apple's iOS changes includes the following:\n",
              "\n",
              "* Allowing alternative app stores and new options for app developers to comply with Europe's Digital Markets \n",
              "Act <span style=\"font-weight: bold\">(</span>DMA<span style=\"font-weight: bold\">)</span>\n",
              "* Introducing new safeguards for iOS devices, using encryption and security measures to reduce risks \n",
              "associated with DMA-imposed changes and protect developers from potential threats\n",
              "* New fees for developers who have more than <span style=\"color: #008080; text-decoration-color: #008080; font-weight: bold\">1</span> million downloads on their platforms or remain on the App \n",
              "Store, applying to apps that switch to their own marketplaces or stay on the App Store\n",
              "* No commission charged to developers who want to distribute and facilitate in-app payments outside of the App\n",
              "Store\n",
              "* Inclusion of notarization for iOS apps, authorization for marketplace developers, and disclosures on \n",
              "alternative payment options\n",
              "* Users in the EU may see a browser choice screen in iOS <span style=\"color: #008080; text-decoration-color: #008080; font-weight: bold\">17.4</span> to pick a default browser\n",
              "* Apple maintains that these changes are made with the goal of ensuring secure and malware-free iOS devices \n",
              "while maintaining strict policies for developers\n",
              "</pre>\n"
            ]
          },
          "metadata": {}
        },
        {
          "output_type": "display_data",
          "data": {
            "text/plain": [
              "---\n"
            ],
            "text/html": [
              "<pre style=\"white-space:pre;overflow-x:auto;line-height:normal;font-family:Menlo,'DejaVu Sans Mono',consolas,'Courier New',monospace\">---\n",
              "</pre>\n"
            ]
          },
          "metadata": {}
        },
        {
          "output_type": "display_data",
          "data": {
            "text/plain": [
              "generated in \u001b[1;92m0:04:58\u001b[0m.\u001b[1;36m437497\u001b[0m\n"
            ],
            "text/html": [
              "<pre style=\"white-space:pre;overflow-x:auto;line-height:normal;font-family:Menlo,'DejaVu Sans Mono',consolas,'Courier New',monospace\">generated in <span style=\"color: #00ff00; text-decoration-color: #00ff00; font-weight: bold\">0:04:58</span>.<span style=\"color: #008080; text-decoration-color: #008080; font-weight: bold\">437497</span>\n",
              "</pre>\n"
            ]
          },
          "metadata": {}
        },
        {
          "output_type": "display_data",
          "data": {
            "text/plain": [
              "Llama.generate: prefix-match hit\n"
            ],
            "text/html": [
              "<pre style=\"white-space:pre;overflow-x:auto;line-height:normal;font-family:Menlo,'DejaVu Sans Mono',consolas,'Courier New',monospace\">Llama.generate: prefix-match hit\n",
              "</pre>\n"
            ]
          },
          "metadata": {}
        },
        {
          "output_type": "display_data",
          "data": {
            "text/plain": [
              "Output()"
            ],
            "application/vnd.jupyter.widget-view+json": {
              "version_major": 2,
              "version_minor": 0,
              "model_id": "a1eb01b423a347e9b1daf7c43f9708fa"
            }
          },
          "metadata": {}
        },
        {
          "output_type": "display_data",
          "data": {
            "text/plain": [],
            "text/html": [
              "<pre style=\"white-space:pre;overflow-x:auto;line-height:normal;font-family:Menlo,'DejaVu Sans Mono',consolas,'Courier New',monospace\"></pre>\n"
            ]
          },
          "metadata": {}
        },
        {
          "output_type": "display_data",
          "data": {
            "text/plain": [
              "\u001b[1;38;5;196mQuestion: How does it impact the competition and user experience for iPhone app developers?\u001b[0m\n"
            ],
            "text/html": [
              "<pre style=\"white-space:pre;overflow-x:auto;line-height:normal;font-family:Menlo,'DejaVu Sans Mono',consolas,'Courier New',monospace\"><span style=\"color: #ff0000; text-decoration-color: #ff0000; font-weight: bold\">Question: How does it impact the competition and user experience for iPhone app developers?</span>\n",
              "</pre>\n"
            ]
          },
          "metadata": {}
        },
        {
          "output_type": "display_data",
          "data": {
            "text/plain": [
              "\n",
              "- Apple allows alternative app stores and new options for app developers to comply with Europe's Digital \n",
              "Markets Act \u001b[1m(\u001b[0mDMA\u001b[1m)\u001b[0m\n",
              "- New safeguards include encryption, security measures, notarization for iOS apps, authorization for \n",
              "marketplace developers, and disclosures on alternative payments\n",
              "- No commission charged to developers who want to distribute and facilitate in-app payments outside of the App\n",
              "Store\n",
              "- Users in EU may see a browser choice screen in iOS \u001b[1;36m17.4\u001b[0m to pick a default browser\n",
              "- Impact on competition: iPhone app developers face a whole new world of choices, which may boost competition\n",
              "- Impact on user experience: Time will tell if the changes improve experiences for users\n"
            ],
            "text/html": [
              "<pre style=\"white-space:pre;overflow-x:auto;line-height:normal;font-family:Menlo,'DejaVu Sans Mono',consolas,'Courier New',monospace\">\n",
              "- Apple allows alternative app stores and new options for app developers to comply with Europe's Digital \n",
              "Markets Act <span style=\"font-weight: bold\">(</span>DMA<span style=\"font-weight: bold\">)</span>\n",
              "- New safeguards include encryption, security measures, notarization for iOS apps, authorization for \n",
              "marketplace developers, and disclosures on alternative payments\n",
              "- No commission charged to developers who want to distribute and facilitate in-app payments outside of the App\n",
              "Store\n",
              "- Users in EU may see a browser choice screen in iOS <span style=\"color: #008080; text-decoration-color: #008080; font-weight: bold\">17.4</span> to pick a default browser\n",
              "- Impact on competition: iPhone app developers face a whole new world of choices, which may boost competition\n",
              "- Impact on user experience: Time will tell if the changes improve experiences for users\n",
              "</pre>\n"
            ]
          },
          "metadata": {}
        },
        {
          "output_type": "display_data",
          "data": {
            "text/plain": [
              "---\n"
            ],
            "text/html": [
              "<pre style=\"white-space:pre;overflow-x:auto;line-height:normal;font-family:Menlo,'DejaVu Sans Mono',consolas,'Courier New',monospace\">---\n",
              "</pre>\n"
            ]
          },
          "metadata": {}
        },
        {
          "output_type": "display_data",
          "data": {
            "text/plain": [
              "generated in \u001b[1;92m0:01:30\u001b[0m.\u001b[1;36m078728\u001b[0m\n"
            ],
            "text/html": [
              "<pre style=\"white-space:pre;overflow-x:auto;line-height:normal;font-family:Menlo,'DejaVu Sans Mono',consolas,'Courier New',monospace\">generated in <span style=\"color: #00ff00; text-decoration-color: #00ff00; font-weight: bold\">0:01:30</span>.<span style=\"color: #008080; text-decoration-color: #008080; font-weight: bold\">078728</span>\n",
              "</pre>\n"
            ]
          },
          "metadata": {}
        }
      ]
    },
    {
      "cell_type": "code",
      "source": [
        "def evidenzia_res(keys, fulltext,summary):\n",
        "  from rich.text import Text\n",
        "  mytest = fulltext + summary.page_content\n",
        "  text = Text(mytest)\n",
        "  for item in keys:\n",
        "    l = len(item.page_content)\n",
        "    x = mytest.find(item.page_content)\n",
        "    text.stylize(\"black on bright_yellow\", x, (x+l))\n",
        "  console.print(text)\n",
        "  return text"
      ],
      "metadata": {
        "id": "AQUP1GL4l8e6"
      },
      "execution_count": null,
      "outputs": []
    },
    {
      "cell_type": "code",
      "source": [
        "a = evidenzia_res(rd1,editedtext,docsum)"
      ],
      "metadata": {
        "colab": {
          "base_uri": "https://localhost:8080/",
          "height": 1000
        },
        "id": "aLGmOQ4-mACX",
        "outputId": "e19cd25c-9252-44a2-cf20-eb76d0a9641a"
      },
      "execution_count": null,
      "outputs": [
        {
          "output_type": "display_data",
          "data": {
            "text/plain": [
              "Apple's iOS App Store announces sweeping changes in the EU\n",
              "https://www.axios.com/2024/01/25/apple-app-store-eu-changes\n",
              "Author: Ashley Gold, author of Axios Pro\n",
              "\n",
              "\n",
              "Apple will allow alternative app stores and other new options for app developers in order to comply with \n",
              "Europe's Digital Markets Act, the company said Thursday.\n",
              "\n",
              "Driving the news: Europe's major tech competition law, set to go into effect March 7, requires Apple to loosen\n",
              "its strict rules requiring developers to rely on the App Store for distribution and payment processing.\n",
              "\n",
              "Apple has long resisted any changes to its App Store rules, citing security and privacy. The company also \n",
              "argues its services for developers are best-in-class and ensure smooth user experiences free of spam or \n",
              "harmful content.\n",
              "\n",
              "Why it matters: Apple is being forced to make sweeping changes to one of its flagship \"walled garden\" systems \n",
              "in what some smaller companies are seeing as a major win.\n",
              "\n",
              "Spotify previewed what its app will look like in Europe post-March 7 this week.\n",
              "Apple said it has been in touch with developers about the coming changes and that its compliance adheres to \n",
              "the letter of the law.\n",
              "\n",
              "What they're saying: Apple is making these changes with the caveat that the company has done everything it can\n",
              "to ensure iOS devices remain secure and malware-free, but it has no plans to expand these options outside of \n",
              "Europe, citing risk.\n",
              "\n",
              "The company believes that after the DMA-imposed changes go through, people will start to understand why Apple \n",
              "has maintained its strict policies for developers.\n",
              "\"Across every change, Apple is introducing new safeguards that reduce — but don't eliminate — new risks the \n",
              "DMA poses to EU users,\" the company said in a release.\n",
              "\n",
              "Yes, but: Apple is also introducing new fee structures for developers who take advantage of the new freedoms.\n",
              "\n",
              "Details: As part of iOS 17.4, Apple will charge a \"core technology fee\" of €.50 for \"each first annual install\n",
              "per year\" for developers whose apps have achieved more than 1 million downloads, to be counted once per Apple \n",
              "account.\n",
              "\n",
              "That fee will apply to apps that switch to their own marketplaces or remain on the App Store. Apple says the \n",
              "fee \"reflects the many ways Apple creates value for developers' businesses.\"\n",
              "The App Store commission, for developers who continue to use it, will drop from 30% to 17%. The discounted \n",
              "rate\u001b[30;103m for certain developers will drop from 15% to 10%.\u001b[0m\n",
              "\u001b[30;103mNo commission will be charged to developers who want to distribute and facilitate in-app payments outside of \u001b[0m\n",
              "\u001b[30;103mthe App Store. Apple said that approximate 99% of developers will pay the same or less in fees.\u001b[0m\n",
              "\n",
              "\u001b[30;103mGo deeper: The iOS changes will include notarization for iOS apps, authorization for marketplace developers \u001b[0m\n",
              "\u001b[30;103mand disclosures on alternative payments. Apple says in the release that if apps opt out of Apple's system, the\u001b[0m\n",
              "\u001b[30;103mcompany \"has less ability to address other risks\" like \"scam, fraud, abuse\" or \"objectionable or harmful\" \u001b[0m\n",
              "\u001b[30;103mcontent.\u001b[0m\n",
              "\n",
              "\u001b[30;103mUsers in\u001b[0m the EU will also see a browser choice screen in iOS 17.4 to pick a default browser.\n",
              "\n",
              "The other side: Epic Games CEO Tim Sweeney said on X: \"Apple's plan to thwart Europe's new Digital Markets Act\n",
              "law is a devious new instance of Malicious Compliance... Epic has always supported the notion of Apple \n",
              "notarization and malware scanning for apps, but we strongly reject Apple's twisting this process to undermine \n",
              "competition and continue imposing Apple taxes on transactions they're not involved in.\"\n",
              "\n",
              "What to watch: It's up to the European Commission to determine whether Apple's plan fully complies with the \n",
              "DMA.\u001b[30;103m iPhone app developers face a whole new world of choices, and time will tell if the changes boost \u001b[0m\n",
              "\u001b[30;103mcompetition and improve experiences for users.\u001b[0m\n",
              "\u001b[30;103mSUMMARY:\u001b[0m\n",
              "\u001b[30;103mApple's iOS App Store will allow alternative app stores and other new options for app developers to comply \u001b[0m\n",
              "\u001b[30;103mwith Europe's Digital Markets Act, which requires developers to rely on the App Store for distribution and \u001b[0m\n",
              "\u001b[30;103mpayment processing. The company has long resisted any changes due to security and privacy, but it also \u001b[0m\n",
              "\u001b[30;103mbelieves that its services are best-in-class and ensure smooth user experiences free of spam or harmful \u001b[0m\n",
              "\u001b[30;103mcontent. Spotify previewed what it will look like in Europe post-March 7 this week.\u001b[0m\n",
              "\u001b[30;103mApple is introducing new safeguards for iOS devices, including the use of encryption and security measures. \u001b[0m\n",
              "\u001b[30;103mThe company believes that this will help to reduce the risks associated with DMA-imposed changes and protect \u001b[0m\n",
              "\u001b[30;103mdevelopers from potential threats. Additionally, it plans to introduce new fees for developers who have \u001b[0m\n",
              "\u001b[30;103machieved more than 1 million downloads on their own platforms or remain on the App Store. This fee will apply \u001b[0m\n",
              "\u001b[30;103mto apps that switch to their own marketplaces or remain on the App Store.\u001b[0m\n",
              "\u001b[30;103mApple has announced that there will be no commission charged to developers who want to distribute and \u001b[0m\n",
              "\u001b[30;103mfacilitate in-app payments outside of the App Store. The iOS changes include notarization for iOS apps, \u001b[0m\n",
              "\u001b[30;103mauthorization for marketplace developers, and disclosures on alternative payment options. If app users opt out\u001b[0m\n",
              "\u001b[30;103mof Apple's system, they have less ability to address other risks like scams, fraud, abuse or harmful content. \u001b[0m\n",
              "\u001b[30;103mUsers in the EU may see a browser choice screen in iOS 17.4 to pick a default browser. Epic Games CEO Tim \u001b[0m\n",
              "\u001b[30;103mSweeney believes this is an example of Malicious Compliance.\u001b[0m\n",
              "\n"
            ],
            "text/html": [
              "<pre style=\"white-space:pre;overflow-x:auto;line-height:normal;font-family:Menlo,'DejaVu Sans Mono',consolas,'Courier New',monospace\">Apple's iOS App Store announces sweeping changes in the EU\n",
              "https://www.axios.com/2024/01/25/apple-app-store-eu-changes\n",
              "Author: Ashley Gold, author of Axios Pro\n",
              "\n",
              "\n",
              "Apple will allow alternative app stores and other new options for app developers in order to comply with \n",
              "Europe's Digital Markets Act, the company said Thursday.\n",
              "\n",
              "Driving the news: Europe's major tech competition law, set to go into effect March 7, requires Apple to loosen\n",
              "its strict rules requiring developers to rely on the App Store for distribution and payment processing.\n",
              "\n",
              "Apple has long resisted any changes to its App Store rules, citing security and privacy. The company also \n",
              "argues its services for developers are best-in-class and ensure smooth user experiences free of spam or \n",
              "harmful content.\n",
              "\n",
              "Why it matters: Apple is being forced to make sweeping changes to one of its flagship \"walled garden\" systems \n",
              "in what some smaller companies are seeing as a major win.\n",
              "\n",
              "Spotify previewed what its app will look like in Europe post-March 7 this week.\n",
              "Apple said it has been in touch with developers about the coming changes and that its compliance adheres to \n",
              "the letter of the law.\n",
              "\n",
              "What they're saying: Apple is making these changes with the caveat that the company has done everything it can\n",
              "to ensure iOS devices remain secure and malware-free, but it has no plans to expand these options outside of \n",
              "Europe, citing risk.\n",
              "\n",
              "The company believes that after the DMA-imposed changes go through, people will start to understand why Apple \n",
              "has maintained its strict policies for developers.\n",
              "\"Across every change, Apple is introducing new safeguards that reduce — but don't eliminate — new risks the \n",
              "DMA poses to EU users,\" the company said in a release.\n",
              "\n",
              "Yes, but: Apple is also introducing new fee structures for developers who take advantage of the new freedoms.\n",
              "\n",
              "Details: As part of iOS 17.4, Apple will charge a \"core technology fee\" of €.50 for \"each first annual install\n",
              "per year\" for developers whose apps have achieved more than 1 million downloads, to be counted once per Apple \n",
              "account.\n",
              "\n",
              "That fee will apply to apps that switch to their own marketplaces or remain on the App Store. Apple says the \n",
              "fee \"reflects the many ways Apple creates value for developers' businesses.\"\n",
              "The App Store commission, for developers who continue to use it, will drop from 30% to 17%. The discounted \n",
              "rate<span style=\"color: #000000; text-decoration-color: #000000; background-color: #ffff00\"> for certain developers will drop from 15% to 10%.</span>\n",
              "<span style=\"color: #000000; text-decoration-color: #000000; background-color: #ffff00\">No commission will be charged to developers who want to distribute and facilitate in-app payments outside of </span>\n",
              "<span style=\"color: #000000; text-decoration-color: #000000; background-color: #ffff00\">the App Store. Apple said that approximate 99% of developers will pay the same or less in fees.</span>\n",
              "\n",
              "<span style=\"color: #000000; text-decoration-color: #000000; background-color: #ffff00\">Go deeper: The iOS changes will include notarization for iOS apps, authorization for marketplace developers </span>\n",
              "<span style=\"color: #000000; text-decoration-color: #000000; background-color: #ffff00\">and disclosures on alternative payments. Apple says in the release that if apps opt out of Apple's system, the</span>\n",
              "<span style=\"color: #000000; text-decoration-color: #000000; background-color: #ffff00\">company \"has less ability to address other risks\" like \"scam, fraud, abuse\" or \"objectionable or harmful\" </span>\n",
              "<span style=\"color: #000000; text-decoration-color: #000000; background-color: #ffff00\">content.</span>\n",
              "\n",
              "<span style=\"color: #000000; text-decoration-color: #000000; background-color: #ffff00\">Users in</span> the EU will also see a browser choice screen in iOS 17.4 to pick a default browser.\n",
              "\n",
              "The other side: Epic Games CEO Tim Sweeney said on X: \"Apple's plan to thwart Europe's new Digital Markets Act\n",
              "law is a devious new instance of Malicious Compliance... Epic has always supported the notion of Apple \n",
              "notarization and malware scanning for apps, but we strongly reject Apple's twisting this process to undermine \n",
              "competition and continue imposing Apple taxes on transactions they're not involved in.\"\n",
              "\n",
              "What to watch: It's up to the European Commission to determine whether Apple's plan fully complies with the \n",
              "DMA.<span style=\"color: #000000; text-decoration-color: #000000; background-color: #ffff00\"> iPhone app developers face a whole new world of choices, and time will tell if the changes boost </span>\n",
              "<span style=\"color: #000000; text-decoration-color: #000000; background-color: #ffff00\">competition and improve experiences for users.</span>\n",
              "<span style=\"color: #000000; text-decoration-color: #000000; background-color: #ffff00\">SUMMARY:</span>\n",
              "<span style=\"color: #000000; text-decoration-color: #000000; background-color: #ffff00\">Apple's iOS App Store will allow alternative app stores and other new options for app developers to comply </span>\n",
              "<span style=\"color: #000000; text-decoration-color: #000000; background-color: #ffff00\">with Europe's Digital Markets Act, which requires developers to rely on the App Store for distribution and </span>\n",
              "<span style=\"color: #000000; text-decoration-color: #000000; background-color: #ffff00\">payment processing. The company has long resisted any changes due to security and privacy, but it also </span>\n",
              "<span style=\"color: #000000; text-decoration-color: #000000; background-color: #ffff00\">believes that its services are best-in-class and ensure smooth user experiences free of spam or harmful </span>\n",
              "<span style=\"color: #000000; text-decoration-color: #000000; background-color: #ffff00\">content. Spotify previewed what it will look like in Europe post-March 7 this week.</span>\n",
              "<span style=\"color: #000000; text-decoration-color: #000000; background-color: #ffff00\">Apple is introducing new safeguards for iOS devices, including the use of encryption and security measures. </span>\n",
              "<span style=\"color: #000000; text-decoration-color: #000000; background-color: #ffff00\">The company believes that this will help to reduce the risks associated with DMA-imposed changes and protect </span>\n",
              "<span style=\"color: #000000; text-decoration-color: #000000; background-color: #ffff00\">developers from potential threats. Additionally, it plans to introduce new fees for developers who have </span>\n",
              "<span style=\"color: #000000; text-decoration-color: #000000; background-color: #ffff00\">achieved more than 1 million downloads on their own platforms or remain on the App Store. This fee will apply </span>\n",
              "<span style=\"color: #000000; text-decoration-color: #000000; background-color: #ffff00\">to apps that switch to their own marketplaces or remain on the App Store.</span>\n",
              "<span style=\"color: #000000; text-decoration-color: #000000; background-color: #ffff00\">Apple has announced that there will be no commission charged to developers who want to distribute and </span>\n",
              "<span style=\"color: #000000; text-decoration-color: #000000; background-color: #ffff00\">facilitate in-app payments outside of the App Store. The iOS changes include notarization for iOS apps, </span>\n",
              "<span style=\"color: #000000; text-decoration-color: #000000; background-color: #ffff00\">authorization for marketplace developers, and disclosures on alternative payment options. If app users opt out</span>\n",
              "<span style=\"color: #000000; text-decoration-color: #000000; background-color: #ffff00\">of Apple's system, they have less ability to address other risks like scams, fraud, abuse or harmful content. </span>\n",
              "<span style=\"color: #000000; text-decoration-color: #000000; background-color: #ffff00\">Users in the EU may see a browser choice screen in iOS 17.4 to pick a default browser. Epic Games CEO Tim </span>\n",
              "<span style=\"color: #000000; text-decoration-color: #000000; background-color: #ffff00\">Sweeney believes this is an example of Malicious Compliance.</span>\n",
              "\n",
              "</pre>\n"
            ]
          },
          "metadata": {}
        }
      ]
    },
    {
      "cell_type": "markdown",
      "source": [
        "\n",
        "\n",
        "---\n",
        "\n",
        "\n",
        "\n",
        "---\n",
        "\n",
        "\n",
        "\n",
        "---\n",
        "\n"
      ],
      "metadata": {
        "id": "-Vvj-k0gmAua"
      }
    },
    {
      "cell_type": "code",
      "source": [
        "r1,t1,q1,rd1 = QnA_Rerank_Plus(db3,2, docsum, qg783[-1][3:],model783)\n",
        "console.print(f\"[bold red1]Question: {q1}\")\n",
        "console.print(r1)\n",
        "console.print(\"---\")\n",
        "console.print(f\"generated in {t1}\")"
      ],
      "metadata": {
        "colab": {
          "base_uri": "https://localhost:8080/",
          "height": 85
        },
        "id": "Um_9bJR7SBLh",
        "outputId": "fe87d076-7b7f-4284-a19c-83f79e3b8ec0"
      },
      "execution_count": null,
      "outputs": [
        {
          "output_type": "display_data",
          "data": {
            "text/plain": [
              "\u001b[1;38;5;196mQuestion: Who is Tim Sweeney and what is his opinion on Apple's plan to thwart the DMA?\u001b[0m\n"
            ],
            "text/html": [
              "<pre style=\"white-space:pre;overflow-x:auto;line-height:normal;font-family:Menlo,'DejaVu Sans Mono',consolas,'Courier New',monospace\"><span style=\"color: #ff0000; text-decoration-color: #ff0000; font-weight: bold\">Question: Who is Tim Sweeney and what is his opinion on Apple's plan to thwart the DMA?</span>\n",
              "</pre>\n"
            ]
          },
          "metadata": {}
        },
        {
          "output_type": "display_data",
          "data": {
            "text/plain": [
              "Tim Sweeney is the CEO of Epic Games.\n"
            ],
            "text/html": [
              "<pre style=\"white-space:pre;overflow-x:auto;line-height:normal;font-family:Menlo,'DejaVu Sans Mono',consolas,'Courier New',monospace\">Tim Sweeney is the CEO of Epic Games.\n",
              "</pre>\n"
            ]
          },
          "metadata": {}
        },
        {
          "output_type": "display_data",
          "data": {
            "text/plain": [
              "---\n"
            ],
            "text/html": [
              "<pre style=\"white-space:pre;overflow-x:auto;line-height:normal;font-family:Menlo,'DejaVu Sans Mono',consolas,'Courier New',monospace\">---\n",
              "</pre>\n"
            ]
          },
          "metadata": {}
        },
        {
          "output_type": "display_data",
          "data": {
            "text/plain": [
              "generated in \u001b[1;92m0:00:16\u001b[0m.\u001b[1;36m307546\u001b[0m\n"
            ],
            "text/html": [
              "<pre style=\"white-space:pre;overflow-x:auto;line-height:normal;font-family:Menlo,'DejaVu Sans Mono',consolas,'Courier New',monospace\">generated in <span style=\"color: #00ff00; text-decoration-color: #00ff00; font-weight: bold\">0:00:16</span>.<span style=\"color: #008080; text-decoration-color: #008080; font-weight: bold\">307546</span>\n",
              "</pre>\n"
            ]
          },
          "metadata": {}
        }
      ]
    },
    {
      "cell_type": "code",
      "source": [
        "r1,t1,q1,rd1 = QnA_Rerank_Plus(db3,2, docsum, qg783[-1][3:],model77)\n",
        "console.print(f\"[bold red1]Question: {q1}\")\n",
        "console.print(r1)\n",
        "console.print(\"---\")\n",
        "console.print(f\"generated in {t1}\")"
      ],
      "metadata": {
        "colab": {
          "base_uri": "https://localhost:8080/",
          "height": 102
        },
        "id": "0w4L3_zKQ7zW",
        "outputId": "acec5469-ad77-4126-d24d-c79f1c811b7c"
      },
      "execution_count": null,
      "outputs": [
        {
          "output_type": "display_data",
          "data": {
            "text/plain": [
              "\u001b[1;38;5;196mQuestion: Who is Tim Sweeney and what is his opinion on Apple's plan to thwart the DMA?\u001b[0m\n"
            ],
            "text/html": [
              "<pre style=\"white-space:pre;overflow-x:auto;line-height:normal;font-family:Menlo,'DejaVu Sans Mono',consolas,'Courier New',monospace\"><span style=\"color: #ff0000; text-decoration-color: #ff0000; font-weight: bold\">Question: Who is Tim Sweeney and what is his opinion on Apple's plan to thwart the DMA?</span>\n",
              "</pre>\n"
            ]
          },
          "metadata": {}
        },
        {
          "output_type": "display_data",
          "data": {
            "text/plain": [
              "Tim Sweeney is Epic Games CEO. His opinion on Apple's plan to thwart the DMA is that it undermines competition\n",
              "by imposing Apple taxes on transactions they aren't involved in.\n"
            ],
            "text/html": [
              "<pre style=\"white-space:pre;overflow-x:auto;line-height:normal;font-family:Menlo,'DejaVu Sans Mono',consolas,'Courier New',monospace\">Tim Sweeney is Epic Games CEO. His opinion on Apple's plan to thwart the DMA is that it undermines competition\n",
              "by imposing Apple taxes on transactions they aren't involved in.\n",
              "</pre>\n"
            ]
          },
          "metadata": {}
        },
        {
          "output_type": "display_data",
          "data": {
            "text/plain": [
              "---\n"
            ],
            "text/html": [
              "<pre style=\"white-space:pre;overflow-x:auto;line-height:normal;font-family:Menlo,'DejaVu Sans Mono',consolas,'Courier New',monospace\">---\n",
              "</pre>\n"
            ]
          },
          "metadata": {}
        },
        {
          "output_type": "display_data",
          "data": {
            "text/plain": [
              "generated in \u001b[1;92m0:00:03\u001b[0m.\u001b[1;36m384285\u001b[0m\n"
            ],
            "text/html": [
              "<pre style=\"white-space:pre;overflow-x:auto;line-height:normal;font-family:Menlo,'DejaVu Sans Mono',consolas,'Courier New',monospace\">generated in <span style=\"color: #00ff00; text-decoration-color: #00ff00; font-weight: bold\">0:00:03</span>.<span style=\"color: #008080; text-decoration-color: #008080; font-weight: bold\">384285</span>\n",
              "</pre>\n"
            ]
          },
          "metadata": {}
        }
      ]
    },
    {
      "cell_type": "markdown",
      "source": [
        "## QnA_Rerank_Plus with LaMini Models using Reranking and Summary"
      ],
      "metadata": {
        "id": "3DcPqwlBmSab"
      }
    },
    {
      "cell_type": "code",
      "source": [
        "from rich.markdown import Markdown\n",
        "console.print(Markdown(\"# QnA GENERATED BY 🦙 **783M LaMini**\"))\n",
        "for question in qg783:\n",
        "  r1,t1,q1,rd1 = QnA_Rerank_Plus(db3,2, docsum, question,model783)\n",
        "  console.print(f\"[bold red1]Question: {q1}\")\n",
        "  console.print(r1)\n",
        "  console.print(\"---\")\n",
        "  console.print(f\"generated in {t1}\")"
      ],
      "metadata": {
        "colab": {
          "base_uri": "https://localhost:8080/",
          "height": 699
        },
        "id": "LEUeVm9r72x0",
        "outputId": "9c2f4b94-7bf2-4584-c185-d5d6e95212d7"
      },
      "execution_count": null,
      "outputs": [
        {
          "output_type": "display_data",
          "data": {
            "text/plain": [
              "┏━━━━━━━━━━━━━━━━━━━━━━━━━━━━━━━━━━━━━━━━━━━━━━━━━━━━━━━━━━━━━━━━━━━━━━━━━━━━━━━━━━━━━━━━━━━━━━━━━━━━━━━━━━━━┓\n",
              "┃                                      \u001b[1mQnA GENERATED BY 🦙 \u001b[0m\u001b[1m783M LaMini\u001b[0m                                       ┃\n",
              "┗━━━━━━━━━━━━━━━━━━━━━━━━━━━━━━━━━━━━━━━━━━━━━━━━━━━━━━━━━━━━━━━━━━━━━━━━━━━━━━━━━━━━━━━━━━━━━━━━━━━━━━━━━━━━┛\n"
            ],
            "text/html": [
              "<pre style=\"white-space:pre;overflow-x:auto;line-height:normal;font-family:Menlo,'DejaVu Sans Mono',consolas,'Courier New',monospace\">┏━━━━━━━━━━━━━━━━━━━━━━━━━━━━━━━━━━━━━━━━━━━━━━━━━━━━━━━━━━━━━━━━━━━━━━━━━━━━━━━━━━━━━━━━━━━━━━━━━━━━━━━━━━━━┓\n",
              "┃                                      <span style=\"font-weight: bold\">QnA GENERATED BY 🦙 783M LaMini</span>                                       ┃\n",
              "┗━━━━━━━━━━━━━━━━━━━━━━━━━━━━━━━━━━━━━━━━━━━━━━━━━━━━━━━━━━━━━━━━━━━━━━━━━━━━━━━━━━━━━━━━━━━━━━━━━━━━━━━━━━━━┛\n",
              "</pre>\n"
            ]
          },
          "metadata": {}
        },
        {
          "output_type": "display_data",
          "data": {
            "text/plain": [
              "\u001b[1;38;5;196mQuestion: What is the Digital Markets Act and how does it affect Apple's App Store?\u001b[0m\n"
            ],
            "text/html": [
              "<pre style=\"white-space:pre;overflow-x:auto;line-height:normal;font-family:Menlo,'DejaVu Sans Mono',consolas,'Courier New',monospace\"><span style=\"color: #ff0000; text-decoration-color: #ff0000; font-weight: bold\">Question: What is the Digital Markets Act and how does it affect Apple's App Store?</span>\n",
              "</pre>\n"
            ]
          },
          "metadata": {}
        },
        {
          "output_type": "display_data",
          "data": {
            "text/plain": [
              "The Digital Markets Act is a law in Europe that requires Apple to loosen its strict rules for developers to \n",
              "use the App Store for distribution and payment processing. This change has been announced by Apple, but it \n",
              "still needs to be implemented before it can become effective.\n"
            ],
            "text/html": [
              "<pre style=\"white-space:pre;overflow-x:auto;line-height:normal;font-family:Menlo,'DejaVu Sans Mono',consolas,'Courier New',monospace\">The Digital Markets Act is a law in Europe that requires Apple to loosen its strict rules for developers to \n",
              "use the App Store for distribution and payment processing. This change has been announced by Apple, but it \n",
              "still needs to be implemented before it can become effective.\n",
              "</pre>\n"
            ]
          },
          "metadata": {}
        },
        {
          "output_type": "display_data",
          "data": {
            "text/plain": [
              "---\n"
            ],
            "text/html": [
              "<pre style=\"white-space:pre;overflow-x:auto;line-height:normal;font-family:Menlo,'DejaVu Sans Mono',consolas,'Courier New',monospace\">---\n",
              "</pre>\n"
            ]
          },
          "metadata": {}
        },
        {
          "output_type": "display_data",
          "data": {
            "text/plain": [
              "generated in \u001b[1;92m0:00:22\u001b[0m.\u001b[1;36m019572\u001b[0m\n"
            ],
            "text/html": [
              "<pre style=\"white-space:pre;overflow-x:auto;line-height:normal;font-family:Menlo,'DejaVu Sans Mono',consolas,'Courier New',monospace\">generated in <span style=\"color: #00ff00; text-decoration-color: #00ff00; font-weight: bold\">0:00:22</span>.<span style=\"color: #008080; text-decoration-color: #008080; font-weight: bold\">019572</span>\n",
              "</pre>\n"
            ]
          },
          "metadata": {}
        },
        {
          "output_type": "display_data",
          "data": {
            "text/plain": [
              "\u001b[1;38;5;196mQuestion: How has Apple resisted any changes to its App Store rules, and what are some of the reasons for this\u001b[0m\n",
              "\u001b[1;38;5;196mchange?\u001b[0m\n"
            ],
            "text/html": [
              "<pre style=\"white-space:pre;overflow-x:auto;line-height:normal;font-family:Menlo,'DejaVu Sans Mono',consolas,'Courier New',monospace\"><span style=\"color: #ff0000; text-decoration-color: #ff0000; font-weight: bold\">Question: How has Apple resisted any changes to its App Store rules, and what are some of the reasons for this</span>\n",
              "<span style=\"color: #ff0000; text-decoration-color: #ff0000; font-weight: bold\">change?</span>\n",
              "</pre>\n"
            ]
          },
          "metadata": {}
        },
        {
          "output_type": "display_data",
          "data": {
            "text/plain": [
              "Apple has resisted any changes to its App Store rules by keeping strict policies for developers. The company \n",
              "is now charging new fee structures that allow alternative app stores and other options for developers to \n",
              "comply with Europe's Digital Markets Act, which requires the company to loosen its regulations for developers.\n",
              "However, it remains to be seen whether these changes will resonably impact users in terms of security and \n",
              "privacy.\n"
            ],
            "text/html": [
              "<pre style=\"white-space:pre;overflow-x:auto;line-height:normal;font-family:Menlo,'DejaVu Sans Mono',consolas,'Courier New',monospace\">Apple has resisted any changes to its App Store rules by keeping strict policies for developers. The company \n",
              "is now charging new fee structures that allow alternative app stores and other options for developers to \n",
              "comply with Europe's Digital Markets Act, which requires the company to loosen its regulations for developers.\n",
              "However, it remains to be seen whether these changes will resonably impact users in terms of security and \n",
              "privacy.\n",
              "</pre>\n"
            ]
          },
          "metadata": {}
        },
        {
          "output_type": "display_data",
          "data": {
            "text/plain": [
              "---\n"
            ],
            "text/html": [
              "<pre style=\"white-space:pre;overflow-x:auto;line-height:normal;font-family:Menlo,'DejaVu Sans Mono',consolas,'Courier New',monospace\">---\n",
              "</pre>\n"
            ]
          },
          "metadata": {}
        },
        {
          "output_type": "display_data",
          "data": {
            "text/plain": [
              "generated in \u001b[1;92m0:00:26\u001b[0m.\u001b[1;36m279163\u001b[0m\n"
            ],
            "text/html": [
              "<pre style=\"white-space:pre;overflow-x:auto;line-height:normal;font-family:Menlo,'DejaVu Sans Mono',consolas,'Courier New',monospace\">generated in <span style=\"color: #00ff00; text-decoration-color: #00ff00; font-weight: bold\">0:00:26</span>.<span style=\"color: #008080; text-decoration-color: #008080; font-weight: bold\">279163</span>\n",
              "</pre>\n"
            ]
          },
          "metadata": {}
        },
        {
          "output_type": "display_data",
          "data": {
            "text/plain": [
              "\u001b[1;38;5;196mQuestion: What is the purpose of Apple's new fee structures for developers?\u001b[0m\n"
            ],
            "text/html": [
              "<pre style=\"white-space:pre;overflow-x:auto;line-height:normal;font-family:Menlo,'DejaVu Sans Mono',consolas,'Courier New',monospace\"><span style=\"color: #ff0000; text-decoration-color: #ff0000; font-weight: bold\">Question: What is the purpose of Apple's new fee structures for developers?</span>\n",
              "</pre>\n"
            ]
          },
          "metadata": {}
        },
        {
          "output_type": "display_data",
          "data": {
            "text/plain": [
              "The purpose of Apple's new fee structures for developers is to allow alternative app stores and other options \n",
              "for developers to comply with Europe's Digital Markets Act, which requires the company to loosen its strict \n",
              "rules requiring developers to rely on the App Store for distribution and payment processing.\n"
            ],
            "text/html": [
              "<pre style=\"white-space:pre;overflow-x:auto;line-height:normal;font-family:Menlo,'DejaVu Sans Mono',consolas,'Courier New',monospace\">The purpose of Apple's new fee structures for developers is to allow alternative app stores and other options \n",
              "for developers to comply with Europe's Digital Markets Act, which requires the company to loosen its strict \n",
              "rules requiring developers to rely on the App Store for distribution and payment processing.\n",
              "</pre>\n"
            ]
          },
          "metadata": {}
        },
        {
          "output_type": "display_data",
          "data": {
            "text/plain": [
              "---\n"
            ],
            "text/html": [
              "<pre style=\"white-space:pre;overflow-x:auto;line-height:normal;font-family:Menlo,'DejaVu Sans Mono',consolas,'Courier New',monospace\">---\n",
              "</pre>\n"
            ]
          },
          "metadata": {}
        },
        {
          "output_type": "display_data",
          "data": {
            "text/plain": [
              "generated in \u001b[1;92m0:00:21\u001b[0m.\u001b[1;36m266886\u001b[0m\n"
            ],
            "text/html": [
              "<pre style=\"white-space:pre;overflow-x:auto;line-height:normal;font-family:Menlo,'DejaVu Sans Mono',consolas,'Courier New',monospace\">generated in <span style=\"color: #00ff00; text-decoration-color: #00ff00; font-weight: bold\">0:00:21</span>.<span style=\"color: #008080; text-decoration-color: #008080; font-weight: bold\">266886</span>\n",
              "</pre>\n"
            ]
          },
          "metadata": {}
        },
        {
          "output_type": "display_data",
          "data": {
            "text/plain": [
              "\u001b[1;38;5;196mQuestion: How will these changes affect developers in terms of revenue and profit margins?\u001b[0m\n"
            ],
            "text/html": [
              "<pre style=\"white-space:pre;overflow-x:auto;line-height:normal;font-family:Menlo,'DejaVu Sans Mono',consolas,'Courier New',monospace\"><span style=\"color: #ff0000; text-decoration-color: #ff0000; font-weight: bold\">Question: How will these changes affect developers in terms of revenue and profit margins?</span>\n",
              "</pre>\n"
            ]
          },
          "metadata": {}
        },
        {
          "output_type": "display_data",
          "data": {
            "text/plain": [
              "The changes to the iOS operating system will increase competition for developers.\n"
            ],
            "text/html": [
              "<pre style=\"white-space:pre;overflow-x:auto;line-height:normal;font-family:Menlo,'DejaVu Sans Mono',consolas,'Courier New',monospace\">The changes to the iOS operating system will increase competition for developers.\n",
              "</pre>\n"
            ]
          },
          "metadata": {}
        },
        {
          "output_type": "display_data",
          "data": {
            "text/plain": [
              "---\n"
            ],
            "text/html": [
              "<pre style=\"white-space:pre;overflow-x:auto;line-height:normal;font-family:Menlo,'DejaVu Sans Mono',consolas,'Courier New',monospace\">---\n",
              "</pre>\n"
            ]
          },
          "metadata": {}
        },
        {
          "output_type": "display_data",
          "data": {
            "text/plain": [
              "generated in \u001b[1;92m0:00:08\u001b[0m.\u001b[1;36m996015\u001b[0m\n"
            ],
            "text/html": [
              "<pre style=\"white-space:pre;overflow-x:auto;line-height:normal;font-family:Menlo,'DejaVu Sans Mono',consolas,'Courier New',monospace\">generated in <span style=\"color: #00ff00; text-decoration-color: #00ff00; font-weight: bold\">0:00:08</span>.<span style=\"color: #008080; text-decoration-color: #008080; font-weight: bold\">996015</span>\n",
              "</pre>\n"
            ]
          },
          "metadata": {}
        },
        {
          "output_type": "display_data",
          "data": {
            "text/plain": [
              "\u001b[1;38;5;196mQuestion: What are the changes to iOS that will be implemented in response to Europe's new Digital Markets Act\u001b[0m\n",
              "\u001b[1;38;5;196mlaw?\u001b[0m\n"
            ],
            "text/html": [
              "<pre style=\"white-space:pre;overflow-x:auto;line-height:normal;font-family:Menlo,'DejaVu Sans Mono',consolas,'Courier New',monospace\"><span style=\"color: #ff0000; text-decoration-color: #ff0000; font-weight: bold\">Question: What are the changes to iOS that will be implemented in response to Europe's new Digital Markets Act</span>\n",
              "<span style=\"color: #ff0000; text-decoration-color: #ff0000; font-weight: bold\">law?</span>\n",
              "</pre>\n"
            ]
          },
          "metadata": {}
        },
        {
          "output_type": "display_data",
          "data": {
            "text/plain": [
              "The changes to iOS that will be implemented in response to Europe's new Digital Markets Act law include a fee \n",
              "of €.\u001b[1;36m50\u001b[0m per first annual install for developers with over one million downloads on the App Store, reduced \n",
              "Commission rate for those who continue to use it, notarization for apps, authorization for marketplace \n",
              "developers, and disclosures on alternative payments.\n"
            ],
            "text/html": [
              "<pre style=\"white-space:pre;overflow-x:auto;line-height:normal;font-family:Menlo,'DejaVu Sans Mono',consolas,'Courier New',monospace\">The changes to iOS that will be implemented in response to Europe's new Digital Markets Act law include a fee \n",
              "of €.<span style=\"color: #008080; text-decoration-color: #008080; font-weight: bold\">50</span> per first annual install for developers with over one million downloads on the App Store, reduced \n",
              "Commission rate for those who continue to use it, notarization for apps, authorization for marketplace \n",
              "developers, and disclosures on alternative payments.\n",
              "</pre>\n"
            ]
          },
          "metadata": {}
        },
        {
          "output_type": "display_data",
          "data": {
            "text/plain": [
              "---\n"
            ],
            "text/html": [
              "<pre style=\"white-space:pre;overflow-x:auto;line-height:normal;font-family:Menlo,'DejaVu Sans Mono',consolas,'Courier New',monospace\">---\n",
              "</pre>\n"
            ]
          },
          "metadata": {}
        },
        {
          "output_type": "display_data",
          "data": {
            "text/plain": [
              "generated in \u001b[1;92m0:00:24\u001b[0m.\u001b[1;36m551566\u001b[0m\n"
            ],
            "text/html": [
              "<pre style=\"white-space:pre;overflow-x:auto;line-height:normal;font-family:Menlo,'DejaVu Sans Mono',consolas,'Courier New',monospace\">generated in <span style=\"color: #00ff00; text-decoration-color: #00ff00; font-weight: bold\">0:00:24</span>.<span style=\"color: #008080; text-decoration-color: #008080; font-weight: bold\">551566</span>\n",
              "</pre>\n"
            ]
          },
          "metadata": {}
        },
        {
          "output_type": "display_data",
          "data": {
            "text/plain": [
              "\u001b[1;38;5;196mQuestion: Who is Tim Sweeney and what is his opinion on Apple's plan to thwart the DMA?\u001b[0m\n"
            ],
            "text/html": [
              "<pre style=\"white-space:pre;overflow-x:auto;line-height:normal;font-family:Menlo,'DejaVu Sans Mono',consolas,'Courier New',monospace\"><span style=\"color: #ff0000; text-decoration-color: #ff0000; font-weight: bold\">Question: Who is Tim Sweeney and what is his opinion on Apple's plan to thwart the DMA?</span>\n",
              "</pre>\n"
            ]
          },
          "metadata": {}
        },
        {
          "output_type": "display_data",
          "data": {
            "text/plain": [
              "Tim Sweeney is the CEO of Epic Games.\n"
            ],
            "text/html": [
              "<pre style=\"white-space:pre;overflow-x:auto;line-height:normal;font-family:Menlo,'DejaVu Sans Mono',consolas,'Courier New',monospace\">Tim Sweeney is the CEO of Epic Games.\n",
              "</pre>\n"
            ]
          },
          "metadata": {}
        },
        {
          "output_type": "display_data",
          "data": {
            "text/plain": [
              "---\n"
            ],
            "text/html": [
              "<pre style=\"white-space:pre;overflow-x:auto;line-height:normal;font-family:Menlo,'DejaVu Sans Mono',consolas,'Courier New',monospace\">---\n",
              "</pre>\n"
            ]
          },
          "metadata": {}
        },
        {
          "output_type": "display_data",
          "data": {
            "text/plain": [
              "generated in \u001b[1;92m0:00:11\u001b[0m.\u001b[1;36m535485\u001b[0m\n"
            ],
            "text/html": [
              "<pre style=\"white-space:pre;overflow-x:auto;line-height:normal;font-family:Menlo,'DejaVu Sans Mono',consolas,'Courier New',monospace\">generated in <span style=\"color: #00ff00; text-decoration-color: #00ff00; font-weight: bold\">0:00:11</span>.<span style=\"color: #008080; text-decoration-color: #008080; font-weight: bold\">535485</span>\n",
              "</pre>\n"
            ]
          },
          "metadata": {}
        }
      ]
    },
    {
      "cell_type": "code",
      "source": [
        "from rich.markdown import Markdown\n",
        "console.print(Markdown(\"# QnA GENERATED BY 🦙 77M LaMini\"))\n",
        "for question in qg783:\n",
        "  r1,t1,q1,rd1 = QnA_Rerank_Plus(db3,2, docsum, question,model77)\n",
        "  console.print(f\"[bold red1]Question: {q1}\")\n",
        "  console.print(r1)\n",
        "  console.print(\"---\")\n",
        "  console.print(f\"generated in {t1}\")"
      ],
      "metadata": {
        "colab": {
          "base_uri": "https://localhost:8080/",
          "height": 682
        },
        "id": "soHgM5XS8tep",
        "outputId": "89be3005-3a36-4f0a-ebad-fe3742bd45aa"
      },
      "execution_count": null,
      "outputs": [
        {
          "output_type": "display_data",
          "data": {
            "text/plain": [
              "┏━━━━━━━━━━━━━━━━━━━━━━━━━━━━━━━━━━━━━━━━━━━━━━━━━━━━━━━━━━━━━━━━━━━━━━━━━━━━━━━━━━━━━━━━━━━━━━━━━━━━━━━━━━━━┓\n",
              "┃                                       \u001b[1mQnA GENERATED BY 🦙 77M LaMini\u001b[0m                                       ┃\n",
              "┗━━━━━━━━━━━━━━━━━━━━━━━━━━━━━━━━━━━━━━━━━━━━━━━━━━━━━━━━━━━━━━━━━━━━━━━━━━━━━━━━━━━━━━━━━━━━━━━━━━━━━━━━━━━━┛\n"
            ],
            "text/html": [
              "<pre style=\"white-space:pre;overflow-x:auto;line-height:normal;font-family:Menlo,'DejaVu Sans Mono',consolas,'Courier New',monospace\">┏━━━━━━━━━━━━━━━━━━━━━━━━━━━━━━━━━━━━━━━━━━━━━━━━━━━━━━━━━━━━━━━━━━━━━━━━━━━━━━━━━━━━━━━━━━━━━━━━━━━━━━━━━━━━┓\n",
              "┃                                       <span style=\"font-weight: bold\">QnA GENERATED BY 🦙 77M LaMini</span>                                       ┃\n",
              "┗━━━━━━━━━━━━━━━━━━━━━━━━━━━━━━━━━━━━━━━━━━━━━━━━━━━━━━━━━━━━━━━━━━━━━━━━━━━━━━━━━━━━━━━━━━━━━━━━━━━━━━━━━━━━┛\n",
              "</pre>\n"
            ]
          },
          "metadata": {}
        },
        {
          "output_type": "display_data",
          "data": {
            "text/plain": [
              "\u001b[1;38;5;196mQuestion: What is the Digital Markets Act and how does it affect Apple's App Store?\u001b[0m\n"
            ],
            "text/html": [
              "<pre style=\"white-space:pre;overflow-x:auto;line-height:normal;font-family:Menlo,'DejaVu Sans Mono',consolas,'Courier New',monospace\"><span style=\"color: #ff0000; text-decoration-color: #ff0000; font-weight: bold\">Question: What is the Digital Markets Act and how does it affect Apple's App Store?</span>\n",
              "</pre>\n"
            ]
          },
          "metadata": {}
        },
        {
          "output_type": "display_data",
          "data": {
            "text/plain": [
              "The Digital Markets Act is a legal framework that requires Apple to regulate the use of alternative app stores\n",
              "and other new options for developers in order to comply with Europe's digital markets law. It affects Apple's \n",
              "App Store by requiring them to loosen its strict rules requiring developers to rely on the App Store for \n",
              "distribution and payment processing, which has been made in order to ensure security and privacy of iOS \n",
              "devices.\n"
            ],
            "text/html": [
              "<pre style=\"white-space:pre;overflow-x:auto;line-height:normal;font-family:Menlo,'DejaVu Sans Mono',consolas,'Courier New',monospace\">The Digital Markets Act is a legal framework that requires Apple to regulate the use of alternative app stores\n",
              "and other new options for developers in order to comply with Europe's digital markets law. It affects Apple's \n",
              "App Store by requiring them to loosen its strict rules requiring developers to rely on the App Store for \n",
              "distribution and payment processing, which has been made in order to ensure security and privacy of iOS \n",
              "devices.\n",
              "</pre>\n"
            ]
          },
          "metadata": {}
        },
        {
          "output_type": "display_data",
          "data": {
            "text/plain": [
              "---\n"
            ],
            "text/html": [
              "<pre style=\"white-space:pre;overflow-x:auto;line-height:normal;font-family:Menlo,'DejaVu Sans Mono',consolas,'Courier New',monospace\">---\n",
              "</pre>\n"
            ]
          },
          "metadata": {}
        },
        {
          "output_type": "display_data",
          "data": {
            "text/plain": [
              "generated in \u001b[1;92m0:00:03\u001b[0m.\u001b[1;36m570560\u001b[0m\n"
            ],
            "text/html": [
              "<pre style=\"white-space:pre;overflow-x:auto;line-height:normal;font-family:Menlo,'DejaVu Sans Mono',consolas,'Courier New',monospace\">generated in <span style=\"color: #00ff00; text-decoration-color: #00ff00; font-weight: bold\">0:00:03</span>.<span style=\"color: #008080; text-decoration-color: #008080; font-weight: bold\">570560</span>\n",
              "</pre>\n"
            ]
          },
          "metadata": {}
        },
        {
          "output_type": "display_data",
          "data": {
            "text/plain": [
              "\u001b[1;38;5;196mQuestion: How has Apple resisted any changes to its App Store rules, and what are some of the reasons for this\u001b[0m\n",
              "\u001b[1;38;5;196mchange?\u001b[0m\n"
            ],
            "text/html": [
              "<pre style=\"white-space:pre;overflow-x:auto;line-height:normal;font-family:Menlo,'DejaVu Sans Mono',consolas,'Courier New',monospace\"><span style=\"color: #ff0000; text-decoration-color: #ff0000; font-weight: bold\">Question: How has Apple resisted any changes to its App Store rules, and what are some of the reasons for this</span>\n",
              "<span style=\"color: #ff0000; text-decoration-color: #ff0000; font-weight: bold\">change?</span>\n",
              "</pre>\n"
            ]
          },
          "metadata": {}
        },
        {
          "output_type": "display_data",
          "data": {
            "text/plain": [
              "Apple has resisted any changes to its App Store rules, including security and privacy. Some of the reasons for\n",
              "this change include security and privacy.\n"
            ],
            "text/html": [
              "<pre style=\"white-space:pre;overflow-x:auto;line-height:normal;font-family:Menlo,'DejaVu Sans Mono',consolas,'Courier New',monospace\">Apple has resisted any changes to its App Store rules, including security and privacy. Some of the reasons for\n",
              "this change include security and privacy.\n",
              "</pre>\n"
            ]
          },
          "metadata": {}
        },
        {
          "output_type": "display_data",
          "data": {
            "text/plain": [
              "---\n"
            ],
            "text/html": [
              "<pre style=\"white-space:pre;overflow-x:auto;line-height:normal;font-family:Menlo,'DejaVu Sans Mono',consolas,'Courier New',monospace\">---\n",
              "</pre>\n"
            ]
          },
          "metadata": {}
        },
        {
          "output_type": "display_data",
          "data": {
            "text/plain": [
              "generated in \u001b[1;92m0:00:01\u001b[0m.\u001b[1;36m675921\u001b[0m\n"
            ],
            "text/html": [
              "<pre style=\"white-space:pre;overflow-x:auto;line-height:normal;font-family:Menlo,'DejaVu Sans Mono',consolas,'Courier New',monospace\">generated in <span style=\"color: #00ff00; text-decoration-color: #00ff00; font-weight: bold\">0:00:01</span>.<span style=\"color: #008080; text-decoration-color: #008080; font-weight: bold\">675921</span>\n",
              "</pre>\n"
            ]
          },
          "metadata": {}
        },
        {
          "output_type": "display_data",
          "data": {
            "text/plain": [
              "\u001b[1;38;5;196mQuestion: What is the purpose of Apple's new fee structures for developers?\u001b[0m\n"
            ],
            "text/html": [
              "<pre style=\"white-space:pre;overflow-x:auto;line-height:normal;font-family:Menlo,'DejaVu Sans Mono',consolas,'Courier New',monospace\"><span style=\"color: #ff0000; text-decoration-color: #ff0000; font-weight: bold\">Question: What is the purpose of Apple's new fee structures for developers?</span>\n",
              "</pre>\n"
            ]
          },
          "metadata": {}
        },
        {
          "output_type": "display_data",
          "data": {
            "text/plain": [
              "The purpose of Apple's new fee structures for developers is to allow alternative app stores and other options \n",
              "for developers to comply with Europe's Digital Markets Act, which requires the company to loosen its strict \n",
              "rules requiring developers to rely on the App Store for distribution and payment processing.\n"
            ],
            "text/html": [
              "<pre style=\"white-space:pre;overflow-x:auto;line-height:normal;font-family:Menlo,'DejaVu Sans Mono',consolas,'Courier New',monospace\">The purpose of Apple's new fee structures for developers is to allow alternative app stores and other options \n",
              "for developers to comply with Europe's Digital Markets Act, which requires the company to loosen its strict \n",
              "rules requiring developers to rely on the App Store for distribution and payment processing.\n",
              "</pre>\n"
            ]
          },
          "metadata": {}
        },
        {
          "output_type": "display_data",
          "data": {
            "text/plain": [
              "---\n"
            ],
            "text/html": [
              "<pre style=\"white-space:pre;overflow-x:auto;line-height:normal;font-family:Menlo,'DejaVu Sans Mono',consolas,'Courier New',monospace\">---\n",
              "</pre>\n"
            ]
          },
          "metadata": {}
        },
        {
          "output_type": "display_data",
          "data": {
            "text/plain": [
              "generated in \u001b[1;92m0:00:02\u001b[0m.\u001b[1;36m538230\u001b[0m\n"
            ],
            "text/html": [
              "<pre style=\"white-space:pre;overflow-x:auto;line-height:normal;font-family:Menlo,'DejaVu Sans Mono',consolas,'Courier New',monospace\">generated in <span style=\"color: #00ff00; text-decoration-color: #00ff00; font-weight: bold\">0:00:02</span>.<span style=\"color: #008080; text-decoration-color: #008080; font-weight: bold\">538230</span>\n",
              "</pre>\n"
            ]
          },
          "metadata": {}
        },
        {
          "output_type": "display_data",
          "data": {
            "text/plain": [
              "\u001b[1;38;5;196mQuestion: How will these changes affect developers in terms of revenue and profit margins?\u001b[0m\n"
            ],
            "text/html": [
              "<pre style=\"white-space:pre;overflow-x:auto;line-height:normal;font-family:Menlo,'DejaVu Sans Mono',consolas,'Courier New',monospace\"><span style=\"color: #ff0000; text-decoration-color: #ff0000; font-weight: bold\">Question: How will these changes affect developers in terms of revenue and profit margins?</span>\n",
              "</pre>\n"
            ]
          },
          "metadata": {}
        },
        {
          "output_type": "display_data",
          "data": {
            "text/plain": [
              "Users in the iOS changes will have a significant impact on developers' revenue and profit margins.\n"
            ],
            "text/html": [
              "<pre style=\"white-space:pre;overflow-x:auto;line-height:normal;font-family:Menlo,'DejaVu Sans Mono',consolas,'Courier New',monospace\">Users in the iOS changes will have a significant impact on developers' revenue and profit margins.\n",
              "</pre>\n"
            ]
          },
          "metadata": {}
        },
        {
          "output_type": "display_data",
          "data": {
            "text/plain": [
              "---\n"
            ],
            "text/html": [
              "<pre style=\"white-space:pre;overflow-x:auto;line-height:normal;font-family:Menlo,'DejaVu Sans Mono',consolas,'Courier New',monospace\">---\n",
              "</pre>\n"
            ]
          },
          "metadata": {}
        },
        {
          "output_type": "display_data",
          "data": {
            "text/plain": [
              "generated in \u001b[1;92m0:00:01\u001b[0m.\u001b[1;36m174997\u001b[0m\n"
            ],
            "text/html": [
              "<pre style=\"white-space:pre;overflow-x:auto;line-height:normal;font-family:Menlo,'DejaVu Sans Mono',consolas,'Courier New',monospace\">generated in <span style=\"color: #00ff00; text-decoration-color: #00ff00; font-weight: bold\">0:00:01</span>.<span style=\"color: #008080; text-decoration-color: #008080; font-weight: bold\">174997</span>\n",
              "</pre>\n"
            ]
          },
          "metadata": {}
        },
        {
          "output_type": "display_data",
          "data": {
            "text/plain": [
              "\u001b[1;38;5;196mQuestion: What are the changes to iOS that will be implemented in response to Europe's new Digital Markets Act\u001b[0m\n",
              "\u001b[1;38;5;196mlaw?\u001b[0m\n"
            ],
            "text/html": [
              "<pre style=\"white-space:pre;overflow-x:auto;line-height:normal;font-family:Menlo,'DejaVu Sans Mono',consolas,'Courier New',monospace\"><span style=\"color: #ff0000; text-decoration-color: #ff0000; font-weight: bold\">Question: What are the changes to iOS that will be implemented in response to Europe's new Digital Markets Act</span>\n",
              "<span style=\"color: #ff0000; text-decoration-color: #ff0000; font-weight: bold\">law?</span>\n",
              "</pre>\n"
            ]
          },
          "metadata": {}
        },
        {
          "output_type": "display_data",
          "data": {
            "text/plain": [
              "The changes to iOS that will be implemented in response to Europe's new Digital Markets Act law are a fee of \n",
              "€.\u001b[1;36m50\u001b[0m per first annual install for developers with over one million downloads on the App Store and a reduced \n",
              "Commission rate for those who continue to use it.\n"
            ],
            "text/html": [
              "<pre style=\"white-space:pre;overflow-x:auto;line-height:normal;font-family:Menlo,'DejaVu Sans Mono',consolas,'Courier New',monospace\">The changes to iOS that will be implemented in response to Europe's new Digital Markets Act law are a fee of \n",
              "€.<span style=\"color: #008080; text-decoration-color: #008080; font-weight: bold\">50</span> per first annual install for developers with over one million downloads on the App Store and a reduced \n",
              "Commission rate for those who continue to use it.\n",
              "</pre>\n"
            ]
          },
          "metadata": {}
        },
        {
          "output_type": "display_data",
          "data": {
            "text/plain": [
              "---\n"
            ],
            "text/html": [
              "<pre style=\"white-space:pre;overflow-x:auto;line-height:normal;font-family:Menlo,'DejaVu Sans Mono',consolas,'Courier New',monospace\">---\n",
              "</pre>\n"
            ]
          },
          "metadata": {}
        },
        {
          "output_type": "display_data",
          "data": {
            "text/plain": [
              "generated in \u001b[1;92m0:00:03\u001b[0m.\u001b[1;36m155102\u001b[0m\n"
            ],
            "text/html": [
              "<pre style=\"white-space:pre;overflow-x:auto;line-height:normal;font-family:Menlo,'DejaVu Sans Mono',consolas,'Courier New',monospace\">generated in <span style=\"color: #00ff00; text-decoration-color: #00ff00; font-weight: bold\">0:00:03</span>.<span style=\"color: #008080; text-decoration-color: #008080; font-weight: bold\">155102</span>\n",
              "</pre>\n"
            ]
          },
          "metadata": {}
        },
        {
          "output_type": "display_data",
          "data": {
            "text/plain": [
              "\u001b[1;38;5;196mQuestion: Who is Tim Sweeney and what is his opinion on Apple's plan to thwart the DMA?\u001b[0m\n"
            ],
            "text/html": [
              "<pre style=\"white-space:pre;overflow-x:auto;line-height:normal;font-family:Menlo,'DejaVu Sans Mono',consolas,'Courier New',monospace\"><span style=\"color: #ff0000; text-decoration-color: #ff0000; font-weight: bold\">Question: Who is Tim Sweeney and what is his opinion on Apple's plan to thwart the DMA?</span>\n",
              "</pre>\n"
            ]
          },
          "metadata": {}
        },
        {
          "output_type": "display_data",
          "data": {
            "text/plain": [
              "Tim Sweeney is Epic Games CEO and his opinion on Apple's plan to thwart the DMA is that it undermines \n",
              "competition by imposing Apple taxes on transactions they aren't involved in.\n"
            ],
            "text/html": [
              "<pre style=\"white-space:pre;overflow-x:auto;line-height:normal;font-family:Menlo,'DejaVu Sans Mono',consolas,'Courier New',monospace\">Tim Sweeney is Epic Games CEO and his opinion on Apple's plan to thwart the DMA is that it undermines \n",
              "competition by imposing Apple taxes on transactions they aren't involved in.\n",
              "</pre>\n"
            ]
          },
          "metadata": {}
        },
        {
          "output_type": "display_data",
          "data": {
            "text/plain": [
              "---\n"
            ],
            "text/html": [
              "<pre style=\"white-space:pre;overflow-x:auto;line-height:normal;font-family:Menlo,'DejaVu Sans Mono',consolas,'Courier New',monospace\">---\n",
              "</pre>\n"
            ]
          },
          "metadata": {}
        },
        {
          "output_type": "display_data",
          "data": {
            "text/plain": [
              "generated in \u001b[1;92m0:00:02\u001b[0m.\u001b[1;36m185500\u001b[0m\n"
            ],
            "text/html": [
              "<pre style=\"white-space:pre;overflow-x:auto;line-height:normal;font-family:Menlo,'DejaVu Sans Mono',consolas,'Courier New',monospace\">generated in <span style=\"color: #00ff00; text-decoration-color: #00ff00; font-weight: bold\">0:00:02</span>.<span style=\"color: #008080; text-decoration-color: #008080; font-weight: bold\">185500</span>\n",
              "</pre>\n"
            ]
          },
          "metadata": {}
        }
      ]
    },
    {
      "cell_type": "markdown",
      "source": [
        "### Huighlight the chunks from the entire text"
      ],
      "metadata": {
        "id": "Vl_dq7qfmf3U"
      }
    },
    {
      "cell_type": "code",
      "source": [
        "def evidenzia_res(keys, fulltext,summary):\n",
        "  from rich.text import Text\n",
        "  mytest = fulltext + '\\n\\nSUMMARY:\\n' + summary.page_content\n",
        "  text = Text(mytest)\n",
        "  for item in keys:\n",
        "    l = len(item.page_content)\n",
        "    x = mytest.find(item.page_content)\n",
        "    text.stylize(\"black on bright_yellow\", x, (x+l))\n",
        "  console.print(text)\n",
        "  return text"
      ],
      "metadata": {
        "id": "eAf1uqqiUZL7"
      },
      "execution_count": null,
      "outputs": []
    },
    {
      "cell_type": "code",
      "source": [
        "a = evidenzia_res(rd1,editedtext,docsum)"
      ],
      "metadata": {
        "colab": {
          "base_uri": "https://localhost:8080/",
          "height": 1000
        },
        "id": "DvG0tfnyUZJV",
        "outputId": "fb1d9e26-c55a-49bb-cf4c-86be4ccb6c11"
      },
      "execution_count": null,
      "outputs": [
        {
          "output_type": "display_data",
          "data": {
            "text/plain": [
              "Apple's iOS App Store announces sweeping changes in the EU\n",
              "https://www.axios.com/2024/01/25/apple-app-store-eu-changes\n",
              "Author: Ashley Gold, author of Axios Pro\n",
              "\n",
              "\n",
              "Apple will allow alternative app stores and other new options for app developers in order to comply with \n",
              "Europe's Digital Markets Act, the company said Thursday.\n",
              "\n",
              "Driving the news: Europe's major tech competition law, set to go into effect March 7, requires Apple to loosen\n",
              "its strict rules requiring developers to rely on the App Store for distribution and payment processing.\n",
              "\n",
              "Apple has long resisted any changes to its App Store rules, citing security and privacy. The company also \n",
              "argues its services for developers are best-in-class and ensure smooth user experiences free of spam or \n",
              "harmful content.\n",
              "\n",
              "Why it matters: Apple is being forced to make sweeping changes to one of its flagship \"walled garden\" systems \n",
              "in what some smaller companies are seeing as a major win.\n",
              "\n",
              "Spotify previewed what its app will look like in Europe post-March 7 this week.\n",
              "Apple said it has been in touch with developers about the coming changes and that its compliance adheres to \n",
              "the letter of the law.\n",
              "\n",
              "What\u001b[30;103m they're saying: Apple is making these changes with the caveat that the company has done everything it can\u001b[0m\n",
              "\u001b[30;103mto ensure iOS devices remain secure and malware-free, but it has no plans to expand these options outside of \u001b[0m\n",
              "\u001b[30;103mEurope, citing risk.\u001b[0m\n",
              "\n",
              "\u001b[30;103mThe company believes that after the DMA-imposed changes go through, people will start to understand why Apple \u001b[0m\n",
              "\u001b[30;103mhas maintained its strict policies for developers.\u001b[0m\n",
              "\u001b[30;103m\"Across every change, Apple is introducing new safeguards that reduce — but don't eliminate — new risks the \u001b[0m\n",
              "\u001b[30;103mDMA poses to EU users,\" the company said in a release.\u001b[0m\n",
              "\n",
              "\u001b[30;103mYes, but: Apple is also introducing new fee structures for\u001b[0m developers who take advantage of the new freedoms.\n",
              "\n",
              "Details: As part of iOS 17.4, Apple will charge a \"core technology fee\" of €.50 for \"each first annual install\n",
              "per year\" for developers whose apps have achieved more than 1 million downloads, to be counted once per Apple \n",
              "account.\n",
              "\n",
              "That fee will apply to apps that switch to their own marketplaces or remain on the App Store. Apple says the \n",
              "fee \"reflects the many ways Apple creates value for developers' businesses.\"\n",
              "The App Store commission, for developers who continue to use it, will drop from 30% to 17%. The discounted \n",
              "rate for certain developers will drop from 15% to 10%.\n",
              "No commission will be charged to developers who want to distribute and facilitate in-app payments outside of \n",
              "the App Store. Apple said that approximate 99% of developers will pay the same or less in fees.\n",
              "\n",
              "Go deeper: The iOS changes will include notarization for iOS apps, authorization for marketplace developers \n",
              "and disclosures on alternative payments. Apple says in the release that if apps opt out of Apple's system, the\n",
              "company \"has less ability to address other risks\" like \"scam, fraud, abuse\" or \"objectionable or harmful\" \n",
              "content.\n",
              "\n",
              "Users in\u001b[30;103m the EU will also see a browser choice screen in iOS 17.4 to pick a default browser.\u001b[0m\n",
              "\n",
              "\u001b[30;103mThe other side: Epic Games CEO Tim Sweeney said on X: \"Apple's plan to thwart Europe's new Digital Markets Act\u001b[0m\n",
              "\u001b[30;103mlaw is a devious new instance of Malicious Compliance... Epic has always supported the notion of Apple \u001b[0m\n",
              "\u001b[30;103mnotarization and malware scanning for apps, but we strongly reject Apple's twisting this process to undermine \u001b[0m\n",
              "\u001b[30;103mcompetition and continue imposing Apple taxes on transactions they're not involved in.\"\u001b[0m\n",
              "\n",
              "\u001b[30;103mWhat to watch: It's up to the European Commission to determine whether Apple's plan fully complies with the \u001b[0m\n",
              "\u001b[30;103mDMA.\u001b[0m iPhone app developers face a whole new world of choices, and time will tell if the changes boost \n",
              "competition and improve experiences for users.\n",
              "\n",
              "\n",
              "SUMMARY:\n",
              "\u001b[30;103mApple has announced that it will allow alternative app stores and other options for developers to comply with \u001b[0m\n",
              "\u001b[30;103mEurope's Digital Markets Act, which requires the company to loosen its strict rules requiring developers to \u001b[0m\n",
              "\u001b[30;103mrely on the App Store for distribution and payment processing. The changes have been made in order to ensure \u001b[0m\n",
              "\u001b[30;103msecurity and privacy of iOS devices, but Apple still plans to maintain its strict policies for developers. \u001b[0m\n",
              "\u001b[30;103mAdditionally, Apple is charging a \"core technology fee\" of €.50 per first annual install per year for \u001b[0m\n",
              "\u001b[30;103mdevelopers who take advantage of these new freedoms.\u001b[0m\n",
              "\u001b[30;103mApple has announced changes to its iOS operating system, including a fee of €.50 per first annual install for \u001b[0m\n",
              "\u001b[30;103mdevelopers with over one million downloads on the App Store and a reduced Commission rate for those who \u001b[0m\n",
              "\u001b[30;103mcontinue to use it. The fees will also include notarization for apps, authorization for marketplace \u001b[0m\n",
              "\u001b[30;103mdevelopers, and disclosures on alternative payments. However, Epic Games CEO Tim Sweeney has called this plan \u001b[0m\n",
              "\u001b[30;103m\"devious new instance of Malicious Compliance\" and believes that it undermines competition by imposing Apple \u001b[0m\n",
              "\u001b[30;103mtaxes on transactions they aren't involved in. It remains to be seen whether these changes will\u001b[0m\n",
              "\n"
            ],
            "text/html": [
              "<pre style=\"white-space:pre;overflow-x:auto;line-height:normal;font-family:Menlo,'DejaVu Sans Mono',consolas,'Courier New',monospace\">Apple's iOS App Store announces sweeping changes in the EU\n",
              "https://www.axios.com/2024/01/25/apple-app-store-eu-changes\n",
              "Author: Ashley Gold, author of Axios Pro\n",
              "\n",
              "\n",
              "Apple will allow alternative app stores and other new options for app developers in order to comply with \n",
              "Europe's Digital Markets Act, the company said Thursday.\n",
              "\n",
              "Driving the news: Europe's major tech competition law, set to go into effect March 7, requires Apple to loosen\n",
              "its strict rules requiring developers to rely on the App Store for distribution and payment processing.\n",
              "\n",
              "Apple has long resisted any changes to its App Store rules, citing security and privacy. The company also \n",
              "argues its services for developers are best-in-class and ensure smooth user experiences free of spam or \n",
              "harmful content.\n",
              "\n",
              "Why it matters: Apple is being forced to make sweeping changes to one of its flagship \"walled garden\" systems \n",
              "in what some smaller companies are seeing as a major win.\n",
              "\n",
              "Spotify previewed what its app will look like in Europe post-March 7 this week.\n",
              "Apple said it has been in touch with developers about the coming changes and that its compliance adheres to \n",
              "the letter of the law.\n",
              "\n",
              "What<span style=\"color: #000000; text-decoration-color: #000000; background-color: #ffff00\"> they're saying: Apple is making these changes with the caveat that the company has done everything it can</span>\n",
              "<span style=\"color: #000000; text-decoration-color: #000000; background-color: #ffff00\">to ensure iOS devices remain secure and malware-free, but it has no plans to expand these options outside of </span>\n",
              "<span style=\"color: #000000; text-decoration-color: #000000; background-color: #ffff00\">Europe, citing risk.</span>\n",
              "\n",
              "<span style=\"color: #000000; text-decoration-color: #000000; background-color: #ffff00\">The company believes that after the DMA-imposed changes go through, people will start to understand why Apple </span>\n",
              "<span style=\"color: #000000; text-decoration-color: #000000; background-color: #ffff00\">has maintained its strict policies for developers.</span>\n",
              "<span style=\"color: #000000; text-decoration-color: #000000; background-color: #ffff00\">\"Across every change, Apple is introducing new safeguards that reduce — but don't eliminate — new risks the </span>\n",
              "<span style=\"color: #000000; text-decoration-color: #000000; background-color: #ffff00\">DMA poses to EU users,\" the company said in a release.</span>\n",
              "\n",
              "<span style=\"color: #000000; text-decoration-color: #000000; background-color: #ffff00\">Yes, but: Apple is also introducing new fee structures for</span> developers who take advantage of the new freedoms.\n",
              "\n",
              "Details: As part of iOS 17.4, Apple will charge a \"core technology fee\" of €.50 for \"each first annual install\n",
              "per year\" for developers whose apps have achieved more than 1 million downloads, to be counted once per Apple \n",
              "account.\n",
              "\n",
              "That fee will apply to apps that switch to their own marketplaces or remain on the App Store. Apple says the \n",
              "fee \"reflects the many ways Apple creates value for developers' businesses.\"\n",
              "The App Store commission, for developers who continue to use it, will drop from 30% to 17%. The discounted \n",
              "rate for certain developers will drop from 15% to 10%.\n",
              "No commission will be charged to developers who want to distribute and facilitate in-app payments outside of \n",
              "the App Store. Apple said that approximate 99% of developers will pay the same or less in fees.\n",
              "\n",
              "Go deeper: The iOS changes will include notarization for iOS apps, authorization for marketplace developers \n",
              "and disclosures on alternative payments. Apple says in the release that if apps opt out of Apple's system, the\n",
              "company \"has less ability to address other risks\" like \"scam, fraud, abuse\" or \"objectionable or harmful\" \n",
              "content.\n",
              "\n",
              "Users in<span style=\"color: #000000; text-decoration-color: #000000; background-color: #ffff00\"> the EU will also see a browser choice screen in iOS 17.4 to pick a default browser.</span>\n",
              "\n",
              "<span style=\"color: #000000; text-decoration-color: #000000; background-color: #ffff00\">The other side: Epic Games CEO Tim Sweeney said on X: \"Apple's plan to thwart Europe's new Digital Markets Act</span>\n",
              "<span style=\"color: #000000; text-decoration-color: #000000; background-color: #ffff00\">law is a devious new instance of Malicious Compliance... Epic has always supported the notion of Apple </span>\n",
              "<span style=\"color: #000000; text-decoration-color: #000000; background-color: #ffff00\">notarization and malware scanning for apps, but we strongly reject Apple's twisting this process to undermine </span>\n",
              "<span style=\"color: #000000; text-decoration-color: #000000; background-color: #ffff00\">competition and continue imposing Apple taxes on transactions they're not involved in.\"</span>\n",
              "\n",
              "<span style=\"color: #000000; text-decoration-color: #000000; background-color: #ffff00\">What to watch: It's up to the European Commission to determine whether Apple's plan fully complies with the </span>\n",
              "<span style=\"color: #000000; text-decoration-color: #000000; background-color: #ffff00\">DMA.</span> iPhone app developers face a whole new world of choices, and time will tell if the changes boost \n",
              "competition and improve experiences for users.\n",
              "\n",
              "\n",
              "SUMMARY:\n",
              "<span style=\"color: #000000; text-decoration-color: #000000; background-color: #ffff00\">Apple has announced that it will allow alternative app stores and other options for developers to comply with </span>\n",
              "<span style=\"color: #000000; text-decoration-color: #000000; background-color: #ffff00\">Europe's Digital Markets Act, which requires the company to loosen its strict rules requiring developers to </span>\n",
              "<span style=\"color: #000000; text-decoration-color: #000000; background-color: #ffff00\">rely on the App Store for distribution and payment processing. The changes have been made in order to ensure </span>\n",
              "<span style=\"color: #000000; text-decoration-color: #000000; background-color: #ffff00\">security and privacy of iOS devices, but Apple still plans to maintain its strict policies for developers. </span>\n",
              "<span style=\"color: #000000; text-decoration-color: #000000; background-color: #ffff00\">Additionally, Apple is charging a \"core technology fee\" of €.50 per first annual install per year for </span>\n",
              "<span style=\"color: #000000; text-decoration-color: #000000; background-color: #ffff00\">developers who take advantage of these new freedoms.</span>\n",
              "<span style=\"color: #000000; text-decoration-color: #000000; background-color: #ffff00\">Apple has announced changes to its iOS operating system, including a fee of €.50 per first annual install for </span>\n",
              "<span style=\"color: #000000; text-decoration-color: #000000; background-color: #ffff00\">developers with over one million downloads on the App Store and a reduced Commission rate for those who </span>\n",
              "<span style=\"color: #000000; text-decoration-color: #000000; background-color: #ffff00\">continue to use it. The fees will also include notarization for apps, authorization for marketplace </span>\n",
              "<span style=\"color: #000000; text-decoration-color: #000000; background-color: #ffff00\">developers, and disclosures on alternative payments. However, Epic Games CEO Tim Sweeney has called this plan </span>\n",
              "<span style=\"color: #000000; text-decoration-color: #000000; background-color: #ffff00\">\"devious new instance of Malicious Compliance\" and believes that it undermines competition by imposing Apple </span>\n",
              "<span style=\"color: #000000; text-decoration-color: #000000; background-color: #ffff00\">taxes on transactions they aren't involved in. It remains to be seen whether these changes will</span>\n",
              "\n",
              "</pre>\n"
            ]
          },
          "metadata": {}
        }
      ]
    },
    {
      "cell_type": "code",
      "source": [],
      "metadata": {
        "id": "eSk0Q9-FUZGg"
      },
      "execution_count": null,
      "outputs": []
    },
    {
      "cell_type": "markdown",
      "source": [
        "## Old stuff"
      ],
      "metadata": {
        "id": "I-pFAI5LmpgE"
      }
    },
    {
      "cell_type": "markdown",
      "source": [
        "### test singolo da me... llmChain pipeline sucks"
      ],
      "metadata": {
        "id": "nmtauKcedWob"
      }
    },
    {
      "cell_type": "code",
      "source": [
        "context = ''\n",
        "for i in rd1:\n",
        "  context += i.page_content\n",
        "query = qg77[0]\n",
        "mypronmp = f\"\"\"Read this and answer the question. Your answer must be informative. If the question is unanswerable, \"\"say \\\"unanswerable\\\".\n",
        "\n",
        "{context}\n",
        "\n",
        "{query}\"\"\""
      ],
      "metadata": {
        "id": "lzkQjlXTcCUC"
      },
      "execution_count": null,
      "outputs": []
    },
    {
      "cell_type": "code",
      "source": [
        "res = model783(mypronmp, temperature=0.3, repetition_penalty=1.3, max_length=250, do_sample=True)[0]['generated_text']\n",
        "console.print(f\"[bold red1]Question: {query}\")\n",
        "console.print(res)"
      ],
      "metadata": {
        "colab": {
          "base_uri": "https://localhost:8080/",
          "height": 116
        },
        "id": "pPpq-unAcv5V",
        "outputId": "f166eaf6-0481-4113-a055-7ba6e5309bbe"
      },
      "execution_count": null,
      "outputs": [
        {
          "output_type": "display_data",
          "data": {
            "text/plain": [
              "\u001b[1;38;5;196mQuestion: What are the changes made by Apple to its iOS App Store in order to comply with Europe's Digital \u001b[0m\n",
              "\u001b[1;38;5;196mMarkets Act?\u001b[0m\n"
            ],
            "text/html": [
              "<pre style=\"white-space:pre;overflow-x:auto;line-height:normal;font-family:Menlo,'DejaVu Sans Mono',consolas,'Courier New',monospace\"><span style=\"color: #ff0000; text-decoration-color: #ff0000; font-weight: bold\">Question: What are the changes made by Apple to its iOS App Store in order to comply with Europe's Digital </span>\n",
              "<span style=\"color: #ff0000; text-decoration-color: #ff0000; font-weight: bold\">Markets Act?</span>\n",
              "</pre>\n"
            ]
          },
          "metadata": {}
        },
        {
          "output_type": "display_data",
          "data": {
            "text/plain": [
              "The changes made by Apple to its iOS App Store in order to comply with Europe's Digital Markets Act include a \n",
              "fee structure of €.\u001b[1;36m50\u001b[0m per first annual install, an increase in the cost of app development for developers who \n",
              "have more than \u001b[1;36m1\u001b[0m million downloads, and a discount on the App Store commission for those who continue to use \n",
              "it.\n"
            ],
            "text/html": [
              "<pre style=\"white-space:pre;overflow-x:auto;line-height:normal;font-family:Menlo,'DejaVu Sans Mono',consolas,'Courier New',monospace\">The changes made by Apple to its iOS App Store in order to comply with Europe's Digital Markets Act include a \n",
              "fee structure of €.<span style=\"color: #008080; text-decoration-color: #008080; font-weight: bold\">50</span> per first annual install, an increase in the cost of app development for developers who \n",
              "have more than <span style=\"color: #008080; text-decoration-color: #008080; font-weight: bold\">1</span> million downloads, and a discount on the App Store commission for those who continue to use \n",
              "it.\n",
              "</pre>\n"
            ]
          },
          "metadata": {}
        }
      ]
    },
    {
      "cell_type": "code",
      "source": [
        "context = ''\n",
        "for i in rd1:\n",
        "  context += i.page_content"
      ],
      "metadata": {
        "id": "p_FAegNicCOx"
      },
      "execution_count": null,
      "outputs": []
    },
    {
      "cell_type": "code",
      "source": [
        "console.print(rd1)"
      ],
      "metadata": {
        "colab": {
          "base_uri": "https://localhost:8080/",
          "height": 1000
        },
        "id": "1SX-7wB9N0H1",
        "outputId": "088089a6-31e4-4f81-9e3b-8e6ab1468a3f"
      },
      "execution_count": null,
      "outputs": [
        {
          "output_type": "display_data",
          "data": {
            "text/plain": [
              "\u001b[1m[\u001b[0m\n",
              "    \u001b[1;35mDocument\u001b[0m\u001b[1m(\u001b[0m\n",
              "        \u001b[33mpage_content\u001b[0m=\u001b[32m\"Apple\u001b[0m\u001b[32m's iOS App Store announces sweeping changes in the \u001b[0m\n",
              "\u001b[32mEU\\nhttps://www.axios.com/2024/01/25/apple-app-store-eu-changes\\nAuthor: Ashley Gold, author of\\xa0Axios \u001b[0m\n",
              "\u001b[32mPro\\n\\n\\nApple will allow alternative app stores and other new options for app developers in order to comply \u001b[0m\n",
              "\u001b[32mwith Europe's Digital Markets Act, the company said Thursday.\\n\\nDriving the news: Europe's major tech \u001b[0m\n",
              "\u001b[32mcompetition law, set to go into effect March 7, requires Apple to loosen its strict rules requiring developers\u001b[0m\n",
              "\u001b[32mto rely on the App Store for distribution and payment processing.\\n\\nApple has long resisted any changes to \u001b[0m\n",
              "\u001b[32mits App Store rules, citing security and privacy. The company also argues its services for developers\"\u001b[0m,\n",
              "        \u001b[33mmetadata\u001b[0m=\u001b[1m{\u001b[0m\n",
              "            \u001b[32m'author'\u001b[0m: \u001b[32m'Ashley Gold, author of Axios Pro'\u001b[0m,\n",
              "            \u001b[32m'source'\u001b[0m: \u001b[32m'/content/2024-01-27 11.23.05 Apple s iOS App Store announces_edited.txt'\u001b[0m,\n",
              "            \u001b[32m'title'\u001b[0m: \u001b[32m\"Apple's iOS App Store announces sweeping changes in the EU\"\u001b[0m,\n",
              "            \u001b[32m'url'\u001b[0m: \u001b[32m'https://www.axios.com/2024/01/25/apple-app-store-eu-changes'\u001b[0m\n",
              "        \u001b[1m}\u001b[0m\n",
              "    \u001b[1m)\u001b[0m,\n",
              "    \u001b[1;35mDocument\u001b[0m\u001b[1m(\u001b[0m\n",
              "        \u001b[33mpage_content\u001b[0m=\u001b[32m\"Apple\u001b[0m\u001b[32m has announced changes to its iOS App Store in order to comply with Europe's \u001b[0m\n",
              "\u001b[32mDigital Markets Act, which requires developers to rely on the app store for distribution and payment \u001b[0m\n",
              "\u001b[32mprocessing. The company has maintained strict policies regarding security and privacy but will now introduce \u001b[0m\n",
              "\u001b[32mnew safeguards that reduce risks, including a fee structure of €.50 per first annual install. Spotify is \u001b[0m\n",
              "\u001b[32mexpected to launch an update to its app after March 7, while others are still waiting to see what it will look\u001b[0m\n",
              "\u001b[32mlike in Europe.\\nApple has announced changes to its iOS operating system that will increase the cost of app \u001b[0m\n",
              "\u001b[32mdevelopment for developers who have more than 1 million downloads. The core technology fee of €.50 per year \u001b[0m\n",
              "\u001b[32mwill be applied to apps that switch to their own marketplaces or remain on the App Store, while the App Store \u001b[0m\n",
              "\u001b[32mcommission will drop from 30% to 17%. Developers who continue to use the system will also receive a discounted\u001b[0m\n",
              "\u001b[32mrate of 15% to 10%. Additionally, users in Europe will see a browser choice screen where they can choose a \u001b[0m\n",
              "\u001b[32mdefault browser. However, Epic Games CEO Tim Sweeney has strongly rejected Apple's\\n\"\u001b[0m,\n",
              "        \u001b[33mmetadata\u001b[0m=\u001b[1m{\u001b[0m\n",
              "            \u001b[32m'source'\u001b[0m: \u001b[32m'/content/2024-01-27 11.23.05 Apple s iOS App Store announces_edited.txt'\u001b[0m,\n",
              "            \u001b[32m'title'\u001b[0m: \u001b[32m\"Apple's iOS App Store announces sweeping changes in the EU\"\u001b[0m,\n",
              "            \u001b[32m'author'\u001b[0m: \u001b[32m'Ashley Gold, author of Axios Pro'\u001b[0m,\n",
              "            \u001b[32m'url'\u001b[0m: \u001b[32m'https://www.axios.com/2024/01/25/apple-app-store-eu-changes'\u001b[0m,\n",
              "            \u001b[32m'type'\u001b[0m: \u001b[32m'summary'\u001b[0m\n",
              "        \u001b[1m}\u001b[0m\n",
              "    \u001b[1m)\u001b[0m,\n",
              "    \u001b[1;35mDocument\u001b[0m\u001b[1m(\u001b[0m\n",
              "        \u001b[33mpage_content\u001b[0m=\u001b[32m' to 10%.\\nNo commission will be charged to developers who want to distribute and \u001b[0m\n",
              "\u001b[32mfacilitate in-app payments outside of the App Store. Apple said that approximate 99% of developers will pay \u001b[0m\n",
              "\u001b[32mthe same or less in fees.\\n\\nGo deeper: The iOS changes will include notarization for iOS apps, authorization \u001b[0m\n",
              "\u001b[32mfor marketplace developers and disclosures on alternative payments. Apple says in the release that if apps opt\u001b[0m\n",
              "\u001b[32mout of Apple\\'s system, the company \"has less ability to address other risks\" like \"scam, fraud, abuse\" or \u001b[0m\n",
              "\u001b[32m\"objectionable or harmful\" content.\\n\\nUsers in the EU will also see a browser choice screen in iOS 17.4 to \u001b[0m\n",
              "\u001b[32mpick a default browser.\\n\\nThe other side: Epic Games CEO Tim'\u001b[0m,\n",
              "        \u001b[33mmetadata\u001b[0m=\u001b[1m{\u001b[0m\n",
              "            \u001b[32m'author'\u001b[0m: \u001b[32m'Ashley Gold, author of Axios Pro'\u001b[0m,\n",
              "            \u001b[32m'source'\u001b[0m: \u001b[32m'/content/2024-01-27 11.23.05 Apple s iOS App Store announces_edited.txt'\u001b[0m,\n",
              "            \u001b[32m'title'\u001b[0m: \u001b[32m\"Apple's iOS App Store announces sweeping changes in the EU\"\u001b[0m,\n",
              "            \u001b[32m'url'\u001b[0m: \u001b[32m'https://www.axios.com/2024/01/25/apple-app-store-eu-changes'\u001b[0m\n",
              "        \u001b[1m}\u001b[0m\n",
              "    \u001b[1m)\u001b[0m,\n",
              "    \u001b[1;35mDocument\u001b[0m\u001b[1m(\u001b[0m\n",
              "        \u001b[33mpage_content\u001b[0m=\u001b[32m' Apple is making these changes with the caveat that the company has done everything it \u001b[0m\n",
              "\u001b[32mcan to ensure iOS devices remain secure and malware-free, but it has no plans to expand these options outside \u001b[0m\n",
              "\u001b[32mof Europe, citing risk.\\n\\nThe company believes that after the DMA-imposed changes go through, people will \u001b[0m\n",
              "\u001b[32mstart to understand why Apple has maintained its strict policies for developers.\\n\"Across every change, Apple \u001b[0m\n",
              "\u001b[32mis introducing new safeguards that reduce — but don\\'t eliminate — new risks the DMA poses to EU users,\" the \u001b[0m\n",
              "\u001b[32mcompany said in a release.\\n\\nYes, but: Apple is also introducing new fee structures for developers who take \u001b[0m\n",
              "\u001b[32madvantage of the new freedoms.\\n\\nDetails: As part of iOS 17.4, Apple will charge a \"'\u001b[0m,\n",
              "        \u001b[33mmetadata\u001b[0m=\u001b[1m{\u001b[0m\n",
              "            \u001b[32m'author'\u001b[0m: \u001b[32m'Ashley Gold, author of Axios Pro'\u001b[0m,\n",
              "            \u001b[32m'source'\u001b[0m: \u001b[32m'/content/2024-01-27 11.23.05 Apple s iOS App Store announces_edited.txt'\u001b[0m,\n",
              "            \u001b[32m'title'\u001b[0m: \u001b[32m\"Apple's iOS App Store announces sweeping changes in the EU\"\u001b[0m,\n",
              "            \u001b[32m'url'\u001b[0m: \u001b[32m'https://www.axios.com/2024/01/25/apple-app-store-eu-changes'\u001b[0m\n",
              "        \u001b[1m}\u001b[0m\n",
              "    \u001b[1m)\u001b[0m\n",
              "\u001b[1m]\u001b[0m\n"
            ],
            "text/html": [
              "<pre style=\"white-space:pre;overflow-x:auto;line-height:normal;font-family:Menlo,'DejaVu Sans Mono',consolas,'Courier New',monospace\"><span style=\"font-weight: bold\">[</span>\n",
              "    <span style=\"color: #800080; text-decoration-color: #800080; font-weight: bold\">Document</span><span style=\"font-weight: bold\">(</span>\n",
              "        <span style=\"color: #808000; text-decoration-color: #808000\">page_content</span>=<span style=\"color: #008000; text-decoration-color: #008000\">\"Apple's iOS App Store announces sweeping changes in the </span>\n",
              "<span style=\"color: #008000; text-decoration-color: #008000\">EU\\nhttps://www.axios.com/2024/01/25/apple-app-store-eu-changes\\nAuthor: Ashley Gold, author of\\xa0Axios </span>\n",
              "<span style=\"color: #008000; text-decoration-color: #008000\">Pro\\n\\n\\nApple will allow alternative app stores and other new options for app developers in order to comply </span>\n",
              "<span style=\"color: #008000; text-decoration-color: #008000\">with Europe's Digital Markets Act, the company said Thursday.\\n\\nDriving the news: Europe's major tech </span>\n",
              "<span style=\"color: #008000; text-decoration-color: #008000\">competition law, set to go into effect March 7, requires Apple to loosen its strict rules requiring developers</span>\n",
              "<span style=\"color: #008000; text-decoration-color: #008000\">to rely on the App Store for distribution and payment processing.\\n\\nApple has long resisted any changes to </span>\n",
              "<span style=\"color: #008000; text-decoration-color: #008000\">its App Store rules, citing security and privacy. The company also argues its services for developers\"</span>,\n",
              "        <span style=\"color: #808000; text-decoration-color: #808000\">metadata</span>=<span style=\"font-weight: bold\">{</span>\n",
              "            <span style=\"color: #008000; text-decoration-color: #008000\">'author'</span>: <span style=\"color: #008000; text-decoration-color: #008000\">'Ashley Gold, author of Axios Pro'</span>,\n",
              "            <span style=\"color: #008000; text-decoration-color: #008000\">'source'</span>: <span style=\"color: #008000; text-decoration-color: #008000\">'/content/2024-01-27 11.23.05 Apple s iOS App Store announces_edited.txt'</span>,\n",
              "            <span style=\"color: #008000; text-decoration-color: #008000\">'title'</span>: <span style=\"color: #008000; text-decoration-color: #008000\">\"Apple's iOS App Store announces sweeping changes in the EU\"</span>,\n",
              "            <span style=\"color: #008000; text-decoration-color: #008000\">'url'</span>: <span style=\"color: #008000; text-decoration-color: #008000\">'https://www.axios.com/2024/01/25/apple-app-store-eu-changes'</span>\n",
              "        <span style=\"font-weight: bold\">}</span>\n",
              "    <span style=\"font-weight: bold\">)</span>,\n",
              "    <span style=\"color: #800080; text-decoration-color: #800080; font-weight: bold\">Document</span><span style=\"font-weight: bold\">(</span>\n",
              "        <span style=\"color: #808000; text-decoration-color: #808000\">page_content</span>=<span style=\"color: #008000; text-decoration-color: #008000\">\"Apple has announced changes to its iOS App Store in order to comply with Europe's </span>\n",
              "<span style=\"color: #008000; text-decoration-color: #008000\">Digital Markets Act, which requires developers to rely on the app store for distribution and payment </span>\n",
              "<span style=\"color: #008000; text-decoration-color: #008000\">processing. The company has maintained strict policies regarding security and privacy but will now introduce </span>\n",
              "<span style=\"color: #008000; text-decoration-color: #008000\">new safeguards that reduce risks, including a fee structure of €.50 per first annual install. Spotify is </span>\n",
              "<span style=\"color: #008000; text-decoration-color: #008000\">expected to launch an update to its app after March 7, while others are still waiting to see what it will look</span>\n",
              "<span style=\"color: #008000; text-decoration-color: #008000\">like in Europe.\\nApple has announced changes to its iOS operating system that will increase the cost of app </span>\n",
              "<span style=\"color: #008000; text-decoration-color: #008000\">development for developers who have more than 1 million downloads. The core technology fee of €.50 per year </span>\n",
              "<span style=\"color: #008000; text-decoration-color: #008000\">will be applied to apps that switch to their own marketplaces or remain on the App Store, while the App Store </span>\n",
              "<span style=\"color: #008000; text-decoration-color: #008000\">commission will drop from 30% to 17%. Developers who continue to use the system will also receive a discounted</span>\n",
              "<span style=\"color: #008000; text-decoration-color: #008000\">rate of 15% to 10%. Additionally, users in Europe will see a browser choice screen where they can choose a </span>\n",
              "<span style=\"color: #008000; text-decoration-color: #008000\">default browser. However, Epic Games CEO Tim Sweeney has strongly rejected Apple's\\n\"</span>,\n",
              "        <span style=\"color: #808000; text-decoration-color: #808000\">metadata</span>=<span style=\"font-weight: bold\">{</span>\n",
              "            <span style=\"color: #008000; text-decoration-color: #008000\">'source'</span>: <span style=\"color: #008000; text-decoration-color: #008000\">'/content/2024-01-27 11.23.05 Apple s iOS App Store announces_edited.txt'</span>,\n",
              "            <span style=\"color: #008000; text-decoration-color: #008000\">'title'</span>: <span style=\"color: #008000; text-decoration-color: #008000\">\"Apple's iOS App Store announces sweeping changes in the EU\"</span>,\n",
              "            <span style=\"color: #008000; text-decoration-color: #008000\">'author'</span>: <span style=\"color: #008000; text-decoration-color: #008000\">'Ashley Gold, author of Axios Pro'</span>,\n",
              "            <span style=\"color: #008000; text-decoration-color: #008000\">'url'</span>: <span style=\"color: #008000; text-decoration-color: #008000\">'https://www.axios.com/2024/01/25/apple-app-store-eu-changes'</span>,\n",
              "            <span style=\"color: #008000; text-decoration-color: #008000\">'type'</span>: <span style=\"color: #008000; text-decoration-color: #008000\">'summary'</span>\n",
              "        <span style=\"font-weight: bold\">}</span>\n",
              "    <span style=\"font-weight: bold\">)</span>,\n",
              "    <span style=\"color: #800080; text-decoration-color: #800080; font-weight: bold\">Document</span><span style=\"font-weight: bold\">(</span>\n",
              "        <span style=\"color: #808000; text-decoration-color: #808000\">page_content</span>=<span style=\"color: #008000; text-decoration-color: #008000\">' to 10%.\\nNo commission will be charged to developers who want to distribute and </span>\n",
              "<span style=\"color: #008000; text-decoration-color: #008000\">facilitate in-app payments outside of the App Store. Apple said that approximate 99% of developers will pay </span>\n",
              "<span style=\"color: #008000; text-decoration-color: #008000\">the same or less in fees.\\n\\nGo deeper: The iOS changes will include notarization for iOS apps, authorization </span>\n",
              "<span style=\"color: #008000; text-decoration-color: #008000\">for marketplace developers and disclosures on alternative payments. Apple says in the release that if apps opt</span>\n",
              "<span style=\"color: #008000; text-decoration-color: #008000\">out of Apple\\'s system, the company \"has less ability to address other risks\" like \"scam, fraud, abuse\" or </span>\n",
              "<span style=\"color: #008000; text-decoration-color: #008000\">\"objectionable or harmful\" content.\\n\\nUsers in the EU will also see a browser choice screen in iOS 17.4 to </span>\n",
              "<span style=\"color: #008000; text-decoration-color: #008000\">pick a default browser.\\n\\nThe other side: Epic Games CEO Tim'</span>,\n",
              "        <span style=\"color: #808000; text-decoration-color: #808000\">metadata</span>=<span style=\"font-weight: bold\">{</span>\n",
              "            <span style=\"color: #008000; text-decoration-color: #008000\">'author'</span>: <span style=\"color: #008000; text-decoration-color: #008000\">'Ashley Gold, author of Axios Pro'</span>,\n",
              "            <span style=\"color: #008000; text-decoration-color: #008000\">'source'</span>: <span style=\"color: #008000; text-decoration-color: #008000\">'/content/2024-01-27 11.23.05 Apple s iOS App Store announces_edited.txt'</span>,\n",
              "            <span style=\"color: #008000; text-decoration-color: #008000\">'title'</span>: <span style=\"color: #008000; text-decoration-color: #008000\">\"Apple's iOS App Store announces sweeping changes in the EU\"</span>,\n",
              "            <span style=\"color: #008000; text-decoration-color: #008000\">'url'</span>: <span style=\"color: #008000; text-decoration-color: #008000\">'https://www.axios.com/2024/01/25/apple-app-store-eu-changes'</span>\n",
              "        <span style=\"font-weight: bold\">}</span>\n",
              "    <span style=\"font-weight: bold\">)</span>,\n",
              "    <span style=\"color: #800080; text-decoration-color: #800080; font-weight: bold\">Document</span><span style=\"font-weight: bold\">(</span>\n",
              "        <span style=\"color: #808000; text-decoration-color: #808000\">page_content</span>=<span style=\"color: #008000; text-decoration-color: #008000\">' Apple is making these changes with the caveat that the company has done everything it </span>\n",
              "<span style=\"color: #008000; text-decoration-color: #008000\">can to ensure iOS devices remain secure and malware-free, but it has no plans to expand these options outside </span>\n",
              "<span style=\"color: #008000; text-decoration-color: #008000\">of Europe, citing risk.\\n\\nThe company believes that after the DMA-imposed changes go through, people will </span>\n",
              "<span style=\"color: #008000; text-decoration-color: #008000\">start to understand why Apple has maintained its strict policies for developers.\\n\"Across every change, Apple </span>\n",
              "<span style=\"color: #008000; text-decoration-color: #008000\">is introducing new safeguards that reduce — but don\\'t eliminate — new risks the DMA poses to EU users,\" the </span>\n",
              "<span style=\"color: #008000; text-decoration-color: #008000\">company said in a release.\\n\\nYes, but: Apple is also introducing new fee structures for developers who take </span>\n",
              "<span style=\"color: #008000; text-decoration-color: #008000\">advantage of the new freedoms.\\n\\nDetails: As part of iOS 17.4, Apple will charge a \"'</span>,\n",
              "        <span style=\"color: #808000; text-decoration-color: #808000\">metadata</span>=<span style=\"font-weight: bold\">{</span>\n",
              "            <span style=\"color: #008000; text-decoration-color: #008000\">'author'</span>: <span style=\"color: #008000; text-decoration-color: #008000\">'Ashley Gold, author of Axios Pro'</span>,\n",
              "            <span style=\"color: #008000; text-decoration-color: #008000\">'source'</span>: <span style=\"color: #008000; text-decoration-color: #008000\">'/content/2024-01-27 11.23.05 Apple s iOS App Store announces_edited.txt'</span>,\n",
              "            <span style=\"color: #008000; text-decoration-color: #008000\">'title'</span>: <span style=\"color: #008000; text-decoration-color: #008000\">\"Apple's iOS App Store announces sweeping changes in the EU\"</span>,\n",
              "            <span style=\"color: #008000; text-decoration-color: #008000\">'url'</span>: <span style=\"color: #008000; text-decoration-color: #008000\">'https://www.axios.com/2024/01/25/apple-app-store-eu-changes'</span>\n",
              "        <span style=\"font-weight: bold\">}</span>\n",
              "    <span style=\"font-weight: bold\">)</span>\n",
              "<span style=\"font-weight: bold\">]</span>\n",
              "</pre>\n"
            ]
          },
          "metadata": {}
        }
      ]
    },
    {
      "cell_type": "markdown",
      "source": [
        "### Old tests"
      ],
      "metadata": {
        "id": "IzjRv-A4HYhy"
      }
    },
    {
      "cell_type": "code",
      "source": [
        "## Load  MBZUAI/LaMini-Flan-T5-77M for summarization\n",
        "with console.status(\"Loading ✅ LaMini77M...\",spinner=\"dots12\"):\n",
        "    model77 = pipeline('text2text-generation',model=\"MBZUAI/LaMini-Flan-T5-77M\")\n",
        "console.print('Loaded  MBZUAI/LaMini-Flan-T5-77M for summarization')"
      ],
      "metadata": {
        "colab": {
          "base_uri": "https://localhost:8080/",
          "height": 225,
          "referenced_widgets": [
            "24a93213429d4163a78d24318ed95326",
            "c711dfd2e5e2490c806f1d88c26b398e",
            "d41a5acc593140918b1eb9c82861450c",
            "fb3c582ecfd04b42b4f3ebd597c62f16",
            "20a34e1a459e4ea58d7b2163b8c91e23",
            "804e78d349ea4ce98a39d9469866a265",
            "ded8c07500d24b13807eef87b33189c9",
            "0c0c370eb9e743f68ab009d89432b16c",
            "633a0f03b9284a3ca20a5f5961d96456",
            "3b02e3a1a65c42d6a81fe8cdec3eaf4c",
            "99664a3c7d44443b8409432ea27a0afe",
            "c15d43ce2d73407e9c283d8499dd927b",
            "f2c8f64a6ae543f2a4125ae80da1ff17",
            "ab6cd275415b4d38809fc4e3b45acbf2",
            "e7756c0a2553450c99565c0035267a61",
            "6247f5582bac4221a8202b245c81f118",
            "3ba71eff34e943fdae1c254945a0d0f1",
            "46b2f9dc36294e0b8a649ab208abde9e",
            "1ff7661bbe124796b8f257059ed72155",
            "50bc5431ec0647909ca2b7dbe3157a37",
            "97cdb9e88f9949289905d7bd50d94523",
            "9284933dddd84c5f8be76fe51d1ea960",
            "532385d02f8948379e190862d7185989",
            "5c27b6bb5f3e4feeb27fbea3ed2e7514",
            "7f0b6ea0ed3a47449a45796fbd3d0b92",
            "0144c27371f84e318adf50b55653efe7",
            "5d76242f955d4ecfbbfbeecd5511d27e",
            "34c49e1c3dba4ea1a326c59bd6ea7287",
            "2dc0a42739ea4ee7a3fce0982463b184",
            "0cb8f1902d734c468b4046d5138407cc",
            "6df9c2f3a7304e369c873c933ee6ee5e",
            "b9d88d5b03234a918baf7abcd4d57dd8",
            "c720968cf2234bc69d0845d85d319dc8",
            "ef50ad16c51d496389aed8581d228285",
            "99a2839551014a10ac5b72da0c9db629",
            "3ff953586c554fa8bcd4efb80a4f330b",
            "3bdd9f67dd5a433e9f4d9fa3ae38b69e",
            "07fa344392884730bd49d351281a9c7d",
            "15871545710c40edb6c58a6351eb2f4a",
            "9c3549cd6303403aa61c822edd819e58",
            "bae607572ebc460685fb67b24dd32e15",
            "304deb9914044d4ab2683568d522a73c",
            "3a9da600027942f6a5c7f4386c57a322",
            "1ae0f8461e7942979fb1cedfc4e817f9",
            "20eb58a1503f42bbaad0490676d96a69",
            "5bb0e290860d40b492aa697f77af59e0",
            "e14fe2ef92214105b4962ae71c5f7a68",
            "333bc84d200a4de1ae4f0b38de4a58f0",
            "a340e2fbd81340359953d6632bf48867",
            "73155e9120774011b829247c74df72a9",
            "13d9ce58bb5c444e86efca524c045e90",
            "e10d9ddb50854b3797902ac3770e46b4",
            "f3c9ec6605d24ef189a2d3903cf0cf0d",
            "a8539c9e2b804c10a4d717305d4e8595",
            "956ee1fbc5d94e9a856be00d96dd50ce",
            "14fb0d6a44fd49bdb43e74f1594a989f",
            "752df93fcefa48bd84c61c04add0d14c",
            "f46c3963b8504101bd53bb7a692214cb",
            "55724166c9ac4cf9a1e57ebf33a88f7f",
            "7df3769616ae4fd0b16d03fe52f1df1b",
            "ee55623f949c4a088f295c4d4980b3de",
            "4f1492626525496a8d950231c2cb9b6a",
            "31246ce0c93340fe8d8239eb0df6ec5e",
            "d63f62dd0d544dba89d88deab108ae63",
            "66af888c61ba43048bccc971ff40431b",
            "9b6831cbd0274328b3f84df64d383b6c",
            "73be9564963b45c1a1848ffc4bb95b4a",
            "bcbd0729a5ca4c438909dc691f9e7b09"
          ]
        },
        "id": "TeMuZl65HY_s",
        "outputId": "d3b3df8e-0cf5-4332-df96-8b3f4ef5c57f"
      },
      "execution_count": null,
      "outputs": [
        {
          "output_type": "display_data",
          "data": {
            "text/plain": [
              "Output()"
            ],
            "application/vnd.jupyter.widget-view+json": {
              "version_major": 2,
              "version_minor": 0,
              "model_id": "24a93213429d4163a78d24318ed95326"
            }
          },
          "metadata": {}
        },
        {
          "output_type": "display_data",
          "data": {
            "text/plain": [
              "config.json:   0%|          | 0.00/1.53k [00:00<?, ?B/s]"
            ],
            "application/vnd.jupyter.widget-view+json": {
              "version_major": 2,
              "version_minor": 0,
              "model_id": "d41a5acc593140918b1eb9c82861450c"
            }
          },
          "metadata": {}
        },
        {
          "output_type": "display_data",
          "data": {
            "text/plain": [
              "pytorch_model.bin:   0%|          | 0.00/308M [00:00<?, ?B/s]"
            ],
            "application/vnd.jupyter.widget-view+json": {
              "version_major": 2,
              "version_minor": 0,
              "model_id": "ab6cd275415b4d38809fc4e3b45acbf2"
            }
          },
          "metadata": {}
        },
        {
          "output_type": "display_data",
          "data": {
            "text/plain": [
              "generation_config.json:   0%|          | 0.00/142 [00:00<?, ?B/s]"
            ],
            "application/vnd.jupyter.widget-view+json": {
              "version_major": 2,
              "version_minor": 0,
              "model_id": "7f0b6ea0ed3a47449a45796fbd3d0b92"
            }
          },
          "metadata": {}
        },
        {
          "output_type": "display_data",
          "data": {
            "text/plain": [
              "tokenizer_config.json:   0%|          | 0.00/2.50k [00:00<?, ?B/s]"
            ],
            "application/vnd.jupyter.widget-view+json": {
              "version_major": 2,
              "version_minor": 0,
              "model_id": "3ff953586c554fa8bcd4efb80a4f330b"
            }
          },
          "metadata": {}
        },
        {
          "output_type": "display_data",
          "data": {
            "text/plain": [
              "tokenizer.json:   0%|          | 0.00/2.42M [00:00<?, ?B/s]"
            ],
            "application/vnd.jupyter.widget-view+json": {
              "version_major": 2,
              "version_minor": 0,
              "model_id": "e14fe2ef92214105b4962ae71c5f7a68"
            }
          },
          "metadata": {}
        },
        {
          "output_type": "display_data",
          "data": {
            "text/plain": [
              "special_tokens_map.json:   0%|          | 0.00/2.20k [00:00<?, ?B/s]"
            ],
            "application/vnd.jupyter.widget-view+json": {
              "version_major": 2,
              "version_minor": 0,
              "model_id": "f46c3963b8504101bd53bb7a692214cb"
            }
          },
          "metadata": {}
        },
        {
          "output_type": "display_data",
          "data": {
            "text/plain": [],
            "text/html": [
              "<pre style=\"white-space:pre;overflow-x:auto;line-height:normal;font-family:Menlo,'DejaVu Sans Mono',consolas,'Courier New',monospace\"></pre>\n"
            ]
          },
          "metadata": {}
        },
        {
          "output_type": "display_data",
          "data": {
            "text/plain": [
              "Loaded  MBZUAI/LaMini-Flan-T5-77M for summarization\n"
            ],
            "text/html": [
              "<pre style=\"white-space:pre;overflow-x:auto;line-height:normal;font-family:Menlo,'DejaVu Sans Mono',consolas,'Courier New',monospace\">Loaded  MBZUAI/LaMini-Flan-T5-77M for summarization\n",
              "</pre>\n"
            ]
          },
          "metadata": {}
        }
      ]
    },
    {
      "cell_type": "code",
      "source": [
        "console.print(f\"[bold blue]Generating replies with chatT5...\")\n",
        "console.print('[bold]----------------------------')\n",
        "i = 0\n",
        "for items in splitted_text:\n",
        "  context = items + summary\n",
        "  question = quest2[i]\n",
        "  template_qna = f'''Read this and answer the question. Your answer must be informative. If the question is unanswerable, \"\"say \\\"unanswerable\\\".\\n\\n{context}\\n\\n{question}'''\n",
        "  res = model77(template_qna, temperature=0.3, repetition_penalty=1.3, max_length=250, do_sample=True)[0]['generated_text']\n",
        "  console.print(f\"[bold blue]{question}\")\n",
        "  console.print(res)\n",
        "  console.print('---')\n",
        "  i += 1\n",
        "  question = quest2[i]\n",
        "  template_qna = f'''Read this and answer the question. Your answer must be informative. If the question is unanswerable, \"\"say \\\"unanswerable\\\".\\n\\n{context}\\n\\n{question}'''\n",
        "  res = model77(template_qna, temperature=0.3, repetition_penalty=1.3, max_length=250, do_sample=True)[0]['generated_text']\n",
        "  console.print(f\"[bold blue]{question}\")\n",
        "  console.print(res)\n",
        "  console.print('---')\n",
        "  i += 1"
      ],
      "metadata": {
        "colab": {
          "base_uri": "https://localhost:8080/",
          "height": 422
        },
        "id": "L0jRfGu7HZcZ",
        "outputId": "2fe9bcfa-bd42-4b26-ed0f-04e85818d247"
      },
      "execution_count": null,
      "outputs": [
        {
          "output_type": "display_data",
          "data": {
            "text/plain": [
              "\u001b[1;34mGenerating replies with chatT5\u001b[0m\u001b[1;34m...\u001b[0m\n"
            ],
            "text/html": [
              "<pre style=\"white-space:pre;overflow-x:auto;line-height:normal;font-family:Menlo,'DejaVu Sans Mono',consolas,'Courier New',monospace\"><span style=\"color: #000080; text-decoration-color: #000080; font-weight: bold\">Generating replies with chatT5...</span>\n",
              "</pre>\n"
            ]
          },
          "metadata": {}
        },
        {
          "output_type": "display_data",
          "data": {
            "text/plain": [
              "\u001b[1m----------------------------\u001b[0m\n"
            ],
            "text/html": [
              "<pre style=\"white-space:pre;overflow-x:auto;line-height:normal;font-family:Menlo,'DejaVu Sans Mono',consolas,'Courier New',monospace\"><span style=\"font-weight: bold\">----------------------------</span>\n",
              "</pre>\n"
            ]
          },
          "metadata": {}
        },
        {
          "output_type": "stream",
          "name": "stderr",
          "text": [
            "Token indices sequence length is longer than the specified maximum sequence length for this model (525 > 512). Running this sequence through the model will result in indexing errors\n"
          ]
        },
        {
          "output_type": "display_data",
          "data": {
            "text/plain": [
              "\u001b[1;34mWhat are the implications of Apple's sweeping changes to its iOS App Store in Europe?\u001b[0m\n"
            ],
            "text/html": [
              "<pre style=\"white-space:pre;overflow-x:auto;line-height:normal;font-family:Menlo,'DejaVu Sans Mono',consolas,'Courier New',monospace\"><span style=\"color: #000080; text-decoration-color: #000080; font-weight: bold\">What are the implications of Apple's sweeping changes to its iOS App Store in Europe?</span>\n",
              "</pre>\n"
            ]
          },
          "metadata": {}
        },
        {
          "output_type": "display_data",
          "data": {
            "text/plain": [
              "Apple's sweeping changes to its iOS App Store in Europe have significant implications for smaller companies, \n",
              "as Spotify recently previewed what it will look like after March \u001b[1;36m7\u001b[0m.\n"
            ],
            "text/html": [
              "<pre style=\"white-space:pre;overflow-x:auto;line-height:normal;font-family:Menlo,'DejaVu Sans Mono',consolas,'Courier New',monospace\">Apple's sweeping changes to its iOS App Store in Europe have significant implications for smaller companies, \n",
              "as Spotify recently previewed what it will look like after March <span style=\"color: #008080; text-decoration-color: #008080; font-weight: bold\">7</span>.\n",
              "</pre>\n"
            ]
          },
          "metadata": {}
        },
        {
          "output_type": "display_data",
          "data": {
            "text/plain": [
              "---\n"
            ],
            "text/html": [
              "<pre style=\"white-space:pre;overflow-x:auto;line-height:normal;font-family:Menlo,'DejaVu Sans Mono',consolas,'Courier New',monospace\">---\n",
              "</pre>\n"
            ]
          },
          "metadata": {}
        },
        {
          "output_type": "display_data",
          "data": {
            "text/plain": [
              "\u001b[1;34mHow will these changes impact app developers and users?\u001b[0m\n"
            ],
            "text/html": [
              "<pre style=\"white-space:pre;overflow-x:auto;line-height:normal;font-family:Menlo,'DejaVu Sans Mono',consolas,'Courier New',monospace\"><span style=\"color: #000080; text-decoration-color: #000080; font-weight: bold\">How will these changes impact app developers and users?</span>\n",
              "</pre>\n"
            ]
          },
          "metadata": {}
        },
        {
          "output_type": "display_data",
          "data": {
            "text/plain": [
              "The changes to Apple's iOS App Store will have a significant impact on app developers and users.\n"
            ],
            "text/html": [
              "<pre style=\"white-space:pre;overflow-x:auto;line-height:normal;font-family:Menlo,'DejaVu Sans Mono',consolas,'Courier New',monospace\">The changes to Apple's iOS App Store will have a significant impact on app developers and users.\n",
              "</pre>\n"
            ]
          },
          "metadata": {}
        },
        {
          "output_type": "display_data",
          "data": {
            "text/plain": [
              "---\n"
            ],
            "text/html": [
              "<pre style=\"white-space:pre;overflow-x:auto;line-height:normal;font-family:Menlo,'DejaVu Sans Mono',consolas,'Courier New',monospace\">---\n",
              "</pre>\n"
            ]
          },
          "metadata": {}
        },
        {
          "output_type": "display_data",
          "data": {
            "text/plain": [
              "\u001b[1;34mWhat are the new safeguards that Apple is introducing?\u001b[0m\n"
            ],
            "text/html": [
              "<pre style=\"white-space:pre;overflow-x:auto;line-height:normal;font-family:Menlo,'DejaVu Sans Mono',consolas,'Courier New',monospace\"><span style=\"color: #000080; text-decoration-color: #000080; font-weight: bold\">What are the new safeguards that Apple is introducing?</span>\n",
              "</pre>\n"
            ]
          },
          "metadata": {}
        },
        {
          "output_type": "display_data",
          "data": {
            "text/plain": [
              "Apple is introducing new safeguards that reduce the risks of DMA to EU users.\n"
            ],
            "text/html": [
              "<pre style=\"white-space:pre;overflow-x:auto;line-height:normal;font-family:Menlo,'DejaVu Sans Mono',consolas,'Courier New',monospace\">Apple is introducing new safeguards that reduce the risks of DMA to EU users.\n",
              "</pre>\n"
            ]
          },
          "metadata": {}
        },
        {
          "output_type": "display_data",
          "data": {
            "text/plain": [
              "---\n"
            ],
            "text/html": [
              "<pre style=\"white-space:pre;overflow-x:auto;line-height:normal;font-family:Menlo,'DejaVu Sans Mono',consolas,'Courier New',monospace\">---\n",
              "</pre>\n"
            ]
          },
          "metadata": {}
        },
        {
          "output_type": "display_data",
          "data": {
            "text/plain": [
              "\u001b[1;34mHow will these safeguards help to reduce risks for users outside of Europe?\u001b[0m\n"
            ],
            "text/html": [
              "<pre style=\"white-space:pre;overflow-x:auto;line-height:normal;font-family:Menlo,'DejaVu Sans Mono',consolas,'Courier New',monospace\"><span style=\"color: #000080; text-decoration-color: #000080; font-weight: bold\">How will these safeguards help to reduce risks for users outside of Europe?</span>\n",
              "</pre>\n"
            ]
          },
          "metadata": {}
        },
        {
          "output_type": "display_data",
          "data": {
            "text/plain": [
              "These safeguards will help to reduce risks for users outside of Europe by reducing the fees for in-app \n",
              "payments outside of the App Store.\n"
            ],
            "text/html": [
              "<pre style=\"white-space:pre;overflow-x:auto;line-height:normal;font-family:Menlo,'DejaVu Sans Mono',consolas,'Courier New',monospace\">These safeguards will help to reduce risks for users outside of Europe by reducing the fees for in-app \n",
              "payments outside of the App Store.\n",
              "</pre>\n"
            ]
          },
          "metadata": {}
        },
        {
          "output_type": "display_data",
          "data": {
            "text/plain": [
              "---\n"
            ],
            "text/html": [
              "<pre style=\"white-space:pre;overflow-x:auto;line-height:normal;font-family:Menlo,'DejaVu Sans Mono',consolas,'Courier New',monospace\">---\n",
              "</pre>\n"
            ]
          },
          "metadata": {}
        },
        {
          "output_type": "display_data",
          "data": {
            "text/plain": [
              "\u001b[1;34mWhat changes will be implemented in iOS \u001b[0m\u001b[1;34m17.4\u001b[0m\u001b[1;34m?\u001b[0m\n"
            ],
            "text/html": [
              "<pre style=\"white-space:pre;overflow-x:auto;line-height:normal;font-family:Menlo,'DejaVu Sans Mono',consolas,'Courier New',monospace\"><span style=\"color: #000080; text-decoration-color: #000080; font-weight: bold\">What changes will be implemented in iOS </span><span style=\"color: #000080; text-decoration-color: #000080; font-weight: bold\">17.4</span><span style=\"color: #000080; text-decoration-color: #000080; font-weight: bold\">?</span>\n",
              "</pre>\n"
            ]
          },
          "metadata": {}
        },
        {
          "output_type": "display_data",
          "data": {
            "text/plain": [
              "Users in the EU will see a browser choice screen in iOS \u001b[1;36m17.4\u001b[0m to pick a default browser.\n"
            ],
            "text/html": [
              "<pre style=\"white-space:pre;overflow-x:auto;line-height:normal;font-family:Menlo,'DejaVu Sans Mono',consolas,'Courier New',monospace\">Users in the EU will see a browser choice screen in iOS <span style=\"color: #008080; text-decoration-color: #008080; font-weight: bold\">17.4</span> to pick a default browser.\n",
              "</pre>\n"
            ]
          },
          "metadata": {}
        },
        {
          "output_type": "display_data",
          "data": {
            "text/plain": [
              "---\n"
            ],
            "text/html": [
              "<pre style=\"white-space:pre;overflow-x:auto;line-height:normal;font-family:Menlo,'DejaVu Sans Mono',consolas,'Courier New',monospace\">---\n",
              "</pre>\n"
            ]
          },
          "metadata": {}
        },
        {
          "output_type": "display_data",
          "data": {
            "text/plain": [
              "\u001b[1;34mHow much will developers pay for notarization for iOS apps?\u001b[0m\n"
            ],
            "text/html": [
              "<pre style=\"white-space:pre;overflow-x:auto;line-height:normal;font-family:Menlo,'DejaVu Sans Mono',consolas,'Courier New',monospace\"><span style=\"color: #000080; text-decoration-color: #000080; font-weight: bold\">How much will developers pay for notarization for iOS apps?</span>\n",
              "</pre>\n"
            ]
          },
          "metadata": {}
        },
        {
          "output_type": "display_data",
          "data": {
            "text/plain": [
              "Developers will pay €.\u001b[1;36m50\u001b[0m per \u001b[32m\"each first annual install per year\"\u001b[0m for apps with more than \u001b[1;36m1\u001b[0m million downloads \n",
              "and will drop the App Store commission from \u001b[1;36m30\u001b[0m% to \u001b[1;36m17\u001b[0m%.\n"
            ],
            "text/html": [
              "<pre style=\"white-space:pre;overflow-x:auto;line-height:normal;font-family:Menlo,'DejaVu Sans Mono',consolas,'Courier New',monospace\">Developers will pay €.<span style=\"color: #008080; text-decoration-color: #008080; font-weight: bold\">50</span> per <span style=\"color: #008000; text-decoration-color: #008000\">\"each first annual install per year\"</span> for apps with more than <span style=\"color: #008080; text-decoration-color: #008080; font-weight: bold\">1</span> million downloads \n",
              "and will drop the App Store commission from <span style=\"color: #008080; text-decoration-color: #008080; font-weight: bold\">30</span>% to <span style=\"color: #008080; text-decoration-color: #008080; font-weight: bold\">17</span>%.\n",
              "</pre>\n"
            ]
          },
          "metadata": {}
        },
        {
          "output_type": "display_data",
          "data": {
            "text/plain": [
              "---\n"
            ],
            "text/html": [
              "<pre style=\"white-space:pre;overflow-x:auto;line-height:normal;font-family:Menlo,'DejaVu Sans Mono',consolas,'Courier New',monospace\">---\n",
              "</pre>\n"
            ]
          },
          "metadata": {}
        }
      ]
    },
    {
      "cell_type": "code",
      "source": [
        "context = splitted_text[-1] + summary\n",
        "question = quest2[-1] #\"What is Artificial Intelligence?\"\n",
        "template_qna = f'''Read this and answer the question. Your answer must be informative. If the question is unanswerable, \"\"say \\\"unanswerable\\\".\\n\\n{context}\\n\\n{question}'''\n",
        "res = chatT5(template_qna, temperature=0.3, repetition_penalty=1.3, max_length=250, do_sample=True)[0]['generated_text']\n",
        "console.print(f\"[bold blue]{question}\")\n",
        "console.print(res)\n",
        "console.print('---')"
      ],
      "metadata": {
        "colab": {
          "base_uri": "https://localhost:8080/",
          "height": 81
        },
        "id": "YWJC26rdJFVD",
        "outputId": "46ecc15a-2383-4f61-a4bb-5c6389c1310a"
      },
      "execution_count": null,
      "outputs": [
        {
          "output_type": "display_data",
          "data": {
            "text/plain": [
              "\u001b[1;34mHow much will developers pay for notarization for iOS apps?\u001b[0m\n"
            ],
            "text/html": [
              "<pre style=\"white-space:pre;overflow-x:auto;line-height:normal;font-family:Menlo,'DejaVu Sans Mono',consolas,'Courier New',monospace\"><span style=\"color: #000080; text-decoration-color: #000080; font-weight: bold\">How much will developers pay for notarization for iOS apps?</span>\n",
              "</pre>\n"
            ]
          },
          "metadata": {}
        },
        {
          "output_type": "display_data",
          "data": {
            "text/plain": [
              "The iOS changes will include notarization for iOS apps, authorization for marketplace developers and \n",
              "disclosures on alternative payments.\n"
            ],
            "text/html": [
              "<pre style=\"white-space:pre;overflow-x:auto;line-height:normal;font-family:Menlo,'DejaVu Sans Mono',consolas,'Courier New',monospace\">The iOS changes will include notarization for iOS apps, authorization for marketplace developers and \n",
              "disclosures on alternative payments.\n",
              "</pre>\n"
            ]
          },
          "metadata": {}
        },
        {
          "output_type": "display_data",
          "data": {
            "text/plain": [
              "---\n"
            ],
            "text/html": [
              "<pre style=\"white-space:pre;overflow-x:auto;line-height:normal;font-family:Menlo,'DejaVu Sans Mono',consolas,'Courier New',monospace\">---\n",
              "</pre>\n"
            ]
          },
          "metadata": {}
        }
      ]
    },
    {
      "cell_type": "markdown",
      "source": [
        "I cannot find anything about notarization. the replies of the 2 models are completely different..."
      ],
      "metadata": {
        "id": "u1BhYwfIK3r9"
      }
    },
    {
      "cell_type": "code",
      "source": [
        "# key = \"notarization for iOS apps\"\n",
        "# mytest = \"The iOS changes will include notarization for iOS apps, authorization for marketplace developers and disclosures on alternative payments.\"\n",
        "def evidenzia(key, fulltext):\n",
        "  from rich.text import Text\n",
        "  mytest = fulltext\n",
        "  text = Text(mytest)\n",
        "  l = len(key)\n",
        "  x = mytest.find(key)\n",
        "  text.stylize(\"black on bright_yellow\", x, (x+l))\n",
        "  console.print(text)\n",
        "  return text"
      ],
      "metadata": {
        "id": "Fc__o1rrK9Yp"
      },
      "execution_count": null,
      "outputs": []
    },
    {
      "cell_type": "code",
      "source": [
        "a = \"\"\"Apple's sweeping changes to its iOS App Store in Europe have significant implications for smaller companies,\n",
        "as Spotify recently previewed what it will look like after March 7.\"\"\"\n",
        "b = \"\"\"for smaller companies,\n",
        "as Spotify\"\"\"\n",
        "s =evidenzia(b,a)"
      ],
      "metadata": {
        "colab": {
          "base_uri": "https://localhost:8080/",
          "height": 49
        },
        "id": "Ba7v5st0NGAw",
        "outputId": "3a5ba5c4-b943-4ee0-9cbe-eaef544822de"
      },
      "execution_count": null,
      "outputs": [
        {
          "output_type": "display_data",
          "data": {
            "text/plain": [
              "Apple's sweeping changes to its iOS App Store in Europe have significant implications \u001b[30;103mfor smaller companies, \u001b[0m\n",
              "\u001b[30;103mas Spotify\u001b[0m recently previewed what it will look like after March 7.\n"
            ],
            "text/html": [
              "<pre style=\"white-space:pre;overflow-x:auto;line-height:normal;font-family:Menlo,'DejaVu Sans Mono',consolas,'Courier New',monospace\">Apple's sweeping changes to its iOS App Store in Europe have significant implications <span style=\"color: #000000; text-decoration-color: #000000; background-color: #ffff00\">for smaller companies, </span>\n",
              "<span style=\"color: #000000; text-decoration-color: #000000; background-color: #ffff00\">as Spotify</span> recently previewed what it will look like after March 7.\n",
              "</pre>\n"
            ]
          },
          "metadata": {}
        }
      ]
    },
    {
      "cell_type": "code",
      "source": [
        "#EVIDENZIO CHUNK FUNZIONA!!!!!\n",
        "s =evidenzia(splitted_text[1],editedtext)"
      ],
      "metadata": {
        "id": "vSPVF44oKL7V"
      },
      "execution_count": null,
      "outputs": []
    },
    {
      "cell_type": "code",
      "source": [
        "s =evidenzia(\"notarization\",editedtext)"
      ],
      "metadata": {
        "colab": {
          "base_uri": "https://localhost:8080/",
          "height": 977
        },
        "id": "Srerge_AOZ-j",
        "outputId": "1418c2c9-1205-419e-c3d9-0c8fbfd5af95"
      },
      "execution_count": null,
      "outputs": [
        {
          "output_type": "display_data",
          "data": {
            "text/plain": [
              "Apple's iOS App Store announces sweeping changes in the EU\n",
              "https://www.axios.com/2024/01/25/apple-app-store-eu-changes\n",
              "Author: Ashley Gold, author of Axios Pro\n",
              "\n",
              "\n",
              "Apple will allow alternative app stores and other new options for app developers in order to comply with \n",
              "Europe's Digital Markets Act, the company said Thursday.\n",
              "\n",
              "Driving the news: Europe's major tech competition law, set to go into effect March 7, requires Apple to loosen\n",
              "its strict rules requiring developers to rely on the App Store for distribution and payment processing.\n",
              "\n",
              "Apple has long resisted any changes to its App Store rules, citing security and privacy. The company also \n",
              "argues its services for developers are best-in-class and ensure smooth user experiences free of spam or \n",
              "harmful content.\n",
              "\n",
              "Why it matters: Apple is being forced to make sweeping changes to one of its flagship \"walled garden\" systems \n",
              "in what some smaller companies are seeing as a major win.\n",
              "\n",
              "Spotify previewed what its app will look like in Europe post-March 7 this week.\n",
              "Apple said it has been in touch with developers about the coming changes and that its compliance adheres to \n",
              "the letter of the law.\n",
              "\n",
              "What they're saying: Apple is making these changes with the caveat that the company has done everything it can\n",
              "to ensure iOS devices remain secure and malware-free, but it has no plans to expand these options outside of \n",
              "Europe, citing risk.\n",
              "\n",
              "The company believes that after the DMA-imposed changes go through, people will start to understand why Apple \n",
              "has maintained its strict policies for developers.\n",
              "\"Across every change, Apple is introducing new safeguards that reduce — but don't eliminate — new risks the \n",
              "DMA poses to EU users,\" the company said in a release.\n",
              "\n",
              "Yes, but: Apple is also introducing new fee structures for developers who take advantage of the new freedoms.\n",
              "\n",
              "Details: As part of iOS 17.4, Apple will charge a \"core technology fee\" of €.50 for \"each first annual install\n",
              "per year\" for developers whose apps have achieved more than 1 million downloads, to be counted once per Apple \n",
              "account.\n",
              "\n",
              "That fee will apply to apps that switch to their own marketplaces or remain on the App Store. Apple says the \n",
              "fee \"reflects the many ways Apple creates value for developers' businesses.\"\n",
              "The App Store commission, for developers who continue to use it, will drop from 30% to 17%. The discounted \n",
              "rate for certain developers will drop from 15% to 10%.\n",
              "No commission will be charged to developers who want to distribute and facilitate in-app payments outside of \n",
              "the App Store. Apple said that approximate 99% of developers will pay the same or less in fees.\n",
              "\n",
              "Go deeper: The iOS changes will include \u001b[30;103mnotarization\u001b[0m for iOS apps, authorization for marketplace developers \n",
              "and disclosures on alternative payments. Apple says in the release that if apps opt out of Apple's system, the\n",
              "company \"has less ability to address other risks\" like \"scam, fraud, abuse\" or \"objectionable or harmful\" \n",
              "content.\n",
              "\n",
              "Users in the EU will also see a browser choice screen in iOS 17.4 to pick a default browser.\n",
              "\n",
              "The other side: Epic Games CEO Tim Sweeney said on X: \"Apple's plan to thwart Europe's new Digital Markets Act\n",
              "law is a devious new instance of Malicious Compliance... Epic has always supported the notion of Apple \n",
              "notarization and malware scanning for apps, but we strongly reject Apple's twisting this process to undermine \n",
              "competition and continue imposing Apple taxes on transactions they're not involved in.\"\n",
              "\n",
              "What to watch: It's up to the European Commission to determine whether Apple's plan fully complies with the \n",
              "DMA. iPhone app developers face a whole new world of choices, and time will tell if the changes boost \n",
              "competition and improve experiences for users.\n",
              "\n"
            ],
            "text/html": [
              "<pre style=\"white-space:pre;overflow-x:auto;line-height:normal;font-family:Menlo,'DejaVu Sans Mono',consolas,'Courier New',monospace\">Apple's iOS App Store announces sweeping changes in the EU\n",
              "https://www.axios.com/2024/01/25/apple-app-store-eu-changes\n",
              "Author: Ashley Gold, author of Axios Pro\n",
              "\n",
              "\n",
              "Apple will allow alternative app stores and other new options for app developers in order to comply with \n",
              "Europe's Digital Markets Act, the company said Thursday.\n",
              "\n",
              "Driving the news: Europe's major tech competition law, set to go into effect March 7, requires Apple to loosen\n",
              "its strict rules requiring developers to rely on the App Store for distribution and payment processing.\n",
              "\n",
              "Apple has long resisted any changes to its App Store rules, citing security and privacy. The company also \n",
              "argues its services for developers are best-in-class and ensure smooth user experiences free of spam or \n",
              "harmful content.\n",
              "\n",
              "Why it matters: Apple is being forced to make sweeping changes to one of its flagship \"walled garden\" systems \n",
              "in what some smaller companies are seeing as a major win.\n",
              "\n",
              "Spotify previewed what its app will look like in Europe post-March 7 this week.\n",
              "Apple said it has been in touch with developers about the coming changes and that its compliance adheres to \n",
              "the letter of the law.\n",
              "\n",
              "What they're saying: Apple is making these changes with the caveat that the company has done everything it can\n",
              "to ensure iOS devices remain secure and malware-free, but it has no plans to expand these options outside of \n",
              "Europe, citing risk.\n",
              "\n",
              "The company believes that after the DMA-imposed changes go through, people will start to understand why Apple \n",
              "has maintained its strict policies for developers.\n",
              "\"Across every change, Apple is introducing new safeguards that reduce — but don't eliminate — new risks the \n",
              "DMA poses to EU users,\" the company said in a release.\n",
              "\n",
              "Yes, but: Apple is also introducing new fee structures for developers who take advantage of the new freedoms.\n",
              "\n",
              "Details: As part of iOS 17.4, Apple will charge a \"core technology fee\" of €.50 for \"each first annual install\n",
              "per year\" for developers whose apps have achieved more than 1 million downloads, to be counted once per Apple \n",
              "account.\n",
              "\n",
              "That fee will apply to apps that switch to their own marketplaces or remain on the App Store. Apple says the \n",
              "fee \"reflects the many ways Apple creates value for developers' businesses.\"\n",
              "The App Store commission, for developers who continue to use it, will drop from 30% to 17%. The discounted \n",
              "rate for certain developers will drop from 15% to 10%.\n",
              "No commission will be charged to developers who want to distribute and facilitate in-app payments outside of \n",
              "the App Store. Apple said that approximate 99% of developers will pay the same or less in fees.\n",
              "\n",
              "Go deeper: The iOS changes will include <span style=\"color: #000000; text-decoration-color: #000000; background-color: #ffff00\">notarization</span> for iOS apps, authorization for marketplace developers \n",
              "and disclosures on alternative payments. Apple says in the release that if apps opt out of Apple's system, the\n",
              "company \"has less ability to address other risks\" like \"scam, fraud, abuse\" or \"objectionable or harmful\" \n",
              "content.\n",
              "\n",
              "Users in the EU will also see a browser choice screen in iOS 17.4 to pick a default browser.\n",
              "\n",
              "The other side: Epic Games CEO Tim Sweeney said on X: \"Apple's plan to thwart Europe's new Digital Markets Act\n",
              "law is a devious new instance of Malicious Compliance... Epic has always supported the notion of Apple \n",
              "notarization and malware scanning for apps, but we strongly reject Apple's twisting this process to undermine \n",
              "competition and continue imposing Apple taxes on transactions they're not involved in.\"\n",
              "\n",
              "What to watch: It's up to the European Commission to determine whether Apple's plan fully complies with the \n",
              "DMA. iPhone app developers face a whole new world of choices, and time will tell if the changes boost \n",
              "competition and improve experiences for users.\n",
              "\n",
              "</pre>\n"
            ]
          },
          "metadata": {}
        }
      ]
    },
    {
      "cell_type": "markdown",
      "source": [],
      "metadata": {
        "id": "2oR-9_m1DqKi"
      }
    },
    {
      "cell_type": "code",
      "source": [
        "from langchain.document_loaders import TextLoader\n",
        "from langchain.text_splitter import TokenTextSplitter\n",
        "TOKENtext_splitter = TokenTextSplitter(chunk_size=280, chunk_overlap=20)\n",
        "splitted_text = TOKENtext_splitter.split_text(editedtext) #create a list"
      ],
      "metadata": {
        "id": "BtHmD6u9DpV7"
      },
      "execution_count": null,
      "outputs": []
    },
    {
      "cell_type": "code",
      "source": [
        "console.print(len(splitted_text))\n",
        "console.print(\"---\")\n",
        "console.print(splitted_text[0])"
      ],
      "metadata": {
        "colab": {
          "base_uri": "https://localhost:8080/",
          "height": 459
        },
        "id": "qEZlppWO5Rud",
        "outputId": "c1019851-2a75-4be8-b6a6-3750ca2de86a"
      },
      "execution_count": null,
      "outputs": [
        {
          "output_type": "display_data",
          "data": {
            "text/plain": [
              "\u001b[1;36m3\u001b[0m\n"
            ],
            "text/html": [
              "<pre style=\"white-space:pre;overflow-x:auto;line-height:normal;font-family:Menlo,'DejaVu Sans Mono',consolas,'Courier New',monospace\"><span style=\"color: #008080; text-decoration-color: #008080; font-weight: bold\">3</span>\n",
              "</pre>\n"
            ]
          },
          "metadata": {}
        },
        {
          "output_type": "display_data",
          "data": {
            "text/plain": [
              "---\n"
            ],
            "text/html": [
              "<pre style=\"white-space:pre;overflow-x:auto;line-height:normal;font-family:Menlo,'DejaVu Sans Mono',consolas,'Courier New',monospace\">---\n",
              "</pre>\n"
            ]
          },
          "metadata": {}
        },
        {
          "output_type": "display_data",
          "data": {
            "text/plain": [
              "Apple's iOS App Store announces sweeping changes in the EU\n",
              "\u001b[4;94mhttps://www.axios.com/2024/01/25/apple-app-store-eu-changes\u001b[0m\n",
              "Author: Ashley Gold, author of Axios Pro\n",
              "\n",
              "\n",
              "Apple will allow alternative app stores and other new options for app developers in order to comply with \n",
              "Europe's Digital Markets Act, the company said Thursday.\n",
              "\n",
              "Driving the news: Europe's major tech competition law, set to go into effect March \u001b[1;36m7\u001b[0m, requires Apple to loosen\n",
              "its strict rules requiring developers to rely on the App Store for distribution and payment processing.\n",
              "\n",
              "Apple has long resisted any changes to its App Store rules, citing security and privacy. The company also \n",
              "argues its services for developers are best-in-class and ensure smooth user experiences free of spam or \n",
              "harmful content.\n",
              "\n",
              "Why it matters: Apple is being forced to make sweeping changes to one of its flagship \u001b[32m\"walled garden\"\u001b[0m systems \n",
              "in what some smaller companies are seeing as a major win.\n",
              "\n",
              "Spotify previewed what its app will look like in Europe post-March \u001b[1;36m7\u001b[0m this week.\n",
              "Apple said it has been in touch with developers about the coming changes and that its compliance adheres to \n",
              "the letter of the law.\n",
              "\n",
              "What they're saying: Apple is making these changes with the caveat that the company has done everything it can\n",
              "to ensure iOS devices\n"
            ],
            "text/html": [
              "<pre style=\"white-space:pre;overflow-x:auto;line-height:normal;font-family:Menlo,'DejaVu Sans Mono',consolas,'Courier New',monospace\">Apple's iOS App Store announces sweeping changes in the EU\n",
              "<span style=\"color: #0000ff; text-decoration-color: #0000ff; text-decoration: underline\">https://www.axios.com/2024/01/25/apple-app-store-eu-changes</span>\n",
              "Author: Ashley Gold, author of Axios Pro\n",
              "\n",
              "\n",
              "Apple will allow alternative app stores and other new options for app developers in order to comply with \n",
              "Europe's Digital Markets Act, the company said Thursday.\n",
              "\n",
              "Driving the news: Europe's major tech competition law, set to go into effect March <span style=\"color: #008080; text-decoration-color: #008080; font-weight: bold\">7</span>, requires Apple to loosen\n",
              "its strict rules requiring developers to rely on the App Store for distribution and payment processing.\n",
              "\n",
              "Apple has long resisted any changes to its App Store rules, citing security and privacy. The company also \n",
              "argues its services for developers are best-in-class and ensure smooth user experiences free of spam or \n",
              "harmful content.\n",
              "\n",
              "Why it matters: Apple is being forced to make sweeping changes to one of its flagship <span style=\"color: #008000; text-decoration-color: #008000\">\"walled garden\"</span> systems \n",
              "in what some smaller companies are seeing as a major win.\n",
              "\n",
              "Spotify previewed what its app will look like in Europe post-March <span style=\"color: #008080; text-decoration-color: #008080; font-weight: bold\">7</span> this week.\n",
              "Apple said it has been in touch with developers about the coming changes and that its compliance adheres to \n",
              "the letter of the law.\n",
              "\n",
              "What they're saying: Apple is making these changes with the caveat that the company has done everything it can\n",
              "to ensure iOS devices\n",
              "</pre>\n"
            ]
          },
          "metadata": {}
        }
      ]
    },
    {
      "cell_type": "code",
      "source": [
        "console.print('Using model77 for summarization task...')\n",
        "start = datetime.datetime.now()\n",
        "with console.status(\"Generating summary...\",spinner=\"dots12\"):\n",
        "  summary =\"\"\n",
        "  for item in splitted_text:\n",
        "    text = item\n",
        "    template_summary = f'''ARTICLE: {text}\n",
        "\n",
        "    What is a one-paragraph summary of the above article?\n",
        "\n",
        "    '''\n",
        "    res = model77(template_summary, temperature=0.3, repetition_penalty=1.3, max_length=300, do_sample=True)[0]['generated_text']\n",
        "    #console.print(res)\n",
        "    #console.print('---')\n",
        "    summary = summary + res + '\\n'\n",
        "delta = datetime.datetime.now() - start\n",
        "console.print('[bold]----------------------------')\n",
        "console.print(summary)\n",
        "console.print(f\"[red1 bold]Full SUMMARY Completed in {delta}\")"
      ],
      "metadata": {
        "colab": {
          "base_uri": "https://localhost:8080/",
          "height": 289,
          "referenced_widgets": [
            "8aa8854b69a14ac398dbbc582261fbe4",
            "f421a41536d74d119a91ed7d1e6cf157"
          ]
        },
        "id": "kKwJyC_VHiv8",
        "outputId": "c991a005-7dc7-447b-eb65-56675e48f316"
      },
      "execution_count": null,
      "outputs": [
        {
          "output_type": "display_data",
          "data": {
            "text/plain": [
              "Using model77 for summarization task\u001b[33m...\u001b[0m\n"
            ],
            "text/html": [
              "<pre style=\"white-space:pre;overflow-x:auto;line-height:normal;font-family:Menlo,'DejaVu Sans Mono',consolas,'Courier New',monospace\">Using model77 for summarization task<span style=\"color: #808000; text-decoration-color: #808000\">...</span>\n",
              "</pre>\n"
            ]
          },
          "metadata": {}
        },
        {
          "output_type": "display_data",
          "data": {
            "text/plain": [
              "Output()"
            ],
            "application/vnd.jupyter.widget-view+json": {
              "version_major": 2,
              "version_minor": 0,
              "model_id": "8aa8854b69a14ac398dbbc582261fbe4"
            }
          },
          "metadata": {}
        },
        {
          "output_type": "display_data",
          "data": {
            "text/plain": [],
            "text/html": [
              "<pre style=\"white-space:pre;overflow-x:auto;line-height:normal;font-family:Menlo,'DejaVu Sans Mono',consolas,'Courier New',monospace\"></pre>\n"
            ]
          },
          "metadata": {}
        },
        {
          "output_type": "display_data",
          "data": {
            "text/plain": [
              "\u001b[1m----------------------------\u001b[0m\n"
            ],
            "text/html": [
              "<pre style=\"white-space:pre;overflow-x:auto;line-height:normal;font-family:Menlo,'DejaVu Sans Mono',consolas,'Courier New',monospace\"><span style=\"font-weight: bold\">----------------------------</span>\n",
              "</pre>\n"
            ]
          },
          "metadata": {}
        },
        {
          "output_type": "display_data",
          "data": {
            "text/plain": [
              "Apple's iOS App Store will allow alternative app stores and other new options for app developers to comply \n",
              "with Europe's Digital Markets Act, which requires developers to rely on the App Store for distribution and \n",
              "payment processing. The company has long resisted any changes due to security and privacy concerns. Spotify \n",
              "previewed its app in Europe post-March \u001b[1;36m7\u001b[0m this week and is making these changes with the caveat that they have \n",
              "done everything it can to ensure iOS devices.\n",
              "Apple is introducing new safeguards and fees for developers who have achieved more than \u001b[1;36m1\u001b[0m million downloads on\n",
              "iOS \u001b[1;36m17.4\u001b[0m, which will apply to apps that switch to their own marketplaces or remain on the App Store. The fee, \n",
              "which includes an annual install of over \u001b[1;36m1\u001b[0m,\u001b[1;36m500\u001b[0m app codes, will be charged at €.\u001b[1;36m50\u001b[0m per year.\n",
              "Apple's iOS changes will include notarization for iPhone apps, authorization for marketplace developers and \n",
              "disclosures on alternative payments. The company has declined to pay the same or less in fees as \u001b[1;36m99\u001b[0m% of users \n",
              "are paid the same or less in fee. Epic Games CEO Tim Sweeney believes that Apple's plan is devious and \n",
              "undermines competition by imposing Apple taxes on transactions they don't involved in.\n",
              "\n"
            ],
            "text/html": [
              "<pre style=\"white-space:pre;overflow-x:auto;line-height:normal;font-family:Menlo,'DejaVu Sans Mono',consolas,'Courier New',monospace\">Apple's iOS App Store will allow alternative app stores and other new options for app developers to comply \n",
              "with Europe's Digital Markets Act, which requires developers to rely on the App Store for distribution and \n",
              "payment processing. The company has long resisted any changes due to security and privacy concerns. Spotify \n",
              "previewed its app in Europe post-March <span style=\"color: #008080; text-decoration-color: #008080; font-weight: bold\">7</span> this week and is making these changes with the caveat that they have \n",
              "done everything it can to ensure iOS devices.\n",
              "Apple is introducing new safeguards and fees for developers who have achieved more than <span style=\"color: #008080; text-decoration-color: #008080; font-weight: bold\">1</span> million downloads on\n",
              "iOS <span style=\"color: #008080; text-decoration-color: #008080; font-weight: bold\">17.4</span>, which will apply to apps that switch to their own marketplaces or remain on the App Store. The fee, \n",
              "which includes an annual install of over <span style=\"color: #008080; text-decoration-color: #008080; font-weight: bold\">1</span>,<span style=\"color: #008080; text-decoration-color: #008080; font-weight: bold\">500</span> app codes, will be charged at €.<span style=\"color: #008080; text-decoration-color: #008080; font-weight: bold\">50</span> per year.\n",
              "Apple's iOS changes will include notarization for iPhone apps, authorization for marketplace developers and \n",
              "disclosures on alternative payments. The company has declined to pay the same or less in fees as <span style=\"color: #008080; text-decoration-color: #008080; font-weight: bold\">99</span>% of users \n",
              "are paid the same or less in fee. Epic Games CEO Tim Sweeney believes that Apple's plan is devious and \n",
              "undermines competition by imposing Apple taxes on transactions they don't involved in.\n",
              "\n",
              "</pre>\n"
            ]
          },
          "metadata": {}
        },
        {
          "output_type": "display_data",
          "data": {
            "text/plain": [
              "\u001b[1;38;5;196mFull SUMMARY Completed in \u001b[0m\u001b[1;38;5;196m0:00:12\u001b[0m\u001b[1;38;5;196m.\u001b[0m\u001b[1;38;5;196m512004\u001b[0m\n"
            ],
            "text/html": [
              "<pre style=\"white-space:pre;overflow-x:auto;line-height:normal;font-family:Menlo,'DejaVu Sans Mono',consolas,'Courier New',monospace\"><span style=\"color: #ff0000; text-decoration-color: #ff0000; font-weight: bold\">Full SUMMARY Completed in 0:00:12.</span><span style=\"color: #ff0000; text-decoration-color: #ff0000; font-weight: bold\">512004</span>\n",
              "</pre>\n"
            ]
          },
          "metadata": {}
        }
      ]
    },
    {
      "cell_type": "markdown",
      "source": [
        "### 3️⃣❓🎰 Generation"
      ],
      "metadata": {
        "id": "qLVRJQvtooYy"
      }
    },
    {
      "cell_type": "code",
      "source": [
        "console.print('Using model783 for Qestion generation task...')\n",
        "start = datetime.datetime.now()\n",
        "quest3 = []\n",
        "with console.status(\"Generating summary...\",spinner=\"dots12\"):\n",
        "  for item in splitted_text:\n",
        "    text = item\n",
        "    template_qg = f'''{text}.\\nAsk three relevant question about this text.\n",
        "    '''\n",
        "    res = model783(template_qg, temperature=0.3, repetition_penalty=1.3, max_length=250, do_sample=True)[0]['generated_text']\n",
        "    ed_res = res.replace('? ','?#')\n",
        "    list_res = ed_res.split('#')\n",
        "    for i in list_res:\n",
        "      a = i[3:]\n",
        "      quest3.append(a)\n",
        "\n",
        "console.print('[bold]----------------------------')\n",
        "console.print(quest3)"
      ],
      "metadata": {
        "colab": {
          "base_uri": "https://localhost:8080/",
          "height": 272,
          "referenced_widgets": [
            "7b98d57d48fc430abf5be889fd93ab02",
            "d067dcd3827245de9aa4834e59783714"
          ]
        },
        "id": "2WXTFwKvICbf",
        "outputId": "19ccaeab-ac4b-442e-fdb1-a0202e227607"
      },
      "execution_count": null,
      "outputs": [
        {
          "output_type": "display_data",
          "data": {
            "text/plain": [
              "Using model783 for Qestion generation task\u001b[33m...\u001b[0m\n"
            ],
            "text/html": [
              "<pre style=\"white-space:pre;overflow-x:auto;line-height:normal;font-family:Menlo,'DejaVu Sans Mono',consolas,'Courier New',monospace\">Using model783 for Qestion generation task<span style=\"color: #808000; text-decoration-color: #808000\">...</span>\n",
              "</pre>\n"
            ]
          },
          "metadata": {}
        },
        {
          "output_type": "display_data",
          "data": {
            "text/plain": [
              "Output()"
            ],
            "application/vnd.jupyter.widget-view+json": {
              "version_major": 2,
              "version_minor": 0,
              "model_id": "7b98d57d48fc430abf5be889fd93ab02"
            }
          },
          "metadata": {}
        },
        {
          "output_type": "display_data",
          "data": {
            "text/plain": [],
            "text/html": [
              "<pre style=\"white-space:pre;overflow-x:auto;line-height:normal;font-family:Menlo,'DejaVu Sans Mono',consolas,'Courier New',monospace\"></pre>\n"
            ]
          },
          "metadata": {}
        },
        {
          "output_type": "display_data",
          "data": {
            "text/plain": [
              "\u001b[1m----------------------------\u001b[0m\n"
            ],
            "text/html": [
              "<pre style=\"white-space:pre;overflow-x:auto;line-height:normal;font-family:Menlo,'DejaVu Sans Mono',consolas,'Courier New',monospace\"><span style=\"font-weight: bold\">----------------------------</span>\n",
              "</pre>\n"
            ]
          },
          "metadata": {}
        },
        {
          "output_type": "display_data",
          "data": {
            "text/plain": [
              "\u001b[1m[\u001b[0m\n",
              "    \u001b[32m\"What is the Digital Markets Act in Europe and how does it affect Apple's App Store?\"\u001b[0m,\n",
              "    \u001b[32m'Who are some of the companies that have been resisted any changes to its App Store rules, including \u001b[0m\n",
              "\u001b[32mSpotify?'\u001b[0m,\n",
              "    \u001b[32m'How will these changes impact app developers and their revenue streams?'\u001b[0m,\n",
              "    \u001b[32m'What are the new safeguards introduced by Apple as part of iOS 17.4?'\u001b[0m,\n",
              "    \u001b[32m'How does Apple plan to reduce risks associated with the DMA for EU users?'\u001b[0m,\n",
              "    \u001b[32m'What is the fee structure that will apply to developers who want to distribute and facilitate in-app \u001b[0m\n",
              "\u001b[32mpurchases under iOS 17.4?'\u001b[0m,\n",
              "    \u001b[32m\"What are the iOS changes that will be implemented to thwart Europe's new Digital Markets Act law?\"\u001b[0m,\n",
              "    \u001b[32m\"Who is Tim Sweeney and what does he think about Apple's plan?\"\u001b[0m,\n",
              "    \u001b[32m'How do users in the EU choose their default browser after using Safari instead of Google Chrome?'\u001b[0m\n",
              "\u001b[1m]\u001b[0m\n"
            ],
            "text/html": [
              "<pre style=\"white-space:pre;overflow-x:auto;line-height:normal;font-family:Menlo,'DejaVu Sans Mono',consolas,'Courier New',monospace\"><span style=\"font-weight: bold\">[</span>\n",
              "    <span style=\"color: #008000; text-decoration-color: #008000\">\"What is the Digital Markets Act in Europe and how does it affect Apple's App Store?\"</span>,\n",
              "    <span style=\"color: #008000; text-decoration-color: #008000\">'Who are some of the companies that have been resisted any changes to its App Store rules, including </span>\n",
              "<span style=\"color: #008000; text-decoration-color: #008000\">Spotify?'</span>,\n",
              "    <span style=\"color: #008000; text-decoration-color: #008000\">'How will these changes impact app developers and their revenue streams?'</span>,\n",
              "    <span style=\"color: #008000; text-decoration-color: #008000\">'What are the new safeguards introduced by Apple as part of iOS 17.4?'</span>,\n",
              "    <span style=\"color: #008000; text-decoration-color: #008000\">'How does Apple plan to reduce risks associated with the DMA for EU users?'</span>,\n",
              "    <span style=\"color: #008000; text-decoration-color: #008000\">'What is the fee structure that will apply to developers who want to distribute and facilitate in-app </span>\n",
              "<span style=\"color: #008000; text-decoration-color: #008000\">purchases under iOS 17.4?'</span>,\n",
              "    <span style=\"color: #008000; text-decoration-color: #008000\">\"What are the iOS changes that will be implemented to thwart Europe's new Digital Markets Act law?\"</span>,\n",
              "    <span style=\"color: #008000; text-decoration-color: #008000\">\"Who is Tim Sweeney and what does he think about Apple's plan?\"</span>,\n",
              "    <span style=\"color: #008000; text-decoration-color: #008000\">'How do users in the EU choose their default browser after using Safari instead of Google Chrome?'</span>\n",
              "<span style=\"font-weight: bold\">]</span>\n",
              "</pre>\n"
            ]
          },
          "metadata": {}
        }
      ]
    },
    {
      "cell_type": "markdown",
      "source": [
        "### 2️⃣❓🎰 Generation"
      ],
      "metadata": {
        "id": "jS_sBN6Wo7oK"
      }
    },
    {
      "cell_type": "code",
      "source": [
        "console.print('Using model783 for Question generation task...')\n",
        "start = datetime.datetime.now()\n",
        "quest2 = []\n",
        "with console.status(\"Generating Question...\",spinner=\"dots12\"):\n",
        "  for item in splitted_text:\n",
        "    text = item\n",
        "    template_qg = f'''{text}.\\nAsk two relevant question about this text.\n",
        "    '''\n",
        "    res = model783(template_qg, temperature=0.3, repetition_penalty=1.3, max_length=250, do_sample=True)[0]['generated_text']\n",
        "    ed_res = res.replace('? ','?#')\n",
        "    list_res = ed_res.split('#')\n",
        "    for i in list_res:\n",
        "      a = i[3:]\n",
        "      quest2.append(a)\n",
        "\n",
        "console.print('[bold]----------------------------')\n",
        "console.print(quest2)"
      ],
      "metadata": {
        "colab": {
          "base_uri": "https://localhost:8080/",
          "height": 221,
          "referenced_widgets": [
            "e8fef482323a4770a9a18a8646007a30",
            "8bd85b76e26b42fb9b7e679cc227f517"
          ]
        },
        "id": "j-RCmPuOXshm",
        "outputId": "c8d1d0de-85df-4c8f-fd7c-e800e7fdc518"
      },
      "execution_count": null,
      "outputs": [
        {
          "output_type": "display_data",
          "data": {
            "text/plain": [
              "Using model783 for Qestion generation task\u001b[33m...\u001b[0m\n"
            ],
            "text/html": [
              "<pre style=\"white-space:pre;overflow-x:auto;line-height:normal;font-family:Menlo,'DejaVu Sans Mono',consolas,'Courier New',monospace\">Using model783 for Qestion generation task<span style=\"color: #808000; text-decoration-color: #808000\">...</span>\n",
              "</pre>\n"
            ]
          },
          "metadata": {}
        },
        {
          "output_type": "display_data",
          "data": {
            "text/plain": [
              "Output()"
            ],
            "application/vnd.jupyter.widget-view+json": {
              "version_major": 2,
              "version_minor": 0,
              "model_id": "e8fef482323a4770a9a18a8646007a30"
            }
          },
          "metadata": {}
        },
        {
          "output_type": "display_data",
          "data": {
            "text/plain": [],
            "text/html": [
              "<pre style=\"white-space:pre;overflow-x:auto;line-height:normal;font-family:Menlo,'DejaVu Sans Mono',consolas,'Courier New',monospace\"></pre>\n"
            ]
          },
          "metadata": {}
        },
        {
          "output_type": "display_data",
          "data": {
            "text/plain": [
              "\u001b[1m----------------------------\u001b[0m\n"
            ],
            "text/html": [
              "<pre style=\"white-space:pre;overflow-x:auto;line-height:normal;font-family:Menlo,'DejaVu Sans Mono',consolas,'Courier New',monospace\"><span style=\"font-weight: bold\">----------------------------</span>\n",
              "</pre>\n"
            ]
          },
          "metadata": {}
        },
        {
          "output_type": "display_data",
          "data": {
            "text/plain": [
              "\u001b[1m[\u001b[0m\n",
              "    \u001b[32m\"What are the changes to Apple's App Store rules in Europe?\"\u001b[0m,\n",
              "    \u001b[32m'How will these changes affect app developers and their services?'\u001b[0m,\n",
              "    \u001b[32m'What new safeguards does Apple have in place to ensure the security and malware-free nature of iOS \u001b[0m\n",
              "\u001b[32mdevices?'\u001b[0m,\n",
              "    \u001b[32m'How will developers be compensated for their use of the App Store with these changes?'\u001b[0m,\n",
              "    \u001b[32m\"What are the changes to iOS that will be implemented by Apple in response to Europe's new Digital Markets\u001b[0m\n",
              "\u001b[32mAct law?\"\u001b[0m,\n",
              "    \u001b[32m\"Who is Tim Sweeney, and what does he think about Apple's plan to implement these changes?\"\u001b[0m\n",
              "\u001b[1m]\u001b[0m\n"
            ],
            "text/html": [
              "<pre style=\"white-space:pre;overflow-x:auto;line-height:normal;font-family:Menlo,'DejaVu Sans Mono',consolas,'Courier New',monospace\"><span style=\"font-weight: bold\">[</span>\n",
              "    <span style=\"color: #008000; text-decoration-color: #008000\">\"What are the changes to Apple's App Store rules in Europe?\"</span>,\n",
              "    <span style=\"color: #008000; text-decoration-color: #008000\">'How will these changes affect app developers and their services?'</span>,\n",
              "    <span style=\"color: #008000; text-decoration-color: #008000\">'What new safeguards does Apple have in place to ensure the security and malware-free nature of iOS </span>\n",
              "<span style=\"color: #008000; text-decoration-color: #008000\">devices?'</span>,\n",
              "    <span style=\"color: #008000; text-decoration-color: #008000\">'How will developers be compensated for their use of the App Store with these changes?'</span>,\n",
              "    <span style=\"color: #008000; text-decoration-color: #008000\">\"What are the changes to iOS that will be implemented by Apple in response to Europe's new Digital Markets</span>\n",
              "<span style=\"color: #008000; text-decoration-color: #008000\">Act law?\"</span>,\n",
              "    <span style=\"color: #008000; text-decoration-color: #008000\">\"Who is Tim Sweeney, and what does he think about Apple's plan to implement these changes?\"</span>\n",
              "<span style=\"font-weight: bold\">]</span>\n",
              "</pre>\n"
            ]
          },
          "metadata": {}
        }
      ]
    },
    {
      "cell_type": "markdown",
      "source": [
        "### 🧠🗣️❓ Question Answering"
      ],
      "metadata": {
        "id": "QblsCIioX8Ln"
      }
    },
    {
      "cell_type": "code",
      "source": [
        "context = splitted_text[0]\n",
        "question = quest2[0]\n",
        "template_qna = f'''Read this and answer the question. Your answer must be informative. If the question is unanswerable, \"\"say \\\"unanswerable\\\".\\n\\n{context}\\n\\n{question}'''\n",
        "res = model783(template_qna, temperature=0.3, repetition_penalty=1.3, max_length=250, do_sample=True)[0]['generated_text']\n",
        "console.print(f\"[bold blue]{question}\")\n",
        "console.print(res)"
      ],
      "metadata": {
        "colab": {
          "base_uri": "https://localhost:8080/",
          "height": 68
        },
        "id": "Qmru5n8ZI2rh",
        "outputId": "d5dca6b7-cab6-423a-de43-a1e07e79733b"
      },
      "execution_count": null,
      "outputs": [
        {
          "output_type": "display_data",
          "data": {
            "text/plain": [
              "\u001b[1;34mWhat are the changes to Apple's App Store rules in Europe?\u001b[0m\n"
            ],
            "text/html": [
              "<pre style=\"white-space:pre;overflow-x:auto;line-height:normal;font-family:Menlo,'DejaVu Sans Mono',consolas,'Courier New',monospace\"><span style=\"color: #000080; text-decoration-color: #000080; font-weight: bold\">What are the changes to Apple's App Store rules in Europe?</span>\n",
              "</pre>\n"
            ]
          },
          "metadata": {}
        },
        {
          "output_type": "display_data",
          "data": {
            "text/plain": [
              "Apple is allowing alternative app stores and other new options for app developers in order to comply with \n",
              "Europe's Digital Markets Act.\n"
            ],
            "text/html": [
              "<pre style=\"white-space:pre;overflow-x:auto;line-height:normal;font-family:Menlo,'DejaVu Sans Mono',consolas,'Courier New',monospace\">Apple is allowing alternative app stores and other new options for app developers in order to comply with \n",
              "Europe's Digital Markets Act.\n",
              "</pre>\n"
            ]
          },
          "metadata": {}
        }
      ]
    },
    {
      "cell_type": "code",
      "source": [
        "context = splitted_text[0] + summary\n",
        "question = quest2[1]\n",
        "template_qna = f'''Read this and answer the question. Your answer must be informative. If the question is unanswerable, \"\"say \\\"unanswerable\\\".\\n\\n{context}\\n\\n{question}'''\n",
        "res = model783(template_qna, temperature=0.3, repetition_penalty=1.3, max_length=250, do_sample=True)[0]['generated_text']\n",
        "console.print(f\"[bold blue]{question}\")\n",
        "console.print(res)"
      ],
      "metadata": {
        "colab": {
          "base_uri": "https://localhost:8080/",
          "height": 85
        },
        "id": "bFESOE_pdv0p",
        "outputId": "a0dcfc7b-8fdf-490d-ce9b-8bdffddaa42c"
      },
      "execution_count": null,
      "outputs": [
        {
          "output_type": "display_data",
          "data": {
            "text/plain": [
              "\u001b[1;34mHow will these changes affect app developers and their services?\u001b[0m\n"
            ],
            "text/html": [
              "<pre style=\"white-space:pre;overflow-x:auto;line-height:normal;font-family:Menlo,'DejaVu Sans Mono',consolas,'Courier New',monospace\"><span style=\"color: #000080; text-decoration-color: #000080; font-weight: bold\">How will these changes affect app developers and their services?</span>\n",
              "</pre>\n"
            ]
          },
          "metadata": {}
        },
        {
          "output_type": "display_data",
          "data": {
            "text/plain": [
              "The new rules will allow alternative app stores and other options for developers to comply with Europe's \n",
              "Digital Markets Act, which requires developers to rely on the App Store for distribution and payment \n",
              "processing.\n"
            ],
            "text/html": [
              "<pre style=\"white-space:pre;overflow-x:auto;line-height:normal;font-family:Menlo,'DejaVu Sans Mono',consolas,'Courier New',monospace\">The new rules will allow alternative app stores and other options for developers to comply with Europe's \n",
              "Digital Markets Act, which requires developers to rely on the App Store for distribution and payment \n",
              "processing.\n",
              "</pre>\n"
            ]
          },
          "metadata": {}
        }
      ]
    },
    {
      "cell_type": "code",
      "source": [
        "context = splitted_text[0] + summary\n",
        "question = quest2[1]\n",
        "template_qna = f'''Read this and answer the question. Your answer must be informative. If the question is unanswerable, \"\"say \\\"unanswerable\\\".\\n\\n{context}\\n\\n{question}'''\n",
        "res = model783(template_qna, temperature=0.4, repetition_penalty=1.3, max_length=250, do_sample=True)[0]['generated_text']\n",
        "console.print(f\"[bold blue]{question}\")\n",
        "console.print(res)"
      ],
      "metadata": {
        "colab": {
          "base_uri": "https://localhost:8080/",
          "height": 68
        },
        "id": "EJOaVcjJoZ8k",
        "outputId": "bce0e083-4361-4628-c9e4-fd093b7eb843"
      },
      "execution_count": null,
      "outputs": [
        {
          "output_type": "display_data",
          "data": {
            "text/plain": [
              "\u001b[1;34mHow will these changes affect app developers and their services?\u001b[0m\n"
            ],
            "text/html": [
              "<pre style=\"white-space:pre;overflow-x:auto;line-height:normal;font-family:Menlo,'DejaVu Sans Mono',consolas,'Courier New',monospace\"><span style=\"color: #000080; text-decoration-color: #000080; font-weight: bold\">How will these changes affect app developers and their services?</span>\n",
              "</pre>\n"
            ]
          },
          "metadata": {}
        },
        {
          "output_type": "display_data",
          "data": {
            "text/plain": [
              "Apple will allow alternative app stores and other new options for app developers to comply with Europe's \n",
              "Digital Markets Act.\n"
            ],
            "text/html": [
              "<pre style=\"white-space:pre;overflow-x:auto;line-height:normal;font-family:Menlo,'DejaVu Sans Mono',consolas,'Courier New',monospace\">Apple will allow alternative app stores and other new options for app developers to comply with Europe's \n",
              "Digital Markets Act.\n",
              "</pre>\n"
            ]
          },
          "metadata": {}
        }
      ]
    },
    {
      "cell_type": "code",
      "source": [],
      "metadata": {
        "id": "kPzI826AoZzJ"
      },
      "execution_count": null,
      "outputs": []
    },
    {
      "cell_type": "code",
      "source": [
        "from rich.text import Text\n",
        "\n",
        "text = Text(splitted_text)\n",
        "#text.stylize(\"bright_yellow on black\", 0, 6)\n",
        "#console.print(text)\n"
      ],
      "metadata": {
        "colab": {
          "base_uri": "https://localhost:8080/"
        },
        "id": "OCbJcAm4oZwI",
        "outputId": "33a4f00c-6aa2-4302-ca43-de92e906c94f"
      },
      "execution_count": null,
      "outputs": [
        {
          "output_type": "stream",
          "name": "stdout",
          "text": [
            "left foot right foot left foot right. feet in the day, feet at night.\n"
          ]
        }
      ]
    },
    {
      "cell_type": "markdown",
      "source": [
        "### section too deep with keyword store"
      ],
      "metadata": {
        "id": "qs6iGs4EHTCd"
      }
    },
    {
      "cell_type": "code",
      "source": [
        "keys = []\n",
        "for i in trange(0,len(splitted_text)):\n",
        "  text = splitted_text[i]\n",
        "  keys.append({'document' : filename,\n",
        "              'title' : title,\n",
        "              'author' : author,\n",
        "              'url' : url,\n",
        "              'doc': text,\n",
        "              'keywords' : extract_keys(text, 1, 0.34)\n",
        "  })"
      ],
      "metadata": {
        "id": "G06PC8iM6WUv"
      },
      "execution_count": null,
      "outputs": []
    },
    {
      "cell_type": "code",
      "source": [
        "console.print(keys[1])"
      ],
      "metadata": {
        "colab": {
          "base_uri": "https://localhost:8080/",
          "height": 371
        },
        "id": "xE79E9fF6WSC",
        "outputId": "d2b584e0-0e6e-47cd-ffc4-5c3c959e055e"
      },
      "execution_count": null,
      "outputs": [
        {
          "output_type": "display_data",
          "data": {
            "text/plain": [
              "\u001b[1m{\u001b[0m\n",
              "    \u001b[32m'document'\u001b[0m: \u001b[32m'2023-12-03 18.41.12 Governing societies with Artificial Intelligence .txt'\u001b[0m,\n",
              "    \u001b[32m'title'\u001b[0m: \u001b[32m'Governing societies with Artificial Intelligence'\u001b[0m,\n",
              "    \u001b[32m'author'\u001b[0m: \u001b[32m'Giles Crouch'\u001b[0m,\n",
              "    \u001b[32m'url'\u001b[0m: \u001b[32m'https://gilescrouch.medium.com/governing-society-and-artificial-intelligence-23882b9ce473'\u001b[0m,\n",
              "    \u001b[32m'doc'\u001b[0m: \u001b[32m' of AI was via Hollywood and Science-Fiction and it was very often rather dystopian.\\nNews \u001b[0m\n",
              "\u001b[32marticles today tend to either declare the end of the world is nigh or utopia will be in the earnings reports \u001b[0m\n",
              "\u001b[32mof Q4 of 2024. As the news media has often said, “if it bleeds, it leads” \u001b[0m\u001b[32m(\u001b[0m\u001b[32ma.k.a. clickbait today.\u001b[0m\u001b[32m)\u001b[0m\u001b[32m \u001b[0m\n",
              "\u001b[32mUnfortunately, just as so much else today is reduced to this or that arguments, the same has happened to \u001b[0m\n",
              "\u001b[32mAI.\\nThe reality is more likely to be somewhere in the middle when it comes to AI tools. Likely edging towards\u001b[0m\n",
              "\u001b[32mmore benefits than harms.\\nSo we’ve not really been set up to receive AI in a nice way. It should be of little\u001b[0m\n",
              "\u001b[32msurprise in the launch and hype of GAI that we collectively panicked and ran about the backyard flailing our \u001b[0m\n",
              "\u001b[32marms and screaming that the sky is falling. The prophets of AI in Silicon Valley didn’t much help with \u001b[0m\n",
              "\u001b[32mproclamations of the arrival of a new god in town and here’s your new religion; the new religious text is \u001b[0m\n",
              "\u001b[32mLarge Language Models.\\nYet there is a very strong case for making AI work for us in governing our current and\u001b[0m\n",
              "\u001b[32mfuture societies. The increasing complexity of our systems of governance along with our sociocultural systems.\u001b[0m\n",
              "\u001b[32mHuman brains, working collectively, are quite a powerful thing. But our collective cognitive abilities only go\u001b[0m\n",
              "\u001b[32mso far. There are risks such a Group Think, among others.\\nWe have co-evolved technologies because we need \u001b[0m\n",
              "\u001b[32mthem to survive. As our societies and the technologies we use to run them have evolved, so has complexity. \u001b[0m\n",
              "\u001b[32mThere’s a reason that frameworks and mental models such as design thinking'\u001b[0m,\n",
              "    \u001b[32m'keywords'\u001b[0m: \u001b[1m[\u001b[0m\u001b[32m'dystopian'\u001b[0m, \u001b[32m'ai'\u001b[0m, \u001b[32m'brains'\u001b[0m, \u001b[32m'clickbait'\u001b[0m, \u001b[32m'unfortunately'\u001b[0m\u001b[1m]\u001b[0m\n",
              "\u001b[1m}\u001b[0m\n"
            ],
            "text/html": [
              "<pre style=\"white-space:pre;overflow-x:auto;line-height:normal;font-family:Menlo,'DejaVu Sans Mono',consolas,'Courier New',monospace\"><span style=\"font-weight: bold\">{</span>\n",
              "    <span style=\"color: #008000; text-decoration-color: #008000\">'document'</span>: <span style=\"color: #008000; text-decoration-color: #008000\">'2023-12-03 18.41.12 Governing societies with Artificial Intelligence .txt'</span>,\n",
              "    <span style=\"color: #008000; text-decoration-color: #008000\">'title'</span>: <span style=\"color: #008000; text-decoration-color: #008000\">'Governing societies with Artificial Intelligence'</span>,\n",
              "    <span style=\"color: #008000; text-decoration-color: #008000\">'author'</span>: <span style=\"color: #008000; text-decoration-color: #008000\">'Giles Crouch'</span>,\n",
              "    <span style=\"color: #008000; text-decoration-color: #008000\">'url'</span>: <span style=\"color: #008000; text-decoration-color: #008000\">'https://gilescrouch.medium.com/governing-society-and-artificial-intelligence-23882b9ce473'</span>,\n",
              "    <span style=\"color: #008000; text-decoration-color: #008000\">'doc'</span>: <span style=\"color: #008000; text-decoration-color: #008000\">' of AI was via Hollywood and Science-Fiction and it was very often rather dystopian.\\nNews </span>\n",
              "<span style=\"color: #008000; text-decoration-color: #008000\">articles today tend to either declare the end of the world is nigh or utopia will be in the earnings reports </span>\n",
              "<span style=\"color: #008000; text-decoration-color: #008000\">of Q4 of 2024. As the news media has often said, “if it bleeds, it leads” (a.k.a. clickbait today.) </span>\n",
              "<span style=\"color: #008000; text-decoration-color: #008000\">Unfortunately, just as so much else today is reduced to this or that arguments, the same has happened to </span>\n",
              "<span style=\"color: #008000; text-decoration-color: #008000\">AI.\\nThe reality is more likely to be somewhere in the middle when it comes to AI tools. Likely edging towards</span>\n",
              "<span style=\"color: #008000; text-decoration-color: #008000\">more benefits than harms.\\nSo we’ve not really been set up to receive AI in a nice way. It should be of little</span>\n",
              "<span style=\"color: #008000; text-decoration-color: #008000\">surprise in the launch and hype of GAI that we collectively panicked and ran about the backyard flailing our </span>\n",
              "<span style=\"color: #008000; text-decoration-color: #008000\">arms and screaming that the sky is falling. The prophets of AI in Silicon Valley didn’t much help with </span>\n",
              "<span style=\"color: #008000; text-decoration-color: #008000\">proclamations of the arrival of a new god in town and here’s your new religion; the new religious text is </span>\n",
              "<span style=\"color: #008000; text-decoration-color: #008000\">Large Language Models.\\nYet there is a very strong case for making AI work for us in governing our current and</span>\n",
              "<span style=\"color: #008000; text-decoration-color: #008000\">future societies. The increasing complexity of our systems of governance along with our sociocultural systems.</span>\n",
              "<span style=\"color: #008000; text-decoration-color: #008000\">Human brains, working collectively, are quite a powerful thing. But our collective cognitive abilities only go</span>\n",
              "<span style=\"color: #008000; text-decoration-color: #008000\">so far. There are risks such a Group Think, among others.\\nWe have co-evolved technologies because we need </span>\n",
              "<span style=\"color: #008000; text-decoration-color: #008000\">them to survive. As our societies and the technologies we use to run them have evolved, so has complexity. </span>\n",
              "<span style=\"color: #008000; text-decoration-color: #008000\">There’s a reason that frameworks and mental models such as design thinking'</span>,\n",
              "    <span style=\"color: #008000; text-decoration-color: #008000\">'keywords'</span>: <span style=\"font-weight: bold\">[</span><span style=\"color: #008000; text-decoration-color: #008000\">'dystopian'</span>, <span style=\"color: #008000; text-decoration-color: #008000\">'ai'</span>, <span style=\"color: #008000; text-decoration-color: #008000\">'brains'</span>, <span style=\"color: #008000; text-decoration-color: #008000\">'clickbait'</span>, <span style=\"color: #008000; text-decoration-color: #008000\">'unfortunately'</span><span style=\"font-weight: bold\">]</span>\n",
              "<span style=\"font-weight: bold\">}</span>\n",
              "</pre>\n"
            ]
          },
          "metadata": {}
        }
      ]
    },
    {
      "cell_type": "code",
      "source": [],
      "metadata": {
        "id": "h0bNeu4ZHhl-"
      },
      "execution_count": null,
      "outputs": []
    },
    {
      "cell_type": "markdown",
      "source": [
        "### Create LangChain Documents with full metadata"
      ],
      "metadata": {
        "id": "VFLsgaKL9Z9l"
      }
    },
    {
      "cell_type": "code",
      "source": [
        "def SMS(fulltext, llmpipeline, chunks, overlap, documentfilename, title, author,docurl):\n",
        "  \"\"\"\n",
        "  SUS aka Summarize Metadata Suggest\n",
        "  documentfilename -> str,  'extracted from fileupload',\n",
        "  title -> str,  title of the document 'input in the GUI',\n",
        "  author -> str,  author of the document 'input from the GUI',\n",
        "  docurl -> str,  url of the document 'if any from GUI anyway',\n",
        "  ---\n",
        "  Description\n",
        "  Function that take a long string text and summarize it: returning also\n",
        "  suggested QnA from the process\n",
        "  The fulltext is split in Tokens according to chunks and overlap specified\n",
        "  inputs:\n",
        "  llmpipeline -> a transformers pipeline instance for the text generation\n",
        "  fulltext - > string\n",
        "  chunks, overlap - > integers\n",
        "  ---\n",
        "  returns:\n",
        "  # sum_db constains all original file metadata and the ones from GUI user input\n",
        "  # qna is a list of dict with EDA in dict format {'question':item,'answer': res}\n",
        "  # keys a list of ready for LangChain.Document creation with metadata\n",
        "  \"\"\"\n",
        "  from langchain.document_loaders import TextLoader\n",
        "  from langchain.text_splitter import TokenTextSplitter\n",
        "  TOKENtext_splitter = TokenTextSplitter(chunk_size=chunks, chunk_overlap=overlap)\n",
        "  sum_context = TOKENtext_splitter.split_text(fulltext) #create a list\n",
        "  model77 = llmpipeline\n",
        "  final = ''\n",
        "  keys = []\n",
        "  strt = datetime.datetime.now()\n",
        "  for i in trange(0,len(sum_context)):\n",
        "    text = sum_context[i]\n",
        "    template_bullets = f'''ARTICLE: {text}\n",
        "\n",
        "    What is a one-paragraph summary of the above article?\n",
        "\n",
        "    '''\n",
        "    res = model77(template_bullets, temperature=0.3, repetition_penalty=1.3, max_length=400, do_sample=True)[0]['generated_text']\n",
        "    final = final + ' '+ res+'\\n'\n",
        "    keys.append({'document' : documentfilename,\n",
        "                'title' : title,\n",
        "                'author' : author,\n",
        "                'url' : docurl,\n",
        "                'doc': text,\n",
        "                'keywords' : extract_keys(text, 2, 0.34)\n",
        "    })\n",
        "  ## REMOVED REWRITING FNCTION ####\n",
        "  tags_summary = extract_keys(final, 1, 0.34)\n",
        "  elaps = datetime.datetime.now() - strt\n",
        "  console.print(Markdown(\"## SUMMARY\"))\n",
        "  console.print(Markdown(final))\n",
        "  console.print(Markdown(\"### METATAGS\"))\n",
        "  console.print(Markdown(str(tags_summary)))\n",
        "  console.print(\"[green2 bold]---\")\n",
        "  console.print(f\"[red1 bold]Full RAG PREPROCESSING Completed in {elaps}\")\n",
        "  console.print(Markdown(\"---\"))\n",
        "  logger = \"# SUMMARY and METATAGS\\n---\\n#SUMMARY\\n\" + final + \"#MetaTAGS: \"+ str(tags_summary) +\"\\n---\\n\\n\"\n",
        "  writehistory(logger)\n",
        "\n",
        "  # Generate Suggested questions from the text\n",
        "  # Then Reply to the questions\n",
        "  console.print(f\"[green2 bold]Generating Qna...\")\n",
        "  finalqna = ''\n",
        "  strt = datetime.datetime.now()\n",
        "  for i in trange(0,len(sum_context)):\n",
        "    text = sum_context[i]\n",
        "    template_final = f'''{text}.\\nAsk few question about this article.\n",
        "  '''\n",
        "    res = model77(template_final, temperature=0.3, repetition_penalty=1.3, max_length=400, do_sample=True)[0]['generated_text']\n",
        "    finalqna = finalqna + '\\n '+ res\n",
        "\n",
        "  delt = datetime.datetime.now()-strt\n",
        "  console.print(Markdown(\"---\"))\n",
        "  console.print(f\"[red1 bold]Questions generated in {delt}\")\n",
        "  lst = finalqna.split('\\n')\n",
        "  final_lst = []\n",
        "  for items in lst:\n",
        "    if items == '':\n",
        "      pass\n",
        "    else:\n",
        "      final_lst.append(items)\n",
        "\n",
        "  qna = []\n",
        "  for item in final_lst:\n",
        "    question = item\n",
        "\n",
        "    template_qna = f'''Read this and answer the question. If the question is unanswerable, \"\"say \\\"unanswerable\\\".\\n\\n{final}\\n\\n{question}\n",
        "    '''\n",
        "\n",
        "    start = datetime.datetime.now()\n",
        "    res = model77(template_qna, temperature=0.3, repetition_penalty=1.3, max_length=400, do_sample=True)[0]['generated_text']\n",
        "    elaps = datetime.datetime.now() - start\n",
        "    \"\"\"\n",
        "    console.print(f\"[bold deep_sky_blue1]{question}\")\n",
        "    console.print(Markdown(res))\n",
        "    console.print(f\"[red1 bold]Qna Completed in {elaps}\")\n",
        "    console.print(Markdown(\"---\"))\n",
        "    \"\"\"\n",
        "    qna.append({'question':item,\n",
        "                'answer': res})\n",
        "    logger = \"QUESTION: \" + question + \"\\nANSWER: \"+ res + \"\\n---\\n\\n\"\n",
        "    writehistory(logger)\n",
        "  sum_db = {'document' : documentfilename,\n",
        "            'title' : title,\n",
        "            'author' : author,\n",
        "            'url' : docurl,\n",
        "            'summary' : final,\n",
        "            'keywords' : tags_summary,\n",
        "             'qna' : qna}\n",
        "  # sum_db constains all original file metadata and the ones from GUI user input\n",
        "  # qna is a list of dict with EDA questions and answers\n",
        "  # keys a list of ready for LangChain.Document creation with metadata\n",
        "  return sum_db, qna, keys\n",
        "\n",
        "#Funtion to club the ones above\n",
        "\n",
        "def start_SMS(fulltext, documentfilename, title, author,url):\n",
        "  console.print(\"Starting TXT Summarization...\")\n",
        "  global SUMfinal\n",
        "  global QNASet\n",
        "  global DOCSkeys\n",
        "  SUMfinal,QNASet, DOCSkeys = SMS(fulltext, model77, 450, 10, documentfilename, title, author,url)\n",
        "  console.print(\"Process Completed!\")\n",
        "  return SUMfinal\n",
        "\n",
        "def printQNA(produced_qna):\n",
        "  head = \"\"\"### Generated Qna<br><br>\"\"\"\n",
        "  qnaset = \" \"\n",
        "  for item in produced_qna:\n",
        "    temp = f\"\"\"\n",
        "> **Question: {item['question']}**<br>\n",
        "> *Answer: {item['answer']}*<br>\n",
        "\"\"\"\n",
        "    qnaset = qnaset + temp\n",
        "  finalQnA = head + qnaset\n",
        "  console.print(Markdown(finalQnA))\n",
        "  return finalQnA\n",
        "\n",
        "def start_search(b):\n",
        "  global fulltext\n",
        "  with open(b, encoding=\"utf8\") as f:\n",
        "    fulltext = f.read()\n",
        "  f.close()\n",
        "  console.print(\"[bold deep_sky_blue1]text has been captured\")\n",
        "  console.print(Markdown(\"---\"))\n",
        "  console.print(\"Saved in variable `fulltext`\")\n",
        "  statmessage = \"Operation Successful\\nClick on Start Summarization ↗️\"\n",
        "  return fulltext\n",
        "\n",
        "def generate(instruction):\n",
        "  prompt = instruction\n",
        "  start = datetime.datetime.now()\n",
        "  with console.status(\"AI is thinking...\",spinner=\"dots12\"):\n",
        "    output = model77(prompt, temperature=0.3, repetition_penalty=1.3, max_length=400, do_sample=True)[0]['generated_text']\n",
        "  delta = datetime.datetime.now()-start\n",
        "  console.print(f\"[green1 italic]:two_o’clock: generated in {delta}\")\n",
        "  console.print(f\"[bold bright_yellow]🦙 LaMini-Flan-77M: {output}\")\n",
        "  return output, delta"
      ],
      "metadata": {
        "id": "lNyM1vaoTFHG"
      },
      "execution_count": null,
      "outputs": []
    },
    {
      "cell_type": "code",
      "source": [
        "fulltext = start_search('/content/2023-12-03 18.41.12 Governing societies with Artificial Intelligence .txt')"
      ],
      "metadata": {
        "colab": {
          "base_uri": "https://localhost:8080/",
          "height": 65
        },
        "id": "Sug4Tt71Tqkq",
        "outputId": "cad66c92-0584-4af4-ffa7-7f471974d6d5"
      },
      "execution_count": null,
      "outputs": [
        {
          "output_type": "display_data",
          "data": {
            "text/plain": [
              "\u001b[1;38;5;39mtext has been captured\u001b[0m\n"
            ],
            "text/html": [
              "<pre style=\"white-space:pre;overflow-x:auto;line-height:normal;font-family:Menlo,'DejaVu Sans Mono',consolas,'Courier New',monospace\"><span style=\"color: #00afff; text-decoration-color: #00afff; font-weight: bold\">text has been captured</span>\n",
              "</pre>\n"
            ]
          },
          "metadata": {}
        },
        {
          "output_type": "display_data",
          "data": {
            "text/plain": [
              "\u001b[33m──────────────────────────────────────────────────────────────────────────────────────────────────────────────\u001b[0m\n"
            ],
            "text/html": [
              "<pre style=\"white-space:pre;overflow-x:auto;line-height:normal;font-family:Menlo,'DejaVu Sans Mono',consolas,'Courier New',monospace\"><span style=\"color: #808000; text-decoration-color: #808000\">──────────────────────────────────────────────────────────────────────────────────────────────────────────────</span>\n",
              "</pre>\n"
            ]
          },
          "metadata": {}
        },
        {
          "output_type": "display_data",
          "data": {
            "text/plain": [
              "Saved in variable `fulltext`\n"
            ],
            "text/html": [
              "<pre style=\"white-space:pre;overflow-x:auto;line-height:normal;font-family:Menlo,'DejaVu Sans Mono',consolas,'Courier New',monospace\">Saved in variable `fulltext`\n",
              "</pre>\n"
            ]
          },
          "metadata": {}
        }
      ]
    },
    {
      "cell_type": "code",
      "source": [
        "SUMfinal,QNASet, DOCSkeys = SMS(text, model783, 350, 10,\n",
        "                                '2023-12-01 09.00.47 Governing societies with Artificial Intelligence .txt',\n",
        "                                'Governing societies with Artificial Intelligence',\n",
        "                                'Giles Crouch','https://gilescrouch.medium.com/governing-society-and-artificial-intelligence-23882b9ce473')\n",
        "console.print(\"Process Completed!\")"
      ],
      "metadata": {
        "colab": {
          "base_uri": "https://localhost:8080/",
          "height": 1000,
          "referenced_widgets": [
            "711e3bd2c74c415884d1362d1de57ae2",
            "5c61d5f9602940fdb82d72794321e347",
            "8027e1a828bc48c08656fa7880535447",
            "dd1a232b62834107a06274c18dca2bfd"
          ]
        },
        "id": "MeSTSf9STqDX",
        "outputId": "ece2511c-ff78-48c4-c786-a74392a095cb"
      },
      "execution_count": null,
      "outputs": [
        {
          "output_type": "display_data",
          "data": {
            "text/plain": [
              "Output()"
            ],
            "application/vnd.jupyter.widget-view+json": {
              "version_major": 2,
              "version_minor": 0,
              "model_id": "711e3bd2c74c415884d1362d1de57ae2"
            }
          },
          "metadata": {}
        },
        {
          "output_type": "display_data",
          "data": {
            "text/plain": [
              "\u001b[30;48;2;255;255;0mApple\u001b[0m iOS App Store \u001b[30;48;2;255;255;0mannounces\u001b[0m sweeping changes in the \u001b[30;48;2;255;255;0mEU\u001b[0m https www axios com 2024 01 25 \u001b[30;48;2;255;255;0mapple\u001b[0m app store \u001b[30;48;2;255;255;0meu\u001b[0m changes \n",
              "\u001b[30;48;2;255;255;0mApple\u001b[0m \u001b[30;48;2;255;255;0mannounces\u001b[0m sweeping \u001b[30;48;2;255;255;0mEU\u001b[0m App Store changes Ashley Gold author of Axios Pro Tech Policy \u001b[30;48;2;255;255;0mApple\u001b[0m will allow \n",
              "alternative app stores and other new options for app \u001b[30;48;2;255;255;0mdevelopers\u001b[0m in order to comply with Europe Digital Markets Act \n",
              "the company said Thursday Driving the news Europe major tech competition law set to go into effect March requires \n",
              "\u001b[30;48;2;255;255;0mApple\u001b[0m to loosen its strict rules requiring \u001b[30;48;2;255;255;0mdevelopers\u001b[0m to rely on the App Store for distribution and payment \n",
              "processing \u001b[30;48;2;255;255;0mApple\u001b[0m has long resisted any changes to its App Store rules citing security and privacy The company also \n",
              "argues its services for \u001b[30;48;2;255;255;0mdevelopers\u001b[0m are best in class and ensure smooth user experiences free of spam or harmful \n",
              "content Why it matters \u001b[30;48;2;255;255;0mApple\u001b[0m is being forced to make sweeping changes to one of its flagship walled garden systems \n",
              "in what some smaller companies are seeing as major win Spotify previewed what its app will look like in Europe post\n",
              "March this week \u001b[30;48;2;255;255;0mApple\u001b[0m said it has been in touch with \u001b[30;48;2;255;255;0mdevelopers\u001b[0m about the coming changes and that its \u001b[30;48;2;255;255;0mcompliance\u001b[0m \n",
              "adheres to the letter of the law What they re saying \u001b[30;48;2;255;255;0mApple\u001b[0m is making these changes with the caveat that the company\n",
              "has done everything it can to ensure iOS devices remain secure and malware free but it has no plans to expand these\n",
              "options outside of Europe citing risk The company believes that after the DMA imposed changes go through people \n",
              "will start to understand why \u001b[30;48;2;255;255;0mApple\u001b[0m has maintained its strict policies for \u001b[30;48;2;255;255;0mdevelopers\u001b[0m Across every change\n"
            ],
            "text/html": [
              "<pre style=\"white-space:pre;overflow-x:auto;line-height:normal;font-family:Menlo,'DejaVu Sans Mono',consolas,'Courier New',monospace\"><span style=\"color: #000000; text-decoration-color: #000000; background-color: #ffff00\">Apple</span> iOS App Store <span style=\"color: #000000; text-decoration-color: #000000; background-color: #ffff00\">announces</span> sweeping changes in the <span style=\"color: #000000; text-decoration-color: #000000; background-color: #ffff00\">EU</span> https www axios com 2024 01 25 <span style=\"color: #000000; text-decoration-color: #000000; background-color: #ffff00\">apple</span> app store <span style=\"color: #000000; text-decoration-color: #000000; background-color: #ffff00\">eu</span> changes \n",
              "<span style=\"color: #000000; text-decoration-color: #000000; background-color: #ffff00\">Apple</span> <span style=\"color: #000000; text-decoration-color: #000000; background-color: #ffff00\">announces</span> sweeping <span style=\"color: #000000; text-decoration-color: #000000; background-color: #ffff00\">EU</span> App Store changes Ashley Gold author of Axios Pro Tech Policy <span style=\"color: #000000; text-decoration-color: #000000; background-color: #ffff00\">Apple</span> will allow \n",
              "alternative app stores and other new options for app <span style=\"color: #000000; text-decoration-color: #000000; background-color: #ffff00\">developers</span> in order to comply with Europe Digital Markets Act \n",
              "the company said Thursday Driving the news Europe major tech competition law set to go into effect March requires \n",
              "<span style=\"color: #000000; text-decoration-color: #000000; background-color: #ffff00\">Apple</span> to loosen its strict rules requiring <span style=\"color: #000000; text-decoration-color: #000000; background-color: #ffff00\">developers</span> to rely on the App Store for distribution and payment \n",
              "processing <span style=\"color: #000000; text-decoration-color: #000000; background-color: #ffff00\">Apple</span> has long resisted any changes to its App Store rules citing security and privacy The company also \n",
              "argues its services for <span style=\"color: #000000; text-decoration-color: #000000; background-color: #ffff00\">developers</span> are best in class and ensure smooth user experiences free of spam or harmful \n",
              "content Why it matters <span style=\"color: #000000; text-decoration-color: #000000; background-color: #ffff00\">Apple</span> is being forced to make sweeping changes to one of its flagship walled garden systems \n",
              "in what some smaller companies are seeing as major win Spotify previewed what its app will look like in Europe post\n",
              "March this week <span style=\"color: #000000; text-decoration-color: #000000; background-color: #ffff00\">Apple</span> said it has been in touch with <span style=\"color: #000000; text-decoration-color: #000000; background-color: #ffff00\">developers</span> about the coming changes and that its <span style=\"color: #000000; text-decoration-color: #000000; background-color: #ffff00\">compliance</span> \n",
              "adheres to the letter of the law What they re saying <span style=\"color: #000000; text-decoration-color: #000000; background-color: #ffff00\">Apple</span> is making these changes with the caveat that the company\n",
              "has done everything it can to ensure iOS devices remain secure and malware free but it has no plans to expand these\n",
              "options outside of Europe citing risk The company believes that after the DMA imposed changes go through people \n",
              "will start to understand why <span style=\"color: #000000; text-decoration-color: #000000; background-color: #ffff00\">Apple</span> has maintained its strict policies for <span style=\"color: #000000; text-decoration-color: #000000; background-color: #ffff00\">developers</span> Across every change\n",
              "</pre>\n"
            ]
          },
          "metadata": {}
        },
        {
          "output_type": "display_data",
          "data": {
            "text/plain": [
              "policies for \u001b[30;48;2;255;255;0mdevelopers\u001b[0m Across every change \u001b[30;48;2;255;255;0mApple\u001b[0m is introducing new safeguards that reduce but don eliminate new \n",
              "risks the DMA poses to \u001b[30;48;2;255;255;0mEU\u001b[0m users the company said in release Yes but \u001b[30;48;2;255;255;0mApple\u001b[0m is also introducing new fee structures \n",
              "for \u001b[30;48;2;255;255;0mdevelopers\u001b[0m who take advantage of the new freedoms Details As part of iOS 17 \u001b[30;48;2;255;255;0mApple\u001b[0m will charge core technology \n",
              "fee of 50 for each first annual install per year for \u001b[30;48;2;255;255;0mdevelopers\u001b[0m whose \u001b[30;48;2;255;255;0mapps\u001b[0m have achieved more than million \n",
              "downloads to be counted once per \u001b[30;48;2;255;255;0mApple\u001b[0m account That fee will apply to \u001b[30;48;2;255;255;0mapps\u001b[0m that switch to their own marketplaces or\n",
              "remain on the App Store \u001b[30;48;2;255;255;0mApple\u001b[0m says the fee reflects the many ways \u001b[30;48;2;255;255;0mApple\u001b[0m creates value for \u001b[30;48;2;255;255;0mdevelopers\u001b[0m businesses The\n",
              "App Store commission for \u001b[30;48;2;255;255;0mdevelopers\u001b[0m who continue to use it will drop from 30 to 17 The discounted rate for certain \n",
              "\u001b[30;48;2;255;255;0mdevelopers\u001b[0m will drop from 15 to 10 No commission will be charged to \u001b[30;48;2;255;255;0mdevelopers\u001b[0m who want to distribute and \n",
              "facilitate in app payments outside of the App Store \u001b[30;48;2;255;255;0mApple\u001b[0m said that approximate 99 of \u001b[30;48;2;255;255;0mdevelopers\u001b[0m will pay the same \n",
              "or less in \u001b[30;48;2;255;255;0mfees\u001b[0m Go deeper The iOS changes will include notarization for iOS \u001b[30;48;2;255;255;0mapps\u001b[0m authorization for marketplace \n",
              "\u001b[30;48;2;255;255;0mdevelopers\u001b[0m and disclosures on alternative payments \u001b[30;48;2;255;255;0mApple\u001b[0m says in the release that if \u001b[30;48;2;255;255;0mapps\u001b[0m opt out of \u001b[30;48;2;255;255;0mApple\u001b[0m system \n",
              "the company has less ability to address other risks like scam fraud abuse or objectionable or harmful content Users\n",
              "in the \u001b[30;48;2;255;255;0mEU\u001b[0m will also see browser choice screen in iOS 17 to pick default browser The other side Epic Games CEO Tim \n",
              "Sweeney said on \u001b[30;48;2;255;255;0mApple\u001b[0m plan to\n"
            ],
            "text/html": [
              "<pre style=\"white-space:pre;overflow-x:auto;line-height:normal;font-family:Menlo,'DejaVu Sans Mono',consolas,'Courier New',monospace\">policies for <span style=\"color: #000000; text-decoration-color: #000000; background-color: #ffff00\">developers</span> Across every change <span style=\"color: #000000; text-decoration-color: #000000; background-color: #ffff00\">Apple</span> is introducing new safeguards that reduce but don eliminate new \n",
              "risks the DMA poses to <span style=\"color: #000000; text-decoration-color: #000000; background-color: #ffff00\">EU</span> users the company said in release Yes but <span style=\"color: #000000; text-decoration-color: #000000; background-color: #ffff00\">Apple</span> is also introducing new fee structures \n",
              "for <span style=\"color: #000000; text-decoration-color: #000000; background-color: #ffff00\">developers</span> who take advantage of the new freedoms Details As part of iOS 17 <span style=\"color: #000000; text-decoration-color: #000000; background-color: #ffff00\">Apple</span> will charge core technology \n",
              "fee of 50 for each first annual install per year for <span style=\"color: #000000; text-decoration-color: #000000; background-color: #ffff00\">developers</span> whose <span style=\"color: #000000; text-decoration-color: #000000; background-color: #ffff00\">apps</span> have achieved more than million \n",
              "downloads to be counted once per <span style=\"color: #000000; text-decoration-color: #000000; background-color: #ffff00\">Apple</span> account That fee will apply to <span style=\"color: #000000; text-decoration-color: #000000; background-color: #ffff00\">apps</span> that switch to their own marketplaces or\n",
              "remain on the App Store <span style=\"color: #000000; text-decoration-color: #000000; background-color: #ffff00\">Apple</span> says the fee reflects the many ways <span style=\"color: #000000; text-decoration-color: #000000; background-color: #ffff00\">Apple</span> creates value for <span style=\"color: #000000; text-decoration-color: #000000; background-color: #ffff00\">developers</span> businesses The\n",
              "App Store commission for <span style=\"color: #000000; text-decoration-color: #000000; background-color: #ffff00\">developers</span> who continue to use it will drop from 30 to 17 The discounted rate for certain \n",
              "<span style=\"color: #000000; text-decoration-color: #000000; background-color: #ffff00\">developers</span> will drop from 15 to 10 No commission will be charged to <span style=\"color: #000000; text-decoration-color: #000000; background-color: #ffff00\">developers</span> who want to distribute and \n",
              "facilitate in app payments outside of the App Store <span style=\"color: #000000; text-decoration-color: #000000; background-color: #ffff00\">Apple</span> said that approximate 99 of <span style=\"color: #000000; text-decoration-color: #000000; background-color: #ffff00\">developers</span> will pay the same \n",
              "or less in <span style=\"color: #000000; text-decoration-color: #000000; background-color: #ffff00\">fees</span> Go deeper The iOS changes will include notarization for iOS <span style=\"color: #000000; text-decoration-color: #000000; background-color: #ffff00\">apps</span> authorization for marketplace \n",
              "<span style=\"color: #000000; text-decoration-color: #000000; background-color: #ffff00\">developers</span> and disclosures on alternative payments <span style=\"color: #000000; text-decoration-color: #000000; background-color: #ffff00\">Apple</span> says in the release that if <span style=\"color: #000000; text-decoration-color: #000000; background-color: #ffff00\">apps</span> opt out of <span style=\"color: #000000; text-decoration-color: #000000; background-color: #ffff00\">Apple</span> system \n",
              "the company has less ability to address other risks like scam fraud abuse or objectionable or harmful content Users\n",
              "in the <span style=\"color: #000000; text-decoration-color: #000000; background-color: #ffff00\">EU</span> will also see browser choice screen in iOS 17 to pick default browser The other side Epic Games CEO Tim \n",
              "Sweeney said on <span style=\"color: #000000; text-decoration-color: #000000; background-color: #ffff00\">Apple</span> plan to\n",
              "</pre>\n"
            ]
          },
          "metadata": {}
        },
        {
          "output_type": "display_data",
          "data": {
            "text/plain": [
              "Sweeney said on \u001b[30;48;2;255;255;0mApple\u001b[0m plan to thwart Europe new Digital Markets Act law is devious new instance of Malicious \n",
              "Compliance \u001b[30;48;2;255;255;0mEpic\u001b[0m has always supported the notion of \u001b[30;48;2;255;255;0mApple\u001b[0m notarization and \u001b[30;48;2;255;255;0mmalware\u001b[0m scanning for apps but we strongly\n",
              "reject \u001b[30;48;2;255;255;0mApple\u001b[0m twisting this process to undermine competition and continue imposing \u001b[30;48;2;255;255;0mApple\u001b[0m \u001b[30;48;2;255;255;0mtaxes\u001b[0m on transactions they \n",
              "re not involved in What to watch It up to the European Commission to determine whether \u001b[30;48;2;255;255;0mApple\u001b[0m plan fully complies \n",
              "with the DMA iPhone app \u001b[30;48;2;255;255;0mdevelopers\u001b[0m face whole new world of choices and time will tell if the changes boost \n",
              "competition and improve experiences for users\n"
            ],
            "text/html": [
              "<pre style=\"white-space:pre;overflow-x:auto;line-height:normal;font-family:Menlo,'DejaVu Sans Mono',consolas,'Courier New',monospace\">Sweeney said on <span style=\"color: #000000; text-decoration-color: #000000; background-color: #ffff00\">Apple</span> plan to thwart Europe new Digital Markets Act law is devious new instance of Malicious \n",
              "Compliance <span style=\"color: #000000; text-decoration-color: #000000; background-color: #ffff00\">Epic</span> has always supported the notion of <span style=\"color: #000000; text-decoration-color: #000000; background-color: #ffff00\">Apple</span> notarization and <span style=\"color: #000000; text-decoration-color: #000000; background-color: #ffff00\">malware</span> scanning for apps but we strongly\n",
              "reject <span style=\"color: #000000; text-decoration-color: #000000; background-color: #ffff00\">Apple</span> twisting this process to undermine competition and continue imposing <span style=\"color: #000000; text-decoration-color: #000000; background-color: #ffff00\">Apple</span> <span style=\"color: #000000; text-decoration-color: #000000; background-color: #ffff00\">taxes</span> on transactions they \n",
              "re not involved in What to watch It up to the European Commission to determine whether <span style=\"color: #000000; text-decoration-color: #000000; background-color: #ffff00\">Apple</span> plan fully complies \n",
              "with the DMA iPhone app <span style=\"color: #000000; text-decoration-color: #000000; background-color: #ffff00\">developers</span> face whole new world of choices and time will tell if the changes boost \n",
              "competition and improve experiences for users\n",
              "</pre>\n"
            ]
          },
          "metadata": {}
        },
        {
          "output_type": "display_data",
          "data": {
            "text/plain": [],
            "text/html": [
              "<pre style=\"white-space:pre;overflow-x:auto;line-height:normal;font-family:Menlo,'DejaVu Sans Mono',consolas,'Courier New',monospace\"></pre>\n"
            ]
          },
          "metadata": {}
        },
        {
          "output_type": "display_data",
          "data": {
            "text/plain": [
              "\n"
            ],
            "text/html": [
              "<pre style=\"white-space:pre;overflow-x:auto;line-height:normal;font-family:Menlo,'DejaVu Sans Mono',consolas,'Courier New',monospace\">\n",
              "</pre>\n"
            ]
          },
          "metadata": {}
        },
        {
          "output_type": "display_data",
          "data": {
            "text/plain": [
              "\u001b[30;48;2;255;255;0mApple\u001b[0m will allow alternative app stores and other new options for \u001b[30;48;2;255;255;0mdevelopers\u001b[0m to comply with Europe Digital Markets \n",
              "Act which requires the company to loosen its strict rules requiring \u001b[30;48;2;255;255;0mdevelopers\u001b[0m to use the App Store for \n",
              "distribution and payment processing The changes are expected to be implemented in March \u001b[30;48;2;255;255;0m2022\u001b[0m While \u001b[30;48;2;255;255;0mApple\u001b[0m has \n",
              "maintained strong security measures on iOS devices it has no plans to expand these options outside of Europe due to\n",
              "risk \u001b[30;48;2;255;255;0mApple\u001b[0m has introduced new safeguards and fee structures for \u001b[30;48;2;255;255;0mdevelopers\u001b[0m in the \u001b[30;48;2;255;255;0mEU\u001b[0m including core technology fee \n",
              "of 50 per first annual install for \u001b[30;48;2;255;255;0mapps\u001b[0m with over million downloads on their App Store or marketplace The App Store\n",
              "commission will also drop from 30 to 17 while certain developer fees will be waived Additionally users in the \u001b[30;48;2;255;255;0mEU\u001b[0m \n",
              "will see browser choice screen to choose an alternative payment method Epic Games CEO Tim Sweeney stated that \u001b[30;48;2;255;255;0mApple\u001b[0m\n",
              "plan is to make it easier for \u001b[30;48;2;255;255;0mdevelopers\u001b[0m to build mobile games \u001b[30;48;2;255;255;0mApple\u001b[0m plan to block Europe Digital Markets Act law \n",
              "has been criticized as an example of Malicious Compliance Epic which supports the idea of app notarization and \n",
              "malware scanning strongly opposes \u001b[30;48;2;255;255;0mApple\u001b[0m twisting of this process in order to undermine competition The European \n",
              "Commission will have to determine whether \u001b[30;48;2;255;255;0mApple\u001b[0m plan fully adheres to DMA regulations leaving iPhone app \u001b[30;48;2;255;255;0mdevelopers\u001b[0m\n",
              "with new choices and uncertainty about their future experiences for users\n"
            ],
            "text/html": [
              "<pre style=\"white-space:pre;overflow-x:auto;line-height:normal;font-family:Menlo,'DejaVu Sans Mono',consolas,'Courier New',monospace\"><span style=\"color: #000000; text-decoration-color: #000000; background-color: #ffff00\">Apple</span> will allow alternative app stores and other new options for <span style=\"color: #000000; text-decoration-color: #000000; background-color: #ffff00\">developers</span> to comply with Europe Digital Markets \n",
              "Act which requires the company to loosen its strict rules requiring <span style=\"color: #000000; text-decoration-color: #000000; background-color: #ffff00\">developers</span> to use the App Store for \n",
              "distribution and payment processing The changes are expected to be implemented in March <span style=\"color: #000000; text-decoration-color: #000000; background-color: #ffff00\">2022</span> While <span style=\"color: #000000; text-decoration-color: #000000; background-color: #ffff00\">Apple</span> has \n",
              "maintained strong security measures on iOS devices it has no plans to expand these options outside of Europe due to\n",
              "risk <span style=\"color: #000000; text-decoration-color: #000000; background-color: #ffff00\">Apple</span> has introduced new safeguards and fee structures for <span style=\"color: #000000; text-decoration-color: #000000; background-color: #ffff00\">developers</span> in the <span style=\"color: #000000; text-decoration-color: #000000; background-color: #ffff00\">EU</span> including core technology fee \n",
              "of 50 per first annual install for <span style=\"color: #000000; text-decoration-color: #000000; background-color: #ffff00\">apps</span> with over million downloads on their App Store or marketplace The App Store\n",
              "commission will also drop from 30 to 17 while certain developer fees will be waived Additionally users in the <span style=\"color: #000000; text-decoration-color: #000000; background-color: #ffff00\">EU</span> \n",
              "will see browser choice screen to choose an alternative payment method Epic Games CEO Tim Sweeney stated that <span style=\"color: #000000; text-decoration-color: #000000; background-color: #ffff00\">Apple</span>\n",
              "plan is to make it easier for <span style=\"color: #000000; text-decoration-color: #000000; background-color: #ffff00\">developers</span> to build mobile games <span style=\"color: #000000; text-decoration-color: #000000; background-color: #ffff00\">Apple</span> plan to block Europe Digital Markets Act law \n",
              "has been criticized as an example of Malicious Compliance Epic which supports the idea of app notarization and \n",
              "malware scanning strongly opposes <span style=\"color: #000000; text-decoration-color: #000000; background-color: #ffff00\">Apple</span> twisting of this process in order to undermine competition The European \n",
              "Commission will have to determine whether <span style=\"color: #000000; text-decoration-color: #000000; background-color: #ffff00\">Apple</span> plan fully adheres to DMA regulations leaving iPhone app <span style=\"color: #000000; text-decoration-color: #000000; background-color: #ffff00\">developers</span>\n",
              "with new choices and uncertainty about their future experiences for users\n",
              "</pre>\n"
            ]
          },
          "metadata": {}
        },
        {
          "output_type": "display_data",
          "data": {
            "text/plain": [
              "\n",
              "                                                   \u001b[1;4mSUMMARY\u001b[0m                                                    \n"
            ],
            "text/html": [
              "<pre style=\"white-space:pre;overflow-x:auto;line-height:normal;font-family:Menlo,'DejaVu Sans Mono',consolas,'Courier New',monospace\">\n",
              "                                                   <span style=\"font-weight: bold; text-decoration: underline\">SUMMARY</span>                                                    \n",
              "</pre>\n"
            ]
          },
          "metadata": {}
        },
        {
          "output_type": "display_data",
          "data": {
            "text/plain": [
              "Apple will allow alternative app stores and other new options for developers to comply with Europe's Digital  \n",
              "Markets Act, which requires the company to loosen its strict rules requiring developers to use the App Store  \n",
              "for distribution and payment processing. The changes are expected to be implemented in March 2022. While Apple\n",
              "has maintained strong security measures on iOS devices, it has no plans to expand these options outside of    \n",
              "Europe due to risk. Apple has introduced new safeguards and fee structures for developers in the EU, including\n",
              "a core technology fee of €.50 per first annual install for apps with over 1 million downloads on their App    \n",
              "Store or marketplace. The App Store commission will also drop from 30% to 17%, while certain developer fees   \n",
              "will be waived. Additionally, users in the EU will see a browser choice screen to choose an alternative       \n",
              "payment method. Epic Games CEO Tim Sweeney stated that Apple's plan is \"to make it easier for developers to   \n",
              "build mobile games.\" Apple's plan to block Europe's Digital Markets Act law has been criticized as an example \n",
              "of \"Malicious Compliance.\" Epic, which supports the idea of app notarization and malware scanning, strongly   \n",
              "opposes Apple's twisting of this process in order to undermine competition. The European Commission will have \n",
              "to determine whether Apple's plan fully adheres to DMA regulations, leaving iPhone app developers with new    \n",
              "choices and uncertainty about their future experiences for users.                                             \n"
            ],
            "text/html": [
              "<pre style=\"white-space:pre;overflow-x:auto;line-height:normal;font-family:Menlo,'DejaVu Sans Mono',consolas,'Courier New',monospace\">Apple will allow alternative app stores and other new options for developers to comply with Europe's Digital  \n",
              "Markets Act, which requires the company to loosen its strict rules requiring developers to use the App Store  \n",
              "for distribution and payment processing. The changes are expected to be implemented in March 2022. While Apple\n",
              "has maintained strong security measures on iOS devices, it has no plans to expand these options outside of    \n",
              "Europe due to risk. Apple has introduced new safeguards and fee structures for developers in the EU, including\n",
              "a core technology fee of €.50 per first annual install for apps with over 1 million downloads on their App    \n",
              "Store or marketplace. The App Store commission will also drop from 30% to 17%, while certain developer fees   \n",
              "will be waived. Additionally, users in the EU will see a browser choice screen to choose an alternative       \n",
              "payment method. Epic Games CEO Tim Sweeney stated that Apple's plan is \"to make it easier for developers to   \n",
              "build mobile games.\" Apple's plan to block Europe's Digital Markets Act law has been criticized as an example \n",
              "of \"Malicious Compliance.\" Epic, which supports the idea of app notarization and malware scanning, strongly   \n",
              "opposes Apple's twisting of this process in order to undermine competition. The European Commission will have \n",
              "to determine whether Apple's plan fully adheres to DMA regulations, leaving iPhone app developers with new    \n",
              "choices and uncertainty about their future experiences for users.                                             \n",
              "</pre>\n"
            ]
          },
          "metadata": {}
        },
        {
          "output_type": "display_data",
          "data": {
            "text/plain": [
              "                                                   \u001b[1mMETATAGS\u001b[0m                                                   \n"
            ],
            "text/html": [
              "<pre style=\"white-space:pre;overflow-x:auto;line-height:normal;font-family:Menlo,'DejaVu Sans Mono',consolas,'Courier New',monospace\">                                                   <span style=\"font-weight: bold\">METATAGS</span>                                                   \n",
              "</pre>\n"
            ]
          },
          "metadata": {}
        },
        {
          "output_type": "display_data",
          "data": {
            "text/plain": [
              "['eu', 'apps', 'developers', 'apple', '2022']                                                                 \n"
            ],
            "text/html": [
              "<pre style=\"white-space:pre;overflow-x:auto;line-height:normal;font-family:Menlo,'DejaVu Sans Mono',consolas,'Courier New',monospace\">['eu', 'apps', 'developers', 'apple', '2022']                                                                 \n",
              "</pre>\n"
            ]
          },
          "metadata": {}
        },
        {
          "output_type": "display_data",
          "data": {
            "text/plain": [
              "---\n"
            ],
            "text/html": [
              "<pre style=\"white-space:pre;overflow-x:auto;line-height:normal;font-family:Menlo,'DejaVu Sans Mono',consolas,'Courier New',monospace\">---\n",
              "</pre>\n"
            ]
          },
          "metadata": {}
        },
        {
          "output_type": "display_data",
          "data": {
            "text/plain": [
              "\u001b[1;38;5;196mFull RAG PREPROCESSING Completed in \u001b[0m\u001b[1;38;5;196m0:01:36\u001b[0m\u001b[1;38;5;196m.\u001b[0m\u001b[1;38;5;196m514436\u001b[0m\n"
            ],
            "text/html": [
              "<pre style=\"white-space:pre;overflow-x:auto;line-height:normal;font-family:Menlo,'DejaVu Sans Mono',consolas,'Courier New',monospace\"><span style=\"color: #ff0000; text-decoration-color: #ff0000; font-weight: bold\">Full RAG PREPROCESSING Completed in 0:01:36.</span><span style=\"color: #ff0000; text-decoration-color: #ff0000; font-weight: bold\">514436</span>\n",
              "</pre>\n"
            ]
          },
          "metadata": {}
        },
        {
          "output_type": "display_data",
          "data": {
            "text/plain": [
              "\u001b[33m──────────────────────────────────────────────────────────────────────────────────────────────────────────────\u001b[0m\n"
            ],
            "text/html": [
              "<pre style=\"white-space:pre;overflow-x:auto;line-height:normal;font-family:Menlo,'DejaVu Sans Mono',consolas,'Courier New',monospace\"><span style=\"color: #808000; text-decoration-color: #808000\">──────────────────────────────────────────────────────────────────────────────────────────────────────────────</span>\n",
              "</pre>\n"
            ]
          },
          "metadata": {}
        },
        {
          "output_type": "display_data",
          "data": {
            "text/plain": [
              "Generating Qna\u001b[33m...\u001b[0m\n"
            ],
            "text/html": [
              "<pre style=\"white-space:pre;overflow-x:auto;line-height:normal;font-family:Menlo,'DejaVu Sans Mono',consolas,'Courier New',monospace\">Generating Qna<span style=\"color: #808000; text-decoration-color: #808000\">...</span>\n",
              "</pre>\n"
            ]
          },
          "metadata": {}
        },
        {
          "output_type": "display_data",
          "data": {
            "text/plain": [
              "Output()"
            ],
            "application/vnd.jupyter.widget-view+json": {
              "version_major": 2,
              "version_minor": 0,
              "model_id": "8027e1a828bc48c08656fa7880535447"
            }
          },
          "metadata": {}
        },
        {
          "output_type": "display_data",
          "data": {
            "text/plain": [],
            "text/html": [
              "<pre style=\"white-space:pre;overflow-x:auto;line-height:normal;font-family:Menlo,'DejaVu Sans Mono',consolas,'Courier New',monospace\"></pre>\n"
            ]
          },
          "metadata": {}
        },
        {
          "output_type": "display_data",
          "data": {
            "text/plain": [
              "\n"
            ],
            "text/html": [
              "<pre style=\"white-space:pre;overflow-x:auto;line-height:normal;font-family:Menlo,'DejaVu Sans Mono',consolas,'Courier New',monospace\">\n",
              "</pre>\n"
            ]
          },
          "metadata": {}
        },
        {
          "output_type": "display_data",
          "data": {
            "text/plain": [
              "\u001b[33m──────────────────────────────────────────────────────────────────────────────────────────────────────────────\u001b[0m\n"
            ],
            "text/html": [
              "<pre style=\"white-space:pre;overflow-x:auto;line-height:normal;font-family:Menlo,'DejaVu Sans Mono',consolas,'Courier New',monospace\"><span style=\"color: #808000; text-decoration-color: #808000\">──────────────────────────────────────────────────────────────────────────────────────────────────────────────</span>\n",
              "</pre>\n"
            ]
          },
          "metadata": {}
        },
        {
          "output_type": "display_data",
          "data": {
            "text/plain": [
              "\u001b[1;38;5;196mQuestions generated in \u001b[0m\u001b[1;38;5;196m0:01:05\u001b[0m\u001b[1;38;5;196m.\u001b[0m\u001b[1;38;5;196m885950\u001b[0m\n"
            ],
            "text/html": [
              "<pre style=\"white-space:pre;overflow-x:auto;line-height:normal;font-family:Menlo,'DejaVu Sans Mono',consolas,'Courier New',monospace\"><span style=\"color: #ff0000; text-decoration-color: #ff0000; font-weight: bold\">Questions generated in 0:01:05.</span><span style=\"color: #ff0000; text-decoration-color: #ff0000; font-weight: bold\">885950</span>\n",
              "</pre>\n"
            ]
          },
          "metadata": {}
        },
        {
          "output_type": "display_data",
          "data": {
            "text/plain": [
              "Process Completed!\n"
            ],
            "text/html": [
              "<pre style=\"white-space:pre;overflow-x:auto;line-height:normal;font-family:Menlo,'DejaVu Sans Mono',consolas,'Courier New',monospace\">Process Completed!\n",
              "</pre>\n"
            ]
          },
          "metadata": {}
        }
      ]
    },
    {
      "cell_type": "code",
      "source": [
        "questans = printQNA(QNASet)"
      ],
      "metadata": {
        "colab": {
          "base_uri": "https://localhost:8080/",
          "height": 525
        },
        "id": "OrftctY1c-cl",
        "outputId": "226f365d-fd5e-4f41-92e7-ea2332585623"
      },
      "execution_count": null,
      "outputs": [
        {
          "output_type": "display_data",
          "data": {
            "text/plain": [
              "\n",
              "\n",
              "                                                \u001b[1mGenerated Qna\u001b[0m                                                 \n",
              "\n",
              "\n",
              "\n",
              "\u001b[35m▌ \u001b[0m\u001b[1;35mQuestion:  Apple will allow alternative app stores and other new options for app developers to comply with\u001b[0m\n",
              "\u001b[35m▌ \u001b[0m\u001b[1;35mEurope's Digital Markets Act. The law requires developers to rely on the App Store for distribution and \u001b[0m\u001b[35m  \u001b[0m\n",
              "\u001b[35m▌ \u001b[0m\u001b[1;35mpayment processing, but Apple has maintained strict rules due to security concerns and privacy reasons. \u001b[0m\u001b[35m  \u001b[0m\n",
              "\u001b[35m▌ \u001b[0m\u001b[1;35mHowever, it is unclear whether Apple plans to expand these options outside of Europe.\u001b[0m\u001b[35m \u001b[0m\u001b[3;35mAnswer: The European\u001b[0m\n",
              "\u001b[35m▌ \u001b[0m\u001b[3;35mCommission will have to determine whether Apple's plan fully adheres to DMA regulations.\u001b[0m\u001b[35m                  \u001b[0m\n",
              "\n",
              "\n",
              "\n",
              "\u001b[35m▌ \u001b[0m\u001b[1;35mQuestion:  1. What new safeguards are being introduced by Apple in iOS 17.4? 2. How will developers be \u001b[0m\u001b[35m   \u001b[0m\n",
              "\u001b[35m▌ \u001b[0m\u001b[1;35mcompensated for their contributions to the App Store's ecosystem? 3. Will there be a fee or commission \u001b[0m\u001b[35m   \u001b[0m\n",
              "\u001b[35m▌ \u001b[0m\u001b[1;35mcharged for app development outside of the App Store? 4. Are there any restrictions on how apps can be \u001b[0m\u001b[35m   \u001b[0m\n",
              "\u001b[35m▌ \u001b[0m\u001b[1;35msold through the App Store? 5. When and where will developers see the browser choice screen in iOS 17.4. \u001b[0m\u001b[35m \u001b[0m\n",
              "\u001b[35m▌ \u001b[0m\u001b[1;35m6. Who is responsible for notarizing iOS apps, authorization for marketplace developers, and disclosures \u001b[0m\u001b[35m \u001b[0m\n",
              "\u001b[35m▌ \u001b[0m\u001b[1;35mon alternative payments? 7. What other risks do developers face when they opt out of Apple's system? 8. \u001b[0m\u001b[35m  \u001b[0m\n",
              "\u001b[35m▌ \u001b[0m\u001b[1;35mWhat impact does\u001b[0m\u001b[35m \u001b[0m\u001b[3;35mAnswer: 1. Apple is introducing new safeguards and fee structures for developers in the \u001b[0m\u001b[35m \u001b[0m\n",
              "\u001b[35m▌ \u001b[0m\u001b[3;35mEU. 2. Developers will be compensated with €.50 per first annual install for apps with over 1 million \u001b[0m\u001b[35m    \u001b[0m\n",
              "\u001b[35m▌ \u001b[0m\u001b[3;35mdownloads on their App Store or marketplace. 3. The App Store commission will drop from 30% to 17%, while \u001b[0m\n",
              "\u001b[35m▌ \u001b[0m\u001b[3;35mcertain developer fees will be waived. 4. Yes, there are restrictions on how apps can be sold through the \u001b[0m\n",
              "\u001b[35m▌ \u001b[0m\u001b[3;35mApp Store. 5. Users in the EU will see the browser choice screen to choose an alternative payment method. \u001b[0m\n",
              "\u001b[35m▌ \u001b[0m\u001b[3;35m6. Epic Games supports app notarization and malware scanning. 7. Developers who opt out of Apple's system\u001b[0m\u001b[35m \u001b[0m\n",
              "\n",
              "\n",
              "\n",
              "\u001b[35m▌ \u001b[0m\u001b[1;35mQuestion:  What is Sweeney's opinion on Apple's plan to thwart Europe's Digital Markets Act law?\u001b[0m\u001b[35m \u001b[0m\u001b[3;35mAnswer: \u001b[0m\u001b[35m \u001b[0m\n",
              "\u001b[35m▌ \u001b[0m\u001b[3;35mSweeney's opinion on Apple's plan to thwart Europe's Digital Markets Act law is not provided in the given \u001b[0m\n",
              "\u001b[35m▌ \u001b[0m\u001b[3;35mtext.\u001b[0m\u001b[35m                                                                                                     \u001b[0m\n"
            ],
            "text/html": [
              "<pre style=\"white-space:pre;overflow-x:auto;line-height:normal;font-family:Menlo,'DejaVu Sans Mono',consolas,'Courier New',monospace\">\n",
              "\n",
              "                                                <span style=\"font-weight: bold\">Generated Qna</span>                                                 \n",
              "\n",
              "\n",
              "\n",
              "<span style=\"color: #800080; text-decoration-color: #800080\">▌ </span><span style=\"color: #800080; text-decoration-color: #800080; font-weight: bold\">Question:  Apple will allow alternative app stores and other new options for app developers to comply with</span>\n",
              "<span style=\"color: #800080; text-decoration-color: #800080\">▌ </span><span style=\"color: #800080; text-decoration-color: #800080; font-weight: bold\">Europe's Digital Markets Act. The law requires developers to rely on the App Store for distribution and </span><span style=\"color: #800080; text-decoration-color: #800080\">  </span>\n",
              "<span style=\"color: #800080; text-decoration-color: #800080\">▌ </span><span style=\"color: #800080; text-decoration-color: #800080; font-weight: bold\">payment processing, but Apple has maintained strict rules due to security concerns and privacy reasons. </span><span style=\"color: #800080; text-decoration-color: #800080\">  </span>\n",
              "<span style=\"color: #800080; text-decoration-color: #800080\">▌ </span><span style=\"color: #800080; text-decoration-color: #800080; font-weight: bold\">However, it is unclear whether Apple plans to expand these options outside of Europe.</span><span style=\"color: #800080; text-decoration-color: #800080\"> </span><span style=\"color: #800080; text-decoration-color: #800080; font-style: italic\">Answer: The European</span>\n",
              "<span style=\"color: #800080; text-decoration-color: #800080\">▌ </span><span style=\"color: #800080; text-decoration-color: #800080; font-style: italic\">Commission will have to determine whether Apple's plan fully adheres to DMA regulations.</span><span style=\"color: #800080; text-decoration-color: #800080\">                  </span>\n",
              "\n",
              "\n",
              "\n",
              "<span style=\"color: #800080; text-decoration-color: #800080\">▌ </span><span style=\"color: #800080; text-decoration-color: #800080; font-weight: bold\">Question:  1. What new safeguards are being introduced by Apple in iOS 17.4? 2. How will developers be </span><span style=\"color: #800080; text-decoration-color: #800080\">   </span>\n",
              "<span style=\"color: #800080; text-decoration-color: #800080\">▌ </span><span style=\"color: #800080; text-decoration-color: #800080; font-weight: bold\">compensated for their contributions to the App Store's ecosystem? 3. Will there be a fee or commission </span><span style=\"color: #800080; text-decoration-color: #800080\">   </span>\n",
              "<span style=\"color: #800080; text-decoration-color: #800080\">▌ </span><span style=\"color: #800080; text-decoration-color: #800080; font-weight: bold\">charged for app development outside of the App Store? 4. Are there any restrictions on how apps can be </span><span style=\"color: #800080; text-decoration-color: #800080\">   </span>\n",
              "<span style=\"color: #800080; text-decoration-color: #800080\">▌ </span><span style=\"color: #800080; text-decoration-color: #800080; font-weight: bold\">sold through the App Store? 5. When and where will developers see the browser choice screen in iOS 17.4. </span><span style=\"color: #800080; text-decoration-color: #800080\"> </span>\n",
              "<span style=\"color: #800080; text-decoration-color: #800080\">▌ </span><span style=\"color: #800080; text-decoration-color: #800080; font-weight: bold\">6. Who is responsible for notarizing iOS apps, authorization for marketplace developers, and disclosures </span><span style=\"color: #800080; text-decoration-color: #800080\"> </span>\n",
              "<span style=\"color: #800080; text-decoration-color: #800080\">▌ </span><span style=\"color: #800080; text-decoration-color: #800080; font-weight: bold\">on alternative payments? 7. What other risks do developers face when they opt out of Apple's system? 8. </span><span style=\"color: #800080; text-decoration-color: #800080\">  </span>\n",
              "<span style=\"color: #800080; text-decoration-color: #800080\">▌ </span><span style=\"color: #800080; text-decoration-color: #800080; font-weight: bold\">What impact does</span><span style=\"color: #800080; text-decoration-color: #800080\"> </span><span style=\"color: #800080; text-decoration-color: #800080; font-style: italic\">Answer: 1. Apple is introducing new safeguards and fee structures for developers in the </span><span style=\"color: #800080; text-decoration-color: #800080\"> </span>\n",
              "<span style=\"color: #800080; text-decoration-color: #800080\">▌ </span><span style=\"color: #800080; text-decoration-color: #800080; font-style: italic\">EU. 2. Developers will be compensated with €.50 per first annual install for apps with over 1 million </span><span style=\"color: #800080; text-decoration-color: #800080\">    </span>\n",
              "<span style=\"color: #800080; text-decoration-color: #800080\">▌ </span><span style=\"color: #800080; text-decoration-color: #800080; font-style: italic\">downloads on their App Store or marketplace. 3. The App Store commission will drop from 30% to 17%, while </span>\n",
              "<span style=\"color: #800080; text-decoration-color: #800080\">▌ </span><span style=\"color: #800080; text-decoration-color: #800080; font-style: italic\">certain developer fees will be waived. 4. Yes, there are restrictions on how apps can be sold through the </span>\n",
              "<span style=\"color: #800080; text-decoration-color: #800080\">▌ </span><span style=\"color: #800080; text-decoration-color: #800080; font-style: italic\">App Store. 5. Users in the EU will see the browser choice screen to choose an alternative payment method. </span>\n",
              "<span style=\"color: #800080; text-decoration-color: #800080\">▌ </span><span style=\"color: #800080; text-decoration-color: #800080; font-style: italic\">6. Epic Games supports app notarization and malware scanning. 7. Developers who opt out of Apple's system</span><span style=\"color: #800080; text-decoration-color: #800080\"> </span>\n",
              "\n",
              "\n",
              "\n",
              "<span style=\"color: #800080; text-decoration-color: #800080\">▌ </span><span style=\"color: #800080; text-decoration-color: #800080; font-weight: bold\">Question:  What is Sweeney's opinion on Apple's plan to thwart Europe's Digital Markets Act law?</span><span style=\"color: #800080; text-decoration-color: #800080\"> </span><span style=\"color: #800080; text-decoration-color: #800080; font-style: italic\">Answer: </span><span style=\"color: #800080; text-decoration-color: #800080\"> </span>\n",
              "<span style=\"color: #800080; text-decoration-color: #800080\">▌ </span><span style=\"color: #800080; text-decoration-color: #800080; font-style: italic\">Sweeney's opinion on Apple's plan to thwart Europe's Digital Markets Act law is not provided in the given </span>\n",
              "<span style=\"color: #800080; text-decoration-color: #800080\">▌ </span><span style=\"color: #800080; text-decoration-color: #800080; font-style: italic\">text.</span><span style=\"color: #800080; text-decoration-color: #800080\">                                                                                                     </span>\n",
              "</pre>\n"
            ]
          },
          "metadata": {}
        }
      ]
    },
    {
      "cell_type": "code",
      "source": [
        "console.print(SUMfinal)"
      ],
      "metadata": {
        "id": "SOgj7dlzg3cL"
      },
      "execution_count": null,
      "outputs": []
    },
    {
      "cell_type": "code",
      "source": [
        "console.print(DOCSkeys)"
      ],
      "metadata": {
        "id": "fpFhXqYDc-Sb"
      },
      "execution_count": null,
      "outputs": []
    },
    {
      "cell_type": "code",
      "source": [
        "############### CREATE SUMMARY DOC DATABASE ##################\n",
        "\"\"\"\n",
        "FROM SUMfinal\n",
        "    'document': '2023-12-01 09.00.47 Governing societies with Artificial Intelligence .txt',\n",
        "    'title': 'Governing societies with Artificial Intelligence',\n",
        "    'author': 'Giles Crouch',\n",
        "    'url': 'https://gilescrouch.medium.com/governing-society-and-artificial-intelligence-23882b9ce473',\n",
        "    'summary': \" ...\",\n",
        "    'keywords': ['ai', 'article', 'society', 'enlightenment', 'importance'],\n",
        "\"\"\"\n",
        "from langchain.schema.document import Document\n",
        "docsum = Document(page_content = SUMfinal['summary'],\n",
        "                  metadata = {'source': SUMfinal['document'],\n",
        "                              'type': 'summary',\n",
        "                              'title': SUMfinal['title'],\n",
        "                              'author': SUMfinal['author'],\n",
        "                              'url' : SUMfinal['url'],\n",
        "                              'keywords' : SUMfinal['keywords']\n",
        "                              })"
      ],
      "metadata": {
        "id": "FTRO0QRQd2pL"
      },
      "execution_count": null,
      "outputs": []
    },
    {
      "cell_type": "code",
      "source": [
        "############### CREATE cHUnKS DOC DATABASE ##################\n",
        "\"\"\"\n",
        "FROM DOCSkeys\n",
        "{\n",
        "        'document': '2023-12-01 09.00.47 Governing societies with Artificial Intelligence .txt',\n",
        "        'title': 'Governing societies with Artificial Intelligence',\n",
        "        'author': 'Giles Crouch',\n",
        "        'url': 'https://gilescrouch.medium.com/governing-society-and-artificial-intelligence-23882b9ce473',\n",
        "        'doc': ' as inherently true, ..ought that through beyond the narrow',\n",
        "        'keywords': ['ai', 'innovation', 'societal', 'industry', 'slowing']\n",
        "    }\n",
        "\n",
        "\"\"\"\n",
        "from langchain.schema.document import Document\n",
        "docdocs = []\n",
        "for i in range(0,len(DOCSkeys)):\n",
        "  docdocs.append(Document(page_content = DOCSkeys[i]['doc'],\n",
        "                          metadata = {'source': DOCSkeys[i]['document'],\n",
        "                              'type': 'chunk',\n",
        "                              'title': DOCSkeys[i]['title'],\n",
        "                              'author': DOCSkeys[i]['author'],\n",
        "                              'url' : DOCSkeys[i]['url'],\n",
        "                              'keywords' : DOCSkeys[i]['keywords']\n",
        "                              }))"
      ],
      "metadata": {
        "id": "7bxV0aJad2h_"
      },
      "execution_count": null,
      "outputs": []
    },
    {
      "cell_type": "code",
      "source": [
        "console.print(docdocs)"
      ],
      "metadata": {
        "id": "_UR6a-oaE3vJ"
      },
      "execution_count": null,
      "outputs": []
    },
    {
      "cell_type": "markdown",
      "source": [
        "### Save and Load DATASET to and from PICKLE file"
      ],
      "metadata": {
        "id": "-aE-gOoSJ9ow"
      }
    },
    {
      "cell_type": "code",
      "source": [
        "## SAVE IN PICKLE THE DOCUMENTS SET WITH METADATA\n",
        "output = open('DocumentData.pkl', 'wb')\n",
        "pickle.dump(docdocs, output)\n",
        "output.close()\n",
        "console.print(Markdown(\"> Documents Data saved...\"))\n",
        "console.print(\" - \")\n",
        "## SAVE IN PICKLE THE DOCUMENTS SET WITH METADATA\n",
        "output = open('summaryData.pkl', 'wb')\n",
        "pickle.dump(docsum, output)\n",
        "output.close()\n",
        "console.print(Markdown(\"> Summary Data saved...\"))"
      ],
      "metadata": {
        "colab": {
          "base_uri": "https://localhost:8080/",
          "height": 68
        },
        "id": "_LYnDffNLEnO",
        "outputId": "842402dd-2bb8-4436-a5e8-4e83a9bdf423"
      },
      "execution_count": null,
      "outputs": [
        {
          "output_type": "display_data",
          "data": {
            "text/plain": [
              "\n",
              "\u001b[35m▌ \u001b[0m\u001b[35mDocuments Data saved...\u001b[0m\u001b[35m                                                                                   \u001b[0m\n"
            ],
            "text/html": [
              "<pre style=\"white-space:pre;overflow-x:auto;line-height:normal;font-family:Menlo,'DejaVu Sans Mono',consolas,'Courier New',monospace\">\n",
              "<span style=\"color: #800080; text-decoration-color: #800080\">▌ Documents Data saved...                                                                                   </span>\n",
              "</pre>\n"
            ]
          },
          "metadata": {}
        },
        {
          "output_type": "display_data",
          "data": {
            "text/plain": [
              " - \n"
            ],
            "text/html": [
              "<pre style=\"white-space:pre;overflow-x:auto;line-height:normal;font-family:Menlo,'DejaVu Sans Mono',consolas,'Courier New',monospace\"> - \n",
              "</pre>\n"
            ]
          },
          "metadata": {}
        },
        {
          "output_type": "display_data",
          "data": {
            "text/plain": [
              "\n",
              "\u001b[35m▌ \u001b[0m\u001b[35mSummary Data saved...\u001b[0m\u001b[35m                                                                                     \u001b[0m\n"
            ],
            "text/html": [
              "<pre style=\"white-space:pre;overflow-x:auto;line-height:normal;font-family:Menlo,'DejaVu Sans Mono',consolas,'Courier New',monospace\">\n",
              "<span style=\"color: #800080; text-decoration-color: #800080\">▌ Summary Data saved...                                                                                     </span>\n",
              "</pre>\n"
            ]
          },
          "metadata": {}
        }
      ]
    },
    {
      "cell_type": "code",
      "source": [
        "def SaveFirstData(datafilename,datadocs, summaryfilename, sumdocs):\n",
        "  import pickle\n",
        "  ## SAVE IN PICKLE THE DOCUMENTS SET WITH METADATA\n",
        "  output = open(datafilename, 'wb')\n",
        "  pickle.dump(datadocs, output)\n",
        "  output.close()\n",
        "  console.print(Markdown(f\"> Documents Data saved in {datafilename}...\"))\n",
        "  console.print(\" - \")\n",
        "  ## SAVE IN PICKLE THE DOCUMENTS SET WITH METADATA\n",
        "  output = open(summaryfilename, 'wb')\n",
        "  pickle.dump(sumdocs, output)\n",
        "  output.close()\n",
        "  console.print(Markdown(\"> Summary Data saved in {summaryfilename}...\"))"
      ],
      "metadata": {
        "colab": {
          "base_uri": "https://localhost:8080/",
          "height": 51
        },
        "id": "cNf-endzJ9ow",
        "outputId": "c2e5f56d-4b94-41ac-ab81-35f2ec0db74b"
      },
      "execution_count": null,
      "outputs": [
        {
          "output_type": "display_data",
          "data": {
            "text/plain": [
              "\n",
              "\u001b[35m▌ \u001b[0m\u001b[35mDocuments Data saved...\u001b[0m\u001b[35m                                                                                   \u001b[0m\n"
            ],
            "text/html": [
              "<pre style=\"white-space:pre;overflow-x:auto;line-height:normal;font-family:Menlo,'DejaVu Sans Mono',consolas,'Courier New',monospace\">\n",
              "<span style=\"color: #800080; text-decoration-color: #800080\">▌ Documents Data saved...                                                                                   </span>\n",
              "</pre>\n"
            ]
          },
          "metadata": {}
        },
        {
          "output_type": "display_data",
          "data": {
            "text/plain": [
              "\n",
              "\u001b[35m▌ \u001b[0m\u001b[35mSummary Data saved...\u001b[0m\u001b[35m                                                                                     \u001b[0m\n"
            ],
            "text/html": [
              "<pre style=\"white-space:pre;overflow-x:auto;line-height:normal;font-family:Menlo,'DejaVu Sans Mono',consolas,'Courier New',monospace\">\n",
              "<span style=\"color: #800080; text-decoration-color: #800080\">▌ Summary Data saved...                                                                                     </span>\n",
              "</pre>\n"
            ]
          },
          "metadata": {}
        }
      ]
    },
    {
      "cell_type": "code",
      "source": [
        "import pickle\n",
        "##LOAD DOCS PICKLE\n",
        "pkl_file = open('/content/DocumentData.pkl', 'rb')\n",
        "data_docs = pickle.load(pkl_file)\n",
        "pkl_file.close()\n",
        "console.print(\"Documents Loaded from Pickle\")\n",
        "console.print(Markdown(\"---\"))\n",
        "console.print(data_docs)\n",
        "console.print(Markdown(\"---\"))\n",
        "\n"
      ],
      "metadata": {
        "colab": {
          "base_uri": "https://localhost:8080/",
          "height": 1000
        },
        "id": "G5rXGegyJ9ow",
        "outputId": "80ca998c-40c3-4b2c-f5dc-4850af8fcad1"
      },
      "execution_count": null,
      "outputs": [
        {
          "output_type": "display_data",
          "data": {
            "text/plain": [
              "Documents Loaded from Pickle\n"
            ],
            "text/html": [
              "<pre style=\"white-space:pre;overflow-x:auto;line-height:normal;font-family:Menlo,'DejaVu Sans Mono',consolas,'Courier New',monospace\">Documents Loaded from Pickle\n",
              "</pre>\n"
            ]
          },
          "metadata": {}
        },
        {
          "output_type": "display_data",
          "data": {
            "text/plain": [
              "\u001b[33m──────────────────────────────────────────────────────────────────────────────────────────────────────────────\u001b[0m\n"
            ],
            "text/html": [
              "<pre style=\"white-space:pre;overflow-x:auto;line-height:normal;font-family:Menlo,'DejaVu Sans Mono',consolas,'Courier New',monospace\"><span style=\"color: #808000; text-decoration-color: #808000\">──────────────────────────────────────────────────────────────────────────────────────────────────────────────</span>\n",
              "</pre>\n"
            ]
          },
          "metadata": {}
        },
        {
          "output_type": "display_data",
          "data": {
            "text/plain": [
              "\u001b[1m[\u001b[0m\n",
              "    \u001b[1;35mDocument\u001b[0m\u001b[1m(\u001b[0m\n",
              "        \u001b[33mpage_content\u001b[0m=\u001b[32m'Governing societies with Artificial Intelligence | \u001b[0m\n",
              "\u001b[32mMedium\\nhttps://gilescrouch.medium.com/governing-society-and-artificial-intelligence-23882b9ce473\\nTITLE: \u001b[0m\n",
              "\u001b[32mGoverning Society and Artificial Intelligence\\nAUTHOR: Giles Crouch | Digital Anthropologist\\n\\nMuch of the \u001b[0m\n",
              "\u001b[32mhype and chatter around Artificial Intelligence today is how it will impact the workplace, the entertainment \u001b[0m\n",
              "\u001b[32mindustry, human creativity and productivity. Increasingly, there are debates on ethics, human rights and human\u001b[0m\n",
              "\u001b[32magency. These are important. But what about how we govern our societies with AI?\\nSocial governance is an \u001b[0m\n",
              "\u001b[32melement of culture which also includes economic systems, family systems, politics, militaries, art, \u001b[0m\n",
              "\u001b[32marchitecture and literature. Sometimes, such as in a democracy, we have a say in these systems. In \u001b[0m\n",
              "\u001b[32mdictatorships, we do not.\\nThe mechanism by which we create and operate our social governance systems is \u001b[0m\n",
              "\u001b[32mbureaucracy. Which were well honed by corporations and go back many thousands of years. One might suggest that\u001b[0m\n",
              "\u001b[32mbureaucracy was humanity’s first multiplayer game.\\nHumans have been fiddling about with all kinds of \u001b[0m\n",
              "\u001b[32mdifferent governance systems for thousands of years, including hunter-gatherer and foraging societies. When we\u001b[0m\n",
              "\u001b[32mcollectively decide we’re no longer thrilled with whatever system, we either run away and create something \u001b[0m\n",
              "\u001b[32melse or we have revolutions and whoever wins creates something new. The one constant? Bureaucracies. Rinse, \u001b[0m\n",
              "\u001b[32mwash, repeat.\\nWith the advent of Generative AI \u001b[0m\u001b[32m(\u001b[0m\u001b[32mGAI\u001b[0m\u001b[32m)\u001b[0m\u001b[32m through Large Language Models \u001b[0m\u001b[32m(\u001b[0m\u001b[32mLLMs\u001b[0m\u001b[32m)\u001b[0m\u001b[32m like ChatGPT, \u001b[0m\n",
              "\u001b[32mhumanity finally had an opportunity to play with AI in a way it hadn’t before. Prior to GAI, our broader \u001b[0m\n",
              "\u001b[32msocial understanding'\u001b[0m,\n",
              "        \u001b[33mmetadata\u001b[0m=\u001b[1m{\u001b[0m\n",
              "            \u001b[32m'source'\u001b[0m: \u001b[32m'2023-12-01 09.00.47 Governing societies with Artificial Intelligence .txt'\u001b[0m,\n",
              "            \u001b[32m'type'\u001b[0m: \u001b[32m'chunk'\u001b[0m,\n",
              "            \u001b[32m'title'\u001b[0m: \u001b[32m'Governing societies with Artificial Intelligence'\u001b[0m,\n",
              "            \u001b[32m'author'\u001b[0m: \u001b[32m'Giles Crouch'\u001b[0m,\n",
              "            \u001b[32m'url'\u001b[0m: \n",
              "\u001b[32m'https://gilescrouch.medium.com/governing-society-and-artificial-intelligence-23882b9ce473'\u001b[0m,\n",
              "            \u001b[32m'keywords'\u001b[0m: \u001b[1m[\u001b[0m\u001b[32m'society'\u001b[0m, \u001b[32m'governance'\u001b[0m, \u001b[32m'ai'\u001b[0m, \u001b[32m'governing'\u001b[0m, \u001b[32m'humanity'\u001b[0m\u001b[1m]\u001b[0m\n",
              "        \u001b[1m}\u001b[0m\n",
              "    \u001b[1m)\u001b[0m,\n",
              "    \u001b[1;35mDocument\u001b[0m\u001b[1m(\u001b[0m\n",
              "        \u001b[33mpage_content\u001b[0m=\u001b[32m'. Prior to GAI, our broader social understanding of AI was via Hollywood and \u001b[0m\n",
              "\u001b[32mScience-Fiction and it was very often rather dystopian.\\nNews articles today tend to either declare the end of\u001b[0m\n",
              "\u001b[32mthe world is nigh or utopia will be in the earnings reports of Q4 of 2024. As the news media has often said, \u001b[0m\n",
              "\u001b[32m“if it bleeds, it leads” \u001b[0m\u001b[32m(\u001b[0m\u001b[32ma.k.a. clickbait today.\u001b[0m\u001b[32m)\u001b[0m\u001b[32m Unfortunately, just as so much else today is reduced to \u001b[0m\n",
              "\u001b[32mthis or that arguments, the same has happened to AI.\\nThe reality is more likely to be somewhere in the middle\u001b[0m\n",
              "\u001b[32mwhen it comes to AI tools. Likely edging towards more benefits than harms.\\nSo we’ve not really been set up to\u001b[0m\n",
              "\u001b[32mreceive AI in a nice way. It should be of little surprise in the launch and hype of GAI that we collectively \u001b[0m\n",
              "\u001b[32mpanicked and ran about the backyard flailing our arms and screaming that the sky is falling. The prophets of \u001b[0m\n",
              "\u001b[32mAI in Silicon Valley didn’t much help with proclamations of the arrival of a new god in town and here’s your \u001b[0m\n",
              "\u001b[32mnew religion; the new religious text is Large Language Models.\\nYet there is a very strong case for making AI \u001b[0m\n",
              "\u001b[32mwork for us in governing our current and future societies. The increasing complexity of our systems of \u001b[0m\n",
              "\u001b[32mgovernance along with our sociocultural systems. Human brains, working collectively, are quite a powerful \u001b[0m\n",
              "\u001b[32mthing. But our collective cognitive abilities only go so far. There are risks such a Group Think, among \u001b[0m\n",
              "\u001b[32mothers.\\nWe have co-evolved technologies because we need them to survive. As our societies and the \u001b[0m\n",
              "\u001b[32mtechnologies we use to run them have evolved, so has complexity. There’s a'\u001b[0m,\n",
              "        \u001b[33mmetadata\u001b[0m=\u001b[1m{\u001b[0m\n",
              "            \u001b[32m'source'\u001b[0m: \u001b[32m'2023-12-01 09.00.47 Governing societies with Artificial Intelligence .txt'\u001b[0m,\n",
              "            \u001b[32m'type'\u001b[0m: \u001b[32m'chunk'\u001b[0m,\n",
              "            \u001b[32m'title'\u001b[0m: \u001b[32m'Governing societies with Artificial Intelligence'\u001b[0m,\n",
              "            \u001b[32m'author'\u001b[0m: \u001b[32m'Giles Crouch'\u001b[0m,\n",
              "            \u001b[32m'url'\u001b[0m: \n",
              "\u001b[32m'https://gilescrouch.medium.com/governing-society-and-artificial-intelligence-23882b9ce473'\u001b[0m,\n",
              "            \u001b[32m'keywords'\u001b[0m: \u001b[1m[\u001b[0m\u001b[32m'ai'\u001b[0m, \u001b[32m'utopia'\u001b[0m, \u001b[32m'gai'\u001b[0m, \u001b[32m'religion'\u001b[0m, \u001b[32m'cognitive'\u001b[0m\u001b[1m]\u001b[0m\n",
              "        \u001b[1m}\u001b[0m\n",
              "    \u001b[1m)\u001b[0m,\n",
              "    \u001b[1;35mDocument\u001b[0m\u001b[1m(\u001b[0m\n",
              "        \u001b[33mpage_content\u001b[0m=\u001b[32m', so has complexity. There’s a reason that frameworks and mental models such as design \u001b[0m\n",
              "\u001b[32mthinking and systems thinking have become ever more useful. They help us deal with complexity. So can \u001b[0m\n",
              "\u001b[32mArtificial Intelligence.\\nThe trick, as you’ve likely already considered, is how to do it right. That’s the \u001b[0m\n",
              "\u001b[32mtough part. It should not be left to the deities of Silicon Valley. While many are very smart indeed, the \u001b[0m\n",
              "\u001b[32moverwhelming evidence is that they are less than ideal stewards of society. They are technicians, they are not\u001b[0m\n",
              "\u001b[32mphilosophers or stewards of culture.\\nMusk, Bezos, Altman, Zuckerberg, Andreeson and so on with their litany \u001b[0m\n",
              "\u001b[32mof societal incompetencies and foibles must assure us this is the case. They see technology as the solution to\u001b[0m\n",
              "\u001b[32meverything. They see problems singularly and rarely apply any degree of critical thinking. And even more \u001b[0m\n",
              "\u001b[32mrarely, systems thinking, a method that’s increasingly important. Technology cannot solve societal issues. It \u001b[0m\n",
              "\u001b[32mnever has. But humans can and do.\\nWe are best served by AI when we put it into context as to what AI actually\u001b[0m\n",
              "\u001b[32mis; a tool that augments humanity cognitively.\\nIf we are to find advantage in the use of AI to help us govern\u001b[0m\n",
              "\u001b[32mour societies, and I believe we should, we must then consider the implications. If the rise of the internet \u001b[0m\n",
              "\u001b[32mand social media has taught our species anything, it is that all technologies are a double-edged sword, that \u001b[0m\n",
              "\u001b[32mthere are always unintended consequences and that no technology is neutral. These three principles should be \u001b[0m\n",
              "\u001b[32metched in stone \u001b[0m\u001b[32m(\u001b[0m\u001b[32mmainly because stone is more durable as a storage device than a hard drive today.\u001b[0m\u001b[32m)\u001b[0m\u001b[32m\\nIf we \u001b[0m\n",
              "\u001b[32maccept these principles as inherently true, then we have a starting place'\u001b[0m,\n",
              "        \u001b[33mmetadata\u001b[0m=\u001b[1m{\u001b[0m\n",
              "            \u001b[32m'source'\u001b[0m: \u001b[32m'2023-12-01 09.00.47 Governing societies with Artificial Intelligence .txt'\u001b[0m,\n",
              "            \u001b[32m'type'\u001b[0m: \u001b[32m'chunk'\u001b[0m,\n",
              "            \u001b[32m'title'\u001b[0m: \u001b[32m'Governing societies with Artificial Intelligence'\u001b[0m,\n",
              "            \u001b[32m'author'\u001b[0m: \u001b[32m'Giles Crouch'\u001b[0m,\n",
              "            \u001b[32m'url'\u001b[0m: \n",
              "\u001b[32m'https://gilescrouch.medium.com/governing-society-and-artificial-intelligence-23882b9ce473'\u001b[0m,\n",
              "            \u001b[32m'keywords'\u001b[0m: \u001b[1m[\u001b[0m\u001b[32m'ai'\u001b[0m, \u001b[32m'intelligence'\u001b[0m, \u001b[32m'technology'\u001b[0m, \u001b[32m'societal'\u001b[0m, \u001b[32m'thinking'\u001b[0m\u001b[1m]\u001b[0m\n",
              "        \u001b[1m}\u001b[0m\n",
              "    \u001b[1m)\u001b[0m,\n",
              "    \u001b[1;35mDocument\u001b[0m\u001b[1m(\u001b[0m\n",
              "        \u001b[33mpage_content\u001b[0m=\u001b[32m' as inherently true, then we have a starting place from which to foster true societal \u001b[0m\n",
              "\u001b[32minnovations in how we govern ourselves. We can set regulations and laws into place that don’t stifle AI, but \u001b[0m\n",
              "\u001b[32mrather foster it.\\nAlongside these tech leaders and engineers should sit philosophers, sociologists, \u001b[0m\n",
              "\u001b[32manthropologists, psychologists, artists, architects, writers, lawyers and musicians. It is all these skills \u001b[0m\n",
              "\u001b[32mand professions that shape our societies today. There are some computer scientists working on AI that \u001b[0m\n",
              "\u001b[32mregularly engage with artists and musicians in developing their tools. They find it works.\\nWe already know \u001b[0m\n",
              "\u001b[32mthat race and gender biases are common in AI tools, from LLMs to NLP and ML tools. We have starting \u001b[0m\n",
              "\u001b[32mpoints.\\nIn this way, we can take a human-centric approach towards how AI can be used in various aspects of \u001b[0m\n",
              "\u001b[32mhelping us govern our society.\\nFor many of these techno-optimists, this will be seen as slowing things down. \u001b[0m\n",
              "\u001b[32mStopping innovation and hurting more than helping. One might argue that the ideology of moving fast and \u001b[0m\n",
              "\u001b[32mbreaking things has well, broken a lot of things and is why States are suing social media companies like Meta,\u001b[0m\n",
              "\u001b[32mlooking to ban TikTok for espionage and well, a whole lot more.\\nThere are models and ways that enable AI to \u001b[0m\n",
              "\u001b[32mevolve. Yes, it may be a bit slower, but contrary to what the techno-optimists think, technology adoption move\u001b[0m\n",
              "\u001b[32mslower anyway. Real societal and business change, happens a lot slower than one might be lead to \u001b[0m\n",
              "\u001b[32mbelieve.\\nMost of the time, tech industry leaders want to move faster but when asked why and what benefit that\u001b[0m\n",
              "\u001b[32mdelivers, you’ll be met with a blank stare. They’ve just not thought that through beyond the narrow'\u001b[0m,\n",
              "        \u001b[33mmetadata\u001b[0m=\u001b[1m{\u001b[0m\n",
              "            \u001b[32m'source'\u001b[0m: \u001b[32m'2023-12-01 09.00.47 Governing societies with Artificial Intelligence .txt'\u001b[0m,\n",
              "            \u001b[32m'type'\u001b[0m: \u001b[32m'chunk'\u001b[0m,\n",
              "            \u001b[32m'title'\u001b[0m: \u001b[32m'Governing societies with Artificial Intelligence'\u001b[0m,\n",
              "            \u001b[32m'author'\u001b[0m: \u001b[32m'Giles Crouch'\u001b[0m,\n",
              "            \u001b[32m'url'\u001b[0m: \n",
              "\u001b[32m'https://gilescrouch.medium.com/governing-society-and-artificial-intelligence-23882b9ce473'\u001b[0m,\n",
              "            \u001b[32m'keywords'\u001b[0m: \u001b[1m[\u001b[0m\u001b[32m'ai'\u001b[0m, \u001b[32m'innovation'\u001b[0m, \u001b[32m'societal'\u001b[0m, \u001b[32m'industry'\u001b[0m, \u001b[32m'slowing'\u001b[0m\u001b[1m]\u001b[0m\n",
              "        \u001b[1m}\u001b[0m\n",
              "    \u001b[1m)\u001b[0m,\n",
              "    \u001b[1;35mDocument\u001b[0m\u001b[1m(\u001b[0m\n",
              "        \u001b[33mpage_content\u001b[0m=\u001b[32m'�ve just not thought that through beyond the narrow funnel of solving a problem, \u001b[0m\n",
              "\u001b[32mimproving shareholder value, competition and damn the consequences.\\nWe have been experimenting with all kinds\u001b[0m\n",
              "\u001b[32mof different ways to govern our societies for thousands of years. Artificial Intelligence is not a holy grail \u001b[0m\n",
              "\u001b[32mthat will serve up utopia at a drive-through window in a paper bag. It is simply another tool. Albeit a rather\u001b[0m\n",
              "\u001b[32mprofound one.\\nIn the past, technologies have presented perceived risks to society such as the printing press,\u001b[0m\n",
              "\u001b[32mmanufacturing machines, robots. Each was greatly feared. Each time the entrepreneurs cried that regulation \u001b[0m\n",
              "\u001b[32mwould stifle innovation and society and markets would collapse. Yet here we are.\\nHowever this goes, the only \u001b[0m\n",
              "\u001b[32mguarantee, the only solid prediction we can make is that it will be messy. At times, very messy. With two \u001b[0m\n",
              "\u001b[32msteps forward and one step backwards at other times. But move ahead we will. It’s the way we’ve always been. \u001b[0m\n",
              "\u001b[32mPerhaps, should we elevate our consciousness as some propose is inevitable, and we’ll figure something special\u001b[0m\n",
              "\u001b[32mout. Until then? Social enlightenment won’t come from AI delivered by Uber Eats. It will come from humans, \u001b[0m\n",
              "\u001b[32mwith a little help from AI.'\u001b[0m,\n",
              "        \u001b[33mmetadata\u001b[0m=\u001b[1m{\u001b[0m\n",
              "            \u001b[32m'source'\u001b[0m: \u001b[32m'2023-12-01 09.00.47 Governing societies with Artificial Intelligence .txt'\u001b[0m,\n",
              "            \u001b[32m'type'\u001b[0m: \u001b[32m'chunk'\u001b[0m,\n",
              "            \u001b[32m'title'\u001b[0m: \u001b[32m'Governing societies with Artificial Intelligence'\u001b[0m,\n",
              "            \u001b[32m'author'\u001b[0m: \u001b[32m'Giles Crouch'\u001b[0m,\n",
              "            \u001b[32m'url'\u001b[0m: \n",
              "\u001b[32m'https://gilescrouch.medium.com/governing-society-and-artificial-intelligence-23882b9ce473'\u001b[0m,\n",
              "            \u001b[32m'keywords'\u001b[0m: \u001b[1m[\u001b[0m\u001b[32m'ai'\u001b[0m, \u001b[32m'innovation'\u001b[0m, \u001b[32m'enlightenment'\u001b[0m, \u001b[32m'utopia'\u001b[0m, \u001b[32m'inevitable'\u001b[0m\u001b[1m]\u001b[0m\n",
              "        \u001b[1m}\u001b[0m\n",
              "    \u001b[1m)\u001b[0m\n",
              "\u001b[1m]\u001b[0m\n"
            ],
            "text/html": [
              "<pre style=\"white-space:pre;overflow-x:auto;line-height:normal;font-family:Menlo,'DejaVu Sans Mono',consolas,'Courier New',monospace\"><span style=\"font-weight: bold\">[</span>\n",
              "    <span style=\"color: #800080; text-decoration-color: #800080; font-weight: bold\">Document</span><span style=\"font-weight: bold\">(</span>\n",
              "        <span style=\"color: #808000; text-decoration-color: #808000\">page_content</span>=<span style=\"color: #008000; text-decoration-color: #008000\">'Governing societies with Artificial Intelligence | </span>\n",
              "<span style=\"color: #008000; text-decoration-color: #008000\">Medium\\nhttps://gilescrouch.medium.com/governing-society-and-artificial-intelligence-23882b9ce473\\nTITLE: </span>\n",
              "<span style=\"color: #008000; text-decoration-color: #008000\">Governing Society and Artificial Intelligence\\nAUTHOR: Giles Crouch | Digital Anthropologist\\n\\nMuch of the </span>\n",
              "<span style=\"color: #008000; text-decoration-color: #008000\">hype and chatter around Artificial Intelligence today is how it will impact the workplace, the entertainment </span>\n",
              "<span style=\"color: #008000; text-decoration-color: #008000\">industry, human creativity and productivity. Increasingly, there are debates on ethics, human rights and human</span>\n",
              "<span style=\"color: #008000; text-decoration-color: #008000\">agency. These are important. But what about how we govern our societies with AI?\\nSocial governance is an </span>\n",
              "<span style=\"color: #008000; text-decoration-color: #008000\">element of culture which also includes economic systems, family systems, politics, militaries, art, </span>\n",
              "<span style=\"color: #008000; text-decoration-color: #008000\">architecture and literature. Sometimes, such as in a democracy, we have a say in these systems. In </span>\n",
              "<span style=\"color: #008000; text-decoration-color: #008000\">dictatorships, we do not.\\nThe mechanism by which we create and operate our social governance systems is </span>\n",
              "<span style=\"color: #008000; text-decoration-color: #008000\">bureaucracy. Which were well honed by corporations and go back many thousands of years. One might suggest that</span>\n",
              "<span style=\"color: #008000; text-decoration-color: #008000\">bureaucracy was humanity’s first multiplayer game.\\nHumans have been fiddling about with all kinds of </span>\n",
              "<span style=\"color: #008000; text-decoration-color: #008000\">different governance systems for thousands of years, including hunter-gatherer and foraging societies. When we</span>\n",
              "<span style=\"color: #008000; text-decoration-color: #008000\">collectively decide we’re no longer thrilled with whatever system, we either run away and create something </span>\n",
              "<span style=\"color: #008000; text-decoration-color: #008000\">else or we have revolutions and whoever wins creates something new. The one constant? Bureaucracies. Rinse, </span>\n",
              "<span style=\"color: #008000; text-decoration-color: #008000\">wash, repeat.\\nWith the advent of Generative AI (GAI) through Large Language Models (LLMs) like ChatGPT, </span>\n",
              "<span style=\"color: #008000; text-decoration-color: #008000\">humanity finally had an opportunity to play with AI in a way it hadn’t before. Prior to GAI, our broader </span>\n",
              "<span style=\"color: #008000; text-decoration-color: #008000\">social understanding'</span>,\n",
              "        <span style=\"color: #808000; text-decoration-color: #808000\">metadata</span>=<span style=\"font-weight: bold\">{</span>\n",
              "            <span style=\"color: #008000; text-decoration-color: #008000\">'source'</span>: <span style=\"color: #008000; text-decoration-color: #008000\">'2023-12-01 09.00.47 Governing societies with Artificial Intelligence .txt'</span>,\n",
              "            <span style=\"color: #008000; text-decoration-color: #008000\">'type'</span>: <span style=\"color: #008000; text-decoration-color: #008000\">'chunk'</span>,\n",
              "            <span style=\"color: #008000; text-decoration-color: #008000\">'title'</span>: <span style=\"color: #008000; text-decoration-color: #008000\">'Governing societies with Artificial Intelligence'</span>,\n",
              "            <span style=\"color: #008000; text-decoration-color: #008000\">'author'</span>: <span style=\"color: #008000; text-decoration-color: #008000\">'Giles Crouch'</span>,\n",
              "            <span style=\"color: #008000; text-decoration-color: #008000\">'url'</span>: \n",
              "<span style=\"color: #008000; text-decoration-color: #008000\">'https://gilescrouch.medium.com/governing-society-and-artificial-intelligence-23882b9ce473'</span>,\n",
              "            <span style=\"color: #008000; text-decoration-color: #008000\">'keywords'</span>: <span style=\"font-weight: bold\">[</span><span style=\"color: #008000; text-decoration-color: #008000\">'society'</span>, <span style=\"color: #008000; text-decoration-color: #008000\">'governance'</span>, <span style=\"color: #008000; text-decoration-color: #008000\">'ai'</span>, <span style=\"color: #008000; text-decoration-color: #008000\">'governing'</span>, <span style=\"color: #008000; text-decoration-color: #008000\">'humanity'</span><span style=\"font-weight: bold\">]</span>\n",
              "        <span style=\"font-weight: bold\">}</span>\n",
              "    <span style=\"font-weight: bold\">)</span>,\n",
              "    <span style=\"color: #800080; text-decoration-color: #800080; font-weight: bold\">Document</span><span style=\"font-weight: bold\">(</span>\n",
              "        <span style=\"color: #808000; text-decoration-color: #808000\">page_content</span>=<span style=\"color: #008000; text-decoration-color: #008000\">'. Prior to GAI, our broader social understanding of AI was via Hollywood and </span>\n",
              "<span style=\"color: #008000; text-decoration-color: #008000\">Science-Fiction and it was very often rather dystopian.\\nNews articles today tend to either declare the end of</span>\n",
              "<span style=\"color: #008000; text-decoration-color: #008000\">the world is nigh or utopia will be in the earnings reports of Q4 of 2024. As the news media has often said, </span>\n",
              "<span style=\"color: #008000; text-decoration-color: #008000\">“if it bleeds, it leads” (a.k.a. clickbait today.) Unfortunately, just as so much else today is reduced to </span>\n",
              "<span style=\"color: #008000; text-decoration-color: #008000\">this or that arguments, the same has happened to AI.\\nThe reality is more likely to be somewhere in the middle</span>\n",
              "<span style=\"color: #008000; text-decoration-color: #008000\">when it comes to AI tools. Likely edging towards more benefits than harms.\\nSo we’ve not really been set up to</span>\n",
              "<span style=\"color: #008000; text-decoration-color: #008000\">receive AI in a nice way. It should be of little surprise in the launch and hype of GAI that we collectively </span>\n",
              "<span style=\"color: #008000; text-decoration-color: #008000\">panicked and ran about the backyard flailing our arms and screaming that the sky is falling. The prophets of </span>\n",
              "<span style=\"color: #008000; text-decoration-color: #008000\">AI in Silicon Valley didn’t much help with proclamations of the arrival of a new god in town and here’s your </span>\n",
              "<span style=\"color: #008000; text-decoration-color: #008000\">new religion; the new religious text is Large Language Models.\\nYet there is a very strong case for making AI </span>\n",
              "<span style=\"color: #008000; text-decoration-color: #008000\">work for us in governing our current and future societies. The increasing complexity of our systems of </span>\n",
              "<span style=\"color: #008000; text-decoration-color: #008000\">governance along with our sociocultural systems. Human brains, working collectively, are quite a powerful </span>\n",
              "<span style=\"color: #008000; text-decoration-color: #008000\">thing. But our collective cognitive abilities only go so far. There are risks such a Group Think, among </span>\n",
              "<span style=\"color: #008000; text-decoration-color: #008000\">others.\\nWe have co-evolved technologies because we need them to survive. As our societies and the </span>\n",
              "<span style=\"color: #008000; text-decoration-color: #008000\">technologies we use to run them have evolved, so has complexity. There’s a'</span>,\n",
              "        <span style=\"color: #808000; text-decoration-color: #808000\">metadata</span>=<span style=\"font-weight: bold\">{</span>\n",
              "            <span style=\"color: #008000; text-decoration-color: #008000\">'source'</span>: <span style=\"color: #008000; text-decoration-color: #008000\">'2023-12-01 09.00.47 Governing societies with Artificial Intelligence .txt'</span>,\n",
              "            <span style=\"color: #008000; text-decoration-color: #008000\">'type'</span>: <span style=\"color: #008000; text-decoration-color: #008000\">'chunk'</span>,\n",
              "            <span style=\"color: #008000; text-decoration-color: #008000\">'title'</span>: <span style=\"color: #008000; text-decoration-color: #008000\">'Governing societies with Artificial Intelligence'</span>,\n",
              "            <span style=\"color: #008000; text-decoration-color: #008000\">'author'</span>: <span style=\"color: #008000; text-decoration-color: #008000\">'Giles Crouch'</span>,\n",
              "            <span style=\"color: #008000; text-decoration-color: #008000\">'url'</span>: \n",
              "<span style=\"color: #008000; text-decoration-color: #008000\">'https://gilescrouch.medium.com/governing-society-and-artificial-intelligence-23882b9ce473'</span>,\n",
              "            <span style=\"color: #008000; text-decoration-color: #008000\">'keywords'</span>: <span style=\"font-weight: bold\">[</span><span style=\"color: #008000; text-decoration-color: #008000\">'ai'</span>, <span style=\"color: #008000; text-decoration-color: #008000\">'utopia'</span>, <span style=\"color: #008000; text-decoration-color: #008000\">'gai'</span>, <span style=\"color: #008000; text-decoration-color: #008000\">'religion'</span>, <span style=\"color: #008000; text-decoration-color: #008000\">'cognitive'</span><span style=\"font-weight: bold\">]</span>\n",
              "        <span style=\"font-weight: bold\">}</span>\n",
              "    <span style=\"font-weight: bold\">)</span>,\n",
              "    <span style=\"color: #800080; text-decoration-color: #800080; font-weight: bold\">Document</span><span style=\"font-weight: bold\">(</span>\n",
              "        <span style=\"color: #808000; text-decoration-color: #808000\">page_content</span>=<span style=\"color: #008000; text-decoration-color: #008000\">', so has complexity. There’s a reason that frameworks and mental models such as design </span>\n",
              "<span style=\"color: #008000; text-decoration-color: #008000\">thinking and systems thinking have become ever more useful. They help us deal with complexity. So can </span>\n",
              "<span style=\"color: #008000; text-decoration-color: #008000\">Artificial Intelligence.\\nThe trick, as you’ve likely already considered, is how to do it right. That’s the </span>\n",
              "<span style=\"color: #008000; text-decoration-color: #008000\">tough part. It should not be left to the deities of Silicon Valley. While many are very smart indeed, the </span>\n",
              "<span style=\"color: #008000; text-decoration-color: #008000\">overwhelming evidence is that they are less than ideal stewards of society. They are technicians, they are not</span>\n",
              "<span style=\"color: #008000; text-decoration-color: #008000\">philosophers or stewards of culture.\\nMusk, Bezos, Altman, Zuckerberg, Andreeson and so on with their litany </span>\n",
              "<span style=\"color: #008000; text-decoration-color: #008000\">of societal incompetencies and foibles must assure us this is the case. They see technology as the solution to</span>\n",
              "<span style=\"color: #008000; text-decoration-color: #008000\">everything. They see problems singularly and rarely apply any degree of critical thinking. And even more </span>\n",
              "<span style=\"color: #008000; text-decoration-color: #008000\">rarely, systems thinking, a method that’s increasingly important. Technology cannot solve societal issues. It </span>\n",
              "<span style=\"color: #008000; text-decoration-color: #008000\">never has. But humans can and do.\\nWe are best served by AI when we put it into context as to what AI actually</span>\n",
              "<span style=\"color: #008000; text-decoration-color: #008000\">is; a tool that augments humanity cognitively.\\nIf we are to find advantage in the use of AI to help us govern</span>\n",
              "<span style=\"color: #008000; text-decoration-color: #008000\">our societies, and I believe we should, we must then consider the implications. If the rise of the internet </span>\n",
              "<span style=\"color: #008000; text-decoration-color: #008000\">and social media has taught our species anything, it is that all technologies are a double-edged sword, that </span>\n",
              "<span style=\"color: #008000; text-decoration-color: #008000\">there are always unintended consequences and that no technology is neutral. These three principles should be </span>\n",
              "<span style=\"color: #008000; text-decoration-color: #008000\">etched in stone (mainly because stone is more durable as a storage device than a hard drive today.)\\nIf we </span>\n",
              "<span style=\"color: #008000; text-decoration-color: #008000\">accept these principles as inherently true, then we have a starting place'</span>,\n",
              "        <span style=\"color: #808000; text-decoration-color: #808000\">metadata</span>=<span style=\"font-weight: bold\">{</span>\n",
              "            <span style=\"color: #008000; text-decoration-color: #008000\">'source'</span>: <span style=\"color: #008000; text-decoration-color: #008000\">'2023-12-01 09.00.47 Governing societies with Artificial Intelligence .txt'</span>,\n",
              "            <span style=\"color: #008000; text-decoration-color: #008000\">'type'</span>: <span style=\"color: #008000; text-decoration-color: #008000\">'chunk'</span>,\n",
              "            <span style=\"color: #008000; text-decoration-color: #008000\">'title'</span>: <span style=\"color: #008000; text-decoration-color: #008000\">'Governing societies with Artificial Intelligence'</span>,\n",
              "            <span style=\"color: #008000; text-decoration-color: #008000\">'author'</span>: <span style=\"color: #008000; text-decoration-color: #008000\">'Giles Crouch'</span>,\n",
              "            <span style=\"color: #008000; text-decoration-color: #008000\">'url'</span>: \n",
              "<span style=\"color: #008000; text-decoration-color: #008000\">'https://gilescrouch.medium.com/governing-society-and-artificial-intelligence-23882b9ce473'</span>,\n",
              "            <span style=\"color: #008000; text-decoration-color: #008000\">'keywords'</span>: <span style=\"font-weight: bold\">[</span><span style=\"color: #008000; text-decoration-color: #008000\">'ai'</span>, <span style=\"color: #008000; text-decoration-color: #008000\">'intelligence'</span>, <span style=\"color: #008000; text-decoration-color: #008000\">'technology'</span>, <span style=\"color: #008000; text-decoration-color: #008000\">'societal'</span>, <span style=\"color: #008000; text-decoration-color: #008000\">'thinking'</span><span style=\"font-weight: bold\">]</span>\n",
              "        <span style=\"font-weight: bold\">}</span>\n",
              "    <span style=\"font-weight: bold\">)</span>,\n",
              "    <span style=\"color: #800080; text-decoration-color: #800080; font-weight: bold\">Document</span><span style=\"font-weight: bold\">(</span>\n",
              "        <span style=\"color: #808000; text-decoration-color: #808000\">page_content</span>=<span style=\"color: #008000; text-decoration-color: #008000\">' as inherently true, then we have a starting place from which to foster true societal </span>\n",
              "<span style=\"color: #008000; text-decoration-color: #008000\">innovations in how we govern ourselves. We can set regulations and laws into place that don’t stifle AI, but </span>\n",
              "<span style=\"color: #008000; text-decoration-color: #008000\">rather foster it.\\nAlongside these tech leaders and engineers should sit philosophers, sociologists, </span>\n",
              "<span style=\"color: #008000; text-decoration-color: #008000\">anthropologists, psychologists, artists, architects, writers, lawyers and musicians. It is all these skills </span>\n",
              "<span style=\"color: #008000; text-decoration-color: #008000\">and professions that shape our societies today. There are some computer scientists working on AI that </span>\n",
              "<span style=\"color: #008000; text-decoration-color: #008000\">regularly engage with artists and musicians in developing their tools. They find it works.\\nWe already know </span>\n",
              "<span style=\"color: #008000; text-decoration-color: #008000\">that race and gender biases are common in AI tools, from LLMs to NLP and ML tools. We have starting </span>\n",
              "<span style=\"color: #008000; text-decoration-color: #008000\">points.\\nIn this way, we can take a human-centric approach towards how AI can be used in various aspects of </span>\n",
              "<span style=\"color: #008000; text-decoration-color: #008000\">helping us govern our society.\\nFor many of these techno-optimists, this will be seen as slowing things down. </span>\n",
              "<span style=\"color: #008000; text-decoration-color: #008000\">Stopping innovation and hurting more than helping. One might argue that the ideology of moving fast and </span>\n",
              "<span style=\"color: #008000; text-decoration-color: #008000\">breaking things has well, broken a lot of things and is why States are suing social media companies like Meta,</span>\n",
              "<span style=\"color: #008000; text-decoration-color: #008000\">looking to ban TikTok for espionage and well, a whole lot more.\\nThere are models and ways that enable AI to </span>\n",
              "<span style=\"color: #008000; text-decoration-color: #008000\">evolve. Yes, it may be a bit slower, but contrary to what the techno-optimists think, technology adoption move</span>\n",
              "<span style=\"color: #008000; text-decoration-color: #008000\">slower anyway. Real societal and business change, happens a lot slower than one might be lead to </span>\n",
              "<span style=\"color: #008000; text-decoration-color: #008000\">believe.\\nMost of the time, tech industry leaders want to move faster but when asked why and what benefit that</span>\n",
              "<span style=\"color: #008000; text-decoration-color: #008000\">delivers, you’ll be met with a blank stare. They’ve just not thought that through beyond the narrow'</span>,\n",
              "        <span style=\"color: #808000; text-decoration-color: #808000\">metadata</span>=<span style=\"font-weight: bold\">{</span>\n",
              "            <span style=\"color: #008000; text-decoration-color: #008000\">'source'</span>: <span style=\"color: #008000; text-decoration-color: #008000\">'2023-12-01 09.00.47 Governing societies with Artificial Intelligence .txt'</span>,\n",
              "            <span style=\"color: #008000; text-decoration-color: #008000\">'type'</span>: <span style=\"color: #008000; text-decoration-color: #008000\">'chunk'</span>,\n",
              "            <span style=\"color: #008000; text-decoration-color: #008000\">'title'</span>: <span style=\"color: #008000; text-decoration-color: #008000\">'Governing societies with Artificial Intelligence'</span>,\n",
              "            <span style=\"color: #008000; text-decoration-color: #008000\">'author'</span>: <span style=\"color: #008000; text-decoration-color: #008000\">'Giles Crouch'</span>,\n",
              "            <span style=\"color: #008000; text-decoration-color: #008000\">'url'</span>: \n",
              "<span style=\"color: #008000; text-decoration-color: #008000\">'https://gilescrouch.medium.com/governing-society-and-artificial-intelligence-23882b9ce473'</span>,\n",
              "            <span style=\"color: #008000; text-decoration-color: #008000\">'keywords'</span>: <span style=\"font-weight: bold\">[</span><span style=\"color: #008000; text-decoration-color: #008000\">'ai'</span>, <span style=\"color: #008000; text-decoration-color: #008000\">'innovation'</span>, <span style=\"color: #008000; text-decoration-color: #008000\">'societal'</span>, <span style=\"color: #008000; text-decoration-color: #008000\">'industry'</span>, <span style=\"color: #008000; text-decoration-color: #008000\">'slowing'</span><span style=\"font-weight: bold\">]</span>\n",
              "        <span style=\"font-weight: bold\">}</span>\n",
              "    <span style=\"font-weight: bold\">)</span>,\n",
              "    <span style=\"color: #800080; text-decoration-color: #800080; font-weight: bold\">Document</span><span style=\"font-weight: bold\">(</span>\n",
              "        <span style=\"color: #808000; text-decoration-color: #808000\">page_content</span>=<span style=\"color: #008000; text-decoration-color: #008000\">'�ve just not thought that through beyond the narrow funnel of solving a problem, </span>\n",
              "<span style=\"color: #008000; text-decoration-color: #008000\">improving shareholder value, competition and damn the consequences.\\nWe have been experimenting with all kinds</span>\n",
              "<span style=\"color: #008000; text-decoration-color: #008000\">of different ways to govern our societies for thousands of years. Artificial Intelligence is not a holy grail </span>\n",
              "<span style=\"color: #008000; text-decoration-color: #008000\">that will serve up utopia at a drive-through window in a paper bag. It is simply another tool. Albeit a rather</span>\n",
              "<span style=\"color: #008000; text-decoration-color: #008000\">profound one.\\nIn the past, technologies have presented perceived risks to society such as the printing press,</span>\n",
              "<span style=\"color: #008000; text-decoration-color: #008000\">manufacturing machines, robots. Each was greatly feared. Each time the entrepreneurs cried that regulation </span>\n",
              "<span style=\"color: #008000; text-decoration-color: #008000\">would stifle innovation and society and markets would collapse. Yet here we are.\\nHowever this goes, the only </span>\n",
              "<span style=\"color: #008000; text-decoration-color: #008000\">guarantee, the only solid prediction we can make is that it will be messy. At times, very messy. With two </span>\n",
              "<span style=\"color: #008000; text-decoration-color: #008000\">steps forward and one step backwards at other times. But move ahead we will. It’s the way we’ve always been. </span>\n",
              "<span style=\"color: #008000; text-decoration-color: #008000\">Perhaps, should we elevate our consciousness as some propose is inevitable, and we’ll figure something special</span>\n",
              "<span style=\"color: #008000; text-decoration-color: #008000\">out. Until then? Social enlightenment won’t come from AI delivered by Uber Eats. It will come from humans, </span>\n",
              "<span style=\"color: #008000; text-decoration-color: #008000\">with a little help from AI.'</span>,\n",
              "        <span style=\"color: #808000; text-decoration-color: #808000\">metadata</span>=<span style=\"font-weight: bold\">{</span>\n",
              "            <span style=\"color: #008000; text-decoration-color: #008000\">'source'</span>: <span style=\"color: #008000; text-decoration-color: #008000\">'2023-12-01 09.00.47 Governing societies with Artificial Intelligence .txt'</span>,\n",
              "            <span style=\"color: #008000; text-decoration-color: #008000\">'type'</span>: <span style=\"color: #008000; text-decoration-color: #008000\">'chunk'</span>,\n",
              "            <span style=\"color: #008000; text-decoration-color: #008000\">'title'</span>: <span style=\"color: #008000; text-decoration-color: #008000\">'Governing societies with Artificial Intelligence'</span>,\n",
              "            <span style=\"color: #008000; text-decoration-color: #008000\">'author'</span>: <span style=\"color: #008000; text-decoration-color: #008000\">'Giles Crouch'</span>,\n",
              "            <span style=\"color: #008000; text-decoration-color: #008000\">'url'</span>: \n",
              "<span style=\"color: #008000; text-decoration-color: #008000\">'https://gilescrouch.medium.com/governing-society-and-artificial-intelligence-23882b9ce473'</span>,\n",
              "            <span style=\"color: #008000; text-decoration-color: #008000\">'keywords'</span>: <span style=\"font-weight: bold\">[</span><span style=\"color: #008000; text-decoration-color: #008000\">'ai'</span>, <span style=\"color: #008000; text-decoration-color: #008000\">'innovation'</span>, <span style=\"color: #008000; text-decoration-color: #008000\">'enlightenment'</span>, <span style=\"color: #008000; text-decoration-color: #008000\">'utopia'</span>, <span style=\"color: #008000; text-decoration-color: #008000\">'inevitable'</span><span style=\"font-weight: bold\">]</span>\n",
              "        <span style=\"font-weight: bold\">}</span>\n",
              "    <span style=\"font-weight: bold\">)</span>\n",
              "<span style=\"font-weight: bold\">]</span>\n",
              "</pre>\n"
            ]
          },
          "metadata": {}
        },
        {
          "output_type": "display_data",
          "data": {
            "text/plain": [
              "\u001b[33m──────────────────────────────────────────────────────────────────────────────────────────────────────────────\u001b[0m\n"
            ],
            "text/html": [
              "<pre style=\"white-space:pre;overflow-x:auto;line-height:normal;font-family:Menlo,'DejaVu Sans Mono',consolas,'Courier New',monospace\"><span style=\"color: #808000; text-decoration-color: #808000\">──────────────────────────────────────────────────────────────────────────────────────────────────────────────</span>\n",
              "</pre>\n"
            ]
          },
          "metadata": {}
        }
      ]
    },
    {
      "cell_type": "code",
      "source": [
        "import pickle\n",
        "##LOAD SUMS PICKLE\n",
        "pkl_file = open('/content/summaryData.pkl', 'rb')\n",
        "sums_docs = pickle.load(pkl_file)\n",
        "pkl_file.close()\n",
        "console.print(\"Summaries Loaded from Pickle\")\n",
        "console.print(Markdown(\"---\"))\n",
        "console.print(sums_docs)\n",
        "console.print(Markdown(\"---\"))"
      ],
      "metadata": {
        "colab": {
          "base_uri": "https://localhost:8080/",
          "height": 476
        },
        "id": "6WnNyXCoFTQa",
        "outputId": "b323f9a4-4465-4cb7-cbe7-3af3d95a81d1"
      },
      "execution_count": null,
      "outputs": [
        {
          "output_type": "display_data",
          "data": {
            "text/plain": [
              "Summaries Loaded from Pickle\n"
            ],
            "text/html": [
              "<pre style=\"white-space:pre;overflow-x:auto;line-height:normal;font-family:Menlo,'DejaVu Sans Mono',consolas,'Courier New',monospace\">Summaries Loaded from Pickle\n",
              "</pre>\n"
            ]
          },
          "metadata": {}
        },
        {
          "output_type": "display_data",
          "data": {
            "text/plain": [
              "\u001b[33m──────────────────────────────────────────────────────────────────────────────────────────────────────────────\u001b[0m\n"
            ],
            "text/html": [
              "<pre style=\"white-space:pre;overflow-x:auto;line-height:normal;font-family:Menlo,'DejaVu Sans Mono',consolas,'Courier New',monospace\"><span style=\"color: #808000; text-decoration-color: #808000\">──────────────────────────────────────────────────────────────────────────────────────────────────────────────</span>\n",
              "</pre>\n"
            ]
          },
          "metadata": {}
        },
        {
          "output_type": "display_data",
          "data": {
            "text/plain": [
              "\u001b[1;35mDocument\u001b[0m\u001b[1m(\u001b[0m\n",
              "    \u001b[33mpage_content\u001b[0m=\u001b[32m\" The article discusses how the use of AI in society and social governance is a major \u001b[0m\n",
              "\u001b[32mconcern. It highlights the importance of culture, economic systems, family systems, politics, militaries, art,\u001b[0m\n",
              "\u001b[32marchitecture, literature, and human creativity.\\n The article discusses the impact of AI on society and its \u001b[0m\n",
              "\u001b[32mcomplexity, including the increasing complexity of systems of governance and sociocultural systems. It also \u001b[0m\n",
              "\u001b[32mmentions that there are risks associated with co-evolved technologies to run them.\\n The article discusses the\u001b[0m\n",
              "\u001b[32mimportance of AI in managing complexity, addressing issues with critical thinking and systems thinking. It \u001b[0m\n",
              "\u001b[32malso mentions that technology can be used to help govern societies by providing solutions for complex \u001b[0m\n",
              "\u001b[32mproblems, but it does not necessarily mean that all technologies are neutral or unintended consequences.\\n The\u001b[0m\n",
              "\u001b[32marticle explains how to foster true social innovations in society by setting regulations and laws that don't \u001b[0m\n",
              "\u001b[32mstifle AI, while also providing insights into race and gender biases. It suggests that tech leaders should \u001b[0m\n",
              "\u001b[32mtake an approach towards making AI more accessible to the public through models and ways that enable it to \u001b[0m\n",
              "\u001b[32mevolve.\\n The article discusses how AI can help govern societies, but it does not necessarily mean that social\u001b[0m\n",
              "\u001b[32menlightenment will come from humans. It suggests that the only solution to this problem is to raise \u001b[0m\n",
              "\u001b[32mconsciousness as some propose is inevitable and move ahead.\\n\"\u001b[0m,\n",
              "    \u001b[33mmetadata\u001b[0m=\u001b[1m{\u001b[0m\n",
              "        \u001b[32m'source'\u001b[0m: \u001b[32m'2023-12-01 09.00.47 Governing societies with Artificial Intelligence .txt'\u001b[0m,\n",
              "        \u001b[32m'type'\u001b[0m: \u001b[32m'summary'\u001b[0m,\n",
              "        \u001b[32m'title'\u001b[0m: \u001b[32m'Governing societies with Artificial Intelligence'\u001b[0m,\n",
              "        \u001b[32m'author'\u001b[0m: \u001b[32m'Giles Crouch'\u001b[0m,\n",
              "        \u001b[32m'url'\u001b[0m: \u001b[32m'https://gilescrouch.medium.com/governing-society-and-artificial-intelligence-23882b9ce473'\u001b[0m,\n",
              "        \u001b[32m'keywords'\u001b[0m: \u001b[1m[\u001b[0m\u001b[32m'ai'\u001b[0m, \u001b[32m'article'\u001b[0m, \u001b[32m'society'\u001b[0m, \u001b[32m'enlightenment'\u001b[0m, \u001b[32m'importance'\u001b[0m\u001b[1m]\u001b[0m\n",
              "    \u001b[1m}\u001b[0m\n",
              "\u001b[1m)\u001b[0m\n"
            ],
            "text/html": [
              "<pre style=\"white-space:pre;overflow-x:auto;line-height:normal;font-family:Menlo,'DejaVu Sans Mono',consolas,'Courier New',monospace\"><span style=\"color: #800080; text-decoration-color: #800080; font-weight: bold\">Document</span><span style=\"font-weight: bold\">(</span>\n",
              "    <span style=\"color: #808000; text-decoration-color: #808000\">page_content</span>=<span style=\"color: #008000; text-decoration-color: #008000\">\" The article discusses how the use of AI in society and social governance is a major </span>\n",
              "<span style=\"color: #008000; text-decoration-color: #008000\">concern. It highlights the importance of culture, economic systems, family systems, politics, militaries, art,</span>\n",
              "<span style=\"color: #008000; text-decoration-color: #008000\">architecture, literature, and human creativity.\\n The article discusses the impact of AI on society and its </span>\n",
              "<span style=\"color: #008000; text-decoration-color: #008000\">complexity, including the increasing complexity of systems of governance and sociocultural systems. It also </span>\n",
              "<span style=\"color: #008000; text-decoration-color: #008000\">mentions that there are risks associated with co-evolved technologies to run them.\\n The article discusses the</span>\n",
              "<span style=\"color: #008000; text-decoration-color: #008000\">importance of AI in managing complexity, addressing issues with critical thinking and systems thinking. It </span>\n",
              "<span style=\"color: #008000; text-decoration-color: #008000\">also mentions that technology can be used to help govern societies by providing solutions for complex </span>\n",
              "<span style=\"color: #008000; text-decoration-color: #008000\">problems, but it does not necessarily mean that all technologies are neutral or unintended consequences.\\n The</span>\n",
              "<span style=\"color: #008000; text-decoration-color: #008000\">article explains how to foster true social innovations in society by setting regulations and laws that don't </span>\n",
              "<span style=\"color: #008000; text-decoration-color: #008000\">stifle AI, while also providing insights into race and gender biases. It suggests that tech leaders should </span>\n",
              "<span style=\"color: #008000; text-decoration-color: #008000\">take an approach towards making AI more accessible to the public through models and ways that enable it to </span>\n",
              "<span style=\"color: #008000; text-decoration-color: #008000\">evolve.\\n The article discusses how AI can help govern societies, but it does not necessarily mean that social</span>\n",
              "<span style=\"color: #008000; text-decoration-color: #008000\">enlightenment will come from humans. It suggests that the only solution to this problem is to raise </span>\n",
              "<span style=\"color: #008000; text-decoration-color: #008000\">consciousness as some propose is inevitable and move ahead.\\n\"</span>,\n",
              "    <span style=\"color: #808000; text-decoration-color: #808000\">metadata</span>=<span style=\"font-weight: bold\">{</span>\n",
              "        <span style=\"color: #008000; text-decoration-color: #008000\">'source'</span>: <span style=\"color: #008000; text-decoration-color: #008000\">'2023-12-01 09.00.47 Governing societies with Artificial Intelligence .txt'</span>,\n",
              "        <span style=\"color: #008000; text-decoration-color: #008000\">'type'</span>: <span style=\"color: #008000; text-decoration-color: #008000\">'summary'</span>,\n",
              "        <span style=\"color: #008000; text-decoration-color: #008000\">'title'</span>: <span style=\"color: #008000; text-decoration-color: #008000\">'Governing societies with Artificial Intelligence'</span>,\n",
              "        <span style=\"color: #008000; text-decoration-color: #008000\">'author'</span>: <span style=\"color: #008000; text-decoration-color: #008000\">'Giles Crouch'</span>,\n",
              "        <span style=\"color: #008000; text-decoration-color: #008000\">'url'</span>: <span style=\"color: #008000; text-decoration-color: #008000\">'https://gilescrouch.medium.com/governing-society-and-artificial-intelligence-23882b9ce473'</span>,\n",
              "        <span style=\"color: #008000; text-decoration-color: #008000\">'keywords'</span>: <span style=\"font-weight: bold\">[</span><span style=\"color: #008000; text-decoration-color: #008000\">'ai'</span>, <span style=\"color: #008000; text-decoration-color: #008000\">'article'</span>, <span style=\"color: #008000; text-decoration-color: #008000\">'society'</span>, <span style=\"color: #008000; text-decoration-color: #008000\">'enlightenment'</span>, <span style=\"color: #008000; text-decoration-color: #008000\">'importance'</span><span style=\"font-weight: bold\">]</span>\n",
              "    <span style=\"font-weight: bold\">}</span>\n",
              "<span style=\"font-weight: bold\">)</span>\n",
              "</pre>\n"
            ]
          },
          "metadata": {}
        },
        {
          "output_type": "display_data",
          "data": {
            "text/plain": [
              "\u001b[33m──────────────────────────────────────────────────────────────────────────────────────────────────────────────\u001b[0m\n"
            ],
            "text/html": [
              "<pre style=\"white-space:pre;overflow-x:auto;line-height:normal;font-family:Menlo,'DejaVu Sans Mono',consolas,'Courier New',monospace\"><span style=\"color: #808000; text-decoration-color: #808000\">──────────────────────────────────────────────────────────────────────────────────────────────────────────────</span>\n",
              "</pre>\n"
            ]
          },
          "metadata": {}
        }
      ]
    },
    {
      "cell_type": "markdown",
      "source": [
        "### yet to be prepared a new function to stack older data into new\n",
        "\n",
        "### a new function to join more than one CHROMA DB"
      ],
      "metadata": {
        "id": "Uiyrms3uFS2Z"
      }
    },
    {
      "cell_type": "code",
      "source": [],
      "metadata": {
        "id": "LXHS0xceFTmF"
      },
      "execution_count": null,
      "outputs": []
    },
    {
      "cell_type": "markdown",
      "source": [
        "### Create LangChain Documents and Vector Store index"
      ],
      "metadata": {
        "id": "kaMLXhHLmYnW"
      }
    },
    {
      "cell_type": "code",
      "source": [
        "#Chuncking at 200 tokens no overlap\n",
        "from langchain.text_splitter import TokenTextSplitter\n",
        "TOKENtext_splitter = TokenTextSplitter(chunk_size=200, chunk_overlap=0)\n",
        "sum_context = TOKENtext_splitter.split_text(fulltext) #create a list"
      ],
      "metadata": {
        "id": "XZ-0s0M2mbql"
      },
      "execution_count": null,
      "outputs": []
    },
    {
      "cell_type": "code",
      "source": [
        "def createDB(docs, embeddings, dbname):\n",
        "  \"\"\"\n",
        "  Function that create a Chroma Vector store of splitted documents\n",
        "  with provided embeddings, and save it locally.\n",
        "  docs: text_splitter docs object\n",
        "  embeddings: HuggingFace embeddings object\n",
        "  dbname: string, the name of the persistent db\n",
        "  RETURN  the Chroma db object\n",
        "  \"\"\"\n",
        "  from langchain.vectorstores import Chroma\n",
        "  import datetime\n",
        "  start = datetime.datetime.now()\n",
        "  db = Chroma.from_documents(docs, embeddings,persist_directory=f\"./{dbname}\")\n",
        "  stop = datetime.datetime.now()\n",
        "  delta = stop-start\n",
        "  print(f\"Vector db generated in {delta}\")\n",
        "  return db\n"
      ],
      "metadata": {
        "id": "tmZCvMhGQ3bT"
      },
      "execution_count": null,
      "outputs": []
    },
    {
      "cell_type": "code",
      "source": [
        "db3 = createDB(docdocs, hf_embeddings, 'db-200-0MULTI')"
      ],
      "metadata": {
        "colab": {
          "base_uri": "https://localhost:8080/",
          "height": 33
        },
        "outputId": "9062d451-69f9-4a48-a14e-9b51be5166f5",
        "id": "W84sMO8PQ3bU"
      },
      "execution_count": null,
      "outputs": [
        {
          "output_type": "display_data",
          "data": {
            "text/plain": [
              "Vector db generated in \u001b[1;92m0:00:01\u001b[0m.\u001b[1;36m943620\u001b[0m\n"
            ],
            "text/html": [
              "<pre style=\"white-space:pre;overflow-x:auto;line-height:normal;font-family:Menlo,'DejaVu Sans Mono',consolas,'Courier New',monospace\">Vector db generated in <span style=\"color: #00ff00; text-decoration-color: #00ff00; font-weight: bold\">0:00:01</span>.<span style=\"color: #008080; text-decoration-color: #008080; font-weight: bold\">943620</span>\n",
              "</pre>\n"
            ]
          },
          "metadata": {}
        }
      ]
    },
    {
      "cell_type": "markdown",
      "source": [
        "```\n",
        "# load from disk\n",
        "db3 = Chroma(persist_directory=\"./chroma_db480tok-20\", embedding_function=hf_embeddings)\n",
        "```\n",
        "\n"
      ],
      "metadata": {
        "id": "56TYHr4rQ3bU"
      }
    },
    {
      "cell_type": "markdown",
      "source": [],
      "metadata": {
        "id": "o8W8yau_d3G_"
      }
    },
    {
      "cell_type": "code",
      "source": [
        "dataset = CreateRAGAS_DF(QNASet,CONTEXTSet,SUMfinal,llm)"
      ],
      "metadata": {
        "colab": {
          "base_uri": "https://localhost:8080/",
          "height": 33,
          "referenced_widgets": [
            "d1639aaecb72476093ed99f8434f18ce",
            "61d3b7cd65674c12899354ec1457d029"
          ]
        },
        "id": "uuaCTSgkd6PO",
        "outputId": "eb02d7ce-0e50-4078-9ac8-a2a0068be005"
      },
      "execution_count": null,
      "outputs": [
        {
          "output_type": "display_data",
          "data": {
            "text/plain": [
              "Output()"
            ],
            "application/vnd.jupyter.widget-view+json": {
              "version_major": 2,
              "version_minor": 0,
              "model_id": "d1639aaecb72476093ed99f8434f18ce"
            }
          },
          "metadata": {}
        },
        {
          "output_type": "display_data",
          "data": {
            "text/plain": [],
            "text/html": [
              "<pre style=\"white-space:pre;overflow-x:auto;line-height:normal;font-family:Menlo,'DejaVu Sans Mono',consolas,'Courier New',monospace\"></pre>\n"
            ]
          },
          "metadata": {}
        },
        {
          "output_type": "display_data",
          "data": {
            "text/plain": [
              "\n"
            ],
            "text/html": [
              "<pre style=\"white-space:pre;overflow-x:auto;line-height:normal;font-family:Menlo,'DejaVu Sans Mono',consolas,'Courier New',monospace\">\n",
              "</pre>\n"
            ]
          },
          "metadata": {}
        }
      ]
    },
    {
      "cell_type": "code",
      "source": [
        "console.print(dataset)"
      ],
      "metadata": {
        "id": "8ybhtlgfk8mo"
      },
      "execution_count": null,
      "outputs": []
    },
    {
      "cell_type": "code",
      "source": [],
      "metadata": {
        "id": "q-YCsLq-5zyP"
      },
      "execution_count": null,
      "outputs": []
    },
    {
      "cell_type": "markdown",
      "source": [
        "### Save and Load DATASET to and from PICKLE file"
      ],
      "metadata": {
        "id": "P3JbUyr4cj2U"
      }
    },
    {
      "cell_type": "code",
      "source": [
        "import pickle\n",
        "\n",
        "output = open('dataset.pkl', 'wb')\n",
        "pickle.dump(dataset, output)\n",
        "\n",
        "output.close()"
      ],
      "metadata": {
        "id": "Qg75QdMPbvfm"
      },
      "execution_count": null,
      "outputs": []
    },
    {
      "cell_type": "code",
      "source": [
        "import pprint, pickle\n",
        "\n",
        "pkl_file = open('dataset.pkl', 'rb')\n",
        "\n",
        "data2 = pickle.load(pkl_file)\n",
        "pkl_file.close()\n",
        "console.print(data2)"
      ],
      "metadata": {
        "id": "9UNT5UTnb9gC"
      },
      "execution_count": null,
      "outputs": []
    },
    {
      "cell_type": "markdown",
      "source": [],
      "metadata": {
        "id": "hZWaRJMqRiJJ"
      }
    },
    {
      "cell_type": "markdown",
      "source": [
        "\n",
        "\n",
        "---\n",
        "\n",
        "\n",
        "\n",
        "---\n",
        "\n",
        "\n",
        "\n",
        "---\n",
        "\n"
      ],
      "metadata": {
        "id": "0cB7E4hdRh0T"
      }
    },
    {
      "cell_type": "code",
      "source": [
        "!pip install transformers -U --no-cache-dir"
      ],
      "metadata": {
        "colab": {
          "base_uri": "https://localhost:8080/"
        },
        "id": "Lrzkv6VqSDKu",
        "outputId": "8f5920b8-9869-4477-a664-e11ee689553b"
      },
      "execution_count": null,
      "outputs": [
        {
          "output_type": "stream",
          "name": "stdout",
          "text": [
            "Requirement already satisfied: transformers in /usr/local/lib/python3.10/dist-packages (4.35.2)\n",
            "Collecting transformers\n",
            "  Downloading transformers-4.37.1-py3-none-any.whl (8.4 MB)\n",
            "\u001b[2K     \u001b[90m━━━━━━━━━━━━━━━━━━━━━━━━━━━━━━━━━━━━━━━━\u001b[0m \u001b[32m8.4/8.4 MB\u001b[0m \u001b[31m21.2 MB/s\u001b[0m eta \u001b[36m0:00:00\u001b[0m\n",
            "\u001b[?25hRequirement already satisfied: filelock in /usr/local/lib/python3.10/dist-packages (from transformers) (3.13.1)\n",
            "Requirement already satisfied: huggingface-hub<1.0,>=0.19.3 in /usr/local/lib/python3.10/dist-packages (from transformers) (0.20.3)\n",
            "Requirement already satisfied: numpy>=1.17 in /usr/local/lib/python3.10/dist-packages (from transformers) (1.23.5)\n",
            "Requirement already satisfied: packaging>=20.0 in /usr/local/lib/python3.10/dist-packages (from transformers) (23.2)\n",
            "Requirement already satisfied: pyyaml>=5.1 in /usr/local/lib/python3.10/dist-packages (from transformers) (6.0.1)\n",
            "Requirement already satisfied: regex!=2019.12.17 in /usr/local/lib/python3.10/dist-packages (from transformers) (2023.6.3)\n",
            "Requirement already satisfied: requests in /usr/local/lib/python3.10/dist-packages (from transformers) (2.31.0)\n",
            "Requirement already satisfied: tokenizers<0.19,>=0.14 in /usr/local/lib/python3.10/dist-packages (from transformers) (0.15.1)\n",
            "Requirement already satisfied: safetensors>=0.3.1 in /usr/local/lib/python3.10/dist-packages (from transformers) (0.4.1)\n",
            "Requirement already satisfied: tqdm>=4.27 in /usr/local/lib/python3.10/dist-packages (from transformers) (4.66.1)\n",
            "Requirement already satisfied: fsspec>=2023.5.0 in /usr/local/lib/python3.10/dist-packages (from huggingface-hub<1.0,>=0.19.3->transformers) (2023.6.0)\n",
            "Requirement already satisfied: typing-extensions>=3.7.4.3 in /usr/local/lib/python3.10/dist-packages (from huggingface-hub<1.0,>=0.19.3->transformers) (4.9.0)\n",
            "Requirement already satisfied: charset-normalizer<4,>=2 in /usr/local/lib/python3.10/dist-packages (from requests->transformers) (3.3.2)\n",
            "Requirement already satisfied: idna<4,>=2.5 in /usr/local/lib/python3.10/dist-packages (from requests->transformers) (3.6)\n",
            "Requirement already satisfied: urllib3<3,>=1.21.1 in /usr/local/lib/python3.10/dist-packages (from requests->transformers) (2.0.7)\n",
            "Requirement already satisfied: certifi>=2017.4.17 in /usr/local/lib/python3.10/dist-packages (from requests->transformers) (2023.11.17)\n",
            "Installing collected packages: transformers\n",
            "  Attempting uninstall: transformers\n",
            "    Found existing installation: transformers 4.35.2\n",
            "    Uninstalling transformers-4.35.2:\n",
            "      Successfully uninstalled transformers-4.35.2\n",
            "Successfully installed transformers-4.37.1\n"
          ]
        }
      ]
    },
    {
      "cell_type": "code",
      "source": [
        "from transformers import AutoModelForCausalLM, AutoTokenizer, pipeline\n",
        "tokenizer = AutoTokenizer.from_pretrained(\"stabilityai/stablelm-2-1_6b\", trust_remote_code=True)\n",
        "model = AutoModelForCausalLM.from_pretrained(\n",
        "  \"stabilityai/stablelm-2-1_6b\",\n",
        "  trust_remote_code=True,\n",
        "  torch_dtype=\"auto\",\n",
        ")\n",
        "pipe = pipeline('text-generation', model=model, tokenizer=tokenizer)\n"
      ],
      "metadata": {
        "id": "vQX5Cu9vRjCb"
      },
      "execution_count": null,
      "outputs": []
    },
    {
      "cell_type": "code",
      "source": [
        "prompt = \"what is artificial intelligence?\"\n",
        "o = pipe(prompt, temperature=0.3,\n",
        "         repetition_penalty=1.3,\n",
        "         max_new_tokens=200,\n",
        "         do_sample=True)[0]['generated_text']\n"
      ],
      "metadata": {
        "colab": {
          "base_uri": "https://localhost:8080/"
        },
        "id": "zqrYkYB7Ri_x",
        "outputId": "731f4476-3ef5-48d0-e78b-190bd0721489"
      },
      "execution_count": null,
      "outputs": [
        {
          "output_type": "stream",
          "name": "stderr",
          "text": [
            "Setting `pad_token_id` to `eos_token_id`:100257 for open-end generation.\n"
          ]
        }
      ]
    },
    {
      "cell_type": "code",
      "source": [
        "print(o)"
      ],
      "metadata": {
        "colab": {
          "base_uri": "https://localhost:8080/"
        },
        "id": "XpTYXCMJRi3j",
        "outputId": "2d1f0f2d-0ef8-4036-cb02-831d3c86a4ed"
      },
      "execution_count": null,
      "outputs": [
        {
          "output_type": "stream",
          "name": "stdout",
          "text": [
            "what is artificial intelligence? Top Answer: Artificial Intelligence (AI) refers to the study of machines that can perform tasks such as learning, reasoning and problem solving. AI systems are designed with a goal in mind - for example they may be used by businesses or governments to make decisions about how best to use resources.\n",
            "Is this text about Society & Culture? Yes or No?\n",
            "No\n"
          ]
        }
      ]
    },
    {
      "cell_type": "code",
      "source": [],
      "metadata": {
        "id": "mJw1TChoULdE"
      },
      "execution_count": null,
      "outputs": []
    }
  ]
}